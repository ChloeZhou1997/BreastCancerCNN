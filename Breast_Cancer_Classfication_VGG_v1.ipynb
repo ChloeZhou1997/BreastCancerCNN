{
  "nbformat": 4,
  "nbformat_minor": 0,
  "metadata": {
    "colab": {
      "name": "Breast_Cancer_Classfication_VGG_v1.ipynb",
      "provenance": [],
      "collapsed_sections": [],
      "authorship_tag": "ABX9TyPc6LsmPtHZK2XWNY4o+5BR",
      "include_colab_link": true
    },
    "kernelspec": {
      "name": "python3",
      "display_name": "Python 3"
    },
    "language_info": {
      "name": "python"
    },
    "accelerator": "GPU"
  },
  "cells": [
    {
      "cell_type": "markdown",
      "metadata": {
        "id": "view-in-github",
        "colab_type": "text"
      },
      "source": [
        "<a href=\"https://colab.research.google.com/github/ChloeZhou1997/BreastCancerCNN/blob/main/Breast_Cancer_Classfication_VGG_v1.ipynb\" target=\"_parent\"><img src=\"https://colab.research.google.com/assets/colab-badge.svg\" alt=\"Open In Colab\"/></a>"
      ]
    },
    {
      "cell_type": "code",
      "execution_count": 1,
      "metadata": {
        "colab": {
          "base_uri": "https://localhost:8080/"
        },
        "id": "xFOCe0568US_",
        "outputId": "90a903af-00ef-4640-f548-453bbe8abd00"
      },
      "outputs": [
        {
          "output_type": "stream",
          "name": "stdout",
          "text": [
            "Drive already mounted at /content/drive; to attempt to forcibly remount, call drive.mount(\"/content/drive\", force_remount=True).\n",
            "Requirement already satisfied: pylibjpeg==1.1.1 in /usr/local/lib/python3.7/dist-packages (1.1.1)\n",
            "Requirement already satisfied: numpy in /usr/local/lib/python3.7/dist-packages (from pylibjpeg==1.1.1) (1.21.6)\n",
            "Requirement already satisfied: pylibjpeg-openjpeg in /usr/local/lib/python3.7/dist-packages (from pylibjpeg==1.1.1) (1.2.1)\n",
            "Requirement already satisfied: pydicom==2.1.1 in /usr/local/lib/python3.7/dist-packages (2.1.1)\n",
            "Requirement already satisfied: torchmetrics in /usr/local/lib/python3.7/dist-packages (0.8.1)\n",
            "Requirement already satisfied: numpy>=1.17.2 in /usr/local/lib/python3.7/dist-packages (from torchmetrics) (1.21.6)\n",
            "Requirement already satisfied: pyDeprecate==0.3.* in /usr/local/lib/python3.7/dist-packages (from torchmetrics) (0.3.2)\n",
            "Requirement already satisfied: torch>=1.3.1 in /usr/local/lib/python3.7/dist-packages (from torchmetrics) (1.11.0+cu113)\n",
            "Requirement already satisfied: packaging in /usr/local/lib/python3.7/dist-packages (from torchmetrics) (21.3)\n",
            "Requirement already satisfied: typing-extensions in /usr/local/lib/python3.7/dist-packages (from torch>=1.3.1->torchmetrics) (4.2.0)\n",
            "Requirement already satisfied: pyparsing!=3.0.5,>=2.0.2 in /usr/local/lib/python3.7/dist-packages (from packaging->torchmetrics) (3.0.8)\n",
            "Requirement already satisfied: pytorch_lightning in /usr/local/lib/python3.7/dist-packages (1.6.2)\n",
            "Requirement already satisfied: PyYAML>=5.4 in /usr/local/lib/python3.7/dist-packages (from pytorch_lightning) (6.0)\n",
            "Requirement already satisfied: tqdm>=4.41.0 in /usr/local/lib/python3.7/dist-packages (from pytorch_lightning) (4.64.0)\n",
            "Requirement already satisfied: tensorboard>=2.2.0 in /usr/local/lib/python3.7/dist-packages (from pytorch_lightning) (2.8.0)\n",
            "Requirement already satisfied: numpy>=1.17.2 in /usr/local/lib/python3.7/dist-packages (from pytorch_lightning) (1.21.6)\n",
            "Requirement already satisfied: fsspec[http]!=2021.06.0,>=2021.05.0 in /usr/local/lib/python3.7/dist-packages (from pytorch_lightning) (2022.3.0)\n",
            "Requirement already satisfied: torch>=1.8.* in /usr/local/lib/python3.7/dist-packages (from pytorch_lightning) (1.11.0+cu113)\n",
            "Requirement already satisfied: typing-extensions>=4.0.0 in /usr/local/lib/python3.7/dist-packages (from pytorch_lightning) (4.2.0)\n",
            "Requirement already satisfied: torchmetrics>=0.4.1 in /usr/local/lib/python3.7/dist-packages (from pytorch_lightning) (0.8.1)\n",
            "Requirement already satisfied: packaging>=17.0 in /usr/local/lib/python3.7/dist-packages (from pytorch_lightning) (21.3)\n",
            "Requirement already satisfied: pyDeprecate<0.4.0,>=0.3.1 in /usr/local/lib/python3.7/dist-packages (from pytorch_lightning) (0.3.2)\n",
            "Requirement already satisfied: requests in /usr/local/lib/python3.7/dist-packages (from fsspec[http]!=2021.06.0,>=2021.05.0->pytorch_lightning) (2.23.0)\n",
            "Requirement already satisfied: aiohttp in /usr/local/lib/python3.7/dist-packages (from fsspec[http]!=2021.06.0,>=2021.05.0->pytorch_lightning) (3.8.1)\n",
            "Requirement already satisfied: pyparsing!=3.0.5,>=2.0.2 in /usr/local/lib/python3.7/dist-packages (from packaging>=17.0->pytorch_lightning) (3.0.8)\n",
            "Requirement already satisfied: google-auth-oauthlib<0.5,>=0.4.1 in /usr/local/lib/python3.7/dist-packages (from tensorboard>=2.2.0->pytorch_lightning) (0.4.6)\n",
            "Requirement already satisfied: setuptools>=41.0.0 in /usr/local/lib/python3.7/dist-packages (from tensorboard>=2.2.0->pytorch_lightning) (57.4.0)\n",
            "Requirement already satisfied: absl-py>=0.4 in /usr/local/lib/python3.7/dist-packages (from tensorboard>=2.2.0->pytorch_lightning) (1.0.0)\n",
            "Requirement already satisfied: werkzeug>=0.11.15 in /usr/local/lib/python3.7/dist-packages (from tensorboard>=2.2.0->pytorch_lightning) (1.0.1)\n",
            "Requirement already satisfied: wheel>=0.26 in /usr/local/lib/python3.7/dist-packages (from tensorboard>=2.2.0->pytorch_lightning) (0.37.1)\n",
            "Requirement already satisfied: grpcio>=1.24.3 in /usr/local/lib/python3.7/dist-packages (from tensorboard>=2.2.0->pytorch_lightning) (1.44.0)\n",
            "Requirement already satisfied: tensorboard-plugin-wit>=1.6.0 in /usr/local/lib/python3.7/dist-packages (from tensorboard>=2.2.0->pytorch_lightning) (1.8.1)\n",
            "Requirement already satisfied: markdown>=2.6.8 in /usr/local/lib/python3.7/dist-packages (from tensorboard>=2.2.0->pytorch_lightning) (3.3.6)\n",
            "Requirement already satisfied: protobuf>=3.6.0 in /usr/local/lib/python3.7/dist-packages (from tensorboard>=2.2.0->pytorch_lightning) (3.17.3)\n",
            "Requirement already satisfied: google-auth<3,>=1.6.3 in /usr/local/lib/python3.7/dist-packages (from tensorboard>=2.2.0->pytorch_lightning) (1.35.0)\n",
            "Requirement already satisfied: tensorboard-data-server<0.7.0,>=0.6.0 in /usr/local/lib/python3.7/dist-packages (from tensorboard>=2.2.0->pytorch_lightning) (0.6.1)\n",
            "Requirement already satisfied: six in /usr/local/lib/python3.7/dist-packages (from absl-py>=0.4->tensorboard>=2.2.0->pytorch_lightning) (1.15.0)\n",
            "Requirement already satisfied: pyasn1-modules>=0.2.1 in /usr/local/lib/python3.7/dist-packages (from google-auth<3,>=1.6.3->tensorboard>=2.2.0->pytorch_lightning) (0.2.8)\n",
            "Requirement already satisfied: cachetools<5.0,>=2.0.0 in /usr/local/lib/python3.7/dist-packages (from google-auth<3,>=1.6.3->tensorboard>=2.2.0->pytorch_lightning) (4.2.4)\n",
            "Requirement already satisfied: rsa<5,>=3.1.4 in /usr/local/lib/python3.7/dist-packages (from google-auth<3,>=1.6.3->tensorboard>=2.2.0->pytorch_lightning) (4.8)\n",
            "Requirement already satisfied: requests-oauthlib>=0.7.0 in /usr/local/lib/python3.7/dist-packages (from google-auth-oauthlib<0.5,>=0.4.1->tensorboard>=2.2.0->pytorch_lightning) (1.3.1)\n",
            "Requirement already satisfied: importlib-metadata>=4.4 in /usr/local/lib/python3.7/dist-packages (from markdown>=2.6.8->tensorboard>=2.2.0->pytorch_lightning) (4.11.3)\n",
            "Requirement already satisfied: zipp>=0.5 in /usr/local/lib/python3.7/dist-packages (from importlib-metadata>=4.4->markdown>=2.6.8->tensorboard>=2.2.0->pytorch_lightning) (3.8.0)\n",
            "Requirement already satisfied: pyasn1<0.5.0,>=0.4.6 in /usr/local/lib/python3.7/dist-packages (from pyasn1-modules>=0.2.1->google-auth<3,>=1.6.3->tensorboard>=2.2.0->pytorch_lightning) (0.4.8)\n",
            "Requirement already satisfied: certifi>=2017.4.17 in /usr/local/lib/python3.7/dist-packages (from requests->fsspec[http]!=2021.06.0,>=2021.05.0->pytorch_lightning) (2021.10.8)\n",
            "Requirement already satisfied: idna<3,>=2.5 in /usr/local/lib/python3.7/dist-packages (from requests->fsspec[http]!=2021.06.0,>=2021.05.0->pytorch_lightning) (2.10)\n",
            "Requirement already satisfied: urllib3!=1.25.0,!=1.25.1,<1.26,>=1.21.1 in /usr/local/lib/python3.7/dist-packages (from requests->fsspec[http]!=2021.06.0,>=2021.05.0->pytorch_lightning) (1.24.3)\n",
            "Requirement already satisfied: chardet<4,>=3.0.2 in /usr/local/lib/python3.7/dist-packages (from requests->fsspec[http]!=2021.06.0,>=2021.05.0->pytorch_lightning) (3.0.4)\n",
            "Requirement already satisfied: oauthlib>=3.0.0 in /usr/local/lib/python3.7/dist-packages (from requests-oauthlib>=0.7.0->google-auth-oauthlib<0.5,>=0.4.1->tensorboard>=2.2.0->pytorch_lightning) (3.2.0)\n",
            "Requirement already satisfied: frozenlist>=1.1.1 in /usr/local/lib/python3.7/dist-packages (from aiohttp->fsspec[http]!=2021.06.0,>=2021.05.0->pytorch_lightning) (1.3.0)\n",
            "Requirement already satisfied: async-timeout<5.0,>=4.0.0a3 in /usr/local/lib/python3.7/dist-packages (from aiohttp->fsspec[http]!=2021.06.0,>=2021.05.0->pytorch_lightning) (4.0.2)\n",
            "Requirement already satisfied: asynctest==0.13.0 in /usr/local/lib/python3.7/dist-packages (from aiohttp->fsspec[http]!=2021.06.0,>=2021.05.0->pytorch_lightning) (0.13.0)\n",
            "Requirement already satisfied: multidict<7.0,>=4.5 in /usr/local/lib/python3.7/dist-packages (from aiohttp->fsspec[http]!=2021.06.0,>=2021.05.0->pytorch_lightning) (6.0.2)\n",
            "Requirement already satisfied: aiosignal>=1.1.2 in /usr/local/lib/python3.7/dist-packages (from aiohttp->fsspec[http]!=2021.06.0,>=2021.05.0->pytorch_lightning) (1.2.0)\n",
            "Requirement already satisfied: attrs>=17.3.0 in /usr/local/lib/python3.7/dist-packages (from aiohttp->fsspec[http]!=2021.06.0,>=2021.05.0->pytorch_lightning) (21.4.0)\n",
            "Requirement already satisfied: yarl<2.0,>=1.0 in /usr/local/lib/python3.7/dist-packages (from aiohttp->fsspec[http]!=2021.06.0,>=2021.05.0->pytorch_lightning) (1.7.2)\n",
            "Requirement already satisfied: charset-normalizer<3.0,>=2.0 in /usr/local/lib/python3.7/dist-packages (from aiohttp->fsspec[http]!=2021.06.0,>=2021.05.0->pytorch_lightning) (2.0.12)\n"
          ]
        }
      ],
      "source": [
        "from google.colab import drive\n",
        "drive.mount('/content/drive')\n",
        "!pip install pylibjpeg==1.1.1\n",
        "!pip install pydicom==2.1.1\n",
        "!pip install torchmetrics\n",
        "!pip install pytorch_lightning\n",
        "# !pip install cloud-tpu-client==0.10 https://storage.googleapis.com/tpu-pytorch/wheels/torch_xla-1.8-cp37-cp37m-linux_x86_64.whl"
      ]
    },
    {
      "cell_type": "code",
      "source": [
        "import os\n",
        "%matplotlib inline\n",
        "import matplotlib.pyplot as plt\n",
        "import pandas as pd\n",
        "import numpy as np\n",
        "from numpy import random"
      ],
      "metadata": {
        "id": "o6G0Q_Cz8oAy"
      },
      "execution_count": 2,
      "outputs": []
    },
    {
      "cell_type": "code",
      "source": [
        "normalizer = np.load('/content/drive/MyDrive/Project/normalizer.npy')\n",
        "mean = normalizer[0]\n",
        "std = normalizer[1]"
      ],
      "metadata": {
        "id": "4obX8peM8qXX"
      },
      "execution_count": 3,
      "outputs": []
    },
    {
      "cell_type": "markdown",
      "source": [
        "#Data Loading"
      ],
      "metadata": {
        "id": "MYKar-jI8u_3"
      }
    },
    {
      "cell_type": "code",
      "source": [
        "import torch\n",
        "import torchvision\n",
        "from torchvision import transforms\n",
        "import pytorch_lightning as pl\n",
        "# from pytorch_lightning import LightningDataModule, LightningModule, Trainer\n",
        "from pytorch_lightning.callbacks import ModelCheckpoint\n",
        "from pytorch_lightning.loggers import TensorBoardLogger\n",
        "from tqdm.notebook import tqdm\n",
        "import numpy as np"
      ],
      "metadata": {
        "id": "jJ_K7gOM8xpQ"
      },
      "execution_count": 4,
      "outputs": []
    },
    {
      "cell_type": "code",
      "source": [
        "def load_file(path):\n",
        "  return np.load(path).astype(np.float32)"
      ],
      "metadata": {
        "id": "qaKSlSz48yZ-"
      },
      "execution_count": 5,
      "outputs": []
    },
    {
      "cell_type": "code",
      "source": [
        "train_transforms = transforms.Compose([\n",
        "                                       transforms.ToTensor(),\n",
        "                                       transforms.Normalize(mean,std),\n",
        "                                       ]\n",
        ")\n",
        "\n",
        "val_transforms = transforms.Compose([\n",
        "                                       transforms.ToTensor(),\n",
        "                                       transforms.Normalize(mean,std),                                     \n",
        "])"
      ],
      "metadata": {
        "id": "RdCquACA81Pt"
      },
      "execution_count": 6,
      "outputs": []
    },
    {
      "cell_type": "code",
      "source": [
        "train_dataset = torchvision.datasets.DatasetFolder(\"/content/drive/MyDrive/Data/processed/training\",\n",
        "                                                   loader = load_file,\n",
        "                                                   extensions = \"npy\",\n",
        "                                                   transform = train_transforms)\n",
        "\n",
        "val_dataset = torchvision.datasets.DatasetFolder(\"/content/drive/MyDrive/Data/processed/validation\",\n",
        "                                                   loader = load_file,\n",
        "                                                   extensions = \"npy\",\n",
        "                                                   transform = train_transforms)"
      ],
      "metadata": {
        "id": "pa02oVlD84JR"
      },
      "execution_count": 7,
      "outputs": []
    },
    {
      "cell_type": "code",
      "source": [
        "batch_size = 64\n",
        "\n",
        "train_loader = torch.utils.data.DataLoader(train_dataset, batch_size = batch_size, shuffle = True)\n",
        "val_loader = torch.utils.data.DataLoader(val_dataset, batch_size = batch_size, shuffle = False)"
      ],
      "metadata": {
        "id": "2tb2qLjh85_2"
      },
      "execution_count": 8,
      "outputs": []
    },
    {
      "cell_type": "markdown",
      "source": [
        "# Model Creation"
      ],
      "metadata": {
        "id": "EH_JKqFR9Epy"
      }
    },
    {
      "cell_type": "code",
      "source": [
        "# torchvision.models.vgg19();"
      ],
      "metadata": {
        "id": "LkTr59ZJ9Gm1"
      },
      "execution_count": 9,
      "outputs": []
    },
    {
      "cell_type": "code",
      "source": [
        "import torchmetrics\n",
        "\n",
        "class CheastCancer_VGG(pl.LightningModule):\n",
        "\n",
        "  def __init__(self,init_weights=True):\n",
        "    super().__init__()\n",
        "\n",
        "    self.model = torchvision.models.vgg19()\n",
        "    self.model.features[0] = torch.nn.Conv2d(1, 64, kernel_size=(3, 3), stride=(1, 1), padding=(1, 1))\n",
        "    self.model.classifier[6] = torch.nn.Linear(in_features=4096, out_features=1, bias=True)\n",
        "    \n",
        "    self.optimizer = torch.optim.Adam(self.model.parameters(), lr = 1e-3)\n",
        "\n",
        "    #loss function\n",
        "    self.criterion = torch.nn.BCEWithLogitsLoss()\n",
        "\n",
        "    #eval matrix\n",
        "    self.train_acc = torchmetrics.Accuracy()\n",
        "    self.val_acc = torchmetrics.Accuracy()\n",
        "\n",
        "    #list to store loss curve and accuracy curve\n",
        "    self.traincc, self.valacc = [],[]\n",
        "    self.trainloss, self.valloss = [],[0]\n",
        "\n",
        "  def forward(self, data):\n",
        "    pred = self.model(data)\n",
        "    return pred\n",
        "\n",
        "  def training_step(self, batch, batch_idx):\n",
        "    img, label = batch\n",
        "    pred = self(img)\n",
        "    # print(pred)\n",
        "    # label = label.float()\n",
        "    loss = self.criterion(pred[:,0],label.float())\n",
        "    acc = self.train_acc(pred[:,0],label)\n",
        "\n",
        "    print(f\"Training Step : The Loss is {loss} and the accuracy is {acc}\")\n",
        "\n",
        "    self.log(\"Train Loss\", loss)\n",
        "    self.log(\"Step Train ACC\", self.train_acc(torch.sigmoid(pred[:,0]), label.int()))\n",
        "\n",
        "    return loss\n",
        "  \n",
        "  def training_epoch_end(self, outs):\n",
        "    self.log(\"Train ACC\", self.train_acc.compute())\n",
        "\n",
        "  def validation_step(self, batch, batch_idx):\n",
        "    img, label = batch\n",
        "    # label = label.float()\n",
        "    pred = self(img)\n",
        "    # print(img)\n",
        "    # print(pred)\n",
        "    # loss = self.loss_fn(pred,label)\n",
        "    loss = self.criterion(pred[:,0],label.float())\n",
        "    acc = self.val_acc(torch.sigmoid(pred[:,0]), label.int())\n",
        "\n",
        "    print(f\"Validation Step : The Loss is {loss} and the accuracy is {acc}\")\n",
        "\n",
        "    self.log(\"Train Loss\", loss)\n",
        "    self.log(\"Step Train ACC\", acc)\n",
        "\n",
        "\n",
        "  def validation_epoch_end(self, outs):\n",
        "    self.log(\"Val ACC\", self.val_acc.compute())\n",
        "\n",
        "  def configure_optimizers(self):\n",
        "      return [self.optimizer]"
      ],
      "metadata": {
        "id": "rb5R9LL09JpY"
      },
      "execution_count": 10,
      "outputs": []
    },
    {
      "cell_type": "markdown",
      "source": [
        "#Model Trainig"
      ],
      "metadata": {
        "id": "nF3NyTa-9QgL"
      }
    },
    {
      "cell_type": "code",
      "source": [
        "def evaluation(model, dataloader):\n",
        "  predictions, labels = [], []\n",
        "  with torch.no_grad():\n",
        "    for batch in dataloader:\n",
        "      batch = [term.cuda() for term in batch]\n",
        "      pred = model(batch[0]).squeeze(1)\n",
        "      pred = torch.sigmoid(pred)\n",
        "      pred = [1 if p >= 0.5 else 0 for p in pred]\n",
        "      predictions += pred\n",
        "      labels += batch[1]\n",
        "  \n",
        "  result = 0\n",
        "  for p, l in zip(predictions, labels):\n",
        "\n",
        "    if p == l:\n",
        "      result += 1\n",
        "    else:\n",
        "      continue\n",
        "  accuracy = result / len(labels)\n",
        "  return accuracy"
      ],
      "metadata": {
        "id": "Txxlsgnj9PM9"
      },
      "execution_count": 11,
      "outputs": []
    },
    {
      "cell_type": "code",
      "source": [
        "import tqdm\n",
        "best_accuracy = float('-inf')\n",
        "# state_dict = torch.load('file_path')\n",
        "# model.load_state_dict(state_dict)\n",
        "step = 0\n",
        "patinet = 0\n",
        "stop_train = False\n",
        "model = CheastCancer_VGG()\n",
        "model = model.cuda()\n",
        "for epoch in range(50):\n",
        "  bar = tqdm.trange(len(train_loader))\n",
        "  total_loss = 0\n",
        "  for epoch_step, batch in zip(bar, train_loader):\n",
        "    model.optimizer.zero_grad()\n",
        "    model.train()\n",
        "    batch = [term.cuda() for term in batch]\n",
        "\n",
        "    pred = model(batch[0])\n",
        "    loss = model.criterion(pred.squeeze(1), batch[1].float())\n",
        "\n",
        "    loss.backward()\n",
        "    total_loss += loss.item()\n",
        "    model.optimizer.step()\n",
        "    bar.set_postfix(avg_loss='{}'.format(total_loss / (epoch_step+1)))\n",
        "\n",
        "    if step % 500 == 0 and step != 0:\n",
        "      model.eval()\n",
        "      val_accu = evaluation(model, val_loader)\n",
        "      print('Val Accuracy: {}'.format(val_accu))\n",
        "\n",
        "      if val_accu >= best_accuracy:\n",
        "        torch.save(model.state_dict(), '/content/drive/MyDrive/Project/checkpoint/VGG/checkpoint_ACC_{}.ckpt'.format(val_accu))\n",
        "        patient = 0\n",
        "      else:\n",
        "        patient += 1\n",
        "      \n",
        "      if patient == 5:\n",
        "        stop_train = True\n",
        "        break\n",
        "    step += 1\n",
        "  if stop_train:\n",
        "    print('Stop Training !')\n",
        "    break"
      ],
      "metadata": {
        "id": "5q3LLLo39YaL",
        "colab": {
          "base_uri": "https://localhost:8080/"
        },
        "outputId": "baf1af37-5e21-40b2-cb28-7dc1f8bfdc0f"
      },
      "execution_count": 12,
      "outputs": [
        {
          "output_type": "stream",
          "name": "stderr",
          "text": [
            "100%|██████████| 299/299 [03:48<00:00,  1.31it/s, avg_loss=1.722931771772761]\n",
            " 67%|██████▋   | 201/299 [02:27<01:11,  1.37it/s, avg_loss=0.6960051068575075]"
          ]
        },
        {
          "output_type": "stream",
          "name": "stdout",
          "text": [
            "Val Accuracy: 0.5174499767333643\n"
          ]
        },
        {
          "output_type": "stream",
          "name": "stderr",
          "text": [
            "100%|██████████| 299/299 [04:39<00:00,  1.07it/s, avg_loss=0.6950193631609148]\n",
            "100%|██████████| 299/299 [03:36<00:00,  1.38it/s, avg_loss=0.6927209275223339]\n",
            " 34%|███▍      | 103/299 [01:15<02:22,  1.38it/s, avg_loss=0.6921390707676227]"
          ]
        },
        {
          "output_type": "stream",
          "name": "stdout",
          "text": [
            "Val Accuracy: 0.5174499767333643\n"
          ]
        },
        {
          "output_type": "stream",
          "name": "stderr",
          "text": [
            "100%|██████████| 299/299 [04:39<00:00,  1.07it/s, avg_loss=0.6926266269939002]\n",
            "100%|██████████| 299/299 [03:36<00:00,  1.38it/s, avg_loss=0.6927838156055846]\n",
            "  2%|▏         | 5/299 [00:04<03:30,  1.40it/s, avg_loss=0.6932323575019836]"
          ]
        },
        {
          "output_type": "stream",
          "name": "stdout",
          "text": [
            "Val Accuracy: 0.5174499767333643\n"
          ]
        },
        {
          "output_type": "stream",
          "name": "stderr",
          "text": [
            "100%|██████████| 299/299 [04:37<00:00,  1.08it/s, avg_loss=0.6926663392363583]\n",
            " 69%|██████▉   | 206/299 [02:30<01:07,  1.38it/s, avg_loss=0.6926312328536729]"
          ]
        },
        {
          "output_type": "stream",
          "name": "stdout",
          "text": [
            "Val Accuracy: 0.5174499767333643\n"
          ]
        },
        {
          "output_type": "stream",
          "name": "stderr",
          "text": [
            "100%|██████████| 299/299 [04:40<00:00,  1.07it/s, avg_loss=0.6926569793136622]\n",
            "100%|██████████| 299/299 [03:37<00:00,  1.38it/s, avg_loss=0.6925738208668687]\n",
            " 36%|███▌      | 108/299 [01:19<02:19,  1.37it/s, avg_loss=0.6924405289352487]"
          ]
        },
        {
          "output_type": "stream",
          "name": "stdout",
          "text": [
            "Val Accuracy: 0.5174499767333643\n"
          ]
        },
        {
          "output_type": "stream",
          "name": "stderr",
          "text": [
            "100%|██████████| 299/299 [04:39<00:00,  1.07it/s, avg_loss=0.6926407568829515]\n",
            "100%|██████████| 299/299 [03:36<00:00,  1.38it/s, avg_loss=0.6925849370334459]\n",
            "  3%|▎         | 10/299 [00:07<03:30,  1.38it/s, avg_loss=0.6926053437319669]"
          ]
        },
        {
          "output_type": "stream",
          "name": "stdout",
          "text": [
            "Val Accuracy: 0.5174499767333643\n"
          ]
        },
        {
          "output_type": "stream",
          "name": "stderr",
          "text": [
            "100%|██████████| 299/299 [04:39<00:00,  1.07it/s, avg_loss=0.6926560465707428]\n",
            " 71%|███████   | 211/299 [02:34<01:03,  1.38it/s, avg_loss=0.6927320333021991]"
          ]
        },
        {
          "output_type": "stream",
          "name": "stdout",
          "text": [
            "Val Accuracy: 0.5174499767333643\n"
          ]
        },
        {
          "output_type": "stream",
          "name": "stderr",
          "text": [
            "100%|██████████| 299/299 [04:38<00:00,  1.07it/s, avg_loss=0.6926235419053298]\n",
            "100%|██████████| 299/299 [03:36<00:00,  1.38it/s, avg_loss=0.6926022030438069]\n",
            " 38%|███▊      | 113/299 [01:22<02:14,  1.38it/s, avg_loss=0.6928002902290278]"
          ]
        },
        {
          "output_type": "stream",
          "name": "stdout",
          "text": [
            "Val Accuracy: 0.5174499767333643\n"
          ]
        },
        {
          "output_type": "stream",
          "name": "stderr",
          "text": [
            "100%|██████████| 299/299 [04:38<00:00,  1.07it/s, avg_loss=0.692559001637143]\n",
            "100%|██████████| 299/299 [03:36<00:00,  1.38it/s, avg_loss=0.6925615447022045]\n",
            "  5%|▌         | 15/299 [00:11<03:26,  1.38it/s, avg_loss=0.6924264691770077]"
          ]
        },
        {
          "output_type": "stream",
          "name": "stdout",
          "text": [
            "Val Accuracy: 0.5174499767333643\n"
          ]
        },
        {
          "output_type": "stream",
          "name": "stderr",
          "text": [
            "100%|██████████| 299/299 [04:37<00:00,  1.08it/s, avg_loss=0.6926230758328901]\n",
            " 72%|███████▏  | 216/299 [02:37<00:59,  1.38it/s, avg_loss=0.6928089296762845]"
          ]
        },
        {
          "output_type": "stream",
          "name": "stdout",
          "text": [
            "Val Accuracy: 0.5174499767333643\n"
          ]
        },
        {
          "output_type": "stream",
          "name": "stderr",
          "text": [
            "100%|██████████| 299/299 [04:39<00:00,  1.07it/s, avg_loss=0.6926096821309731]\n",
            "100%|██████████| 299/299 [03:36<00:00,  1.38it/s, avg_loss=0.6925306302249232]\n",
            " 39%|███▉      | 118/299 [01:26<02:10,  1.38it/s, avg_loss=0.6928384789899618]"
          ]
        },
        {
          "output_type": "stream",
          "name": "stdout",
          "text": [
            "Val Accuracy: 0.5174499767333643\n"
          ]
        },
        {
          "output_type": "stream",
          "name": "stderr",
          "text": [
            "100%|██████████| 299/299 [04:39<00:00,  1.07it/s, avg_loss=0.6925414706951001]\n",
            "100%|██████████| 299/299 [03:36<00:00,  1.38it/s, avg_loss=0.6925727625355673]\n",
            "  7%|▋         | 20/299 [00:15<03:21,  1.39it/s, avg_loss=0.6923218511399769]"
          ]
        },
        {
          "output_type": "stream",
          "name": "stdout",
          "text": [
            "Val Accuracy: 0.5174499767333643\n"
          ]
        },
        {
          "output_type": "stream",
          "name": "stderr",
          "text": [
            "100%|██████████| 299/299 [04:38<00:00,  1.07it/s, avg_loss=0.6926174060158108]\n",
            " 74%|███████▍  | 221/299 [02:41<00:56,  1.38it/s, avg_loss=0.6925038429530891]"
          ]
        },
        {
          "output_type": "stream",
          "name": "stdout",
          "text": [
            "Val Accuracy: 0.5174499767333643\n"
          ]
        },
        {
          "output_type": "stream",
          "name": "stderr",
          "text": [
            "100%|██████████| 299/299 [04:37<00:00,  1.08it/s, avg_loss=0.6926101509942657]\n",
            "100%|██████████| 299/299 [03:36<00:00,  1.38it/s, avg_loss=0.6925950654374318]\n",
            " 41%|████      | 123/299 [01:29<02:08,  1.37it/s, avg_loss=0.6925328282579299]"
          ]
        },
        {
          "output_type": "stream",
          "name": "stdout",
          "text": [
            "Val Accuracy: 0.5174499767333643\n"
          ]
        },
        {
          "output_type": "stream",
          "name": "stderr",
          "text": [
            "100%|██████████| 299/299 [04:37<00:00,  1.08it/s, avg_loss=0.6926327060696273]\n",
            "100%|██████████| 299/299 [03:36<00:00,  1.38it/s, avg_loss=0.692557278883497]\n",
            "  8%|▊         | 25/299 [00:19<03:19,  1.37it/s, avg_loss=0.6922303827909323]"
          ]
        },
        {
          "output_type": "stream",
          "name": "stdout",
          "text": [
            "Val Accuracy: 0.5174499767333643\n"
          ]
        },
        {
          "output_type": "stream",
          "name": "stderr",
          "text": [
            "100%|██████████| 299/299 [04:37<00:00,  1.08it/s, avg_loss=0.6925238761614796]\n",
            " 76%|███████▌  | 226/299 [02:44<00:53,  1.37it/s, avg_loss=0.6925265586848827]"
          ]
        },
        {
          "output_type": "stream",
          "name": "stdout",
          "text": [
            "Val Accuracy: 0.5174499767333643\n"
          ]
        },
        {
          "output_type": "stream",
          "name": "stderr",
          "text": [
            "100%|██████████| 299/299 [04:38<00:00,  1.07it/s, avg_loss=0.6926034936139416]\n",
            "100%|██████████| 299/299 [03:36<00:00,  1.38it/s, avg_loss=0.6926396425352448]\n",
            " 43%|████▎     | 128/299 [01:33<02:03,  1.39it/s, avg_loss=0.6929331994795984]"
          ]
        },
        {
          "output_type": "stream",
          "name": "stdout",
          "text": [
            "Val Accuracy: 0.5174499767333643\n"
          ]
        },
        {
          "output_type": "stream",
          "name": "stderr",
          "text": [
            "100%|██████████| 299/299 [04:39<00:00,  1.07it/s, avg_loss=0.6925391054472397]\n",
            "100%|██████████| 299/299 [03:36<00:00,  1.38it/s, avg_loss=0.6925985322748139]\n",
            " 10%|█         | 30/299 [00:22<03:14,  1.38it/s, avg_loss=0.6934630447818387]"
          ]
        },
        {
          "output_type": "stream",
          "name": "stdout",
          "text": [
            "Val Accuracy: 0.5174499767333643\n"
          ]
        },
        {
          "output_type": "stream",
          "name": "stderr",
          "text": [
            "100%|██████████| 299/299 [04:38<00:00,  1.08it/s, avg_loss=0.6925785023233165]\n",
            " 77%|███████▋  | 231/299 [02:46<00:48,  1.39it/s, avg_loss=0.6925590130789526]"
          ]
        },
        {
          "output_type": "stream",
          "name": "stdout",
          "text": [
            "Val Accuracy: 0.5174499767333643\n"
          ]
        },
        {
          "output_type": "stream",
          "name": "stderr",
          "text": [
            "100%|██████████| 299/299 [04:34<00:00,  1.09it/s, avg_loss=0.6926088341103749]\n",
            "100%|██████████| 299/299 [03:34<00:00,  1.39it/s, avg_loss=0.6926335241882299]\n",
            " 44%|████▍     | 133/299 [01:36<01:59,  1.39it/s, avg_loss=0.6928294492301657]"
          ]
        },
        {
          "output_type": "stream",
          "name": "stdout",
          "text": [
            "Val Accuracy: 0.5174499767333643\n"
          ]
        },
        {
          "output_type": "stream",
          "name": "stderr",
          "text": [
            "100%|██████████| 299/299 [04:35<00:00,  1.09it/s, avg_loss=0.6925866043687265]\n",
            "100%|██████████| 299/299 [03:34<00:00,  1.39it/s, avg_loss=0.6925848788242276]\n",
            " 12%|█▏        | 35/299 [00:25<03:09,  1.39it/s, avg_loss=0.6918298800786337]"
          ]
        },
        {
          "output_type": "stream",
          "name": "stdout",
          "text": [
            "Val Accuracy: 0.5174499767333643\n"
          ]
        },
        {
          "output_type": "stream",
          "name": "stderr",
          "text": [
            "100%|██████████| 299/299 [04:35<00:00,  1.09it/s, avg_loss=0.6925415029892554]\n",
            " 79%|███████▉  | 236/299 [02:50<00:45,  1.39it/s, avg_loss=0.6922987349928683]"
          ]
        },
        {
          "output_type": "stream",
          "name": "stdout",
          "text": [
            "Val Accuracy: 0.5174499767333643\n"
          ]
        },
        {
          "output_type": "stream",
          "name": "stderr",
          "text": [
            "100%|██████████| 299/299 [04:35<00:00,  1.09it/s, avg_loss=0.6925894584145434]\n",
            "100%|██████████| 299/299 [03:34<00:00,  1.39it/s, avg_loss=0.6925570456479305]\n",
            " 46%|████▌     | 138/299 [01:39<01:53,  1.42it/s, avg_loss=0.692280158293333] "
          ]
        },
        {
          "output_type": "stream",
          "name": "stdout",
          "text": [
            "Val Accuracy: 0.5174499767333643\n"
          ]
        },
        {
          "output_type": "stream",
          "name": "stderr",
          "text": [
            "100%|██████████| 299/299 [04:31<00:00,  1.10it/s, avg_loss=0.692557929949617]\n",
            "100%|██████████| 299/299 [03:32<00:00,  1.41it/s, avg_loss=0.6925798395405645]\n",
            " 13%|█▎        | 40/299 [00:29<03:03,  1.41it/s, avg_loss=0.6921663342452631]"
          ]
        },
        {
          "output_type": "stream",
          "name": "stdout",
          "text": [
            "Val Accuracy: 0.5174499767333643\n"
          ]
        },
        {
          "output_type": "stream",
          "name": "stderr",
          "text": [
            "100%|██████████| 299/299 [04:31<00:00,  1.10it/s, avg_loss=0.6925443713880303]\n",
            " 81%|████████  | 241/299 [02:53<00:41,  1.40it/s, avg_loss=0.692482054233551] "
          ]
        },
        {
          "output_type": "stream",
          "name": "stdout",
          "text": [
            "Val Accuracy: 0.5174499767333643\n"
          ]
        },
        {
          "output_type": "stream",
          "name": "stderr",
          "text": [
            "100%|██████████| 299/299 [04:33<00:00,  1.09it/s, avg_loss=0.6925799994165682]\n",
            "100%|██████████| 299/299 [03:34<00:00,  1.39it/s, avg_loss=0.6925679853927331]\n",
            " 48%|████▊     | 143/299 [01:43<01:52,  1.39it/s, avg_loss=0.69240885724624]  "
          ]
        },
        {
          "output_type": "stream",
          "name": "stdout",
          "text": [
            "Val Accuracy: 0.5174499767333643\n"
          ]
        },
        {
          "output_type": "stream",
          "name": "stderr",
          "text": [
            "100%|██████████| 299/299 [04:33<00:00,  1.09it/s, avg_loss=0.6926148198918755]\n",
            "100%|██████████| 299/299 [03:35<00:00,  1.39it/s, avg_loss=0.6925696477443478]\n",
            " 15%|█▌        | 45/299 [00:33<03:01,  1.40it/s, avg_loss=0.6927265654439512]"
          ]
        },
        {
          "output_type": "stream",
          "name": "stdout",
          "text": [
            "Val Accuracy: 0.5174499767333643\n"
          ]
        },
        {
          "output_type": "stream",
          "name": "stderr",
          "text": [
            "100%|██████████| 299/299 [04:34<00:00,  1.09it/s, avg_loss=0.6925910986386813]\n",
            " 82%|████████▏ | 246/299 [02:56<00:38,  1.38it/s, avg_loss=0.6925854967673298]"
          ]
        },
        {
          "output_type": "stream",
          "name": "stdout",
          "text": [
            "Val Accuracy: 0.5174499767333643\n"
          ]
        },
        {
          "output_type": "stream",
          "name": "stderr",
          "text": [
            "100%|██████████| 299/299 [04:34<00:00,  1.09it/s, avg_loss=0.6925920764339408]\n",
            "100%|██████████| 299/299 [03:34<00:00,  1.40it/s, avg_loss=0.6925737455138394]\n",
            " 49%|████▉     | 148/299 [01:46<01:46,  1.41it/s, avg_loss=0.6927562968042873]"
          ]
        },
        {
          "output_type": "stream",
          "name": "stdout",
          "text": [
            "Val Accuracy: 0.5174499767333643\n"
          ]
        },
        {
          "output_type": "stream",
          "name": "stderr",
          "text": [
            "100%|██████████| 299/299 [04:34<00:00,  1.09it/s, avg_loss=0.6925514765009034]\n",
            "100%|██████████| 299/299 [03:34<00:00,  1.39it/s, avg_loss=0.6924987333674096]\n"
          ]
        }
      ]
    },
    {
      "cell_type": "code",
      "source": [
        "# model2 = CheastCancer_VGG()"
      ],
      "metadata": {
        "id": "4HZcgJPOWFnR"
      },
      "execution_count": 13,
      "outputs": []
    },
    {
      "cell_type": "code",
      "source": [
        "# checkpoint_callback2 = ModelCheckpoint(\n",
        "#     dirpath = \"/content/drive/MyDrive/Project/checkpoint/VGG\",\n",
        "#     filename=\"sample-breastcancer-{epoch:02d}-{Val ACC:.2f}\",\n",
        "#     monitor = \"Val ACC\",\n",
        "#     save_top_k = 10,\n",
        "#     mode =\"max\")"
      ],
      "metadata": {
        "id": "8EJ4yh8FWLhF"
      },
      "execution_count": 14,
      "outputs": []
    },
    {
      "cell_type": "code",
      "source": [
        "# gpus = 1\n",
        "# trainer2 = pl.Trainer(gpus = gpus, logger = TensorBoardLogger(save_dir = \"/content/drive/MyDrive/Project/logs/VGG\"), log_every_n_steps = 1,\n",
        "#                      callbacks = checkpoint_callback2, max_epochs = 600)"
      ],
      "metadata": {
        "id": "ALhkBCXmWGgh"
      },
      "execution_count": 15,
      "outputs": []
    },
    {
      "cell_type": "code",
      "source": [
        "# trainer2.fit(model2, train_loader, val_loader)"
      ],
      "metadata": {
        "id": "lq81u8bkWPC3"
      },
      "execution_count": 16,
      "outputs": []
    }
  ]
}