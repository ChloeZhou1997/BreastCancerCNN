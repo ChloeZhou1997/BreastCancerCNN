{
  "nbformat": 4,
  "nbformat_minor": 0,
  "metadata": {
    "colab": {
      "name": "Breast_Cancer_Classfication_inception.ipynb",
      "provenance": [],
      "authorship_tag": "ABX9TyOXy4y25AlQX8BWtb38evVP",
      "include_colab_link": true
    },
    "kernelspec": {
      "name": "python3",
      "display_name": "Python 3"
    },
    "language_info": {
      "name": "python"
    },
    "accelerator": "GPU",
    "widgets": {
      "application/vnd.jupyter.widget-state+json": {
        "f391863361d64ad69e305b871e521047": {
          "model_module": "@jupyter-widgets/controls",
          "model_name": "HBoxModel",
          "model_module_version": "1.5.0",
          "state": {
            "_dom_classes": [],
            "_model_module": "@jupyter-widgets/controls",
            "_model_module_version": "1.5.0",
            "_model_name": "HBoxModel",
            "_view_count": null,
            "_view_module": "@jupyter-widgets/controls",
            "_view_module_version": "1.5.0",
            "_view_name": "HBoxView",
            "box_style": "",
            "children": [
              "IPY_MODEL_48cea599521a47bf9d25438f3b1ded7d",
              "IPY_MODEL_46a1d0f446404f6bb2997266a81d1435",
              "IPY_MODEL_5b7a695983c44b91b5354a1726bf36be"
            ],
            "layout": "IPY_MODEL_de7f2e7c942b4be1806bd9e904bc6d6c"
          }
        },
        "48cea599521a47bf9d25438f3b1ded7d": {
          "model_module": "@jupyter-widgets/controls",
          "model_name": "HTMLModel",
          "model_module_version": "1.5.0",
          "state": {
            "_dom_classes": [],
            "_model_module": "@jupyter-widgets/controls",
            "_model_module_version": "1.5.0",
            "_model_name": "HTMLModel",
            "_view_count": null,
            "_view_module": "@jupyter-widgets/controls",
            "_view_module_version": "1.5.0",
            "_view_name": "HTMLView",
            "description": "",
            "description_tooltip": null,
            "layout": "IPY_MODEL_d79ad88a24c34081ab93d6b826ab61cc",
            "placeholder": "​",
            "style": "IPY_MODEL_02388160c68c4f498a1f91251568268e",
            "value": "100%"
          }
        },
        "46a1d0f446404f6bb2997266a81d1435": {
          "model_module": "@jupyter-widgets/controls",
          "model_name": "FloatProgressModel",
          "model_module_version": "1.5.0",
          "state": {
            "_dom_classes": [],
            "_model_module": "@jupyter-widgets/controls",
            "_model_module_version": "1.5.0",
            "_model_name": "FloatProgressModel",
            "_view_count": null,
            "_view_module": "@jupyter-widgets/controls",
            "_view_module_version": "1.5.0",
            "_view_name": "ProgressView",
            "bar_style": "success",
            "description": "",
            "description_tooltip": null,
            "layout": "IPY_MODEL_de2db135e775404ca6ed2611aacdadac",
            "max": 10745,
            "min": 0,
            "orientation": "horizontal",
            "style": "IPY_MODEL_08bdfbc733ca493e9bb1e80b5f338737",
            "value": 10745
          }
        },
        "5b7a695983c44b91b5354a1726bf36be": {
          "model_module": "@jupyter-widgets/controls",
          "model_name": "HTMLModel",
          "model_module_version": "1.5.0",
          "state": {
            "_dom_classes": [],
            "_model_module": "@jupyter-widgets/controls",
            "_model_module_version": "1.5.0",
            "_model_name": "HTMLModel",
            "_view_count": null,
            "_view_module": "@jupyter-widgets/controls",
            "_view_module_version": "1.5.0",
            "_view_name": "HTMLView",
            "description": "",
            "description_tooltip": null,
            "layout": "IPY_MODEL_4e72f36f271b4d38a4aeb39bbc12fa80",
            "placeholder": "​",
            "style": "IPY_MODEL_c5f8ba6e7e7f45dfaedbb356583c54a5",
            "value": " 10745/10745 [2:55:26&lt;00:00,  1.07it/s]"
          }
        },
        "de7f2e7c942b4be1806bd9e904bc6d6c": {
          "model_module": "@jupyter-widgets/base",
          "model_name": "LayoutModel",
          "model_module_version": "1.2.0",
          "state": {
            "_model_module": "@jupyter-widgets/base",
            "_model_module_version": "1.2.0",
            "_model_name": "LayoutModel",
            "_view_count": null,
            "_view_module": "@jupyter-widgets/base",
            "_view_module_version": "1.2.0",
            "_view_name": "LayoutView",
            "align_content": null,
            "align_items": null,
            "align_self": null,
            "border": null,
            "bottom": null,
            "display": null,
            "flex": null,
            "flex_flow": null,
            "grid_area": null,
            "grid_auto_columns": null,
            "grid_auto_flow": null,
            "grid_auto_rows": null,
            "grid_column": null,
            "grid_gap": null,
            "grid_row": null,
            "grid_template_areas": null,
            "grid_template_columns": null,
            "grid_template_rows": null,
            "height": null,
            "justify_content": null,
            "justify_items": null,
            "left": null,
            "margin": null,
            "max_height": null,
            "max_width": null,
            "min_height": null,
            "min_width": null,
            "object_fit": null,
            "object_position": null,
            "order": null,
            "overflow": null,
            "overflow_x": null,
            "overflow_y": null,
            "padding": null,
            "right": null,
            "top": null,
            "visibility": null,
            "width": null
          }
        },
        "d79ad88a24c34081ab93d6b826ab61cc": {
          "model_module": "@jupyter-widgets/base",
          "model_name": "LayoutModel",
          "model_module_version": "1.2.0",
          "state": {
            "_model_module": "@jupyter-widgets/base",
            "_model_module_version": "1.2.0",
            "_model_name": "LayoutModel",
            "_view_count": null,
            "_view_module": "@jupyter-widgets/base",
            "_view_module_version": "1.2.0",
            "_view_name": "LayoutView",
            "align_content": null,
            "align_items": null,
            "align_self": null,
            "border": null,
            "bottom": null,
            "display": null,
            "flex": null,
            "flex_flow": null,
            "grid_area": null,
            "grid_auto_columns": null,
            "grid_auto_flow": null,
            "grid_auto_rows": null,
            "grid_column": null,
            "grid_gap": null,
            "grid_row": null,
            "grid_template_areas": null,
            "grid_template_columns": null,
            "grid_template_rows": null,
            "height": null,
            "justify_content": null,
            "justify_items": null,
            "left": null,
            "margin": null,
            "max_height": null,
            "max_width": null,
            "min_height": null,
            "min_width": null,
            "object_fit": null,
            "object_position": null,
            "order": null,
            "overflow": null,
            "overflow_x": null,
            "overflow_y": null,
            "padding": null,
            "right": null,
            "top": null,
            "visibility": null,
            "width": null
          }
        },
        "02388160c68c4f498a1f91251568268e": {
          "model_module": "@jupyter-widgets/controls",
          "model_name": "DescriptionStyleModel",
          "model_module_version": "1.5.0",
          "state": {
            "_model_module": "@jupyter-widgets/controls",
            "_model_module_version": "1.5.0",
            "_model_name": "DescriptionStyleModel",
            "_view_count": null,
            "_view_module": "@jupyter-widgets/base",
            "_view_module_version": "1.2.0",
            "_view_name": "StyleView",
            "description_width": ""
          }
        },
        "de2db135e775404ca6ed2611aacdadac": {
          "model_module": "@jupyter-widgets/base",
          "model_name": "LayoutModel",
          "model_module_version": "1.2.0",
          "state": {
            "_model_module": "@jupyter-widgets/base",
            "_model_module_version": "1.2.0",
            "_model_name": "LayoutModel",
            "_view_count": null,
            "_view_module": "@jupyter-widgets/base",
            "_view_module_version": "1.2.0",
            "_view_name": "LayoutView",
            "align_content": null,
            "align_items": null,
            "align_self": null,
            "border": null,
            "bottom": null,
            "display": null,
            "flex": null,
            "flex_flow": null,
            "grid_area": null,
            "grid_auto_columns": null,
            "grid_auto_flow": null,
            "grid_auto_rows": null,
            "grid_column": null,
            "grid_gap": null,
            "grid_row": null,
            "grid_template_areas": null,
            "grid_template_columns": null,
            "grid_template_rows": null,
            "height": null,
            "justify_content": null,
            "justify_items": null,
            "left": null,
            "margin": null,
            "max_height": null,
            "max_width": null,
            "min_height": null,
            "min_width": null,
            "object_fit": null,
            "object_position": null,
            "order": null,
            "overflow": null,
            "overflow_x": null,
            "overflow_y": null,
            "padding": null,
            "right": null,
            "top": null,
            "visibility": null,
            "width": null
          }
        },
        "08bdfbc733ca493e9bb1e80b5f338737": {
          "model_module": "@jupyter-widgets/controls",
          "model_name": "ProgressStyleModel",
          "model_module_version": "1.5.0",
          "state": {
            "_model_module": "@jupyter-widgets/controls",
            "_model_module_version": "1.5.0",
            "_model_name": "ProgressStyleModel",
            "_view_count": null,
            "_view_module": "@jupyter-widgets/base",
            "_view_module_version": "1.2.0",
            "_view_name": "StyleView",
            "bar_color": null,
            "description_width": ""
          }
        },
        "4e72f36f271b4d38a4aeb39bbc12fa80": {
          "model_module": "@jupyter-widgets/base",
          "model_name": "LayoutModel",
          "model_module_version": "1.2.0",
          "state": {
            "_model_module": "@jupyter-widgets/base",
            "_model_module_version": "1.2.0",
            "_model_name": "LayoutModel",
            "_view_count": null,
            "_view_module": "@jupyter-widgets/base",
            "_view_module_version": "1.2.0",
            "_view_name": "LayoutView",
            "align_content": null,
            "align_items": null,
            "align_self": null,
            "border": null,
            "bottom": null,
            "display": null,
            "flex": null,
            "flex_flow": null,
            "grid_area": null,
            "grid_auto_columns": null,
            "grid_auto_flow": null,
            "grid_auto_rows": null,
            "grid_column": null,
            "grid_gap": null,
            "grid_row": null,
            "grid_template_areas": null,
            "grid_template_columns": null,
            "grid_template_rows": null,
            "height": null,
            "justify_content": null,
            "justify_items": null,
            "left": null,
            "margin": null,
            "max_height": null,
            "max_width": null,
            "min_height": null,
            "min_width": null,
            "object_fit": null,
            "object_position": null,
            "order": null,
            "overflow": null,
            "overflow_x": null,
            "overflow_y": null,
            "padding": null,
            "right": null,
            "top": null,
            "visibility": null,
            "width": null
          }
        },
        "c5f8ba6e7e7f45dfaedbb356583c54a5": {
          "model_module": "@jupyter-widgets/controls",
          "model_name": "DescriptionStyleModel",
          "model_module_version": "1.5.0",
          "state": {
            "_model_module": "@jupyter-widgets/controls",
            "_model_module_version": "1.5.0",
            "_model_name": "DescriptionStyleModel",
            "_view_count": null,
            "_view_module": "@jupyter-widgets/base",
            "_view_module_version": "1.2.0",
            "_view_name": "StyleView",
            "description_width": ""
          }
        }
      }
    }
  },
  "cells": [
    {
      "cell_type": "markdown",
      "metadata": {
        "id": "view-in-github",
        "colab_type": "text"
      },
      "source": [
        "<a href=\"https://colab.research.google.com/github/ChloeZhou1997/BreastCancerCNN/blob/main/Breast_Cancer_Classfication_inception.ipynb\" target=\"_parent\"><img src=\"https://colab.research.google.com/assets/colab-badge.svg\" alt=\"Open In Colab\"/></a>"
      ]
    },
    {
      "cell_type": "code",
      "execution_count": 2,
      "metadata": {
        "colab": {
          "base_uri": "https://localhost:8080/"
        },
        "id": "2N3ez1CACXuR",
        "outputId": "fe936c27-8076-4a26-b95e-7b25ab996a9f"
      },
      "outputs": [
        {
          "output_type": "stream",
          "name": "stdout",
          "text": [
            "Drive already mounted at /content/drive; to attempt to forcibly remount, call drive.mount(\"/content/drive\", force_remount=True).\n",
            "Requirement already satisfied: pylibjpeg==1.1.1 in /usr/local/lib/python3.7/dist-packages (1.1.1)\n",
            "Requirement already satisfied: pylibjpeg-openjpeg in /usr/local/lib/python3.7/dist-packages (from pylibjpeg==1.1.1) (1.2.1)\n",
            "Requirement already satisfied: numpy in /usr/local/lib/python3.7/dist-packages (from pylibjpeg==1.1.1) (1.21.6)\n",
            "Requirement already satisfied: pydicom==2.1.1 in /usr/local/lib/python3.7/dist-packages (2.1.1)\n",
            "Requirement already satisfied: torchmetrics in /usr/local/lib/python3.7/dist-packages (0.8.1)\n",
            "Requirement already satisfied: packaging in /usr/local/lib/python3.7/dist-packages (from torchmetrics) (21.3)\n",
            "Requirement already satisfied: pyDeprecate==0.3.* in /usr/local/lib/python3.7/dist-packages (from torchmetrics) (0.3.2)\n",
            "Requirement already satisfied: numpy>=1.17.2 in /usr/local/lib/python3.7/dist-packages (from torchmetrics) (1.21.6)\n",
            "Requirement already satisfied: torch>=1.3.1 in /usr/local/lib/python3.7/dist-packages (from torchmetrics) (1.11.0+cu113)\n",
            "Requirement already satisfied: typing-extensions in /usr/local/lib/python3.7/dist-packages (from torch>=1.3.1->torchmetrics) (4.2.0)\n",
            "Requirement already satisfied: pyparsing!=3.0.5,>=2.0.2 in /usr/local/lib/python3.7/dist-packages (from packaging->torchmetrics) (3.0.8)\n",
            "Requirement already satisfied: pytorch_lightning in /usr/local/lib/python3.7/dist-packages (1.6.2)\n",
            "Requirement already satisfied: torchmetrics>=0.4.1 in /usr/local/lib/python3.7/dist-packages (from pytorch_lightning) (0.8.1)\n",
            "Requirement already satisfied: fsspec[http]!=2021.06.0,>=2021.05.0 in /usr/local/lib/python3.7/dist-packages (from pytorch_lightning) (2022.3.0)\n",
            "Requirement already satisfied: pyDeprecate<0.4.0,>=0.3.1 in /usr/local/lib/python3.7/dist-packages (from pytorch_lightning) (0.3.2)\n",
            "Requirement already satisfied: tqdm>=4.41.0 in /usr/local/lib/python3.7/dist-packages (from pytorch_lightning) (4.64.0)\n",
            "Requirement already satisfied: numpy>=1.17.2 in /usr/local/lib/python3.7/dist-packages (from pytorch_lightning) (1.21.6)\n",
            "Requirement already satisfied: tensorboard>=2.2.0 in /usr/local/lib/python3.7/dist-packages (from pytorch_lightning) (2.8.0)\n",
            "Requirement already satisfied: PyYAML>=5.4 in /usr/local/lib/python3.7/dist-packages (from pytorch_lightning) (6.0)\n",
            "Requirement already satisfied: typing-extensions>=4.0.0 in /usr/local/lib/python3.7/dist-packages (from pytorch_lightning) (4.2.0)\n",
            "Requirement already satisfied: torch>=1.8.* in /usr/local/lib/python3.7/dist-packages (from pytorch_lightning) (1.11.0+cu113)\n",
            "Requirement already satisfied: packaging>=17.0 in /usr/local/lib/python3.7/dist-packages (from pytorch_lightning) (21.3)\n",
            "Requirement already satisfied: aiohttp in /usr/local/lib/python3.7/dist-packages (from fsspec[http]!=2021.06.0,>=2021.05.0->pytorch_lightning) (3.8.1)\n",
            "Requirement already satisfied: requests in /usr/local/lib/python3.7/dist-packages (from fsspec[http]!=2021.06.0,>=2021.05.0->pytorch_lightning) (2.23.0)\n",
            "Requirement already satisfied: pyparsing!=3.0.5,>=2.0.2 in /usr/local/lib/python3.7/dist-packages (from packaging>=17.0->pytorch_lightning) (3.0.8)\n",
            "Requirement already satisfied: google-auth<3,>=1.6.3 in /usr/local/lib/python3.7/dist-packages (from tensorboard>=2.2.0->pytorch_lightning) (1.35.0)\n",
            "Requirement already satisfied: google-auth-oauthlib<0.5,>=0.4.1 in /usr/local/lib/python3.7/dist-packages (from tensorboard>=2.2.0->pytorch_lightning) (0.4.6)\n",
            "Requirement already satisfied: tensorboard-plugin-wit>=1.6.0 in /usr/local/lib/python3.7/dist-packages (from tensorboard>=2.2.0->pytorch_lightning) (1.8.1)\n",
            "Requirement already satisfied: markdown>=2.6.8 in /usr/local/lib/python3.7/dist-packages (from tensorboard>=2.2.0->pytorch_lightning) (3.3.6)\n",
            "Requirement already satisfied: protobuf>=3.6.0 in /usr/local/lib/python3.7/dist-packages (from tensorboard>=2.2.0->pytorch_lightning) (3.17.3)\n",
            "Requirement already satisfied: werkzeug>=0.11.15 in /usr/local/lib/python3.7/dist-packages (from tensorboard>=2.2.0->pytorch_lightning) (1.0.1)\n",
            "Requirement already satisfied: wheel>=0.26 in /usr/local/lib/python3.7/dist-packages (from tensorboard>=2.2.0->pytorch_lightning) (0.37.1)\n",
            "Requirement already satisfied: tensorboard-data-server<0.7.0,>=0.6.0 in /usr/local/lib/python3.7/dist-packages (from tensorboard>=2.2.0->pytorch_lightning) (0.6.1)\n",
            "Requirement already satisfied: grpcio>=1.24.3 in /usr/local/lib/python3.7/dist-packages (from tensorboard>=2.2.0->pytorch_lightning) (1.44.0)\n",
            "Requirement already satisfied: absl-py>=0.4 in /usr/local/lib/python3.7/dist-packages (from tensorboard>=2.2.0->pytorch_lightning) (1.0.0)\n",
            "Requirement already satisfied: setuptools>=41.0.0 in /usr/local/lib/python3.7/dist-packages (from tensorboard>=2.2.0->pytorch_lightning) (57.4.0)\n",
            "Requirement already satisfied: six in /usr/local/lib/python3.7/dist-packages (from absl-py>=0.4->tensorboard>=2.2.0->pytorch_lightning) (1.15.0)\n",
            "Requirement already satisfied: rsa<5,>=3.1.4 in /usr/local/lib/python3.7/dist-packages (from google-auth<3,>=1.6.3->tensorboard>=2.2.0->pytorch_lightning) (4.8)\n",
            "Requirement already satisfied: pyasn1-modules>=0.2.1 in /usr/local/lib/python3.7/dist-packages (from google-auth<3,>=1.6.3->tensorboard>=2.2.0->pytorch_lightning) (0.2.8)\n",
            "Requirement already satisfied: cachetools<5.0,>=2.0.0 in /usr/local/lib/python3.7/dist-packages (from google-auth<3,>=1.6.3->tensorboard>=2.2.0->pytorch_lightning) (4.2.4)\n",
            "Requirement already satisfied: requests-oauthlib>=0.7.0 in /usr/local/lib/python3.7/dist-packages (from google-auth-oauthlib<0.5,>=0.4.1->tensorboard>=2.2.0->pytorch_lightning) (1.3.1)\n",
            "Requirement already satisfied: importlib-metadata>=4.4 in /usr/local/lib/python3.7/dist-packages (from markdown>=2.6.8->tensorboard>=2.2.0->pytorch_lightning) (4.11.3)\n",
            "Requirement already satisfied: zipp>=0.5 in /usr/local/lib/python3.7/dist-packages (from importlib-metadata>=4.4->markdown>=2.6.8->tensorboard>=2.2.0->pytorch_lightning) (3.8.0)\n",
            "Requirement already satisfied: pyasn1<0.5.0,>=0.4.6 in /usr/local/lib/python3.7/dist-packages (from pyasn1-modules>=0.2.1->google-auth<3,>=1.6.3->tensorboard>=2.2.0->pytorch_lightning) (0.4.8)\n",
            "Requirement already satisfied: certifi>=2017.4.17 in /usr/local/lib/python3.7/dist-packages (from requests->fsspec[http]!=2021.06.0,>=2021.05.0->pytorch_lightning) (2021.10.8)\n",
            "Requirement already satisfied: urllib3!=1.25.0,!=1.25.1,<1.26,>=1.21.1 in /usr/local/lib/python3.7/dist-packages (from requests->fsspec[http]!=2021.06.0,>=2021.05.0->pytorch_lightning) (1.24.3)\n",
            "Requirement already satisfied: chardet<4,>=3.0.2 in /usr/local/lib/python3.7/dist-packages (from requests->fsspec[http]!=2021.06.0,>=2021.05.0->pytorch_lightning) (3.0.4)\n",
            "Requirement already satisfied: idna<3,>=2.5 in /usr/local/lib/python3.7/dist-packages (from requests->fsspec[http]!=2021.06.0,>=2021.05.0->pytorch_lightning) (2.10)\n",
            "Requirement already satisfied: oauthlib>=3.0.0 in /usr/local/lib/python3.7/dist-packages (from requests-oauthlib>=0.7.0->google-auth-oauthlib<0.5,>=0.4.1->tensorboard>=2.2.0->pytorch_lightning) (3.2.0)\n",
            "Requirement already satisfied: yarl<2.0,>=1.0 in /usr/local/lib/python3.7/dist-packages (from aiohttp->fsspec[http]!=2021.06.0,>=2021.05.0->pytorch_lightning) (1.7.2)\n",
            "Requirement already satisfied: attrs>=17.3.0 in /usr/local/lib/python3.7/dist-packages (from aiohttp->fsspec[http]!=2021.06.0,>=2021.05.0->pytorch_lightning) (21.4.0)\n",
            "Requirement already satisfied: asynctest==0.13.0 in /usr/local/lib/python3.7/dist-packages (from aiohttp->fsspec[http]!=2021.06.0,>=2021.05.0->pytorch_lightning) (0.13.0)\n",
            "Requirement already satisfied: async-timeout<5.0,>=4.0.0a3 in /usr/local/lib/python3.7/dist-packages (from aiohttp->fsspec[http]!=2021.06.0,>=2021.05.0->pytorch_lightning) (4.0.2)\n",
            "Requirement already satisfied: frozenlist>=1.1.1 in /usr/local/lib/python3.7/dist-packages (from aiohttp->fsspec[http]!=2021.06.0,>=2021.05.0->pytorch_lightning) (1.3.0)\n",
            "Requirement already satisfied: charset-normalizer<3.0,>=2.0 in /usr/local/lib/python3.7/dist-packages (from aiohttp->fsspec[http]!=2021.06.0,>=2021.05.0->pytorch_lightning) (2.0.12)\n",
            "Requirement already satisfied: aiosignal>=1.1.2 in /usr/local/lib/python3.7/dist-packages (from aiohttp->fsspec[http]!=2021.06.0,>=2021.05.0->pytorch_lightning) (1.2.0)\n",
            "Requirement already satisfied: multidict<7.0,>=4.5 in /usr/local/lib/python3.7/dist-packages (from aiohttp->fsspec[http]!=2021.06.0,>=2021.05.0->pytorch_lightning) (6.0.2)\n"
          ]
        }
      ],
      "source": [
        "from google.colab import drive\n",
        "drive.mount('/content/drive')\n",
        "!pip install pylibjpeg==1.1.1\n",
        "!pip install pydicom==2.1.1\n",
        "!pip install torchmetrics\n",
        "!pip install pytorch_lightning\n",
        "# !pip install cloud-tpu-client==0.10 https://storage.googleapis.com/tpu-pytorch/wheels/torch_xla-1.8-cp37-cp37m-linux_x86_64.whl"
      ]
    },
    {
      "cell_type": "code",
      "source": [
        "import os\n",
        "%matplotlib inline\n",
        "import matplotlib.pyplot as plt\n",
        "import pandas as pd\n",
        "import numpy as np\n",
        "from numpy import random"
      ],
      "metadata": {
        "id": "MDmerCi6C-aS"
      },
      "execution_count": 5,
      "outputs": []
    },
    {
      "cell_type": "code",
      "source": [
        "normalizer = np.load('/content/drive/MyDrive/Project/normalizer.npy')\n",
        "mean = normalizer[0]\n",
        "std = normalizer[1]"
      ],
      "metadata": {
        "id": "aM-2ZlDWDD2r"
      },
      "execution_count": 6,
      "outputs": []
    },
    {
      "cell_type": "markdown",
      "source": [
        "# Data Loading"
      ],
      "metadata": {
        "id": "k8RnlFcaDIJO"
      }
    },
    {
      "cell_type": "code",
      "source": [
        "import torch\n",
        "import torchvision\n",
        "from torchvision import transforms\n",
        "import pytorch_lightning as pl\n",
        "# from pytorch_lightning import LightningDataModule, LightningModule, Trainer\n",
        "from pytorch_lightning.callbacks import ModelCheckpoint\n",
        "from pytorch_lightning.loggers import TensorBoardLogger\n",
        "from tqdm.notebook import tqdm\n",
        "import numpy as np"
      ],
      "metadata": {
        "id": "IyRvfMRZDGgB"
      },
      "execution_count": 7,
      "outputs": []
    },
    {
      "cell_type": "code",
      "source": [
        "def load_file(path):\n",
        "  return np.load(path).astype(np.float32)"
      ],
      "metadata": {
        "id": "vljQ8e9lDKn5"
      },
      "execution_count": 8,
      "outputs": []
    },
    {
      "cell_type": "code",
      "source": [
        "train_transforms = transforms.Compose([\n",
        "                                       transforms.ToTensor(),\n",
        "                                       transforms.Normalize(mean,std),\n",
        "                                       ]\n",
        ")\n",
        "\n",
        "val_transforms = transforms.Compose([\n",
        "                                       transforms.ToTensor(),\n",
        "                                       transforms.Normalize(mean,std),                                     \n",
        "])"
      ],
      "metadata": {
        "id": "0sWZNr_0DNA7"
      },
      "execution_count": 9,
      "outputs": []
    },
    {
      "cell_type": "code",
      "source": [
        "train_dataset = torchvision.datasets.DatasetFolder(\"/content/drive/MyDrive/Data/processed/training\",\n",
        "                                                   loader = load_file,\n",
        "                                                   extensions = \"npy\",\n",
        "                                                   transform = train_transforms)\n",
        "\n",
        "val_dataset = torchvision.datasets.DatasetFolder(\"/content/drive/MyDrive/Data/processed/validation\",\n",
        "                                                   loader = load_file,\n",
        "                                                   extensions = \"npy\",\n",
        "                                                   transform = train_transforms)"
      ],
      "metadata": {
        "id": "YqcWtn23DP88"
      },
      "execution_count": 10,
      "outputs": []
    },
    {
      "cell_type": "code",
      "source": [
        "batch_size = 8\n",
        "\n",
        "train_loader = torch.utils.data.DataLoader(train_dataset, batch_size = batch_size, shuffle = True)\n",
        "val_loader = torch.utils.data.DataLoader(val_dataset, batch_size = batch_size, shuffle = False)"
      ],
      "metadata": {
        "id": "4-9RcDUtDR8N"
      },
      "execution_count": 11,
      "outputs": []
    },
    {
      "cell_type": "markdown",
      "source": [
        "#Model Creation"
      ],
      "metadata": {
        "id": "iH1RdWF9DeO2"
      }
    },
    {
      "cell_type": "code",
      "source": [
        "from torchvision.models.googlenet import BasicConv2d\n",
        "model = torchvision.models.inception_v3()\n",
        "model.AuxLogits.fc"
      ],
      "metadata": {
        "colab": {
          "base_uri": "https://localhost:8080/"
        },
        "id": "EaGW8RVkDf3P",
        "outputId": "05d801fa-0f4c-495c-bf65-a40b77de865d"
      },
      "execution_count": 20,
      "outputs": [
        {
          "output_type": "stream",
          "name": "stderr",
          "text": [
            "/usr/local/lib/python3.7/dist-packages/torchvision/models/inception.py:48: FutureWarning: The default weight initialization of inception_v3 will be changed in future releases of torchvision. If you wish to keep the old behavior (which leads to long initialization times due to scipy/scipy#11299), please set init_weights=True.\n",
            "  FutureWarning,\n"
          ]
        },
        {
          "output_type": "execute_result",
          "data": {
            "text/plain": [
              "Linear(in_features=768, out_features=1000, bias=True)"
            ]
          },
          "metadata": {},
          "execution_count": 20
        }
      ]
    },
    {
      "cell_type": "code",
      "source": [
        "import torchmetrics\n",
        "\n",
        "class CheastCancer_ConvNet(pl.LightningModule):\n",
        "\n",
        "  def __init__(self,init_weights=True):\n",
        "    super().__init__()\n",
        "\n",
        "    self.model = torchvision.models.inception_v3()\n",
        "    self.model.Conv2d_1a_3x3 = BasicConv2d(1, 32, kernel_size=3, stride=1)\n",
        "    # self.model.Mixed_5b.branch5x5_2 = BasicConv2d(48, 64, kernel_size=3, padding=1)\n",
        "    self.model.fc = torch.nn.Linear(in_features=2048, out_features=1, bias=True)\n",
        "    # self.model.AuxLogits.fc = torch.nn.Linear(in_features=768, out_features=1, bias=True)\n",
        "    \n",
        "    self.optimizer = torch.optim.Adam(self.model.parameters(), lr = 1e-3)\n",
        "\n",
        "    #loss function\n",
        "    self.criterion = torch.nn.BCEWithLogitsLoss()\n",
        "\n",
        "    #eval matrix\n",
        "    self.train_acc = torchmetrics.Accuracy()\n",
        "    self.val_acc = torchmetrics.Accuracy()\n",
        "\n",
        "\n",
        "  def forward(self, data):\n",
        "    pred = self.model(data)\n",
        "    return pred\n",
        "\n",
        "  def training_step(self, batch, batch_idx):\n",
        "    img, label = batch\n",
        "    pred = self(img)\n",
        "    # label = label.float()\n",
        "    loss = self.criterion(pred.logits,label.float().unsqueeze(1))\n",
        "\n",
        "    self.log(\"Train Loss\", loss)\n",
        "    self.log(\"Step Train ACC\", self.train_acc(torch.sigmoid(pred.logits), label.int().unsqueeze(1)))\n",
        "\n",
        "    return loss\n",
        "  \n",
        "  def training_epoch_end(self, outs):\n",
        "    self.log(\"Train ACC\", self.train_acc.compute())\n",
        "\n",
        "  def validation_step(self, batch, batch_idx):\n",
        "    img, label = batch\n",
        "    # label = label.float()\n",
        "    pred = self(img)\n",
        "    # loss = self.loss_fn(pred,label)\n",
        "    if isinstance(pred, tuple):\n",
        "      loss = self.criterion(pred.logits,label.float().unsqueeze(1))\n",
        "    else:\n",
        "      loss = self.criterion(pred,label.float().unsqueeze(1))\n",
        "\n",
        "    self.log(\"Train Loss\", loss)\n",
        "    self.log(\"Step Train ACC\", self.val_acc(torch.sigmoid(pred), label.int().unsqueeze(1)))\n",
        "\n",
        "  \n",
        "  def validation_epoch_end(self, outs):\n",
        "    self.log(\"Val ACC\", self.val_acc.compute())\n",
        "\n",
        "  def configure_optimizers(self):\n",
        "      return [self.optimizer]"
      ],
      "metadata": {
        "id": "YkasVAIODikY"
      },
      "execution_count": 16,
      "outputs": []
    },
    {
      "cell_type": "markdown",
      "source": [
        "#Model Training"
      ],
      "metadata": {
        "id": "gwwOQ_1wDoQP"
      }
    },
    {
      "cell_type": "code",
      "source": [
        "def evaluation(model, dataloader):\n",
        "  predictions, labels = [], []\n",
        "  with torch.no_grad():\n",
        "    for batch in dataloader:\n",
        "      batch = [term.cuda() for term in batch]\n",
        "      pred = model(batch[0]).squeeze(1)\n",
        "      pred = torch.sigmoid(pred)\n",
        "      pred = [1 if p >= 0.5 else 0 for p in pred]\n",
        "      predictions += pred\n",
        "      labels += batch[1]\n",
        "  \n",
        "  result = 0\n",
        "  for p, l in zip(predictions, labels):\n",
        "\n",
        "    if p == l:\n",
        "      result += 1\n",
        "    else:\n",
        "      continue\n",
        "  accuracy = result / len(labels)\n",
        "  return accuracy"
      ],
      "metadata": {
        "id": "01OO-heFDqgR"
      },
      "execution_count": null,
      "outputs": []
    },
    {
      "cell_type": "code",
      "source": [
        "import tqdm\n",
        "best_accuracy = float('-inf')\n",
        "# state_dict = torch.load('file_path')\n",
        "# model.load_state_dict(state_dict)\n",
        "step = 0\n",
        "patinet = 0\n",
        "stop_train = False\n",
        "model = CheastCancer_ConvNet()\n",
        "model = model.cuda()\n",
        "for epoch in range(50):\n",
        "  bar = tqdm.trange(len(train_loader))\n",
        "  total_loss = 0\n",
        "  for epoch_step, batch in zip(bar, train_loader):\n",
        "    model.optimizer.zero_grad()\n",
        "    model.train()\n",
        "    batch = [term.cuda() for term in batch]\n",
        "\n",
        "    pred = model(batch[0])\n",
        "    loss = model.criterion(pred.logits,batch[1].float().unsqueeze(1))\n",
        "    # loss = model.criterion(pred.squeeze(1), batch[1].float())\n",
        "\n",
        "    loss.backward()\n",
        "    total_loss += loss.item()\n",
        "    model.optimizer.step()\n",
        "    bar.set_postfix(avg_loss='{}'.format(total_loss / (epoch_step+1)))\n",
        "\n",
        "    if step % 100 == 0 and step != 0:\n",
        "      model.eval()\n",
        "      val_accu = evaluation(model, val_loader)\n",
        "      print('Val Accuracy: {}'.format(val_accu))\n",
        "\n",
        "      if val_accu >= best_accuracy:\n",
        "        torch.save(model.state_dict(), '/content/drive/MyDrive/Project/checkpoint/Inception/checkpoint.ckpt')\n",
        "        patient = 0\n",
        "      else:\n",
        "        patient += 1\n",
        "      \n",
        "      if patient == 5:\n",
        "        stop_train = True\n",
        "        break\n",
        "    step += 1\n",
        "  if stop_train:\n",
        "    print('Stop Training !')\n",
        "    break"
      ],
      "metadata": {
        "colab": {
          "base_uri": "https://localhost:8080/"
        },
        "id": "C7r-7ThuDtr1",
        "outputId": "2a0e66fb-10fa-4fb9-d320-307e0e470fb6"
      },
      "execution_count": null,
      "outputs": [
        {
          "output_type": "stream",
          "name": "stderr",
          "text": [
            "/usr/local/lib/python3.7/dist-packages/torchvision/models/inception.py:48: FutureWarning: The default weight initialization of inception_v3 will be changed in future releases of torchvision. If you wish to keep the old behavior (which leads to long initialization times due to scipy/scipy#11299), please set init_weights=True.\n",
            "  FutureWarning,\n",
            "  4%|▍         | 100/2388 [04:43<1:52:50,  2.96s/it, avg_loss=0.7439614298320053]"
          ]
        },
        {
          "output_type": "stream",
          "name": "stdout",
          "text": [
            "Val Accuracy: 0.5521637971149371\n"
          ]
        },
        {
          "output_type": "stream",
          "name": "stderr",
          "text": [
            "  8%|▊         | 200/2388 [10:49<1:46:16,  2.91s/it, avg_loss=0.7248245711943403]"
          ]
        },
        {
          "output_type": "stream",
          "name": "stdout",
          "text": [
            "Val Accuracy: 0.5174499767333643\n"
          ]
        },
        {
          "output_type": "stream",
          "name": "stderr",
          "text": [
            " 13%|█▎        | 300/2388 [16:55<1:44:19,  3.00s/it, avg_loss=0.72036320485942]  "
          ]
        },
        {
          "output_type": "stream",
          "name": "stdout",
          "text": [
            "Val Accuracy: 0.5027454630060493\n"
          ]
        },
        {
          "output_type": "stream",
          "name": "stderr",
          "text": [
            " 17%|█▋        | 400/2388 [23:07<1:43:04,  3.11s/it, avg_loss=0.7150024859387976]"
          ]
        },
        {
          "output_type": "stream",
          "name": "stdout",
          "text": [
            "Val Accuracy: 0.5190321079571893\n"
          ]
        },
        {
          "output_type": "stream",
          "name": "stderr",
          "text": [
            " 21%|██        | 500/2388 [29:27<1:37:05,  3.09s/it, avg_loss=0.7133755523287607]"
          ]
        },
        {
          "output_type": "stream",
          "name": "stdout",
          "text": [
            "Val Accuracy: 0.48878548161935786\n"
          ]
        },
        {
          "output_type": "stream",
          "name": "stderr",
          "text": [
            " 25%|██▌       | 600/2388 [35:56<1:36:22,  3.23s/it, avg_loss=0.7102208385451662]"
          ]
        },
        {
          "output_type": "stream",
          "name": "stdout",
          "text": [
            "Val Accuracy: 0.5041414611447185\n"
          ]
        },
        {
          "output_type": "stream",
          "name": "stderr",
          "text": [
            " 29%|██▉       | 700/2388 [42:31<1:27:40,  3.12s/it, avg_loss=0.7104678371663441]"
          ]
        },
        {
          "output_type": "stream",
          "name": "stdout",
          "text": [
            "Val Accuracy: 0.48255002326663565\n"
          ]
        },
        {
          "output_type": "stream",
          "name": "stderr",
          "text": [
            " 34%|███▎      | 800/2388 [49:06<1:26:27,  3.27s/it, avg_loss=0.7094722550906493]"
          ]
        },
        {
          "output_type": "stream",
          "name": "stdout",
          "text": [
            "Val Accuracy: 0.5208934388087483\n"
          ]
        },
        {
          "output_type": "stream",
          "name": "stderr",
          "text": [
            " 38%|███▊      | 900/2388 [55:36<1:16:29,  3.08s/it, avg_loss=0.7079633910304036]"
          ]
        },
        {
          "output_type": "stream",
          "name": "stdout",
          "text": [
            "Val Accuracy: 0.5174499767333643\n"
          ]
        },
        {
          "output_type": "stream",
          "name": "stderr",
          "text": [
            " 42%|████▏     | 1000/2388 [1:01:59<1:14:21,  3.21s/it, avg_loss=0.7086930407748951]"
          ]
        },
        {
          "output_type": "stream",
          "name": "stdout",
          "text": [
            "Val Accuracy: 0.5218241042345277\n"
          ]
        },
        {
          "output_type": "stream",
          "name": "stderr",
          "text": [
            " 46%|████▌     | 1100/2388 [1:08:24<1:05:03,  3.03s/it, avg_loss=0.7071931764930081]"
          ]
        },
        {
          "output_type": "stream",
          "name": "stdout",
          "text": [
            "Val Accuracy: 0.4565844578873895\n"
          ]
        },
        {
          "output_type": "stream",
          "name": "stderr",
          "text": [
            " 50%|█████     | 1200/2388 [1:14:49<1:01:18,  3.10s/it, avg_loss=0.7077928323432071]"
          ]
        },
        {
          "output_type": "stream",
          "name": "stdout",
          "text": [
            "Val Accuracy: 0.5012563983248023\n"
          ]
        },
        {
          "output_type": "stream",
          "name": "stderr",
          "text": [
            " 54%|█████▍    | 1300/2388 [1:21:05<54:49,  3.02s/it, avg_loss=0.7086394146531476]"
          ]
        },
        {
          "output_type": "stream",
          "name": "stdout",
          "text": [
            "Val Accuracy: 0.49483480688692416\n"
          ]
        },
        {
          "output_type": "stream",
          "name": "stderr",
          "text": [
            " 59%|█████▊    | 1400/2388 [1:27:30<50:24,  3.06s/it, avg_loss=0.7082852321297335]"
          ]
        },
        {
          "output_type": "stream",
          "name": "stdout",
          "text": [
            "Val Accuracy: 0.5204281060958585\n"
          ]
        },
        {
          "output_type": "stream",
          "name": "stderr",
          "text": [
            " 63%|██████▎   | 1500/2388 [1:33:56<46:14,  3.12s/it, avg_loss=0.7077627032697399]"
          ]
        },
        {
          "output_type": "stream",
          "name": "stdout",
          "text": [
            "Val Accuracy: 0.5299208934388088\n"
          ]
        },
        {
          "output_type": "stream",
          "name": "stderr",
          "text": [
            " 67%|██████▋   | 1600/2388 [1:40:15<40:13,  3.06s/it, avg_loss=0.7076080311171193]"
          ]
        },
        {
          "output_type": "stream",
          "name": "stdout",
          "text": [
            "Val Accuracy: 0.4881340158213122\n"
          ]
        },
        {
          "output_type": "stream",
          "name": "stderr",
          "text": [
            " 71%|███████   | 1700/2388 [1:46:42<36:17,  3.17s/it, avg_loss=0.7076562085900147]"
          ]
        },
        {
          "output_type": "stream",
          "name": "stdout",
          "text": [
            "Val Accuracy: 0.5249883666821777\n"
          ]
        },
        {
          "output_type": "stream",
          "name": "stderr",
          "text": [
            " 75%|███████▌  | 1800/2388 [1:53:01<29:27,  3.01s/it, avg_loss=0.7066968297839231]"
          ]
        },
        {
          "output_type": "stream",
          "name": "stdout",
          "text": [
            "Val Accuracy: 0.5436016751977664\n"
          ]
        },
        {
          "output_type": "stream",
          "name": "stderr",
          "text": [
            " 80%|███████▉  | 1900/2388 [1:59:20<24:50,  3.05s/it, avg_loss=0.7063536677531103]"
          ]
        },
        {
          "output_type": "stream",
          "name": "stdout",
          "text": [
            "Val Accuracy: 0.5313168915774779\n"
          ]
        },
        {
          "output_type": "stream",
          "name": "stderr",
          "text": [
            " 84%|████████▍ | 2000/2388 [2:05:39<20:00,  3.09s/it, avg_loss=0.7059839242163567]"
          ]
        },
        {
          "output_type": "stream",
          "name": "stdout",
          "text": [
            "Val Accuracy: 0.5480688692415077\n"
          ]
        },
        {
          "output_type": "stream",
          "name": "stderr",
          "text": [
            " 88%|████████▊ | 2100/2388 [2:11:52<13:59,  2.91s/it, avg_loss=0.7058116363264844]"
          ]
        },
        {
          "output_type": "stream",
          "name": "stdout",
          "text": [
            "Val Accuracy: 0.5358771521637972\n"
          ]
        },
        {
          "output_type": "stream",
          "name": "stderr",
          "text": [
            " 92%|█████████▏| 2200/2388 [2:18:22<09:11,  2.93s/it, avg_loss=0.7050431027351753]"
          ]
        },
        {
          "output_type": "stream",
          "name": "stdout",
          "text": [
            "Val Accuracy: 0.5496510004653327\n"
          ]
        },
        {
          "output_type": "stream",
          "name": "stderr",
          "text": [
            " 96%|█████████▋| 2300/2388 [2:24:40<04:29,  3.06s/it, avg_loss=0.7046848195938896]"
          ]
        },
        {
          "output_type": "stream",
          "name": "stdout",
          "text": [
            "Val Accuracy: 0.4824569567240577\n"
          ]
        },
        {
          "output_type": "stream",
          "name": "stderr",
          "text": [
            "100%|██████████| 2388/2388 [2:30:19<00:00,  3.78s/it, avg_loss=0.7042310337475197]\n",
            "  1%|          | 12/2388 [00:02<08:07,  4.87it/s, avg_loss=0.6969222243015583]"
          ]
        },
        {
          "output_type": "stream",
          "name": "stdout",
          "text": [
            "Val Accuracy: 0.47743136342484876\n"
          ]
        },
        {
          "output_type": "stream",
          "name": "stderr",
          "text": [
            "  5%|▍         | 112/2388 [01:38<07:49,  4.85it/s, avg_loss=0.7044732660318898]"
          ]
        },
        {
          "output_type": "stream",
          "name": "stdout",
          "text": [
            "Val Accuracy: 0.5385760818985574\n"
          ]
        },
        {
          "output_type": "stream",
          "name": "stderr",
          "text": [
            "  9%|▉         | 212/2388 [03:15<07:27,  4.86it/s, avg_loss=0.7026996271151332]"
          ]
        },
        {
          "output_type": "stream",
          "name": "stdout",
          "text": [
            "Val Accuracy: 0.5140995812005584\n"
          ]
        },
        {
          "output_type": "stream",
          "name": "stderr",
          "text": [
            " 13%|█▎        | 312/2388 [04:51<07:06,  4.87it/s, avg_loss=0.7016763641430547]"
          ]
        },
        {
          "output_type": "stream",
          "name": "stdout",
          "text": [
            "Val Accuracy: 0.5103769194974407\n"
          ]
        },
        {
          "output_type": "stream",
          "name": "stderr",
          "text": [
            " 17%|█▋        | 412/2388 [06:27<06:45,  4.87it/s, avg_loss=0.7034858263145058]"
          ]
        },
        {
          "output_type": "stream",
          "name": "stdout",
          "text": [
            "Val Accuracy: 0.4884132154490461\n"
          ]
        },
        {
          "output_type": "stream",
          "name": "stderr",
          "text": [
            " 21%|██▏       | 512/2388 [08:04<06:28,  4.83it/s, avg_loss=0.7022142680997272]"
          ]
        },
        {
          "output_type": "stream",
          "name": "stdout",
          "text": [
            "Val Accuracy: 0.5182875756165658\n"
          ]
        },
        {
          "output_type": "stream",
          "name": "stderr",
          "text": [
            " 26%|██▌       | 612/2388 [09:40<06:02,  4.90it/s, avg_loss=0.7018502472275427]"
          ]
        },
        {
          "output_type": "stream",
          "name": "stdout",
          "text": [
            "Val Accuracy: 0.5234062354583527\n"
          ]
        },
        {
          "output_type": "stream",
          "name": "stderr",
          "text": [
            " 30%|██▉       | 712/2388 [11:16<05:48,  4.81it/s, avg_loss=0.7011392492733028]"
          ]
        },
        {
          "output_type": "stream",
          "name": "stdout",
          "text": [
            "Val Accuracy: 0.5174499767333643\n"
          ]
        },
        {
          "output_type": "stream",
          "name": "stderr",
          "text": [
            " 34%|███▍      | 812/2388 [12:53<05:21,  4.90it/s, avg_loss=0.7005595020849034]"
          ]
        },
        {
          "output_type": "stream",
          "name": "stdout",
          "text": [
            "Val Accuracy: 0.49036761284318287\n"
          ]
        },
        {
          "output_type": "stream",
          "name": "stderr",
          "text": [
            " 38%|███▊      | 912/2388 [14:29<05:05,  4.83it/s, avg_loss=0.7002946713537402]"
          ]
        },
        {
          "output_type": "stream",
          "name": "stdout",
          "text": [
            "Val Accuracy: 0.5160539785946953\n"
          ]
        },
        {
          "output_type": "stream",
          "name": "stderr",
          "text": [
            " 42%|████▏     | 1012/2388 [16:06<04:44,  4.83it/s, avg_loss=0.69967424728322] "
          ]
        },
        {
          "output_type": "stream",
          "name": "stdout",
          "text": [
            "Val Accuracy: 0.5350395532805956\n"
          ]
        },
        {
          "output_type": "stream",
          "name": "stderr",
          "text": [
            " 47%|████▋     | 1112/2388 [17:42<04:21,  4.88it/s, avg_loss=0.6992433637728696]"
          ]
        },
        {
          "output_type": "stream",
          "name": "stdout",
          "text": [
            "Val Accuracy: 0.5403443462075384\n"
          ]
        },
        {
          "output_type": "stream",
          "name": "stderr",
          "text": [
            " 51%|█████     | 1212/2388 [19:18<04:02,  4.85it/s, avg_loss=0.6985924446376414]"
          ]
        },
        {
          "output_type": "stream",
          "name": "stdout",
          "text": [
            "Val Accuracy: 0.5466728711028386\n"
          ]
        },
        {
          "output_type": "stream",
          "name": "stderr",
          "text": [
            " 55%|█████▍    | 1312/2388 [20:55<03:43,  4.81it/s, avg_loss=0.6976006732854967]"
          ]
        },
        {
          "output_type": "stream",
          "name": "stdout",
          "text": [
            "Val Accuracy: 0.5489064681247091\n"
          ]
        },
        {
          "output_type": "stream",
          "name": "stderr",
          "text": [
            " 59%|█████▉    | 1412/2388 [22:32<03:28,  4.68it/s, avg_loss=0.6970899461518765]"
          ]
        },
        {
          "output_type": "stream",
          "name": "stdout",
          "text": [
            "Val Accuracy: 0.5286179618427176\n"
          ]
        },
        {
          "output_type": "stream",
          "name": "stderr",
          "text": [
            " 63%|██████▎   | 1512/2388 [24:09<03:03,  4.77it/s, avg_loss=0.6966929576764104]"
          ]
        },
        {
          "output_type": "stream",
          "name": "stdout",
          "text": [
            "Val Accuracy: 0.5443462075383899\n"
          ]
        },
        {
          "output_type": "stream",
          "name": "stderr",
          "text": [
            " 68%|██████▊   | 1612/2388 [25:45<02:43,  4.75it/s, avg_loss=0.6967009622268772]"
          ]
        },
        {
          "output_type": "stream",
          "name": "stdout",
          "text": [
            "Val Accuracy: 0.5410888785481619\n"
          ]
        },
        {
          "output_type": "stream",
          "name": "stderr",
          "text": [
            " 72%|███████▏  | 1712/2388 [27:22<02:21,  4.78it/s, avg_loss=0.6964896874196753]"
          ]
        },
        {
          "output_type": "stream",
          "name": "stdout",
          "text": [
            "Val Accuracy: 0.5415542112610516\n"
          ]
        },
        {
          "output_type": "stream",
          "name": "stderr",
          "text": [
            " 76%|███████▌  | 1812/2388 [28:59<01:59,  4.80it/s, avg_loss=0.6963027471083669]"
          ]
        },
        {
          "output_type": "stream",
          "name": "stdout",
          "text": [
            "Val Accuracy: 0.5174499767333643\n"
          ]
        },
        {
          "output_type": "stream",
          "name": "stderr",
          "text": [
            " 80%|████████  | 1912/2388 [30:36<01:39,  4.77it/s, avg_loss=0.6967666709666095]"
          ]
        },
        {
          "output_type": "stream",
          "name": "stdout",
          "text": [
            "Val Accuracy: 0.5137273150302466\n"
          ]
        },
        {
          "output_type": "stream",
          "name": "stderr",
          "text": [
            " 84%|████████▍ | 2012/2388 [32:13<01:21,  4.64it/s, avg_loss=0.6966220693865405]"
          ]
        },
        {
          "output_type": "stream",
          "name": "stdout",
          "text": [
            "Val Accuracy: 0.5263843648208469\n"
          ]
        },
        {
          "output_type": "stream",
          "name": "stderr",
          "text": [
            " 88%|████████▊ | 2112/2388 [33:50<00:58,  4.73it/s, avg_loss=0.6967404879668398]"
          ]
        },
        {
          "output_type": "stream",
          "name": "stdout",
          "text": [
            "Val Accuracy: 0.5167985109353187\n"
          ]
        },
        {
          "output_type": "stream",
          "name": "stderr",
          "text": [
            " 93%|█████████▎| 2212/2388 [35:27<00:37,  4.73it/s, avg_loss=0.6971260009984113]"
          ]
        },
        {
          "output_type": "stream",
          "name": "stdout",
          "text": [
            "Val Accuracy: 0.5280595625872498\n"
          ]
        },
        {
          "output_type": "stream",
          "name": "stderr",
          "text": [
            " 97%|█████████▋| 2312/2388 [37:04<00:16,  4.74it/s, avg_loss=0.6971143439534522]"
          ]
        },
        {
          "output_type": "stream",
          "name": "stdout",
          "text": [
            "Val Accuracy: 0.5282456956724058\n"
          ]
        },
        {
          "output_type": "stream",
          "name": "stderr",
          "text": [
            "100%|██████████| 2388/2388 [38:35<00:00,  1.03it/s, avg_loss=0.6973883145218918]\n",
            "  1%|          | 24/2388 [00:05<08:13,  4.79it/s, avg_loss=0.694011595249176]"
          ]
        },
        {
          "output_type": "stream",
          "name": "stdout",
          "text": [
            "Val Accuracy: 0.504885993485342\n"
          ]
        },
        {
          "output_type": "stream",
          "name": "stderr",
          "text": [
            "  5%|▌         | 124/2388 [01:41<07:43,  4.88it/s, avg_loss=0.6993878202438355]"
          ]
        },
        {
          "output_type": "stream",
          "name": "stdout",
          "text": [
            "Val Accuracy: 0.539320614239181\n"
          ]
        },
        {
          "output_type": "stream",
          "name": "stderr",
          "text": [
            "  9%|▉         | 224/2388 [03:17<07:25,  4.86it/s, avg_loss=0.7005768386522929]"
          ]
        },
        {
          "output_type": "stream",
          "name": "stdout",
          "text": [
            "Val Accuracy: 0.5417403443462075\n"
          ]
        },
        {
          "output_type": "stream",
          "name": "stderr",
          "text": [
            " 14%|█▎        | 324/2388 [04:53<07:10,  4.80it/s, avg_loss=0.7014159778448251]"
          ]
        },
        {
          "output_type": "stream",
          "name": "stdout",
          "text": [
            "Val Accuracy: 0.539413680781759\n"
          ]
        },
        {
          "output_type": "stream",
          "name": "stderr",
          "text": [
            " 18%|█▊        | 424/2388 [06:29<06:43,  4.87it/s, avg_loss=0.7015018052213332]"
          ]
        },
        {
          "output_type": "stream",
          "name": "stdout",
          "text": [
            "Val Accuracy: 0.5243369008841322\n"
          ]
        },
        {
          "output_type": "stream",
          "name": "stderr",
          "text": [
            " 22%|██▏       | 524/2388 [08:06<06:25,  4.83it/s, avg_loss=0.7004734927132016]"
          ]
        },
        {
          "output_type": "stream",
          "name": "stdout",
          "text": [
            "Val Accuracy: 0.5155886458818055\n"
          ]
        },
        {
          "output_type": "stream",
          "name": "stderr",
          "text": [
            " 26%|██▌       | 624/2388 [09:42<06:04,  4.84it/s, avg_loss=0.6996908061027527]"
          ]
        },
        {
          "output_type": "stream",
          "name": "stdout",
          "text": [
            "Val Accuracy: 0.5436016751977664\n"
          ]
        },
        {
          "output_type": "stream",
          "name": "stderr",
          "text": [
            " 30%|███       | 724/2388 [11:19<05:42,  4.86it/s, avg_loss=0.6996808657975032]"
          ]
        },
        {
          "output_type": "stream",
          "name": "stdout",
          "text": [
            "Val Accuracy: 0.48255002326663565\n"
          ]
        },
        {
          "output_type": "stream",
          "name": "stderr",
          "text": [
            " 35%|███▍      | 824/2388 [12:55<05:20,  4.88it/s, avg_loss=0.6994373298413826]"
          ]
        },
        {
          "output_type": "stream",
          "name": "stdout",
          "text": [
            "Val Accuracy: 0.5463006049325267\n"
          ]
        },
        {
          "output_type": "stream",
          "name": "stderr",
          "text": [
            " 39%|███▊      | 924/2388 [14:31<05:06,  4.77it/s, avg_loss=0.6998448032301825]"
          ]
        },
        {
          "output_type": "stream",
          "name": "stdout",
          "text": [
            "Val Accuracy: 0.5141926477431363\n"
          ]
        },
        {
          "output_type": "stream",
          "name": "stderr",
          "text": [
            " 43%|████▎     | 1024/2388 [16:07<04:42,  4.83it/s, avg_loss=0.6998082666280793]"
          ]
        },
        {
          "output_type": "stream",
          "name": "stdout",
          "text": [
            "Val Accuracy: 0.5544904606793858\n"
          ]
        },
        {
          "output_type": "stream",
          "name": "stderr",
          "text": [
            " 47%|████▋     | 1124/2388 [17:42<04:21,  4.83it/s, avg_loss=0.6999744883643256]"
          ]
        },
        {
          "output_type": "stream",
          "name": "stdout",
          "text": [
            "Val Accuracy: 0.5178222429036762\n"
          ]
        },
        {
          "output_type": "stream",
          "name": "stderr",
          "text": [
            " 51%|█████▏    | 1224/2388 [19:18<04:00,  4.84it/s, avg_loss=0.6998512942936955]"
          ]
        },
        {
          "output_type": "stream",
          "name": "stdout",
          "text": [
            "Val Accuracy: 0.5067473243369008\n"
          ]
        },
        {
          "output_type": "stream",
          "name": "stderr",
          "text": [
            " 55%|█████▌    | 1324/2388 [20:54<03:40,  4.83it/s, avg_loss=0.6999020055105102]"
          ]
        },
        {
          "output_type": "stream",
          "name": "stdout",
          "text": [
            "Val Accuracy: 0.5275011633317822\n"
          ]
        },
        {
          "output_type": "stream",
          "name": "stderr",
          "text": [
            " 60%|█████▉    | 1424/2388 [22:30<03:18,  4.86it/s, avg_loss=0.6998670795507599]"
          ]
        },
        {
          "output_type": "stream",
          "name": "stdout",
          "text": [
            "Val Accuracy: 0.5308515588645882\n"
          ]
        },
        {
          "output_type": "stream",
          "name": "stderr",
          "text": [
            " 64%|██████▍   | 1524/2388 [24:06<02:58,  4.85it/s, avg_loss=0.6996626931331197]"
          ]
        },
        {
          "output_type": "stream",
          "name": "stdout",
          "text": [
            "Val Accuracy: 0.5341088878548161\n"
          ]
        },
        {
          "output_type": "stream",
          "name": "stderr",
          "text": [
            " 68%|██████▊   | 1624/2388 [25:41<02:36,  4.88it/s, avg_loss=0.6989415971682622]"
          ]
        },
        {
          "output_type": "stream",
          "name": "stdout",
          "text": [
            "Val Accuracy: 0.5435086086551885\n"
          ]
        },
        {
          "output_type": "stream",
          "name": "stderr",
          "text": [
            " 72%|███████▏  | 1724/2388 [27:17<02:15,  4.92it/s, avg_loss=0.6986175710913064]"
          ]
        },
        {
          "output_type": "stream",
          "name": "stdout",
          "text": [
            "Val Accuracy: 0.5447184737087017\n"
          ]
        },
        {
          "output_type": "stream",
          "name": "stderr",
          "text": [
            " 76%|███████▋  | 1824/2388 [28:53<01:55,  4.90it/s, avg_loss=0.6985442787000578]"
          ]
        },
        {
          "output_type": "stream",
          "name": "stdout",
          "text": [
            "Val Accuracy: 0.5380176826430898\n"
          ]
        },
        {
          "output_type": "stream",
          "name": "stderr",
          "text": [
            " 81%|████████  | 1924/2388 [30:29<01:34,  4.89it/s, avg_loss=0.698728911226446]"
          ]
        },
        {
          "output_type": "stream",
          "name": "stdout",
          "text": [
            "Val Accuracy: 0.5385760818985574\n"
          ]
        },
        {
          "output_type": "stream",
          "name": "stderr",
          "text": [
            " 85%|████████▍ | 2024/2388 [32:05<01:15,  4.85it/s, avg_loss=0.6988496389506775]"
          ]
        },
        {
          "output_type": "stream",
          "name": "stdout",
          "text": [
            "Val Accuracy: 0.5173569101907864\n"
          ]
        },
        {
          "output_type": "stream",
          "name": "stderr",
          "text": [
            " 89%|████████▉ | 2124/2388 [33:41<00:55,  4.74it/s, avg_loss=0.6988814055498909]"
          ]
        },
        {
          "output_type": "stream",
          "name": "stdout",
          "text": [
            "Val Accuracy: 0.5535597952536063\n"
          ]
        },
        {
          "output_type": "stream",
          "name": "stderr",
          "text": [
            " 93%|█████████▎| 2224/2388 [35:17<00:33,  4.90it/s, avg_loss=0.6989174920253539]"
          ]
        },
        {
          "output_type": "stream",
          "name": "stdout",
          "text": [
            "Val Accuracy: 0.5484411354118195\n"
          ]
        },
        {
          "output_type": "stream",
          "name": "stderr",
          "text": [
            " 97%|█████████▋| 2324/2388 [36:52<00:13,  4.77it/s, avg_loss=0.6987870497088279]"
          ]
        },
        {
          "output_type": "stream",
          "name": "stdout",
          "text": [
            "Val Accuracy: 0.5169846440204746\n"
          ]
        },
        {
          "output_type": "stream",
          "name": "stderr",
          "text": [
            "100%|██████████| 2388/2388 [38:21<00:00,  1.04it/s, avg_loss=0.6987658526180577]\n",
            "  2%|▏         | 36/2388 [00:07<07:57,  4.93it/s, avg_loss=0.6799888191996394]"
          ]
        },
        {
          "output_type": "stream",
          "name": "stdout",
          "text": [
            "Val Accuracy: 0.5369008841321545\n"
          ]
        },
        {
          "output_type": "stream",
          "name": "stderr",
          "text": [
            "  6%|▌         | 136/2388 [01:43<07:46,  4.83it/s, avg_loss=0.6937751983204027]"
          ]
        },
        {
          "output_type": "stream",
          "name": "stdout",
          "text": [
            "Val Accuracy: 0.5248953001395998\n"
          ]
        },
        {
          "output_type": "stream",
          "name": "stderr",
          "text": [
            " 10%|▉         | 236/2388 [03:19<07:32,  4.76it/s, avg_loss=0.6965059660658052]"
          ]
        },
        {
          "output_type": "stream",
          "name": "stdout",
          "text": [
            "Val Accuracy: 0.5414611447184737\n"
          ]
        },
        {
          "output_type": "stream",
          "name": "stderr",
          "text": [
            " 14%|█▍        | 336/2388 [04:56<07:00,  4.88it/s, avg_loss=0.6953774945318522]"
          ]
        },
        {
          "output_type": "stream",
          "name": "stdout",
          "text": [
            "Val Accuracy: 0.5376454164727781\n"
          ]
        },
        {
          "output_type": "stream",
          "name": "stderr",
          "text": [
            " 18%|█▊        | 436/2388 [06:32<06:43,  4.83it/s, avg_loss=0.694550643523716] "
          ]
        },
        {
          "output_type": "stream",
          "name": "stdout",
          "text": [
            "Val Accuracy: 0.5384830153559795\n"
          ]
        },
        {
          "output_type": "stream",
          "name": "stderr",
          "text": [
            " 22%|██▏       | 536/2388 [08:08<06:24,  4.81it/s, avg_loss=0.6931709331951106]"
          ]
        },
        {
          "output_type": "stream",
          "name": "stdout",
          "text": [
            "Val Accuracy: 0.5270358306188925\n"
          ]
        },
        {
          "output_type": "stream",
          "name": "stderr",
          "text": [
            " 27%|██▋       | 636/2388 [09:44<06:01,  4.85it/s, avg_loss=0.693706418131734] "
          ]
        },
        {
          "output_type": "stream",
          "name": "stdout",
          "text": [
            "Val Accuracy: 0.5429502093997208\n"
          ]
        },
        {
          "output_type": "stream",
          "name": "stderr",
          "text": [
            " 31%|███       | 736/2388 [11:20<05:44,  4.80it/s, avg_loss=0.6925329494832168]"
          ]
        },
        {
          "output_type": "stream",
          "name": "stdout",
          "text": [
            "Val Accuracy: 0.5395067473243369\n"
          ]
        },
        {
          "output_type": "stream",
          "name": "stderr",
          "text": [
            " 35%|███▌      | 836/2388 [12:56<05:21,  4.82it/s, avg_loss=0.6932367730169171]"
          ]
        },
        {
          "output_type": "stream",
          "name": "stdout",
          "text": [
            "Val Accuracy: 0.5463006049325267\n"
          ]
        },
        {
          "output_type": "stream",
          "name": "stderr",
          "text": [
            " 39%|███▉      | 936/2388 [14:33<05:00,  4.84it/s, avg_loss=0.6931271017424706]"
          ]
        },
        {
          "output_type": "stream",
          "name": "stdout",
          "text": [
            "Val Accuracy: 0.5500232666356445\n"
          ]
        },
        {
          "output_type": "stream",
          "name": "stderr",
          "text": [
            " 43%|████▎     | 1036/2388 [16:09<04:36,  4.89it/s, avg_loss=0.6931114728448476]"
          ]
        },
        {
          "output_type": "stream",
          "name": "stdout",
          "text": [
            "Val Accuracy: 0.5020009306654257\n"
          ]
        },
        {
          "output_type": "stream",
          "name": "stderr",
          "text": [
            " 48%|████▊     | 1136/2388 [17:44<04:14,  4.92it/s, avg_loss=0.6937744625849795]"
          ]
        },
        {
          "output_type": "stream",
          "name": "stdout",
          "text": [
            "Val Accuracy: 0.5179153094462541\n"
          ]
        },
        {
          "output_type": "stream",
          "name": "stderr",
          "text": [
            " 52%|█████▏    | 1236/2388 [19:20<03:55,  4.89it/s, avg_loss=0.6940083264244499]"
          ]
        },
        {
          "output_type": "stream",
          "name": "stdout",
          "text": [
            "Val Accuracy: 0.5090739879013495\n"
          ]
        },
        {
          "output_type": "stream",
          "name": "stderr",
          "text": [
            " 56%|█████▌    | 1336/2388 [20:57<03:41,  4.75it/s, avg_loss=0.6942539869981108]"
          ]
        },
        {
          "output_type": "stream",
          "name": "stdout",
          "text": [
            "Val Accuracy: 0.5255467659376454\n"
          ]
        },
        {
          "output_type": "stream",
          "name": "stderr",
          "text": [
            " 60%|██████    | 1436/2388 [22:33<03:15,  4.87it/s, avg_loss=0.6943421779030632]"
          ]
        },
        {
          "output_type": "stream",
          "name": "stdout",
          "text": [
            "Val Accuracy: 0.5341088878548161\n"
          ]
        },
        {
          "output_type": "stream",
          "name": "stderr",
          "text": [
            " 64%|██████▍   | 1536/2388 [24:09<02:58,  4.77it/s, avg_loss=0.6942691412465326]"
          ]
        },
        {
          "output_type": "stream",
          "name": "stdout",
          "text": [
            "Val Accuracy: 0.5399720800372266\n"
          ]
        },
        {
          "output_type": "stream",
          "name": "stderr",
          "text": [
            " 69%|██████▊   | 1636/2388 [25:46<02:35,  4.85it/s, avg_loss=0.6942493977092283]"
          ]
        },
        {
          "output_type": "stream",
          "name": "stdout",
          "text": [
            "Val Accuracy: 0.5503024662633783\n"
          ]
        },
        {
          "output_type": "stream",
          "name": "stderr",
          "text": [
            " 73%|███████▎  | 1736/2388 [27:22<02:14,  4.84it/s, avg_loss=0.6942806237719837]"
          ]
        },
        {
          "output_type": "stream",
          "name": "stdout",
          "text": [
            "Val Accuracy: 0.5403443462075384\n"
          ]
        },
        {
          "output_type": "stream",
          "name": "stderr",
          "text": [
            " 77%|███████▋  | 1836/2388 [28:58<01:54,  4.83it/s, avg_loss=0.694170006767329] "
          ]
        },
        {
          "output_type": "stream",
          "name": "stdout",
          "text": [
            "Val Accuracy: 0.5543043275942299\n"
          ]
        },
        {
          "output_type": "stream",
          "name": "stderr",
          "text": [
            " 81%|████████  | 1936/2388 [30:34<01:32,  4.88it/s, avg_loss=0.6943378956833635]"
          ]
        },
        {
          "output_type": "stream",
          "name": "stdout",
          "text": [
            "Val Accuracy: 0.5402512796649604\n"
          ]
        },
        {
          "output_type": "stream",
          "name": "stderr",
          "text": [
            " 85%|████████▌ | 2036/2388 [32:10<01:12,  4.88it/s, avg_loss=0.6939401723733414]"
          ]
        },
        {
          "output_type": "stream",
          "name": "stdout",
          "text": [
            "Val Accuracy: 0.5379246161005119\n"
          ]
        },
        {
          "output_type": "stream",
          "name": "stderr",
          "text": [
            " 89%|████████▉ | 2136/2388 [33:46<00:51,  4.88it/s, avg_loss=0.6940347311035963]"
          ]
        },
        {
          "output_type": "stream",
          "name": "stdout",
          "text": [
            "Val Accuracy: 0.5528152629129828\n"
          ]
        },
        {
          "output_type": "stream",
          "name": "stderr",
          "text": [
            " 94%|█████████▎| 2236/2388 [35:23<00:32,  4.71it/s, avg_loss=0.6942842732756916]"
          ]
        },
        {
          "output_type": "stream",
          "name": "stdout",
          "text": [
            "Val Accuracy: 0.5466728711028386\n"
          ]
        },
        {
          "output_type": "stream",
          "name": "stderr",
          "text": [
            " 98%|█████████▊| 2336/2388 [36:59<00:10,  4.83it/s, avg_loss=0.6943626082703555]"
          ]
        },
        {
          "output_type": "stream",
          "name": "stdout",
          "text": [
            "Val Accuracy: 0.552442996742671\n"
          ]
        },
        {
          "output_type": "stream",
          "name": "stderr",
          "text": [
            "100%|██████████| 2388/2388 [38:25<00:00,  1.04it/s, avg_loss=0.6944210191617659]\n",
            "  2%|▏         | 48/2388 [00:10<08:07,  4.80it/s, avg_loss=0.6957860820147456]"
          ]
        },
        {
          "output_type": "stream",
          "name": "stdout",
          "text": [
            "Val Accuracy: 0.5309446254071661\n"
          ]
        },
        {
          "output_type": "stream",
          "name": "stderr",
          "text": [
            "  6%|▌         | 148/2388 [01:46<07:41,  4.86it/s, avg_loss=0.6995543429515506]"
          ]
        },
        {
          "output_type": "stream",
          "name": "stdout",
          "text": [
            "Val Accuracy: 0.5583061889250814\n"
          ]
        },
        {
          "output_type": "stream",
          "name": "stderr",
          "text": [
            " 10%|█         | 248/2388 [03:22<07:21,  4.84it/s, avg_loss=0.6980608565261565]"
          ]
        },
        {
          "output_type": "stream",
          "name": "stdout",
          "text": [
            "Val Accuracy: 0.5583992554676593\n"
          ]
        },
        {
          "output_type": "stream",
          "name": "stderr",
          "text": [
            " 15%|█▍        | 348/2388 [04:59<06:58,  4.87it/s, avg_loss=0.6962864323810042]"
          ]
        },
        {
          "output_type": "stream",
          "name": "stdout",
          "text": [
            "Val Accuracy: 0.5551419264774313\n"
          ]
        },
        {
          "output_type": "stream",
          "name": "stderr",
          "text": [
            " 19%|█▉        | 448/2388 [06:35<06:42,  4.82it/s, avg_loss=0.6949767706654385]"
          ]
        },
        {
          "output_type": "stream",
          "name": "stdout",
          "text": [
            "Val Accuracy: 0.5530944625407166\n"
          ]
        },
        {
          "output_type": "stream",
          "name": "stderr",
          "text": [
            " 23%|██▎       | 548/2388 [08:11<06:17,  4.87it/s, avg_loss=0.6961519188351102]"
          ]
        },
        {
          "output_type": "stream",
          "name": "stdout",
          "text": [
            "Val Accuracy: 0.5379246161005119\n"
          ]
        },
        {
          "output_type": "stream",
          "name": "stderr",
          "text": [
            " 27%|██▋       | 648/2388 [09:47<05:57,  4.87it/s, avg_loss=0.695772664205319] "
          ]
        },
        {
          "output_type": "stream",
          "name": "stdout",
          "text": [
            "Val Accuracy: 0.5414611447184737\n"
          ]
        },
        {
          "output_type": "stream",
          "name": "stderr",
          "text": [
            " 31%|███▏      | 748/2388 [11:23<05:33,  4.92it/s, avg_loss=0.6949363540266161]"
          ]
        },
        {
          "output_type": "stream",
          "name": "stdout",
          "text": [
            "Val Accuracy: 0.5462075383899488\n"
          ]
        },
        {
          "output_type": "stream",
          "name": "stderr",
          "text": [
            " 36%|███▌      | 848/2388 [12:59<05:18,  4.84it/s, avg_loss=0.6943755038214235]"
          ]
        },
        {
          "output_type": "stream",
          "name": "stdout",
          "text": [
            "Val Accuracy: 0.5443462075383899\n"
          ]
        },
        {
          "output_type": "stream",
          "name": "stderr",
          "text": [
            " 40%|███▉      | 948/2388 [14:34<04:51,  4.95it/s, avg_loss=0.6945867796592391]"
          ]
        },
        {
          "output_type": "stream",
          "name": "stdout",
          "text": [
            "Val Accuracy: 0.5401582131223825\n"
          ]
        },
        {
          "output_type": "stream",
          "name": "stderr",
          "text": [
            " 44%|████▍     | 1048/2388 [16:11<04:37,  4.84it/s, avg_loss=0.6942626483333577]"
          ]
        },
        {
          "output_type": "stream",
          "name": "stdout",
          "text": [
            "Val Accuracy: 0.5526291298278269\n"
          ]
        },
        {
          "output_type": "stream",
          "name": "stderr",
          "text": [
            " 48%|████▊     | 1148/2388 [17:47<04:14,  4.86it/s, avg_loss=0.694324329430586]"
          ]
        },
        {
          "output_type": "stream",
          "name": "stdout",
          "text": [
            "Val Accuracy: 0.5563517915309446\n"
          ]
        },
        {
          "output_type": "stream",
          "name": "stderr",
          "text": [
            " 52%|█████▏    | 1248/2388 [19:23<03:57,  4.79it/s, avg_loss=0.6936456319615781]"
          ]
        },
        {
          "output_type": "stream",
          "name": "stdout",
          "text": [
            "Val Accuracy: 0.5221963704048395\n"
          ]
        },
        {
          "output_type": "stream",
          "name": "stderr",
          "text": [
            " 56%|█████▋    | 1348/2388 [20:59<03:37,  4.78it/s, avg_loss=0.6934906473594564]"
          ]
        },
        {
          "output_type": "stream",
          "name": "stdout",
          "text": [
            "Val Accuracy: 0.5582131223825035\n"
          ]
        },
        {
          "output_type": "stream",
          "name": "stderr",
          "text": [
            " 61%|██████    | 1448/2388 [22:36<03:12,  4.88it/s, avg_loss=0.6932315664344034]"
          ]
        },
        {
          "output_type": "stream",
          "name": "stdout",
          "text": [
            "Val Accuracy: 0.5404374127501164\n"
          ]
        },
        {
          "output_type": "stream",
          "name": "stderr",
          "text": [
            " 65%|██████▍   | 1548/2388 [24:12<02:53,  4.84it/s, avg_loss=0.693748043497737]"
          ]
        },
        {
          "output_type": "stream",
          "name": "stdout",
          "text": [
            "Val Accuracy: 0.5539320614239182\n"
          ]
        },
        {
          "output_type": "stream",
          "name": "stderr",
          "text": [
            " 69%|██████▉   | 1648/2388 [25:48<02:32,  4.85it/s, avg_loss=0.6941147311085134]"
          ]
        },
        {
          "output_type": "stream",
          "name": "stdout",
          "text": [
            "Val Accuracy: 0.5495579339227548\n"
          ]
        },
        {
          "output_type": "stream",
          "name": "stderr",
          "text": [
            " 73%|███████▎  | 1748/2388 [27:25<02:11,  4.88it/s, avg_loss=0.6940898386119365]"
          ]
        },
        {
          "output_type": "stream",
          "name": "stdout",
          "text": [
            "Val Accuracy: 0.5449046067938577\n"
          ]
        },
        {
          "output_type": "stream",
          "name": "stderr",
          "text": [
            " 77%|███████▋  | 1848/2388 [29:01<01:51,  4.85it/s, avg_loss=0.69426183019734]  "
          ]
        },
        {
          "output_type": "stream",
          "name": "stdout",
          "text": [
            "Val Accuracy: 0.539320614239181\n"
          ]
        },
        {
          "output_type": "stream",
          "name": "stderr",
          "text": [
            " 82%|████████▏ | 1948/2388 [30:37<01:30,  4.85it/s, avg_loss=0.6940289881365186]"
          ]
        },
        {
          "output_type": "stream",
          "name": "stdout",
          "text": [
            "Val Accuracy: 0.544253140995812\n"
          ]
        },
        {
          "output_type": "stream",
          "name": "stderr",
          "text": [
            " 86%|████████▌ | 2048/2388 [32:13<01:10,  4.85it/s, avg_loss=0.694085907098315] "
          ]
        },
        {
          "output_type": "stream",
          "name": "stdout",
          "text": [
            "Val Accuracy: 0.5554211261051651\n"
          ]
        },
        {
          "output_type": "stream",
          "name": "stderr",
          "text": [
            " 90%|████████▉ | 2148/2388 [33:49<00:49,  4.86it/s, avg_loss=0.6936357274006666]"
          ]
        },
        {
          "output_type": "stream",
          "name": "stdout",
          "text": [
            "Val Accuracy: 0.5472312703583062\n"
          ]
        },
        {
          "output_type": "stream",
          "name": "stderr",
          "text": [
            " 94%|█████████▍| 2248/2388 [35:25<00:28,  4.88it/s, avg_loss=0.6933947034070841]"
          ]
        },
        {
          "output_type": "stream",
          "name": "stdout",
          "text": [
            "Val Accuracy: 0.5228478362028851\n"
          ]
        },
        {
          "output_type": "stream",
          "name": "stderr",
          "text": [
            " 98%|█████████▊| 2348/2388 [37:01<00:08,  4.84it/s, avg_loss=0.6932862454041261]"
          ]
        },
        {
          "output_type": "stream",
          "name": "stdout",
          "text": [
            "Val Accuracy: 0.5532805956258725\n"
          ]
        },
        {
          "output_type": "stream",
          "name": "stderr",
          "text": [
            "100%|██████████| 2388/2388 [38:25<00:00,  1.04it/s, avg_loss=0.6934952011060476]\n",
            "  3%|▎         | 60/2388 [00:12<08:03,  4.82it/s, avg_loss=0.6871671510524437]"
          ]
        },
        {
          "output_type": "stream",
          "name": "stdout",
          "text": [
            "Val Accuracy: 0.5465798045602606\n"
          ]
        },
        {
          "output_type": "stream",
          "name": "stderr",
          "text": [
            "  7%|▋         | 160/2388 [01:48<07:37,  4.87it/s, avg_loss=0.6913835832050869]"
          ]
        },
        {
          "output_type": "stream",
          "name": "stdout",
          "text": [
            "Val Accuracy: 0.5438808748255002\n"
          ]
        },
        {
          "output_type": "stream",
          "name": "stderr",
          "text": [
            " 11%|█         | 260/2388 [03:24<07:18,  4.85it/s, avg_loss=0.6907448617891333]"
          ]
        },
        {
          "output_type": "stream",
          "name": "stdout",
          "text": [
            "Val Accuracy: 0.5173569101907864\n"
          ]
        },
        {
          "output_type": "stream",
          "name": "stderr",
          "text": [
            " 15%|█▌        | 360/2388 [05:00<07:03,  4.79it/s, avg_loss=0.6930971617843966]"
          ]
        },
        {
          "output_type": "stream",
          "name": "stdout",
          "text": [
            "Val Accuracy: 0.4947417403443462\n"
          ]
        },
        {
          "output_type": "stream",
          "name": "stderr",
          "text": [
            " 19%|█▉        | 460/2388 [06:36<06:38,  4.84it/s, avg_loss=0.6935182707687262]"
          ]
        },
        {
          "output_type": "stream",
          "name": "stdout",
          "text": [
            "Val Accuracy: 0.531037691949744\n"
          ]
        },
        {
          "output_type": "stream",
          "name": "stderr",
          "text": [
            " 23%|██▎       | 560/2388 [08:13<06:21,  4.79it/s, avg_loss=0.6939658006244802]"
          ]
        },
        {
          "output_type": "stream",
          "name": "stdout",
          "text": [
            "Val Accuracy: 0.5348534201954397\n"
          ]
        },
        {
          "output_type": "stream",
          "name": "stderr",
          "text": [
            " 28%|██▊       | 660/2388 [09:49<05:57,  4.84it/s, avg_loss=0.6941684805499263]"
          ]
        },
        {
          "output_type": "stream",
          "name": "stdout",
          "text": [
            "Val Accuracy: 0.552349930200093\n"
          ]
        },
        {
          "output_type": "stream",
          "name": "stderr",
          "text": [
            " 32%|███▏      | 760/2388 [11:25<05:37,  4.82it/s, avg_loss=0.6945992359663904]"
          ]
        },
        {
          "output_type": "stream",
          "name": "stdout",
          "text": [
            "Val Accuracy: 0.5479758026989298\n"
          ]
        },
        {
          "output_type": "stream",
          "name": "stderr",
          "text": [
            " 36%|███▌      | 860/2388 [13:01<05:16,  4.83it/s, avg_loss=0.6950662531365362]"
          ]
        },
        {
          "output_type": "stream",
          "name": "stdout",
          "text": [
            "Val Accuracy: 0.5499302000930666\n"
          ]
        },
        {
          "output_type": "stream",
          "name": "stderr",
          "text": [
            " 40%|████      | 960/2388 [14:37<04:58,  4.79it/s, avg_loss=0.694481518278509] "
          ]
        },
        {
          "output_type": "stream",
          "name": "stdout",
          "text": [
            "Val Accuracy: 0.5483480688692415\n"
          ]
        },
        {
          "output_type": "stream",
          "name": "stderr",
          "text": [
            " 44%|████▍     | 1060/2388 [16:13<04:35,  4.82it/s, avg_loss=0.6946722411188059]"
          ]
        },
        {
          "output_type": "stream",
          "name": "stdout",
          "text": [
            "Val Accuracy: 0.5530944625407166\n"
          ]
        },
        {
          "output_type": "stream",
          "name": "stderr",
          "text": [
            " 49%|████▊     | 1160/2388 [17:50<04:16,  4.79it/s, avg_loss=0.6949686512261193]"
          ]
        },
        {
          "output_type": "stream",
          "name": "stdout",
          "text": [
            "Val Accuracy: 0.545835272219637\n"
          ]
        },
        {
          "output_type": "stream",
          "name": "stderr",
          "text": [
            " 53%|█████▎    | 1260/2388 [19:26<03:49,  4.91it/s, avg_loss=0.694525611532954] "
          ]
        },
        {
          "output_type": "stream",
          "name": "stdout",
          "text": [
            "Val Accuracy: 0.5545835272219637\n"
          ]
        },
        {
          "output_type": "stream",
          "name": "stderr",
          "text": [
            " 57%|█████▋    | 1360/2388 [21:02<03:31,  4.87it/s, avg_loss=0.6939532769505895]"
          ]
        },
        {
          "output_type": "stream",
          "name": "stdout",
          "text": [
            "Val Accuracy: 0.5493718008375988\n"
          ]
        },
        {
          "output_type": "stream",
          "name": "stderr",
          "text": [
            " 61%|██████    | 1460/2388 [22:38<03:15,  4.75it/s, avg_loss=0.6939729511289054]"
          ]
        },
        {
          "output_type": "stream",
          "name": "stdout",
          "text": [
            "Val Accuracy: 0.5424848766868311\n"
          ]
        },
        {
          "output_type": "stream",
          "name": "stderr",
          "text": [
            " 65%|██████▌   | 1560/2388 [24:14<02:49,  4.88it/s, avg_loss=0.6941145236945778]"
          ]
        },
        {
          "output_type": "stream",
          "name": "stdout",
          "text": [
            "Val Accuracy: 0.5469520707305724\n"
          ]
        },
        {
          "output_type": "stream",
          "name": "stderr",
          "text": [
            " 70%|██████▉   | 1660/2388 [25:51<02:29,  4.88it/s, avg_loss=0.6940614226207469]"
          ]
        },
        {
          "output_type": "stream",
          "name": "stdout",
          "text": [
            "Val Accuracy: 0.5187529083294555\n"
          ]
        },
        {
          "output_type": "stream",
          "name": "stderr",
          "text": [
            " 74%|███████▎  | 1760/2388 [27:27<02:09,  4.83it/s, avg_loss=0.6939749982396288]"
          ]
        },
        {
          "output_type": "stream",
          "name": "stdout",
          "text": [
            "Val Accuracy: 0.5501163331782224\n"
          ]
        },
        {
          "output_type": "stream",
          "name": "stderr",
          "text": [
            " 78%|███████▊  | 1860/2388 [29:03<01:50,  4.79it/s, avg_loss=0.6938685048721863]"
          ]
        },
        {
          "output_type": "stream",
          "name": "stdout",
          "text": [
            "Val Accuracy: 0.5396928804094928\n"
          ]
        },
        {
          "output_type": "stream",
          "name": "stderr",
          "text": [
            " 82%|████████▏ | 1960/2388 [30:39<01:28,  4.85it/s, avg_loss=0.6937474332738446]"
          ]
        },
        {
          "output_type": "stream",
          "name": "stdout",
          "text": [
            "Val Accuracy: 0.5518845974872033\n"
          ]
        },
        {
          "output_type": "stream",
          "name": "stderr",
          "text": [
            " 86%|████████▋ | 2060/2388 [32:15<01:08,  4.82it/s, avg_loss=0.6936464218015176]"
          ]
        },
        {
          "output_type": "stream",
          "name": "stdout",
          "text": [
            "Val Accuracy: 0.555793392275477\n"
          ]
        },
        {
          "output_type": "stream",
          "name": "stderr",
          "text": [
            " 90%|█████████ | 2160/2388 [33:51<00:47,  4.83it/s, avg_loss=0.693875558450232] "
          ]
        },
        {
          "output_type": "stream",
          "name": "stdout",
          "text": [
            "Val Accuracy: 0.5515123313168916\n"
          ]
        },
        {
          "output_type": "stream",
          "name": "stderr",
          "text": [
            " 95%|█████████▍| 2260/2388 [35:27<00:26,  4.83it/s, avg_loss=0.6935208600108363]"
          ]
        },
        {
          "output_type": "stream",
          "name": "stdout",
          "text": [
            "Val Accuracy: 0.5530013959981387\n"
          ]
        },
        {
          "output_type": "stream",
          "name": "stderr",
          "text": [
            " 99%|█████████▉| 2360/2388 [37:03<00:05,  4.84it/s, avg_loss=0.6931951590030692]"
          ]
        },
        {
          "output_type": "stream",
          "name": "stdout",
          "text": [
            "Val Accuracy: 0.5452768729641694\n"
          ]
        },
        {
          "output_type": "stream",
          "name": "stderr",
          "text": [
            "100%|██████████| 2388/2388 [38:24<00:00,  1.04it/s, avg_loss=0.6932599873998058]\n",
            "  3%|▎         | 72/2388 [00:15<08:02,  4.80it/s, avg_loss=0.6771930839917432]"
          ]
        },
        {
          "output_type": "stream",
          "name": "stdout",
          "text": [
            "Val Accuracy: 0.4824569567240577\n"
          ]
        },
        {
          "output_type": "stream",
          "name": "stderr",
          "text": [
            "  7%|▋         | 172/2388 [01:51<07:39,  4.82it/s, avg_loss=0.6919527150302953]"
          ]
        },
        {
          "output_type": "stream",
          "name": "stdout",
          "text": [
            "Val Accuracy: 0.5472312703583062\n"
          ]
        },
        {
          "output_type": "stream",
          "name": "stderr",
          "text": [
            " 11%|█▏        | 272/2388 [03:27<07:20,  4.80it/s, avg_loss=0.6920020464575771]"
          ]
        },
        {
          "output_type": "stream",
          "name": "stdout",
          "text": [
            "Val Accuracy: 0.4829222894369474\n"
          ]
        },
        {
          "output_type": "stream",
          "name": "stderr",
          "text": [
            " 16%|█▌        | 372/2388 [05:04<06:55,  4.85it/s, avg_loss=0.6927538832135239]"
          ]
        },
        {
          "output_type": "stream",
          "name": "stdout",
          "text": [
            "Val Accuracy: 0.4986505351326198\n"
          ]
        },
        {
          "output_type": "stream",
          "name": "stderr",
          "text": [
            " 20%|█▉        | 472/2388 [06:40<06:34,  4.86it/s, avg_loss=0.6935088664734338]"
          ]
        },
        {
          "output_type": "stream",
          "name": "stdout",
          "text": [
            "Val Accuracy: 0.555793392275477\n"
          ]
        },
        {
          "output_type": "stream",
          "name": "stderr",
          "text": [
            " 24%|██▍       | 572/2388 [08:17<06:15,  4.84it/s, avg_loss=0.6919382505807993]"
          ]
        },
        {
          "output_type": "stream",
          "name": "stdout",
          "text": [
            "Val Accuracy: 0.5521637971149371\n"
          ]
        },
        {
          "output_type": "stream",
          "name": "stderr",
          "text": [
            " 28%|██▊       | 672/2388 [09:53<05:50,  4.90it/s, avg_loss=0.6922562707763548]"
          ]
        },
        {
          "output_type": "stream",
          "name": "stdout",
          "text": [
            "Val Accuracy: 0.5256398324802234\n"
          ]
        },
        {
          "output_type": "stream",
          "name": "stderr",
          "text": [
            " 32%|███▏      | 772/2388 [11:29<05:35,  4.82it/s, avg_loss=0.6909742410093508]"
          ]
        },
        {
          "output_type": "stream",
          "name": "stdout",
          "text": [
            "Val Accuracy: 0.48338762214983716\n"
          ]
        },
        {
          "output_type": "stream",
          "name": "stderr",
          "text": [
            " 37%|███▋      | 872/2388 [13:06<05:12,  4.85it/s, avg_loss=0.691049185610309] "
          ]
        },
        {
          "output_type": "stream",
          "name": "stdout",
          "text": [
            "Val Accuracy: 0.4831084225221033\n"
          ]
        },
        {
          "output_type": "stream",
          "name": "stderr",
          "text": [
            " 41%|████      | 972/2388 [14:42<04:59,  4.72it/s, avg_loss=0.6920912715415916]"
          ]
        },
        {
          "output_type": "stream",
          "name": "stdout",
          "text": [
            "Val Accuracy: 0.4829222894369474\n"
          ]
        },
        {
          "output_type": "stream",
          "name": "stderr",
          "text": [
            " 45%|████▍     | 1072/2388 [16:18<04:32,  4.84it/s, avg_loss=0.6924217102800923]"
          ]
        },
        {
          "output_type": "stream",
          "name": "stdout",
          "text": [
            "Val Accuracy: 0.5053513261982318\n"
          ]
        },
        {
          "output_type": "stream",
          "name": "stderr",
          "text": [
            " 49%|████▉     | 1172/2388 [17:55<04:11,  4.83it/s, avg_loss=0.6931939490920748]"
          ]
        },
        {
          "output_type": "stream",
          "name": "stdout",
          "text": [
            "Val Accuracy: 0.5480688692415077\n"
          ]
        },
        {
          "output_type": "stream",
          "name": "stderr",
          "text": [
            " 53%|█████▎    | 1272/2388 [19:31<03:51,  4.83it/s, avg_loss=0.6932475290144885]"
          ]
        },
        {
          "output_type": "stream",
          "name": "stdout",
          "text": [
            "Val Accuracy: 0.5449976733364356\n"
          ]
        },
        {
          "output_type": "stream",
          "name": "stderr",
          "text": [
            " 57%|█████▋    | 1372/2388 [21:07<03:30,  4.83it/s, avg_loss=0.6932160725406027]"
          ]
        },
        {
          "output_type": "stream",
          "name": "stdout",
          "text": [
            "Val Accuracy: 0.5430432759422987\n"
          ]
        },
        {
          "output_type": "stream",
          "name": "stderr",
          "text": [
            " 62%|██████▏   | 1472/2388 [22:44<03:07,  4.88it/s, avg_loss=0.6931627878751062]"
          ]
        },
        {
          "output_type": "stream",
          "name": "stdout",
          "text": [
            "Val Accuracy: 0.5435086086551885\n"
          ]
        },
        {
          "output_type": "stream",
          "name": "stderr",
          "text": [
            " 66%|██████▌   | 1572/2388 [24:21<02:49,  4.82it/s, avg_loss=0.6929663585691943]"
          ]
        },
        {
          "output_type": "stream",
          "name": "stdout",
          "text": [
            "Val Accuracy: 0.5467659376454165\n"
          ]
        },
        {
          "output_type": "stream",
          "name": "stderr",
          "text": [
            " 70%|███████   | 1672/2388 [25:57<02:28,  4.83it/s, avg_loss=0.6929046460346625]"
          ]
        },
        {
          "output_type": "stream",
          "name": "stdout",
          "text": [
            "Val Accuracy: 0.5417403443462075\n"
          ]
        },
        {
          "output_type": "stream",
          "name": "stderr",
          "text": [
            " 74%|███████▍  | 1772/2388 [27:33<02:07,  4.82it/s, avg_loss=0.6928586095184911]"
          ]
        },
        {
          "output_type": "stream",
          "name": "stdout",
          "text": [
            "Val Accuracy: 0.5416472778036296\n"
          ]
        },
        {
          "output_type": "stream",
          "name": "stderr",
          "text": [
            " 78%|███████▊  | 1872/2388 [29:10<01:47,  4.80it/s, avg_loss=0.6921566960268076]"
          ]
        },
        {
          "output_type": "stream",
          "name": "stdout",
          "text": [
            "Val Accuracy: 0.5462075383899488\n"
          ]
        },
        {
          "output_type": "stream",
          "name": "stderr",
          "text": [
            " 83%|████████▎ | 1972/2388 [30:46<01:26,  4.82it/s, avg_loss=0.6922926618191293]"
          ]
        },
        {
          "output_type": "stream",
          "name": "stdout",
          "text": [
            "Val Accuracy: 0.5530944625407166\n"
          ]
        },
        {
          "output_type": "stream",
          "name": "stderr",
          "text": [
            " 87%|████████▋ | 2072/2388 [32:22<01:05,  4.83it/s, avg_loss=0.692187632389593] "
          ]
        },
        {
          "output_type": "stream",
          "name": "stdout",
          "text": [
            "Val Accuracy: 0.5436016751977664\n"
          ]
        },
        {
          "output_type": "stream",
          "name": "stderr",
          "text": [
            " 91%|█████████ | 2172/2388 [33:59<00:45,  4.78it/s, avg_loss=0.69225733254398]  "
          ]
        },
        {
          "output_type": "stream",
          "name": "stdout",
          "text": [
            "Val Accuracy: 0.549185667752443\n"
          ]
        },
        {
          "output_type": "stream",
          "name": "stderr",
          "text": [
            " 95%|█████████▌| 2272/2388 [35:35<00:24,  4.82it/s, avg_loss=0.6923443882726542]"
          ]
        },
        {
          "output_type": "stream",
          "name": "stdout",
          "text": [
            "Val Accuracy: 0.5472312703583062\n"
          ]
        },
        {
          "output_type": "stream",
          "name": "stderr",
          "text": [
            " 99%|█████████▉| 2372/2388 [37:11<00:03,  4.84it/s, avg_loss=0.6926232057937931]"
          ]
        },
        {
          "output_type": "stream",
          "name": "stdout",
          "text": [
            "Val Accuracy: 0.54751046998604\n"
          ]
        },
        {
          "output_type": "stream",
          "name": "stderr",
          "text": [
            "100%|██████████| 2388/2388 [38:30<00:00,  1.03it/s, avg_loss=0.6926037782250937]\n",
            "  4%|▎         | 84/2388 [00:17<08:04,  4.76it/s, avg_loss=0.6987997840432559]"
          ]
        },
        {
          "output_type": "stream",
          "name": "stdout",
          "text": [
            "Val Accuracy: 0.5479758026989298\n"
          ]
        },
        {
          "output_type": "stream",
          "name": "stderr",
          "text": [
            "  8%|▊         | 184/2388 [01:54<07:37,  4.82it/s, avg_loss=0.6955512336782507]"
          ]
        },
        {
          "output_type": "stream",
          "name": "stdout",
          "text": [
            "Val Accuracy: 0.5275011633317822\n"
          ]
        },
        {
          "output_type": "stream",
          "name": "stderr",
          "text": [
            " 12%|█▏        | 284/2388 [03:30<07:12,  4.87it/s, avg_loss=0.6942618566646911]"
          ]
        },
        {
          "output_type": "stream",
          "name": "stdout",
          "text": [
            "Val Accuracy: 0.5281526291298279\n"
          ]
        },
        {
          "output_type": "stream",
          "name": "stderr",
          "text": [
            " 16%|█▌        | 384/2388 [05:06<06:59,  4.77it/s, avg_loss=0.6957682673033182]"
          ]
        },
        {
          "output_type": "stream",
          "name": "stdout",
          "text": [
            "Val Accuracy: 0.5474174034434621\n"
          ]
        },
        {
          "output_type": "stream",
          "name": "stderr",
          "text": [
            " 20%|██        | 484/2388 [06:42<06:34,  4.83it/s, avg_loss=0.6948569879089435]"
          ]
        },
        {
          "output_type": "stream",
          "name": "stdout",
          "text": [
            "Val Accuracy: 0.5232201023731968\n"
          ]
        },
        {
          "output_type": "stream",
          "name": "stderr",
          "text": [
            " 24%|██▍       | 584/2388 [08:19<06:14,  4.82it/s, avg_loss=0.6948035538706006]"
          ]
        },
        {
          "output_type": "stream",
          "name": "stdout",
          "text": [
            "Val Accuracy: 0.5464867380176827\n"
          ]
        },
        {
          "output_type": "stream",
          "name": "stderr",
          "text": [
            " 29%|██▊       | 684/2388 [09:55<05:57,  4.77it/s, avg_loss=0.6944868208718126]"
          ]
        },
        {
          "output_type": "stream",
          "name": "stdout",
          "text": [
            "Val Accuracy: 0.542671009771987\n"
          ]
        },
        {
          "output_type": "stream",
          "name": "stderr",
          "text": [
            " 33%|███▎      | 784/2388 [11:31<05:34,  4.80it/s, avg_loss=0.694697079992598] "
          ]
        },
        {
          "output_type": "stream",
          "name": "stdout",
          "text": [
            "Val Accuracy: 0.5454630060493253\n"
          ]
        },
        {
          "output_type": "stream",
          "name": "stderr",
          "text": [
            " 37%|███▋      | 884/2388 [13:08<05:10,  4.84it/s, avg_loss=0.6948495258045735]"
          ]
        },
        {
          "output_type": "stream",
          "name": "stdout",
          "text": [
            "Val Accuracy: 0.5533736621684504\n"
          ]
        },
        {
          "output_type": "stream",
          "name": "stderr",
          "text": [
            " 41%|████      | 984/2388 [14:44<04:50,  4.83it/s, avg_loss=0.6942702728479647]"
          ]
        },
        {
          "output_type": "stream",
          "name": "stdout",
          "text": [
            "Val Accuracy: 0.5397859469520707\n"
          ]
        },
        {
          "output_type": "stream",
          "name": "stderr",
          "text": [
            " 45%|████▌     | 1084/2388 [16:20<04:32,  4.79it/s, avg_loss=0.6939823106137288]"
          ]
        },
        {
          "output_type": "stream",
          "name": "stdout",
          "text": [
            "Val Accuracy: 0.5465798045602606\n"
          ]
        },
        {
          "output_type": "stream",
          "name": "stderr",
          "text": [
            " 50%|████▉     | 1184/2388 [17:57<04:09,  4.83it/s, avg_loss=0.6936016655672451]"
          ]
        },
        {
          "output_type": "stream",
          "name": "stdout",
          "text": [
            "Val Accuracy: 0.5466728711028386\n"
          ]
        },
        {
          "output_type": "stream",
          "name": "stderr",
          "text": [
            " 54%|█████▍    | 1284/2388 [19:33<03:48,  4.84it/s, avg_loss=0.6937013467462146]"
          ]
        },
        {
          "output_type": "stream",
          "name": "stdout",
          "text": [
            "Val Accuracy: 0.5483480688692415\n"
          ]
        },
        {
          "output_type": "stream",
          "name": "stderr",
          "text": [
            " 58%|█████▊    | 1384/2388 [21:10<03:27,  4.83it/s, avg_loss=0.693273324570501] "
          ]
        },
        {
          "output_type": "stream",
          "name": "stdout",
          "text": [
            "Val Accuracy: 0.5554211261051651\n"
          ]
        },
        {
          "output_type": "stream",
          "name": "stderr",
          "text": [
            " 62%|██████▏   | 1484/2388 [22:46<03:07,  4.83it/s, avg_loss=0.6928155346350237]"
          ]
        },
        {
          "output_type": "stream",
          "name": "stdout",
          "text": [
            "Val Accuracy: 0.516426244765007\n"
          ]
        },
        {
          "output_type": "stream",
          "name": "stderr",
          "text": [
            " 66%|██████▋   | 1584/2388 [24:22<02:48,  4.77it/s, avg_loss=0.6930469655840179]"
          ]
        },
        {
          "output_type": "stream",
          "name": "stdout",
          "text": [
            "Val Accuracy: 0.5335504885993485\n"
          ]
        },
        {
          "output_type": "stream",
          "name": "stderr",
          "text": [
            " 71%|███████   | 1684/2388 [25:59<02:25,  4.84it/s, avg_loss=0.6928680862092831]"
          ]
        },
        {
          "output_type": "stream",
          "name": "stdout",
          "text": [
            "Val Accuracy: 0.5334574220567706\n"
          ]
        },
        {
          "output_type": "stream",
          "name": "stderr",
          "text": [
            " 75%|███████▍  | 1784/2388 [27:35<02:05,  4.80it/s, avg_loss=0.6927153495179504]"
          ]
        },
        {
          "output_type": "stream",
          "name": "stdout",
          "text": [
            "Val Accuracy: 0.5191251744997674\n"
          ]
        },
        {
          "output_type": "stream",
          "name": "stderr",
          "text": [
            " 79%|███████▉  | 1884/2388 [29:11<01:44,  4.84it/s, avg_loss=0.6930184038627685]"
          ]
        },
        {
          "output_type": "stream",
          "name": "stdout",
          "text": [
            "Val Accuracy: 0.5422987436016752\n"
          ]
        },
        {
          "output_type": "stream",
          "name": "stderr",
          "text": [
            " 83%|████████▎ | 1984/2388 [30:48<01:22,  4.88it/s, avg_loss=0.6931811051644967]"
          ]
        },
        {
          "output_type": "stream",
          "name": "stdout",
          "text": [
            "Val Accuracy: 0.5452768729641694\n"
          ]
        },
        {
          "output_type": "stream",
          "name": "stderr",
          "text": [
            " 87%|████████▋ | 2084/2388 [32:24<01:02,  4.88it/s, avg_loss=0.6930139464440106]"
          ]
        },
        {
          "output_type": "stream",
          "name": "stdout",
          "text": [
            "Val Accuracy: 0.5570032573289903\n"
          ]
        },
        {
          "output_type": "stream",
          "name": "stderr",
          "text": [
            " 91%|█████████▏| 2184/2388 [34:00<00:41,  4.86it/s, avg_loss=0.6927726550287732]"
          ]
        },
        {
          "output_type": "stream",
          "name": "stdout",
          "text": [
            "Val Accuracy: 0.5482550023266636\n"
          ]
        },
        {
          "output_type": "stream",
          "name": "stderr",
          "text": [
            " 96%|█████████▌| 2284/2388 [35:37<00:21,  4.80it/s, avg_loss=0.6926771794941023]"
          ]
        },
        {
          "output_type": "stream",
          "name": "stdout",
          "text": [
            "Val Accuracy: 0.552349930200093\n"
          ]
        },
        {
          "output_type": "stream",
          "name": "stderr",
          "text": [
            "100%|█████████▉| 2384/2388 [37:13<00:00,  4.85it/s, avg_loss=0.6926849531177705]"
          ]
        },
        {
          "output_type": "stream",
          "name": "stdout",
          "text": [
            "Val Accuracy: 0.5583061889250814\n"
          ]
        },
        {
          "output_type": "stream",
          "name": "stderr",
          "text": [
            "100%|██████████| 2388/2388 [38:29<00:00,  1.03it/s, avg_loss=0.6927032681615708]\n",
            "  4%|▍         | 96/2388 [00:20<07:56,  4.81it/s, avg_loss=0.6933493823120275]"
          ]
        },
        {
          "output_type": "stream",
          "name": "stdout",
          "text": [
            "Val Accuracy: 0.5203350395532806\n"
          ]
        },
        {
          "output_type": "stream",
          "name": "stderr",
          "text": [
            "  8%|▊         | 196/2388 [01:56<07:32,  4.84it/s, avg_loss=0.6910559659076826]"
          ]
        },
        {
          "output_type": "stream",
          "name": "stdout",
          "text": [
            "Val Accuracy: 0.5488134015821312\n"
          ]
        },
        {
          "output_type": "stream",
          "name": "stderr",
          "text": [
            " 12%|█▏        | 296/2388 [03:33<07:16,  4.79it/s, avg_loss=0.692692554558969] "
          ]
        },
        {
          "output_type": "stream",
          "name": "stdout",
          "text": [
            "Val Accuracy: 0.5515123313168916\n"
          ]
        },
        {
          "output_type": "stream",
          "name": "stderr",
          "text": [
            " 17%|█▋        | 396/2388 [05:09<06:53,  4.82it/s, avg_loss=0.6925010086607273]"
          ]
        },
        {
          "output_type": "stream",
          "name": "stdout",
          "text": [
            "Val Accuracy: 0.5488134015821312\n"
          ]
        },
        {
          "output_type": "stream",
          "name": "stderr",
          "text": [
            " 21%|██        | 496/2388 [06:45<06:28,  4.87it/s, avg_loss=0.6921806720420868]"
          ]
        },
        {
          "output_type": "stream",
          "name": "stdout",
          "text": [
            "Val Accuracy: 0.5463006049325267\n"
          ]
        },
        {
          "output_type": "stream",
          "name": "stderr",
          "text": [
            " 25%|██▍       | 596/2388 [08:21<06:10,  4.84it/s, avg_loss=0.6930704116821289]"
          ]
        },
        {
          "output_type": "stream",
          "name": "stdout",
          "text": [
            "Val Accuracy: 0.5422056770590973\n"
          ]
        },
        {
          "output_type": "stream",
          "name": "stderr",
          "text": [
            " 29%|██▉       | 696/2388 [09:57<05:47,  4.87it/s, avg_loss=0.6924256194954794]"
          ]
        },
        {
          "output_type": "stream",
          "name": "stdout",
          "text": [
            "Val Accuracy: 0.5438808748255002\n"
          ]
        },
        {
          "output_type": "stream",
          "name": "stderr",
          "text": [
            " 33%|███▎      | 796/2388 [11:33<05:29,  4.83it/s, avg_loss=0.6925082784823821]"
          ]
        },
        {
          "output_type": "stream",
          "name": "stdout",
          "text": [
            "Val Accuracy: 0.5271288971614705\n"
          ]
        },
        {
          "output_type": "stream",
          "name": "stderr",
          "text": [
            " 38%|███▊      | 896/2388 [13:09<05:07,  4.86it/s, avg_loss=0.6927304275857167]"
          ]
        },
        {
          "output_type": "stream",
          "name": "stdout",
          "text": [
            "Val Accuracy: 0.5253606328524896\n"
          ]
        },
        {
          "output_type": "stream",
          "name": "stderr",
          "text": [
            " 42%|████▏     | 996/2388 [14:45<04:45,  4.88it/s, avg_loss=0.693653848429501] "
          ]
        },
        {
          "output_type": "stream",
          "name": "stdout",
          "text": [
            "Val Accuracy: 0.5336435551419265\n"
          ]
        },
        {
          "output_type": "stream",
          "name": "stderr",
          "text": [
            " 46%|████▌     | 1096/2388 [16:21<04:24,  4.88it/s, avg_loss=0.6933502051758571]"
          ]
        },
        {
          "output_type": "stream",
          "name": "stdout",
          "text": [
            "Val Accuracy: 0.5341088878548161\n"
          ]
        },
        {
          "output_type": "stream",
          "name": "stderr",
          "text": [
            " 50%|█████     | 1196/2388 [17:57<04:06,  4.84it/s, avg_loss=0.6935400047099083]"
          ]
        },
        {
          "output_type": "stream",
          "name": "stdout",
          "text": [
            "Val Accuracy: 0.5262912982782689\n"
          ]
        },
        {
          "output_type": "stream",
          "name": "stderr",
          "text": [
            " 54%|█████▍    | 1296/2388 [19:33<03:49,  4.76it/s, avg_loss=0.6937818668765477]"
          ]
        },
        {
          "output_type": "stream",
          "name": "stdout",
          "text": [
            "Val Accuracy: 0.5390414146114472\n"
          ]
        },
        {
          "output_type": "stream",
          "name": "stderr",
          "text": [
            " 58%|█████▊    | 1396/2388 [21:10<03:24,  4.84it/s, avg_loss=0.6937697342914945]"
          ]
        },
        {
          "output_type": "stream",
          "name": "stdout",
          "text": [
            "Val Accuracy: 0.5380176826430898\n"
          ]
        },
        {
          "output_type": "stream",
          "name": "stderr",
          "text": [
            " 63%|██████▎   | 1496/2388 [22:46<03:07,  4.75it/s, avg_loss=0.693284117665861] "
          ]
        },
        {
          "output_type": "stream",
          "name": "stdout",
          "text": [
            "Val Accuracy: 0.5586784550953932\n"
          ]
        },
        {
          "output_type": "stream",
          "name": "stderr",
          "text": [
            " 67%|██████▋   | 1596/2388 [24:22<02:43,  4.86it/s, avg_loss=0.6929594939323837]"
          ]
        },
        {
          "output_type": "stream",
          "name": "stdout",
          "text": [
            "Val Accuracy: 0.5434155421126106\n"
          ]
        },
        {
          "output_type": "stream",
          "name": "stderr",
          "text": [
            " 71%|███████   | 1696/2388 [25:59<02:23,  4.84it/s, avg_loss=0.6929932235266506]"
          ]
        },
        {
          "output_type": "stream",
          "name": "stdout",
          "text": [
            "Val Accuracy: 0.5302000930665426\n"
          ]
        },
        {
          "output_type": "stream",
          "name": "stderr",
          "text": [
            " 75%|███████▌  | 1796/2388 [27:35<02:02,  4.83it/s, avg_loss=0.6927737624829653]"
          ]
        },
        {
          "output_type": "stream",
          "name": "stdout",
          "text": [
            "Val Accuracy: 0.539413680781759\n"
          ]
        },
        {
          "output_type": "stream",
          "name": "stderr",
          "text": [
            " 79%|███████▉  | 1896/2388 [29:12<01:41,  4.84it/s, avg_loss=0.6927355898639436]"
          ]
        },
        {
          "output_type": "stream",
          "name": "stdout",
          "text": [
            "Val Accuracy: 0.5375523499302001\n"
          ]
        },
        {
          "output_type": "stream",
          "name": "stderr",
          "text": [
            " 84%|████████▎ | 1996/2388 [30:48<01:21,  4.81it/s, avg_loss=0.6928856963507223]"
          ]
        },
        {
          "output_type": "stream",
          "name": "stdout",
          "text": [
            "Val Accuracy: 0.5553280595625872\n"
          ]
        },
        {
          "output_type": "stream",
          "name": "stderr",
          "text": [
            " 88%|████████▊ | 2096/2388 [32:23<01:00,  4.83it/s, avg_loss=0.6930606547115983]"
          ]
        },
        {
          "output_type": "stream",
          "name": "stdout",
          "text": [
            "Val Accuracy: 0.5489995346672871\n"
          ]
        },
        {
          "output_type": "stream",
          "name": "stderr",
          "text": [
            " 92%|█████████▏| 2196/2388 [33:59<00:39,  4.84it/s, avg_loss=0.6928180882102748]"
          ]
        },
        {
          "output_type": "stream",
          "name": "stdout",
          "text": [
            "Val Accuracy: 0.5441600744532341\n"
          ]
        },
        {
          "output_type": "stream",
          "name": "stderr",
          "text": [
            " 96%|█████████▌| 2296/2388 [35:35<00:18,  4.87it/s, avg_loss=0.6928217686618677]"
          ]
        },
        {
          "output_type": "stream",
          "name": "stdout",
          "text": [
            "Val Accuracy: 0.5445323406235458\n"
          ]
        },
        {
          "output_type": "stream",
          "name": "stderr",
          "text": [
            "100%|██████████| 2388/2388 [37:09<00:00,  1.07it/s, avg_loss=0.6931901404156757]\n",
            "  0%|          | 8/2388 [00:01<08:14,  4.82it/s, avg_loss=0.6804860962761773]"
          ]
        },
        {
          "output_type": "stream",
          "name": "stdout",
          "text": [
            "Val Accuracy: 0.5493718008375988\n"
          ]
        },
        {
          "output_type": "stream",
          "name": "stderr",
          "text": [
            "  5%|▍         | 108/2388 [01:37<07:48,  4.87it/s, avg_loss=0.693276422833084] "
          ]
        },
        {
          "output_type": "stream",
          "name": "stdout",
          "text": [
            "Val Accuracy: 0.5505816658911121\n"
          ]
        },
        {
          "output_type": "stream",
          "name": "stderr",
          "text": [
            "  9%|▊         | 208/2388 [03:14<07:30,  4.84it/s, avg_loss=0.6909133968741129]"
          ]
        },
        {
          "output_type": "stream",
          "name": "stdout",
          "text": [
            "Val Accuracy: 0.5604467194043742\n"
          ]
        },
        {
          "output_type": "stream",
          "name": "stderr",
          "text": [
            " 13%|█▎        | 308/2388 [04:50<07:14,  4.79it/s, avg_loss=0.6882577162344479]"
          ]
        },
        {
          "output_type": "stream",
          "name": "stdout",
          "text": [
            "Val Accuracy: 0.5454630060493253\n"
          ]
        },
        {
          "output_type": "stream",
          "name": "stderr",
          "text": [
            " 17%|█▋        | 408/2388 [06:26<06:49,  4.84it/s, avg_loss=0.689128211191639] "
          ]
        },
        {
          "output_type": "stream",
          "name": "stdout",
          "text": [
            "Val Accuracy: 0.5560725919032108\n"
          ]
        },
        {
          "output_type": "stream",
          "name": "stderr",
          "text": [
            " 21%|██▏       | 508/2388 [08:03<06:36,  4.75it/s, avg_loss=0.6900383491647267]"
          ]
        },
        {
          "output_type": "stream",
          "name": "stdout",
          "text": [
            "Val Accuracy: 0.5549557933922755\n"
          ]
        },
        {
          "output_type": "stream",
          "name": "stderr",
          "text": [
            " 25%|██▌       | 608/2388 [09:39<06:08,  4.84it/s, avg_loss=0.6904460415855809]"
          ]
        },
        {
          "output_type": "stream",
          "name": "stdout",
          "text": [
            "Val Accuracy: 0.549092601209865\n"
          ]
        },
        {
          "output_type": "stream",
          "name": "stderr",
          "text": [
            " 30%|██▉       | 708/2388 [11:15<05:49,  4.81it/s, avg_loss=0.6919949649923779]"
          ]
        },
        {
          "output_type": "stream",
          "name": "stdout",
          "text": [
            "Val Accuracy: 0.5563517915309446\n"
          ]
        },
        {
          "output_type": "stream",
          "name": "stderr",
          "text": [
            " 34%|███▍      | 808/2388 [12:52<05:30,  4.77it/s, avg_loss=0.6922221482905233]"
          ]
        },
        {
          "output_type": "stream",
          "name": "stdout",
          "text": [
            "Val Accuracy: 0.554211261051652\n"
          ]
        },
        {
          "output_type": "stream",
          "name": "stderr",
          "text": [
            " 38%|███▊      | 908/2388 [14:28<05:10,  4.77it/s, avg_loss=0.6920188808336247]"
          ]
        },
        {
          "output_type": "stream",
          "name": "stdout",
          "text": [
            "Val Accuracy: 0.5515123313168916\n"
          ]
        },
        {
          "output_type": "stream",
          "name": "stderr",
          "text": [
            " 42%|████▏     | 1008/2388 [16:05<04:48,  4.78it/s, avg_loss=0.6920697219426143]"
          ]
        },
        {
          "output_type": "stream",
          "name": "stdout",
          "text": [
            "Val Accuracy: 0.5571893904141462\n"
          ]
        },
        {
          "output_type": "stream",
          "name": "stderr",
          "text": [
            " 46%|████▋     | 1108/2388 [17:41<04:24,  4.83it/s, avg_loss=0.6919007695290933]"
          ]
        },
        {
          "output_type": "stream",
          "name": "stdout",
          "text": [
            "Val Accuracy: 0.5545835272219637\n"
          ]
        },
        {
          "output_type": "stream",
          "name": "stderr",
          "text": [
            " 51%|█████     | 1208/2388 [19:18<04:13,  4.65it/s, avg_loss=0.6916099992835689]"
          ]
        },
        {
          "output_type": "stream",
          "name": "stdout",
          "text": [
            "Val Accuracy: 0.5504885993485342\n"
          ]
        },
        {
          "output_type": "stream",
          "name": "stderr",
          "text": [
            " 55%|█████▍    | 1308/2388 [20:53<03:41,  4.89it/s, avg_loss=0.6918215834976063]"
          ]
        },
        {
          "output_type": "stream",
          "name": "stdout",
          "text": [
            "Val Accuracy: 0.5534667287110284\n"
          ]
        },
        {
          "output_type": "stream",
          "name": "stderr",
          "text": [
            " 59%|█████▉    | 1408/2388 [22:29<03:23,  4.83it/s, avg_loss=0.6916423754712383]"
          ]
        },
        {
          "output_type": "stream",
          "name": "stdout",
          "text": [
            "Val Accuracy: 0.5489995346672871\n"
          ]
        },
        {
          "output_type": "stream",
          "name": "stderr",
          "text": [
            " 63%|██████▎   | 1508/2388 [24:05<03:00,  4.87it/s, avg_loss=0.6915273894293565]"
          ]
        },
        {
          "output_type": "stream",
          "name": "stdout",
          "text": [
            "Val Accuracy: 0.5550488599348534\n"
          ]
        },
        {
          "output_type": "stream",
          "name": "stderr",
          "text": [
            " 67%|██████▋   | 1608/2388 [25:41<02:42,  4.80it/s, avg_loss=0.6915412337013918]"
          ]
        },
        {
          "output_type": "stream",
          "name": "stdout",
          "text": [
            "Val Accuracy: 0.5508608655188459\n"
          ]
        },
        {
          "output_type": "stream",
          "name": "stderr",
          "text": [
            " 72%|███████▏  | 1708/2388 [27:17<02:21,  4.81it/s, avg_loss=0.6915240924284429]"
          ]
        },
        {
          "output_type": "stream",
          "name": "stdout",
          "text": [
            "Val Accuracy: 0.5637040483946021\n"
          ]
        },
        {
          "output_type": "stream",
          "name": "stderr",
          "text": [
            " 76%|███████▌  | 1808/2388 [28:53<02:00,  4.83it/s, avg_loss=0.6912725167817474]"
          ]
        },
        {
          "output_type": "stream",
          "name": "stdout",
          "text": [
            "Val Accuracy: 0.5280595625872498\n"
          ]
        },
        {
          "output_type": "stream",
          "name": "stderr",
          "text": [
            " 80%|███████▉  | 1908/2388 [30:29<01:39,  4.84it/s, avg_loss=0.691678693558047] "
          ]
        },
        {
          "output_type": "stream",
          "name": "stdout",
          "text": [
            "Val Accuracy: 0.5499302000930666\n"
          ]
        },
        {
          "output_type": "stream",
          "name": "stderr",
          "text": [
            " 84%|████████▍ | 2008/2388 [32:05<01:19,  4.79it/s, avg_loss=0.6917998087886793]"
          ]
        },
        {
          "output_type": "stream",
          "name": "stdout",
          "text": [
            "Val Accuracy: 0.5637040483946021\n"
          ]
        },
        {
          "output_type": "stream",
          "name": "stderr",
          "text": [
            " 88%|████████▊ | 2108/2388 [33:40<00:57,  4.89it/s, avg_loss=0.6917078456306638]"
          ]
        },
        {
          "output_type": "stream",
          "name": "stdout",
          "text": [
            "Val Accuracy: 0.5497440670079107\n"
          ]
        },
        {
          "output_type": "stream",
          "name": "stderr",
          "text": [
            " 92%|█████████▏| 2208/2388 [35:16<00:37,  4.86it/s, avg_loss=0.6918454162132259]"
          ]
        },
        {
          "output_type": "stream",
          "name": "stdout",
          "text": [
            "Val Accuracy: 0.5570032573289903\n"
          ]
        },
        {
          "output_type": "stream",
          "name": "stderr",
          "text": [
            " 97%|█████████▋| 2308/2388 [36:52<00:16,  4.81it/s, avg_loss=0.6916781825748756]"
          ]
        },
        {
          "output_type": "stream",
          "name": "stdout",
          "text": [
            "Val Accuracy: 0.5568171242438343\n"
          ]
        },
        {
          "output_type": "stream",
          "name": "stderr",
          "text": [
            "100%|██████████| 2388/2388 [38:24<00:00,  1.04it/s, avg_loss=0.6913832876850013]\n",
            "  1%|          | 20/2388 [00:04<08:06,  4.86it/s, avg_loss=0.6746274261247545]"
          ]
        },
        {
          "output_type": "stream",
          "name": "stdout",
          "text": [
            "Val Accuracy: 0.5359702187063751\n"
          ]
        },
        {
          "output_type": "stream",
          "name": "stderr",
          "text": [
            "  5%|▌         | 120/2388 [01:40<07:45,  4.87it/s, avg_loss=0.6864068547556222]"
          ]
        },
        {
          "output_type": "stream",
          "name": "stdout",
          "text": [
            "Val Accuracy: 0.5576547231270358\n"
          ]
        },
        {
          "output_type": "stream",
          "name": "stderr",
          "text": [
            "  9%|▉         | 220/2388 [03:16<07:28,  4.84it/s, avg_loss=0.6889590181376599]"
          ]
        },
        {
          "output_type": "stream",
          "name": "stdout",
          "text": [
            "Val Accuracy: 0.5515123313168916\n"
          ]
        },
        {
          "output_type": "stream",
          "name": "stderr",
          "text": [
            " 13%|█▎        | 320/2388 [04:51<07:02,  4.90it/s, avg_loss=0.6895558249170535]"
          ]
        },
        {
          "output_type": "stream",
          "name": "stdout",
          "text": [
            "Val Accuracy: 0.5557003257328991\n"
          ]
        },
        {
          "output_type": "stream",
          "name": "stderr",
          "text": [
            " 18%|█▊        | 420/2388 [06:27<06:45,  4.86it/s, avg_loss=0.690294694872197]"
          ]
        },
        {
          "output_type": "stream",
          "name": "stdout",
          "text": [
            "Val Accuracy: 0.5619357840856212\n"
          ]
        },
        {
          "output_type": "stream",
          "name": "stderr",
          "text": [
            " 22%|██▏       | 520/2388 [08:04<06:29,  4.80it/s, avg_loss=0.6913124119251566]"
          ]
        },
        {
          "output_type": "stream",
          "name": "stdout",
          "text": [
            "Val Accuracy: 0.5631456491391345\n"
          ]
        },
        {
          "output_type": "stream",
          "name": "stderr",
          "text": [
            " 26%|██▌       | 620/2388 [09:40<06:07,  4.81it/s, avg_loss=0.6921189022332958]"
          ]
        },
        {
          "output_type": "stream",
          "name": "stdout",
          "text": [
            "Val Accuracy: 0.545928338762215\n"
          ]
        },
        {
          "output_type": "stream",
          "name": "stderr",
          "text": [
            " 30%|███       | 720/2388 [11:17<05:50,  4.76it/s, avg_loss=0.6922786350719806]"
          ]
        },
        {
          "output_type": "stream",
          "name": "stdout",
          "text": [
            "Val Accuracy: 0.5552349930200093\n"
          ]
        },
        {
          "output_type": "stream",
          "name": "stderr",
          "text": [
            " 34%|███▍      | 820/2388 [12:53<05:25,  4.82it/s, avg_loss=0.692292154343497] "
          ]
        },
        {
          "output_type": "stream",
          "name": "stdout",
          "text": [
            "Val Accuracy: 0.5576547231270358\n"
          ]
        },
        {
          "output_type": "stream",
          "name": "stderr",
          "text": [
            " 39%|███▊      | 920/2388 [14:30<05:05,  4.80it/s, avg_loss=0.692236368676868] "
          ]
        },
        {
          "output_type": "stream",
          "name": "stdout",
          "text": [
            "Val Accuracy: 0.5559795253606329\n"
          ]
        },
        {
          "output_type": "stream",
          "name": "stderr",
          "text": [
            " 43%|████▎     | 1020/2388 [16:06<04:44,  4.80it/s, avg_loss=0.6926234094800024]"
          ]
        },
        {
          "output_type": "stream",
          "name": "stdout",
          "text": [
            "Val Accuracy: 0.5070265239646348\n"
          ]
        },
        {
          "output_type": "stream",
          "name": "stderr",
          "text": [
            " 47%|████▋     | 1120/2388 [17:43<04:24,  4.80it/s, avg_loss=0.6933624853415749]"
          ]
        },
        {
          "output_type": "stream",
          "name": "stdout",
          "text": [
            "Val Accuracy: 0.5632387156817125\n"
          ]
        },
        {
          "output_type": "stream",
          "name": "stderr",
          "text": [
            " 51%|█████     | 1220/2388 [19:19<04:03,  4.79it/s, avg_loss=0.6931356757903665]"
          ]
        },
        {
          "output_type": "stream",
          "name": "stdout",
          "text": [
            "Val Accuracy: 0.5550488599348534\n"
          ]
        },
        {
          "output_type": "stream",
          "name": "stderr",
          "text": [
            " 55%|█████▌    | 1320/2388 [20:56<03:41,  4.81it/s, avg_loss=0.6925666987399636]"
          ]
        },
        {
          "output_type": "stream",
          "name": "stdout",
          "text": [
            "Val Accuracy: 0.5569101907864122\n"
          ]
        },
        {
          "output_type": "stream",
          "name": "stderr",
          "text": [
            " 59%|█████▉    | 1420/2388 [22:31<03:23,  4.75it/s, avg_loss=0.6927598424984652]"
          ]
        },
        {
          "output_type": "stream",
          "name": "stdout",
          "text": [
            "Val Accuracy: 0.5580269892973476\n"
          ]
        },
        {
          "output_type": "stream",
          "name": "stderr",
          "text": [
            " 64%|██████▎   | 1520/2388 [24:07<02:59,  4.83it/s, avg_loss=0.6926783808432936]"
          ]
        },
        {
          "output_type": "stream",
          "name": "stdout",
          "text": [
            "Val Accuracy: 0.5631456491391345\n"
          ]
        },
        {
          "output_type": "stream",
          "name": "stderr",
          "text": [
            " 68%|██████▊   | 1620/2388 [25:44<02:39,  4.81it/s, avg_loss=0.6919263245734368]"
          ]
        },
        {
          "output_type": "stream",
          "name": "stdout",
          "text": [
            "Val Accuracy: 0.5517915309446254\n"
          ]
        },
        {
          "output_type": "stream",
          "name": "stderr",
          "text": [
            " 72%|███████▏  | 1720/2388 [27:19<02:19,  4.80it/s, avg_loss=0.6909792386190202]"
          ]
        },
        {
          "output_type": "stream",
          "name": "stdout",
          "text": [
            "Val Accuracy: 0.5462075383899488\n"
          ]
        },
        {
          "output_type": "stream",
          "name": "stderr",
          "text": [
            " 76%|███████▌  | 1820/2388 [28:55<01:58,  4.81it/s, avg_loss=0.6908550786160297]"
          ]
        },
        {
          "output_type": "stream",
          "name": "stdout",
          "text": [
            "Val Accuracy: 0.5563517915309446\n"
          ]
        },
        {
          "output_type": "stream",
          "name": "stderr",
          "text": [
            " 80%|████████  | 1920/2388 [30:32<01:36,  4.86it/s, avg_loss=0.6910834206633739]"
          ]
        },
        {
          "output_type": "stream",
          "name": "stdout",
          "text": [
            "Val Accuracy: 0.5600744532340624\n"
          ]
        },
        {
          "output_type": "stream",
          "name": "stderr",
          "text": [
            " 85%|████████▍ | 2020/2388 [32:07<01:15,  4.86it/s, avg_loss=0.6907333318754212]"
          ]
        },
        {
          "output_type": "stream",
          "name": "stdout",
          "text": [
            "Val Accuracy: 0.5284318287575617\n"
          ]
        },
        {
          "output_type": "stream",
          "name": "stderr",
          "text": [
            " 89%|████████▉ | 2120/2388 [33:43<00:55,  4.85it/s, avg_loss=0.6909240383913021]"
          ]
        },
        {
          "output_type": "stream",
          "name": "stdout",
          "text": [
            "Val Accuracy: 0.5527221963704049\n"
          ]
        },
        {
          "output_type": "stream",
          "name": "stderr",
          "text": [
            " 93%|█████████▎| 2220/2388 [35:19<00:34,  4.87it/s, avg_loss=0.6908463898514478]"
          ]
        },
        {
          "output_type": "stream",
          "name": "stdout",
          "text": [
            "Val Accuracy: 0.5560725919032108\n"
          ]
        },
        {
          "output_type": "stream",
          "name": "stderr",
          "text": [
            " 97%|█████████▋| 2320/2388 [36:55<00:13,  4.87it/s, avg_loss=0.6908341840853315]"
          ]
        },
        {
          "output_type": "stream",
          "name": "stdout",
          "text": [
            "Val Accuracy: 0.5508608655188459\n"
          ]
        },
        {
          "output_type": "stream",
          "name": "stderr",
          "text": [
            "100%|██████████| 2388/2388 [38:24<00:00,  1.04it/s, avg_loss=0.690832185310934]\n",
            "  1%|▏         | 32/2388 [00:06<08:04,  4.86it/s, avg_loss=0.678939680258433] "
          ]
        },
        {
          "output_type": "stream",
          "name": "stdout",
          "text": [
            "Val Accuracy: 0.5654723127035831\n"
          ]
        },
        {
          "output_type": "stream",
          "name": "stderr",
          "text": [
            "  6%|▌         | 132/2388 [01:42<07:46,  4.83it/s, avg_loss=0.6825000858844671]"
          ]
        },
        {
          "output_type": "stream",
          "name": "stdout",
          "text": [
            "Val Accuracy: 0.5644485807352256\n"
          ]
        },
        {
          "output_type": "stream",
          "name": "stderr",
          "text": [
            " 10%|▉         | 232/2388 [03:18<07:32,  4.76it/s, avg_loss=0.6852415971489935]"
          ]
        },
        {
          "output_type": "stream",
          "name": "stdout",
          "text": [
            "Val Accuracy: 0.5601675197766403\n"
          ]
        },
        {
          "output_type": "stream",
          "name": "stderr",
          "text": [
            " 14%|█▍        | 332/2388 [04:54<07:07,  4.81it/s, avg_loss=0.6855739637896106]"
          ]
        },
        {
          "output_type": "stream",
          "name": "stdout",
          "text": [
            "Val Accuracy: 0.5634248487668683\n"
          ]
        },
        {
          "output_type": "stream",
          "name": "stderr",
          "text": [
            " 18%|█▊        | 432/2388 [06:30<06:44,  4.83it/s, avg_loss=0.6881371106066274]"
          ]
        },
        {
          "output_type": "stream",
          "name": "stdout",
          "text": [
            "Val Accuracy: 0.5476035365286179\n"
          ]
        },
        {
          "output_type": "stream",
          "name": "stderr",
          "text": [
            " 22%|██▏       | 532/2388 [08:05<06:18,  4.91it/s, avg_loss=0.6886326776883839]"
          ]
        },
        {
          "output_type": "stream",
          "name": "stdout",
          "text": [
            "Val Accuracy: 0.5534667287110284\n"
          ]
        },
        {
          "output_type": "stream",
          "name": "stderr",
          "text": [
            " 26%|██▋       | 632/2388 [09:41<06:02,  4.84it/s, avg_loss=0.6882269795848671]"
          ]
        },
        {
          "output_type": "stream",
          "name": "stdout",
          "text": [
            "Val Accuracy: 0.5530013959981387\n"
          ]
        },
        {
          "output_type": "stream",
          "name": "stderr",
          "text": [
            " 31%|███       | 732/2388 [11:17<05:41,  4.85it/s, avg_loss=0.6878078862882409]"
          ]
        },
        {
          "output_type": "stream",
          "name": "stdout",
          "text": [
            "Val Accuracy: 0.5710563052582597\n"
          ]
        },
        {
          "output_type": "stream",
          "name": "stderr",
          "text": [
            " 35%|███▍      | 832/2388 [12:53<05:26,  4.77it/s, avg_loss=0.6868027943093665]"
          ]
        },
        {
          "output_type": "stream",
          "name": "stdout",
          "text": [
            "Val Accuracy: 0.5674267100977198\n"
          ]
        },
        {
          "output_type": "stream",
          "name": "stderr",
          "text": [
            " 39%|███▉      | 932/2388 [14:30<05:01,  4.84it/s, avg_loss=0.6878152570157189]"
          ]
        },
        {
          "output_type": "stream",
          "name": "stdout",
          "text": [
            "Val Accuracy: 0.5634248487668683\n"
          ]
        },
        {
          "output_type": "stream",
          "name": "stderr",
          "text": [
            " 43%|████▎     | 1032/2388 [16:06<04:40,  4.84it/s, avg_loss=0.6884378771237228]"
          ]
        },
        {
          "output_type": "stream",
          "name": "stdout",
          "text": [
            "Val Accuracy: 0.5538389948813401\n"
          ]
        },
        {
          "output_type": "stream",
          "name": "stderr",
          "text": [
            " 47%|████▋     | 1132/2388 [17:43<04:23,  4.77it/s, avg_loss=0.6890725527626166]"
          ]
        },
        {
          "output_type": "stream",
          "name": "stdout",
          "text": [
            "Val Accuracy: 0.5596091205211726\n"
          ]
        },
        {
          "output_type": "stream",
          "name": "stderr",
          "text": [
            " 52%|█████▏    | 1232/2388 [19:19<04:03,  4.75it/s, avg_loss=0.6882875160965993]"
          ]
        },
        {
          "output_type": "stream",
          "name": "stdout",
          "text": [
            "Val Accuracy: 0.5783154955793393\n"
          ]
        },
        {
          "output_type": "stream",
          "name": "stderr",
          "text": [
            " 56%|█████▌    | 1332/2388 [20:55<03:39,  4.80it/s, avg_loss=0.6886296115329368]"
          ]
        },
        {
          "output_type": "stream",
          "name": "stdout",
          "text": [
            "Val Accuracy: 0.5586784550953932\n"
          ]
        },
        {
          "output_type": "stream",
          "name": "stderr",
          "text": [
            " 60%|█████▉    | 1432/2388 [22:32<03:19,  4.80it/s, avg_loss=0.688363716474215] "
          ]
        },
        {
          "output_type": "stream",
          "name": "stdout",
          "text": [
            "Val Accuracy: 0.568822708236389\n"
          ]
        },
        {
          "output_type": "stream",
          "name": "stderr",
          "text": [
            " 64%|██████▍   | 1532/2388 [24:09<02:57,  4.83it/s, avg_loss=0.688527448886528] "
          ]
        },
        {
          "output_type": "stream",
          "name": "stdout",
          "text": [
            "Val Accuracy: 0.5648208469055375\n"
          ]
        },
        {
          "output_type": "stream",
          "name": "stderr",
          "text": [
            " 68%|██████▊   | 1632/2388 [25:45<02:39,  4.74it/s, avg_loss=0.6875535972411838]"
          ]
        },
        {
          "output_type": "stream",
          "name": "stdout",
          "text": [
            "Val Accuracy: 0.5674267100977198\n"
          ]
        },
        {
          "output_type": "stream",
          "name": "stderr",
          "text": [
            " 73%|███████▎  | 1732/2388 [27:21<02:17,  4.78it/s, avg_loss=0.6874237659000897]"
          ]
        },
        {
          "output_type": "stream",
          "name": "stdout",
          "text": [
            "Val Accuracy: 0.5712424383434156\n"
          ]
        },
        {
          "output_type": "stream",
          "name": "stderr",
          "text": [
            " 77%|███████▋  | 1832/2388 [28:58<01:57,  4.75it/s, avg_loss=0.6878306423778815]"
          ]
        },
        {
          "output_type": "stream",
          "name": "stdout",
          "text": [
            "Val Accuracy: 0.5366216845044207\n"
          ]
        },
        {
          "output_type": "stream",
          "name": "stderr",
          "text": [
            " 81%|████████  | 1932/2388 [30:35<01:35,  4.77it/s, avg_loss=0.6876416139138898]"
          ]
        },
        {
          "output_type": "stream",
          "name": "stdout",
          "text": [
            "Val Accuracy: 0.5538389948813401\n"
          ]
        },
        {
          "output_type": "stream",
          "name": "stderr",
          "text": [
            " 85%|████████▌ | 2032/2388 [32:11<01:13,  4.82it/s, avg_loss=0.6877465902205119]"
          ]
        },
        {
          "output_type": "stream",
          "name": "stdout",
          "text": [
            "Val Accuracy: 0.5472312703583062\n"
          ]
        },
        {
          "output_type": "stream",
          "name": "stderr",
          "text": [
            " 89%|████████▉ | 2132/2388 [33:48<00:52,  4.84it/s, avg_loss=0.6875163919759143]"
          ]
        },
        {
          "output_type": "stream",
          "name": "stdout",
          "text": [
            "Val Accuracy: 0.539320614239181\n"
          ]
        },
        {
          "output_type": "stream",
          "name": "stderr",
          "text": [
            " 93%|█████████▎| 2232/2388 [35:24<00:32,  4.80it/s, avg_loss=0.6873419553882276]"
          ]
        },
        {
          "output_type": "stream",
          "name": "stdout",
          "text": [
            "Val Accuracy: 0.5716147045137273\n"
          ]
        },
        {
          "output_type": "stream",
          "name": "stderr",
          "text": [
            " 98%|█████████▊| 2332/2388 [37:01<00:11,  4.74it/s, avg_loss=0.6872711825718248]"
          ]
        },
        {
          "output_type": "stream",
          "name": "stdout",
          "text": [
            "Val Accuracy: 0.5706840390879478\n"
          ]
        },
        {
          "output_type": "stream",
          "name": "stderr",
          "text": [
            "100%|██████████| 2388/2388 [38:28<00:00,  1.03it/s, avg_loss=0.6864648995237734]\n",
            "  2%|▏         | 44/2388 [00:09<08:12,  4.76it/s, avg_loss=0.6902889794773526]"
          ]
        },
        {
          "output_type": "stream",
          "name": "stdout",
          "text": [
            "Val Accuracy: 0.5663099115867846\n"
          ]
        },
        {
          "output_type": "stream",
          "name": "stderr",
          "text": [
            "  6%|▌         | 144/2388 [01:45<07:43,  4.84it/s, avg_loss=0.6904308865810262]"
          ]
        },
        {
          "output_type": "stream",
          "name": "stdout",
          "text": [
            "Val Accuracy: 0.5781293624941833\n"
          ]
        },
        {
          "output_type": "stream",
          "name": "stderr",
          "text": [
            " 10%|█         | 244/2388 [03:21<07:21,  4.86it/s, avg_loss=0.6941648193768093]"
          ]
        },
        {
          "output_type": "stream",
          "name": "stdout",
          "text": [
            "Val Accuracy: 0.5673336435551419\n"
          ]
        },
        {
          "output_type": "stream",
          "name": "stderr",
          "text": [
            " 14%|█▍        | 344/2388 [04:57<07:03,  4.83it/s, avg_loss=0.690854487384575] "
          ]
        },
        {
          "output_type": "stream",
          "name": "stdout",
          "text": [
            "Val Accuracy: 0.5514192647743137\n"
          ]
        },
        {
          "output_type": "stream",
          "name": "stderr",
          "text": [
            " 19%|█▊        | 444/2388 [06:33<06:37,  4.89it/s, avg_loss=0.6905753773249937]"
          ]
        },
        {
          "output_type": "stream",
          "name": "stdout",
          "text": [
            "Val Accuracy: 0.5734760353652861\n"
          ]
        },
        {
          "output_type": "stream",
          "name": "stderr",
          "text": [
            " 23%|██▎       | 544/2388 [08:09<06:18,  4.88it/s, avg_loss=0.6893028123663106]"
          ]
        },
        {
          "output_type": "stream",
          "name": "stdout",
          "text": [
            "Val Accuracy: 0.5664960446719405\n"
          ]
        },
        {
          "output_type": "stream",
          "name": "stderr",
          "text": [
            " 27%|██▋       | 644/2388 [09:45<06:05,  4.77it/s, avg_loss=0.6887570900510448]"
          ]
        },
        {
          "output_type": "stream",
          "name": "stdout",
          "text": [
            "Val Accuracy: 0.5942298743601675\n"
          ]
        },
        {
          "output_type": "stream",
          "name": "stderr",
          "text": [
            " 31%|███       | 744/2388 [11:22<05:42,  4.80it/s, avg_loss=0.6884660635218525]"
          ]
        },
        {
          "output_type": "stream",
          "name": "stdout",
          "text": [
            "Val Accuracy: 0.5598883201489064\n"
          ]
        },
        {
          "output_type": "stream",
          "name": "stderr",
          "text": [
            " 35%|███▌      | 844/2388 [12:58<05:23,  4.77it/s, avg_loss=0.6877954302454842]"
          ]
        },
        {
          "output_type": "stream",
          "name": "stdout",
          "text": [
            "Val Accuracy: 0.5842717543043275\n"
          ]
        },
        {
          "output_type": "stream",
          "name": "stderr",
          "text": [
            " 40%|███▉      | 944/2388 [14:35<05:01,  4.80it/s, avg_loss=0.6878840048477133]"
          ]
        },
        {
          "output_type": "stream",
          "name": "stdout",
          "text": [
            "Val Accuracy: 0.5674267100977198\n"
          ]
        },
        {
          "output_type": "stream",
          "name": "stderr",
          "text": [
            " 44%|████▎     | 1044/2388 [16:11<04:38,  4.83it/s, avg_loss=0.6872159117716922]"
          ]
        },
        {
          "output_type": "stream",
          "name": "stdout",
          "text": [
            "Val Accuracy: 0.5723592368543509\n"
          ]
        },
        {
          "output_type": "stream",
          "name": "stderr",
          "text": [
            " 48%|████▊     | 1144/2388 [17:47<04:13,  4.90it/s, avg_loss=0.6863796372080474]"
          ]
        },
        {
          "output_type": "stream",
          "name": "stdout",
          "text": [
            "Val Accuracy: 0.5810144253140996\n"
          ]
        },
        {
          "output_type": "stream",
          "name": "stderr",
          "text": [
            " 52%|█████▏    | 1244/2388 [19:23<03:58,  4.80it/s, avg_loss=0.685631551680316]"
          ]
        },
        {
          "output_type": "stream",
          "name": "stdout",
          "text": [
            "Val Accuracy: 0.5810144253140996\n"
          ]
        },
        {
          "output_type": "stream",
          "name": "stderr",
          "text": [
            " 56%|█████▋    | 1344/2388 [21:00<03:35,  4.84it/s, avg_loss=0.6853378094926643]"
          ]
        },
        {
          "output_type": "stream",
          "name": "stdout",
          "text": [
            "Val Accuracy: 0.5602605863192183\n"
          ]
        },
        {
          "output_type": "stream",
          "name": "stderr",
          "text": [
            " 60%|██████    | 1444/2388 [22:36<03:15,  4.84it/s, avg_loss=0.684822126346476]"
          ]
        },
        {
          "output_type": "stream",
          "name": "stdout",
          "text": [
            "Val Accuracy: 0.5908794788273616\n"
          ]
        },
        {
          "output_type": "stream",
          "name": "stderr",
          "text": [
            " 65%|██████▍   | 1544/2388 [24:12<02:56,  4.77it/s, avg_loss=0.6842911127894442]"
          ]
        },
        {
          "output_type": "stream",
          "name": "stdout",
          "text": [
            "Val Accuracy: 0.5800837598883202\n"
          ]
        },
        {
          "output_type": "stream",
          "name": "stderr",
          "text": [
            " 69%|██████▉   | 1644/2388 [25:48<02:35,  4.79it/s, avg_loss=0.6845418721528039]"
          ]
        },
        {
          "output_type": "stream",
          "name": "stdout",
          "text": [
            "Val Accuracy: 0.5678920428106096\n"
          ]
        },
        {
          "output_type": "stream",
          "name": "stderr",
          "text": [
            " 73%|███████▎  | 1744/2388 [27:25<02:15,  4.75it/s, avg_loss=0.6850382953967611]"
          ]
        },
        {
          "output_type": "stream",
          "name": "stdout",
          "text": [
            "Val Accuracy: 0.5699395067473243\n"
          ]
        },
        {
          "output_type": "stream",
          "name": "stderr",
          "text": [
            " 77%|███████▋  | 1844/2388 [29:01<01:53,  4.79it/s, avg_loss=0.6848387617244307]"
          ]
        },
        {
          "output_type": "stream",
          "name": "stdout",
          "text": [
            "Val Accuracy: 0.5867845509539321\n"
          ]
        },
        {
          "output_type": "stream",
          "name": "stderr",
          "text": [
            " 81%|████████▏ | 1944/2388 [30:37<01:34,  4.71it/s, avg_loss=0.6846037507976542]"
          ]
        },
        {
          "output_type": "stream",
          "name": "stdout",
          "text": [
            "Val Accuracy: 0.5902280130293159\n"
          ]
        },
        {
          "output_type": "stream",
          "name": "stderr",
          "text": [
            " 86%|████████▌ | 2044/2388 [32:13<01:11,  4.82it/s, avg_loss=0.6849619167649659]"
          ]
        },
        {
          "output_type": "stream",
          "name": "stdout",
          "text": [
            "Val Accuracy: 0.5616565844578874\n"
          ]
        },
        {
          "output_type": "stream",
          "name": "stderr",
          "text": [
            " 90%|████████▉ | 2144/2388 [33:49<00:51,  4.78it/s, avg_loss=0.684778594692826] "
          ]
        },
        {
          "output_type": "stream",
          "name": "stdout",
          "text": [
            "Val Accuracy: 0.5840856212191717\n"
          ]
        },
        {
          "output_type": "stream",
          "name": "stderr",
          "text": [
            " 94%|█████████▍| 2244/2388 [35:26<00:30,  4.80it/s, avg_loss=0.6848743855554967]"
          ]
        },
        {
          "output_type": "stream",
          "name": "stdout",
          "text": [
            "Val Accuracy: 0.5768264308980922\n"
          ]
        },
        {
          "output_type": "stream",
          "name": "stderr",
          "text": [
            " 98%|█████████▊| 2344/2388 [37:02<00:09,  4.83it/s, avg_loss=0.684975842016338] "
          ]
        },
        {
          "output_type": "stream",
          "name": "stdout",
          "text": [
            "Val Accuracy: 0.5644485807352256\n"
          ]
        },
        {
          "output_type": "stream",
          "name": "stderr",
          "text": [
            "100%|██████████| 2388/2388 [38:26<00:00,  1.04it/s, avg_loss=0.6849968820011596]\n",
            "  2%|▏         | 56/2388 [00:11<08:04,  4.81it/s, avg_loss=0.6757223846619589]"
          ]
        },
        {
          "output_type": "stream",
          "name": "stdout",
          "text": [
            "Val Accuracy: 0.5604467194043742\n"
          ]
        },
        {
          "output_type": "stream",
          "name": "stderr",
          "text": [
            "  7%|▋         | 156/2388 [01:47<07:41,  4.84it/s, avg_loss=0.6849942006123294]"
          ]
        },
        {
          "output_type": "stream",
          "name": "stdout",
          "text": [
            "Val Accuracy: 0.5882736156351791\n"
          ]
        },
        {
          "output_type": "stream",
          "name": "stderr",
          "text": [
            " 11%|█         | 256/2388 [03:23<07:17,  4.88it/s, avg_loss=0.6823643383348962]"
          ]
        },
        {
          "output_type": "stream",
          "name": "stdout",
          "text": [
            "Val Accuracy: 0.59683573755235\n"
          ]
        },
        {
          "output_type": "stream",
          "name": "stderr",
          "text": [
            " 15%|█▍        | 356/2388 [04:59<06:59,  4.84it/s, avg_loss=0.6822576658064577]"
          ]
        },
        {
          "output_type": "stream",
          "name": "stdout",
          "text": [
            "Val Accuracy: 0.5863192182410424\n"
          ]
        },
        {
          "output_type": "stream",
          "name": "stderr",
          "text": [
            " 19%|█▉        | 456/2388 [06:35<06:43,  4.78it/s, avg_loss=0.681096901648415] "
          ]
        },
        {
          "output_type": "stream",
          "name": "stdout",
          "text": [
            "Val Accuracy: 0.5922754769660307\n"
          ]
        },
        {
          "output_type": "stream",
          "name": "stderr",
          "text": [
            " 23%|██▎       | 556/2388 [08:12<06:25,  4.75it/s, avg_loss=0.6821940523075672]"
          ]
        },
        {
          "output_type": "stream",
          "name": "stdout",
          "text": [
            "Val Accuracy: 0.5824104234527687\n"
          ]
        },
        {
          "output_type": "stream",
          "name": "stderr",
          "text": [
            " 27%|██▋       | 656/2388 [09:49<06:09,  4.69it/s, avg_loss=0.6813079002603911]"
          ]
        },
        {
          "output_type": "stream",
          "name": "stdout",
          "text": [
            "Val Accuracy: 0.5961842717543043\n"
          ]
        },
        {
          "output_type": "stream",
          "name": "stderr",
          "text": [
            " 32%|███▏      | 756/2388 [11:26<05:42,  4.77it/s, avg_loss=0.6819511332316631]"
          ]
        },
        {
          "output_type": "stream",
          "name": "stdout",
          "text": [
            "Val Accuracy: 0.5871568171242438\n"
          ]
        },
        {
          "output_type": "stream",
          "name": "stderr",
          "text": [
            " 36%|███▌      | 856/2388 [13:02<05:18,  4.81it/s, avg_loss=0.680922311690474] "
          ]
        },
        {
          "output_type": "stream",
          "name": "stdout",
          "text": [
            "Val Accuracy: 0.5827826896230806\n"
          ]
        },
        {
          "output_type": "stream",
          "name": "stderr",
          "text": [
            " 40%|████      | 956/2388 [14:38<04:53,  4.87it/s, avg_loss=0.6805488887625428]"
          ]
        },
        {
          "output_type": "stream",
          "name": "stdout",
          "text": [
            "Val Accuracy: 0.5846440204746394\n"
          ]
        },
        {
          "output_type": "stream",
          "name": "stderr",
          "text": [
            " 44%|████▍     | 1056/2388 [16:14<04:38,  4.78it/s, avg_loss=0.6809713776199572]"
          ]
        },
        {
          "output_type": "stream",
          "name": "stdout",
          "text": [
            "Val Accuracy: 0.5598883201489064\n"
          ]
        },
        {
          "output_type": "stream",
          "name": "stderr",
          "text": [
            " 48%|████▊     | 1156/2388 [17:50<04:15,  4.82it/s, avg_loss=0.6815028306525024]"
          ]
        },
        {
          "output_type": "stream",
          "name": "stdout",
          "text": [
            "Val Accuracy: 0.5908794788273616\n"
          ]
        },
        {
          "output_type": "stream",
          "name": "stderr",
          "text": [
            " 53%|█████▎    | 1256/2388 [19:26<03:56,  4.79it/s, avg_loss=0.680661257667587] "
          ]
        },
        {
          "output_type": "stream",
          "name": "stdout",
          "text": [
            "Val Accuracy: 0.6023266635644485\n"
          ]
        },
        {
          "output_type": "stream",
          "name": "stderr",
          "text": [
            " 57%|█████▋    | 1356/2388 [21:03<03:34,  4.82it/s, avg_loss=0.6801262967447718]"
          ]
        },
        {
          "output_type": "stream",
          "name": "stdout",
          "text": [
            "Val Accuracy: 0.5842717543043275\n"
          ]
        },
        {
          "output_type": "stream",
          "name": "stderr",
          "text": [
            " 61%|██████    | 1456/2388 [22:39<03:13,  4.81it/s, avg_loss=0.6794333656356198]"
          ]
        },
        {
          "output_type": "stream",
          "name": "stdout",
          "text": [
            "Val Accuracy: 0.5851093531875291\n"
          ]
        },
        {
          "output_type": "stream",
          "name": "stderr",
          "text": [
            " 65%|██████▌   | 1556/2388 [24:15<02:53,  4.80it/s, avg_loss=0.680816605256472] "
          ]
        },
        {
          "output_type": "stream",
          "name": "stdout",
          "text": [
            "Val Accuracy: 0.5953466728711029\n"
          ]
        },
        {
          "output_type": "stream",
          "name": "stderr",
          "text": [
            " 69%|██████▉   | 1656/2388 [25:51<02:31,  4.83it/s, avg_loss=0.6812403881916743]"
          ]
        },
        {
          "output_type": "stream",
          "name": "stdout",
          "text": [
            "Val Accuracy: 0.5932061423918101\n"
          ]
        },
        {
          "output_type": "stream",
          "name": "stderr",
          "text": [
            " 74%|███████▎  | 1756/2388 [27:27<02:10,  4.84it/s, avg_loss=0.6811860866619907]"
          ]
        },
        {
          "output_type": "stream",
          "name": "stdout",
          "text": [
            "Val Accuracy: 0.5781293624941833\n"
          ]
        },
        {
          "output_type": "stream",
          "name": "stderr",
          "text": [
            " 78%|███████▊  | 1856/2388 [29:03<01:49,  4.86it/s, avg_loss=0.6810255595349983]"
          ]
        },
        {
          "output_type": "stream",
          "name": "stdout",
          "text": [
            "Val Accuracy: 0.5809213587715216\n"
          ]
        },
        {
          "output_type": "stream",
          "name": "stderr",
          "text": [
            " 82%|████████▏ | 1956/2388 [30:39<01:28,  4.87it/s, avg_loss=0.6806844011763864]"
          ]
        },
        {
          "output_type": "stream",
          "name": "stdout",
          "text": [
            "Val Accuracy: 0.5847370870172173\n"
          ]
        },
        {
          "output_type": "stream",
          "name": "stderr",
          "text": [
            " 86%|████████▌ | 2056/2388 [32:15<01:08,  4.83it/s, avg_loss=0.6809276853247528]"
          ]
        },
        {
          "output_type": "stream",
          "name": "stdout",
          "text": [
            "Val Accuracy: 0.5384830153559795\n"
          ]
        },
        {
          "output_type": "stream",
          "name": "stderr",
          "text": [
            " 90%|█████████ | 2156/2388 [33:52<00:48,  4.75it/s, avg_loss=0.6807864264420574]"
          ]
        },
        {
          "output_type": "stream",
          "name": "stdout",
          "text": [
            "Val Accuracy: 0.593299208934388\n"
          ]
        },
        {
          "output_type": "stream",
          "name": "stderr",
          "text": [
            " 94%|█████████▍| 2256/2388 [35:28<00:27,  4.83it/s, avg_loss=0.6809306627731171]"
          ]
        },
        {
          "output_type": "stream",
          "name": "stdout",
          "text": [
            "Val Accuracy: 0.5987901349464867\n"
          ]
        },
        {
          "output_type": "stream",
          "name": "stderr",
          "text": [
            " 99%|█████████▊| 2356/2388 [37:04<00:06,  4.74it/s, avg_loss=0.6810551180038403]"
          ]
        },
        {
          "output_type": "stream",
          "name": "stdout",
          "text": [
            "Val Accuracy: 0.6068869241507678\n"
          ]
        },
        {
          "output_type": "stream",
          "name": "stderr",
          "text": [
            "100%|██████████| 2388/2388 [38:25<00:00,  1.04it/s, avg_loss=0.6808543506529263]\n",
            "  3%|▎         | 68/2388 [00:14<07:56,  4.87it/s, avg_loss=0.6764947400576826]"
          ]
        },
        {
          "output_type": "stream",
          "name": "stdout",
          "text": [
            "Val Accuracy: 0.5941368078175896\n"
          ]
        },
        {
          "output_type": "stream",
          "name": "stderr",
          "text": [
            "  7%|▋         | 168/2388 [01:50<07:45,  4.77it/s, avg_loss=0.6708907647245734]"
          ]
        },
        {
          "output_type": "stream",
          "name": "stdout",
          "text": [
            "Val Accuracy: 0.606607724523034\n"
          ]
        },
        {
          "output_type": "stream",
          "name": "stderr",
          "text": [
            " 11%|█         | 268/2388 [03:27<07:13,  4.89it/s, avg_loss=0.6713069231979909]"
          ]
        },
        {
          "output_type": "stream",
          "name": "stdout",
          "text": [
            "Val Accuracy: 0.5986970684039088\n"
          ]
        },
        {
          "output_type": "stream",
          "name": "stderr",
          "text": [
            " 15%|█▌        | 368/2388 [05:03<06:59,  4.81it/s, avg_loss=0.6699328235171351]"
          ]
        },
        {
          "output_type": "stream",
          "name": "stdout",
          "text": [
            "Val Accuracy: 0.5902280130293159\n"
          ]
        },
        {
          "output_type": "stream",
          "name": "stderr",
          "text": [
            " 20%|█▉        | 468/2388 [06:39<06:34,  4.87it/s, avg_loss=0.6709962437656134]"
          ]
        },
        {
          "output_type": "stream",
          "name": "stdout",
          "text": [
            "Val Accuracy: 0.6059562587249884\n"
          ]
        },
        {
          "output_type": "stream",
          "name": "stderr",
          "text": [
            " 24%|██▍       | 568/2388 [08:15<06:16,  4.83it/s, avg_loss=0.6713814428485341]"
          ]
        },
        {
          "output_type": "stream",
          "name": "stdout",
          "text": [
            "Val Accuracy: 0.6026989297347604\n"
          ]
        },
        {
          "output_type": "stream",
          "name": "stderr",
          "text": [
            " 28%|██▊       | 668/2388 [09:51<05:57,  4.81it/s, avg_loss=0.6713277700681501]"
          ]
        },
        {
          "output_type": "stream",
          "name": "stdout",
          "text": [
            "Val Accuracy: 0.6096789204281061\n"
          ]
        },
        {
          "output_type": "stream",
          "name": "stderr",
          "text": [
            " 32%|███▏      | 768/2388 [11:27<05:38,  4.78it/s, avg_loss=0.6710029744745386]"
          ]
        },
        {
          "output_type": "stream",
          "name": "stdout",
          "text": [
            "Val Accuracy: 0.5851093531875291\n"
          ]
        },
        {
          "output_type": "stream",
          "name": "stderr",
          "text": [
            " 36%|███▋      | 868/2388 [13:03<05:13,  4.85it/s, avg_loss=0.6711450135817599]"
          ]
        },
        {
          "output_type": "stream",
          "name": "stdout",
          "text": [
            "Val Accuracy: 0.5783154955793393\n"
          ]
        },
        {
          "output_type": "stream",
          "name": "stderr",
          "text": [
            " 41%|████      | 968/2388 [14:39<04:53,  4.84it/s, avg_loss=0.6733689336154237]"
          ]
        },
        {
          "output_type": "stream",
          "name": "stdout",
          "text": [
            "Val Accuracy: 0.5810144253140996\n"
          ]
        },
        {
          "output_type": "stream",
          "name": "stderr",
          "text": [
            " 45%|████▍     | 1068/2388 [16:15<04:31,  4.86it/s, avg_loss=0.6730581473200203]"
          ]
        },
        {
          "output_type": "stream",
          "name": "stdout",
          "text": [
            "Val Accuracy: 0.5562587249883667\n"
          ]
        },
        {
          "output_type": "stream",
          "name": "stderr",
          "text": [
            " 49%|████▉     | 1168/2388 [17:51<04:14,  4.80it/s, avg_loss=0.6743407190559867]"
          ]
        },
        {
          "output_type": "stream",
          "name": "stdout",
          "text": [
            "Val Accuracy: 0.5953466728711029\n"
          ]
        },
        {
          "output_type": "stream",
          "name": "stderr",
          "text": [
            " 53%|█████▎    | 1268/2388 [19:27<03:54,  4.78it/s, avg_loss=0.6754245592488183]"
          ]
        },
        {
          "output_type": "stream",
          "name": "stdout",
          "text": [
            "Val Accuracy: 0.5718008375988832\n"
          ]
        },
        {
          "output_type": "stream",
          "name": "stderr",
          "text": [
            " 57%|█████▋    | 1368/2388 [21:03<03:28,  4.90it/s, avg_loss=0.6754415950216108]"
          ]
        },
        {
          "output_type": "stream",
          "name": "stdout",
          "text": [
            "Val Accuracy: 0.5887389483480688\n"
          ]
        },
        {
          "output_type": "stream",
          "name": "stderr",
          "text": [
            " 61%|██████▏   | 1468/2388 [22:39<03:08,  4.88it/s, avg_loss=0.6759082282417238]"
          ]
        },
        {
          "output_type": "stream",
          "name": "stdout",
          "text": [
            "Val Accuracy: 0.5546765937645416\n"
          ]
        },
        {
          "output_type": "stream",
          "name": "stderr",
          "text": [
            " 66%|██████▌   | 1568/2388 [24:15<02:46,  4.92it/s, avg_loss=0.6763659596177254]"
          ]
        },
        {
          "output_type": "stream",
          "name": "stdout",
          "text": [
            "Val Accuracy: 0.6036295951605398\n"
          ]
        },
        {
          "output_type": "stream",
          "name": "stderr",
          "text": [
            " 70%|██████▉   | 1668/2388 [25:51<02:29,  4.80it/s, avg_loss=0.676697007923372] "
          ]
        },
        {
          "output_type": "stream",
          "name": "stdout",
          "text": [
            "Val Accuracy: 0.5906002791996278\n"
          ]
        },
        {
          "output_type": "stream",
          "name": "stderr",
          "text": [
            " 74%|███████▍  | 1768/2388 [27:27<02:08,  4.82it/s, avg_loss=0.6761573711278548]"
          ]
        },
        {
          "output_type": "stream",
          "name": "stdout",
          "text": [
            "Val Accuracy: 0.5986040018613309\n"
          ]
        },
        {
          "output_type": "stream",
          "name": "stderr",
          "text": [
            " 78%|███████▊  | 1868/2388 [29:03<01:49,  4.74it/s, avg_loss=0.676183476191016] "
          ]
        },
        {
          "output_type": "stream",
          "name": "stdout",
          "text": [
            "Val Accuracy: 0.590134946486738\n"
          ]
        },
        {
          "output_type": "stream",
          "name": "stderr",
          "text": [
            " 82%|████████▏ | 1968/2388 [30:39<01:27,  4.80it/s, avg_loss=0.6755824946340054]"
          ]
        },
        {
          "output_type": "stream",
          "name": "stdout",
          "text": [
            "Val Accuracy: 0.5975802698929735\n"
          ]
        },
        {
          "output_type": "stream",
          "name": "stderr",
          "text": [
            " 87%|████████▋ | 2068/2388 [32:16<01:06,  4.80it/s, avg_loss=0.6758824044693605]"
          ]
        },
        {
          "output_type": "stream",
          "name": "stdout",
          "text": [
            "Val Accuracy: 0.604839460214053\n"
          ]
        },
        {
          "output_type": "stream",
          "name": "stderr",
          "text": [
            " 91%|█████████ | 2168/2388 [33:52<00:45,  4.79it/s, avg_loss=0.6757616899759883]"
          ]
        },
        {
          "output_type": "stream",
          "name": "stdout",
          "text": [
            "Val Accuracy: 0.5975802698929735\n"
          ]
        },
        {
          "output_type": "stream",
          "name": "stderr",
          "text": [
            " 95%|█████████▍| 2268/2388 [35:28<00:25,  4.72it/s, avg_loss=0.6757741315924896]"
          ]
        },
        {
          "output_type": "stream",
          "name": "stdout",
          "text": [
            "Val Accuracy: 0.5923685435086087\n"
          ]
        },
        {
          "output_type": "stream",
          "name": "stderr",
          "text": [
            " 99%|█████████▉| 2368/2388 [37:04<00:04,  4.77it/s, avg_loss=0.6758433781932205]"
          ]
        },
        {
          "output_type": "stream",
          "name": "stdout",
          "text": [
            "Val Accuracy: 0.6100511865984178\n"
          ]
        },
        {
          "output_type": "stream",
          "name": "stderr",
          "text": [
            "100%|██████████| 2388/2388 [38:23<00:00,  1.04it/s, avg_loss=0.6757991550181379]\n",
            "  3%|▎         | 80/2388 [00:16<07:59,  4.82it/s, avg_loss=0.6655502742455329]"
          ]
        },
        {
          "output_type": "stream",
          "name": "stdout",
          "text": [
            "Val Accuracy: 0.5925546765937646\n"
          ]
        },
        {
          "output_type": "stream",
          "name": "stderr",
          "text": [
            "  8%|▊         | 180/2388 [01:52<07:46,  4.73it/s, avg_loss=0.674643702105264] "
          ]
        },
        {
          "output_type": "stream",
          "name": "stdout",
          "text": [
            "Val Accuracy: 0.5847370870172173\n"
          ]
        },
        {
          "output_type": "stream",
          "name": "stderr",
          "text": [
            " 12%|█▏        | 280/2388 [03:28<07:17,  4.82it/s, avg_loss=0.670072777733684] "
          ]
        },
        {
          "output_type": "stream",
          "name": "stdout",
          "text": [
            "Val Accuracy: 0.6115402512796649\n"
          ]
        },
        {
          "output_type": "stream",
          "name": "stderr",
          "text": [
            " 16%|█▌        | 380/2388 [05:05<06:58,  4.80it/s, avg_loss=0.6696003795139432]"
          ]
        },
        {
          "output_type": "stream",
          "name": "stdout",
          "text": [
            "Val Accuracy: 0.5915309446254071\n"
          ]
        },
        {
          "output_type": "stream",
          "name": "stderr",
          "text": [
            " 20%|██        | 480/2388 [06:41<06:40,  4.77it/s, avg_loss=0.6708403100218941]"
          ]
        },
        {
          "output_type": "stream",
          "name": "stdout",
          "text": [
            "Val Accuracy: 0.581945090739879\n"
          ]
        },
        {
          "output_type": "stream",
          "name": "stderr",
          "text": [
            " 24%|██▍       | 580/2388 [08:17<06:16,  4.81it/s, avg_loss=0.672220128743866] "
          ]
        },
        {
          "output_type": "stream",
          "name": "stdout",
          "text": [
            "Val Accuracy: 0.6105165193113076\n"
          ]
        },
        {
          "output_type": "stream",
          "name": "stderr",
          "text": [
            " 28%|██▊       | 680/2388 [09:53<05:53,  4.84it/s, avg_loss=0.6728073302519654]"
          ]
        },
        {
          "output_type": "stream",
          "name": "stdout",
          "text": [
            "Val Accuracy: 0.6051186598417869\n"
          ]
        },
        {
          "output_type": "stream",
          "name": "stderr",
          "text": [
            " 33%|███▎      | 780/2388 [11:29<05:36,  4.79it/s, avg_loss=0.6734024089368754]"
          ]
        },
        {
          "output_type": "stream",
          "name": "stdout",
          "text": [
            "Val Accuracy: 0.555793392275477\n"
          ]
        },
        {
          "output_type": "stream",
          "name": "stderr",
          "text": [
            " 37%|███▋      | 880/2388 [13:05<05:11,  4.85it/s, avg_loss=0.672622232749703] "
          ]
        },
        {
          "output_type": "stream",
          "name": "stdout",
          "text": [
            "Val Accuracy: 0.6060493252675663\n"
          ]
        },
        {
          "output_type": "stream",
          "name": "stderr",
          "text": [
            " 41%|████      | 980/2388 [14:41<04:53,  4.79it/s, avg_loss=0.671915451199515]"
          ]
        },
        {
          "output_type": "stream",
          "name": "stdout",
          "text": [
            "Val Accuracy: 0.6179618427175431\n"
          ]
        },
        {
          "output_type": "stream",
          "name": "stderr",
          "text": [
            " 45%|████▌     | 1080/2388 [16:17<04:31,  4.81it/s, avg_loss=0.6716039977505954]"
          ]
        },
        {
          "output_type": "stream",
          "name": "stdout",
          "text": [
            "Val Accuracy: 0.578687761749651\n"
          ]
        },
        {
          "output_type": "stream",
          "name": "stderr",
          "text": [
            " 49%|████▉     | 1180/2388 [17:53<04:13,  4.76it/s, avg_loss=0.6715335782860216]"
          ]
        },
        {
          "output_type": "stream",
          "name": "stdout",
          "text": [
            "Val Accuracy: 0.6051186598417869\n"
          ]
        },
        {
          "output_type": "stream",
          "name": "stderr",
          "text": [
            " 54%|█████▎    | 1280/2388 [19:30<03:53,  4.74it/s, avg_loss=0.6715246322423011]"
          ]
        },
        {
          "output_type": "stream",
          "name": "stdout",
          "text": [
            "Val Accuracy: 0.5853885528152629\n"
          ]
        },
        {
          "output_type": "stream",
          "name": "stderr",
          "text": [
            " 58%|█████▊    | 1380/2388 [21:06<03:28,  4.83it/s, avg_loss=0.6708258736789615]"
          ]
        },
        {
          "output_type": "stream",
          "name": "stdout",
          "text": [
            "Val Accuracy: 0.627826896230805\n"
          ]
        },
        {
          "output_type": "stream",
          "name": "stderr",
          "text": [
            " 62%|██████▏   | 1480/2388 [22:42<03:11,  4.75it/s, avg_loss=0.6699256196286049]"
          ]
        },
        {
          "output_type": "stream",
          "name": "stdout",
          "text": [
            "Val Accuracy: 0.6026058631921825\n"
          ]
        },
        {
          "output_type": "stream",
          "name": "stderr",
          "text": [
            " 66%|██████▌   | 1580/2388 [24:18<02:46,  4.86it/s, avg_loss=0.6697602074294057]"
          ]
        },
        {
          "output_type": "stream",
          "name": "stdout",
          "text": [
            "Val Accuracy: 0.5896696137738483\n"
          ]
        },
        {
          "output_type": "stream",
          "name": "stderr",
          "text": [
            " 70%|███████   | 1680/2388 [25:55<02:31,  4.69it/s, avg_loss=0.6694838860997978]"
          ]
        },
        {
          "output_type": "stream",
          "name": "stdout",
          "text": [
            "Val Accuracy: 0.6292228943694742\n"
          ]
        },
        {
          "output_type": "stream",
          "name": "stderr",
          "text": [
            " 75%|███████▍  | 1780/2388 [27:31<02:06,  4.80it/s, avg_loss=0.6687605416988939]"
          ]
        },
        {
          "output_type": "stream",
          "name": "stdout",
          "text": [
            "Val Accuracy: 0.6093997208003723\n"
          ]
        },
        {
          "output_type": "stream",
          "name": "stderr",
          "text": [
            " 79%|███████▊  | 1880/2388 [29:08<01:46,  4.75it/s, avg_loss=0.6680893686177691]"
          ]
        },
        {
          "output_type": "stream",
          "name": "stdout",
          "text": [
            "Val Accuracy: 0.6111679851093532\n"
          ]
        },
        {
          "output_type": "stream",
          "name": "stderr",
          "text": [
            " 83%|████████▎ | 1980/2388 [30:44<01:25,  4.79it/s, avg_loss=0.6682752549106699]"
          ]
        },
        {
          "output_type": "stream",
          "name": "stdout",
          "text": [
            "Val Accuracy: 0.6170311772917636\n"
          ]
        },
        {
          "output_type": "stream",
          "name": "stderr",
          "text": [
            " 87%|████████▋ | 2080/2388 [32:21<01:04,  4.81it/s, avg_loss=0.6681371941439296]"
          ]
        },
        {
          "output_type": "stream",
          "name": "stdout",
          "text": [
            "Val Accuracy: 0.6308050255932992\n"
          ]
        },
        {
          "output_type": "stream",
          "name": "stderr",
          "text": [
            " 91%|█████████▏| 2180/2388 [33:57<00:44,  4.72it/s, avg_loss=0.6677863700490433]"
          ]
        },
        {
          "output_type": "stream",
          "name": "stdout",
          "text": [
            "Val Accuracy: 0.613029315960912\n"
          ]
        },
        {
          "output_type": "stream",
          "name": "stderr",
          "text": [
            " 95%|█████████▌| 2280/2388 [35:33<00:22,  4.80it/s, avg_loss=0.6674119550007992]"
          ]
        },
        {
          "output_type": "stream",
          "name": "stdout",
          "text": [
            "Val Accuracy: 0.6207538389948813\n"
          ]
        },
        {
          "output_type": "stream",
          "name": "stderr",
          "text": [
            "100%|█████████▉| 2380/2388 [37:10<00:01,  4.72it/s, avg_loss=0.6669629656908043]"
          ]
        },
        {
          "output_type": "stream",
          "name": "stdout",
          "text": [
            "Val Accuracy: 0.5621219171707771\n"
          ]
        },
        {
          "output_type": "stream",
          "name": "stderr",
          "text": [
            "100%|██████████| 2388/2388 [38:27<00:00,  1.04it/s, avg_loss=0.6670416142897589]\n",
            "  4%|▍         | 92/2388 [00:19<07:53,  4.85it/s, avg_loss=0.6545209551370272]"
          ]
        },
        {
          "output_type": "stream",
          "name": "stdout",
          "text": [
            "Val Accuracy: 0.6072591903210796\n"
          ]
        },
        {
          "output_type": "stream",
          "name": "stderr",
          "text": [
            "  8%|▊         | 192/2388 [01:55<07:34,  4.83it/s, avg_loss=0.6567174891116088]"
          ]
        },
        {
          "output_type": "stream",
          "name": "stdout",
          "text": [
            "Val Accuracy: 0.6072591903210796\n"
          ]
        },
        {
          "output_type": "stream",
          "name": "stderr",
          "text": [
            " 12%|█▏        | 292/2388 [03:31<07:17,  4.79it/s, avg_loss=0.6596112526927792]"
          ]
        },
        {
          "output_type": "stream",
          "name": "stdout",
          "text": [
            "Val Accuracy: 0.6062354583527222\n"
          ]
        },
        {
          "output_type": "stream",
          "name": "stderr",
          "text": [
            " 16%|█▋        | 392/2388 [05:07<06:58,  4.77it/s, avg_loss=0.6588548968614816]"
          ]
        },
        {
          "output_type": "stream",
          "name": "stdout",
          "text": [
            "Val Accuracy: 0.642717543043276\n"
          ]
        },
        {
          "output_type": "stream",
          "name": "stderr",
          "text": [
            " 21%|██        | 492/2388 [06:43<06:36,  4.78it/s, avg_loss=0.6595678284129555]"
          ]
        },
        {
          "output_type": "stream",
          "name": "stdout",
          "text": [
            "Val Accuracy: 0.6001861330851559\n"
          ]
        },
        {
          "output_type": "stream",
          "name": "stderr",
          "text": [
            " 25%|██▍       | 592/2388 [08:19<06:11,  4.83it/s, avg_loss=0.657200017576475] "
          ]
        },
        {
          "output_type": "stream",
          "name": "stdout",
          "text": [
            "Val Accuracy: 0.6111679851093532\n"
          ]
        },
        {
          "output_type": "stream",
          "name": "stderr",
          "text": [
            " 29%|██▉       | 692/2388 [09:55<05:53,  4.80it/s, avg_loss=0.6599595021633875]"
          ]
        },
        {
          "output_type": "stream",
          "name": "stdout",
          "text": [
            "Val Accuracy: 0.6248487668683108\n"
          ]
        },
        {
          "output_type": "stream",
          "name": "stderr",
          "text": [
            " 33%|███▎      | 792/2388 [11:32<05:31,  4.82it/s, avg_loss=0.6571617104667433]"
          ]
        },
        {
          "output_type": "stream",
          "name": "stdout",
          "text": [
            "Val Accuracy: 0.6185202419730107\n"
          ]
        },
        {
          "output_type": "stream",
          "name": "stderr",
          "text": [
            " 37%|███▋      | 892/2388 [13:08<05:12,  4.78it/s, avg_loss=0.6577850456734388]"
          ]
        },
        {
          "output_type": "stream",
          "name": "stdout",
          "text": [
            "Val Accuracy: 0.6435551419264774\n"
          ]
        },
        {
          "output_type": "stream",
          "name": "stderr",
          "text": [
            " 42%|████▏     | 992/2388 [14:44<04:52,  4.77it/s, avg_loss=0.6581222416170894]"
          ]
        },
        {
          "output_type": "stream",
          "name": "stdout",
          "text": [
            "Val Accuracy: 0.6182410423452769\n"
          ]
        },
        {
          "output_type": "stream",
          "name": "stderr",
          "text": [
            " 46%|████▌     | 1092/2388 [16:21<04:31,  4.77it/s, avg_loss=0.6584332510624473]"
          ]
        },
        {
          "output_type": "stream",
          "name": "stdout",
          "text": [
            "Val Accuracy: 0.6172173103769195\n"
          ]
        },
        {
          "output_type": "stream",
          "name": "stderr",
          "text": [
            " 50%|████▉     | 1192/2388 [17:57<04:10,  4.77it/s, avg_loss=0.6566598703155774]"
          ]
        },
        {
          "output_type": "stream",
          "name": "stdout",
          "text": [
            "Val Accuracy: 0.6165658445788739\n"
          ]
        },
        {
          "output_type": "stream",
          "name": "stderr",
          "text": [
            " 54%|█████▍    | 1292/2388 [19:33<03:52,  4.71it/s, avg_loss=0.6575025900195757]"
          ]
        },
        {
          "output_type": "stream",
          "name": "stdout",
          "text": [
            "Val Accuracy: 0.6227082363890182\n"
          ]
        },
        {
          "output_type": "stream",
          "name": "stderr",
          "text": [
            " 58%|█████▊    | 1392/2388 [21:10<03:29,  4.76it/s, avg_loss=0.6569515709301934]"
          ]
        },
        {
          "output_type": "stream",
          "name": "stdout",
          "text": [
            "Val Accuracy: 0.6295951605397859\n"
          ]
        },
        {
          "output_type": "stream",
          "name": "stderr",
          "text": [
            " 62%|██████▏   | 1492/2388 [22:48<03:08,  4.76it/s, avg_loss=0.6575499403340977]"
          ]
        },
        {
          "output_type": "stream",
          "name": "stdout",
          "text": [
            "Val Accuracy: 0.6386226151698464\n"
          ]
        },
        {
          "output_type": "stream",
          "name": "stderr",
          "text": [
            " 67%|██████▋   | 1592/2388 [24:25<02:47,  4.77it/s, avg_loss=0.6565677805359978]"
          ]
        },
        {
          "output_type": "stream",
          "name": "stdout",
          "text": [
            "Val Accuracy: 0.63620288506282\n"
          ]
        },
        {
          "output_type": "stream",
          "name": "stderr",
          "text": [
            " 71%|███████   | 1692/2388 [26:02<02:26,  4.76it/s, avg_loss=0.6558499129756413]"
          ]
        },
        {
          "output_type": "stream",
          "name": "stdout",
          "text": [
            "Val Accuracy: 0.634527687296417\n"
          ]
        },
        {
          "output_type": "stream",
          "name": "stderr",
          "text": [
            " 75%|███████▌  | 1792/2388 [27:38<02:02,  4.86it/s, avg_loss=0.654212253823735] "
          ]
        },
        {
          "output_type": "stream",
          "name": "stdout",
          "text": [
            "Val Accuracy: 0.6419730107026524\n"
          ]
        },
        {
          "output_type": "stream",
          "name": "stderr",
          "text": [
            " 79%|███████▉  | 1892/2388 [29:15<01:46,  4.64it/s, avg_loss=0.654861059742382] "
          ]
        },
        {
          "output_type": "stream",
          "name": "stdout",
          "text": [
            "Val Accuracy: 0.6421591437878083\n"
          ]
        },
        {
          "output_type": "stream",
          "name": "stderr",
          "text": [
            " 83%|████████▎ | 1992/2388 [30:52<01:23,  4.74it/s, avg_loss=0.6555937789399242]"
          ]
        },
        {
          "output_type": "stream",
          "name": "stdout",
          "text": [
            "Val Accuracy: 0.6010237319683573\n"
          ]
        },
        {
          "output_type": "stream",
          "name": "stderr",
          "text": [
            " 88%|████████▊ | 2092/2388 [32:29<01:01,  4.77it/s, avg_loss=0.656463211239438] "
          ]
        },
        {
          "output_type": "stream",
          "name": "stdout",
          "text": [
            "Val Accuracy: 0.627919962773383\n"
          ]
        },
        {
          "output_type": "stream",
          "name": "stderr",
          "text": [
            " 92%|█████████▏| 2192/2388 [34:06<00:41,  4.77it/s, avg_loss=0.6562398065593327]"
          ]
        },
        {
          "output_type": "stream",
          "name": "stdout",
          "text": [
            "Val Accuracy: 0.6263378315495579\n"
          ]
        },
        {
          "output_type": "stream",
          "name": "stderr",
          "text": [
            " 96%|█████████▌| 2292/2388 [35:43<00:20,  4.67it/s, avg_loss=0.6561502708886525]"
          ]
        },
        {
          "output_type": "stream",
          "name": "stdout",
          "text": [
            "Val Accuracy: 0.639181014425314\n"
          ]
        },
        {
          "output_type": "stream",
          "name": "stderr",
          "text": [
            "100%|██████████| 2388/2388 [37:19<00:00,  1.07it/s, avg_loss=0.6558227978734116]\n",
            "  0%|          | 4/2388 [00:01<08:20,  4.77it/s, avg_loss=0.5994736015796661]"
          ]
        },
        {
          "output_type": "stream",
          "name": "stdout",
          "text": [
            "Val Accuracy: 0.6502559329920894\n"
          ]
        },
        {
          "output_type": "stream",
          "name": "stderr",
          "text": [
            "  4%|▍         | 104/2388 [01:37<07:57,  4.78it/s, avg_loss=0.6550374243940625]"
          ]
        },
        {
          "output_type": "stream",
          "name": "stdout",
          "text": [
            "Val Accuracy: 0.6466263378315495\n"
          ]
        },
        {
          "output_type": "stream",
          "name": "stderr",
          "text": [
            "  9%|▊         | 204/2388 [03:14<07:39,  4.76it/s, avg_loss=0.6494864866500948]"
          ]
        },
        {
          "output_type": "stream",
          "name": "stdout",
          "text": [
            "Val Accuracy: 0.650814332247557\n"
          ]
        },
        {
          "output_type": "stream",
          "name": "stderr",
          "text": [
            " 13%|█▎        | 304/2388 [04:51<07:22,  4.71it/s, avg_loss=0.6385903209936423]"
          ]
        },
        {
          "output_type": "stream",
          "name": "stdout",
          "text": [
            "Val Accuracy: 0.6301535597952536\n"
          ]
        },
        {
          "output_type": "stream",
          "name": "stderr",
          "text": [
            " 17%|█▋        | 404/2388 [06:28<06:50,  4.83it/s, avg_loss=0.643096865180098] "
          ]
        },
        {
          "output_type": "stream",
          "name": "stdout",
          "text": [
            "Val Accuracy: 0.6304327594229875\n"
          ]
        },
        {
          "output_type": "stream",
          "name": "stderr",
          "text": [
            " 21%|██        | 504/2388 [08:05<06:37,  4.75it/s, avg_loss=0.6438137723077642]"
          ]
        },
        {
          "output_type": "stream",
          "name": "stdout",
          "text": [
            "Val Accuracy: 0.6316426244765007\n"
          ]
        },
        {
          "output_type": "stream",
          "name": "stderr",
          "text": [
            " 25%|██▌       | 604/2388 [09:41<06:14,  4.77it/s, avg_loss=0.6432345533173931]"
          ]
        },
        {
          "output_type": "stream",
          "name": "stdout",
          "text": [
            "Val Accuracy: 0.6456026058631922\n"
          ]
        },
        {
          "output_type": "stream",
          "name": "stderr",
          "text": [
            " 29%|██▉       | 704/2388 [11:18<05:52,  4.78it/s, avg_loss=0.643702853486893]"
          ]
        },
        {
          "output_type": "stream",
          "name": "stdout",
          "text": [
            "Val Accuracy: 0.626151698464402\n"
          ]
        },
        {
          "output_type": "stream",
          "name": "stderr",
          "text": [
            " 34%|███▎      | 804/2388 [12:55<05:34,  4.73it/s, avg_loss=0.6444599497022095]"
          ]
        },
        {
          "output_type": "stream",
          "name": "stdout",
          "text": [
            "Val Accuracy: 0.6499767333643555\n"
          ]
        },
        {
          "output_type": "stream",
          "name": "stderr",
          "text": [
            " 38%|███▊      | 904/2388 [14:32<05:08,  4.81it/s, avg_loss=0.6438915072883691]"
          ]
        },
        {
          "output_type": "stream",
          "name": "stdout",
          "text": [
            "Val Accuracy: 0.6174965100046533\n"
          ]
        },
        {
          "output_type": "stream",
          "name": "stderr",
          "text": [
            " 42%|████▏     | 1004/2388 [16:09<04:50,  4.76it/s, avg_loss=0.6425578419545397]"
          ]
        },
        {
          "output_type": "stream",
          "name": "stdout",
          "text": [
            "Val Accuracy: 0.6341554211261051\n"
          ]
        },
        {
          "output_type": "stream",
          "name": "stderr",
          "text": [
            " 46%|████▌     | 1104/2388 [17:46<04:28,  4.78it/s, avg_loss=0.6429041333867413]"
          ]
        },
        {
          "output_type": "stream",
          "name": "stdout",
          "text": [
            "Val Accuracy: 0.6517449976733365\n"
          ]
        },
        {
          "output_type": "stream",
          "name": "stderr",
          "text": [
            " 50%|█████     | 1204/2388 [19:23<04:07,  4.79it/s, avg_loss=0.6428175143681126]"
          ]
        },
        {
          "output_type": "stream",
          "name": "stdout",
          "text": [
            "Val Accuracy: 0.6502559329920894\n"
          ]
        },
        {
          "output_type": "stream",
          "name": "stderr",
          "text": [
            " 55%|█████▍    | 1304/2388 [21:00<03:47,  4.76it/s, avg_loss=0.643082971065894] "
          ]
        },
        {
          "output_type": "stream",
          "name": "stdout",
          "text": [
            "Val Accuracy: 0.5981386691484412\n"
          ]
        },
        {
          "output_type": "stream",
          "name": "stderr",
          "text": [
            " 59%|█████▉    | 1404/2388 [22:36<03:25,  4.79it/s, avg_loss=0.6433471303605525]"
          ]
        },
        {
          "output_type": "stream",
          "name": "stdout",
          "text": [
            "Val Accuracy: 0.6149837133550489\n"
          ]
        },
        {
          "output_type": "stream",
          "name": "stderr",
          "text": [
            " 63%|██████▎   | 1504/2388 [24:13<03:04,  4.80it/s, avg_loss=0.6428241533694473]"
          ]
        },
        {
          "output_type": "stream",
          "name": "stdout",
          "text": [
            "Val Accuracy: 0.6555607259190321\n"
          ]
        },
        {
          "output_type": "stream",
          "name": "stderr",
          "text": [
            " 67%|██████▋   | 1604/2388 [25:50<02:45,  4.73it/s, avg_loss=0.6427540275909448]"
          ]
        },
        {
          "output_type": "stream",
          "name": "stdout",
          "text": [
            "Val Accuracy: 0.6486738017682643\n"
          ]
        },
        {
          "output_type": "stream",
          "name": "stderr",
          "text": [
            " 71%|███████▏  | 1704/2388 [27:26<02:22,  4.81it/s, avg_loss=0.642851904602694] "
          ]
        },
        {
          "output_type": "stream",
          "name": "stdout",
          "text": [
            "Val Accuracy: 0.6554676593764541\n"
          ]
        },
        {
          "output_type": "stream",
          "name": "stderr",
          "text": [
            " 76%|███████▌  | 1804/2388 [29:03<02:02,  4.78it/s, avg_loss=0.6433624663676581]"
          ]
        },
        {
          "output_type": "stream",
          "name": "stdout",
          "text": [
            "Val Accuracy: 0.6109818520241973\n"
          ]
        },
        {
          "output_type": "stream",
          "name": "stderr",
          "text": [
            " 80%|███████▉  | 1904/2388 [30:41<01:41,  4.79it/s, avg_loss=0.6430057634518841]"
          ]
        },
        {
          "output_type": "stream",
          "name": "stdout",
          "text": [
            "Val Accuracy: 0.6565844578873895\n"
          ]
        },
        {
          "output_type": "stream",
          "name": "stderr",
          "text": [
            " 84%|████████▍ | 2004/2388 [32:17<01:20,  4.77it/s, avg_loss=0.6425558949051949]"
          ]
        },
        {
          "output_type": "stream",
          "name": "stdout",
          "text": [
            "Val Accuracy: 0.6236389018147975\n"
          ]
        },
        {
          "output_type": "stream",
          "name": "stderr",
          "text": [
            " 88%|████████▊ | 2104/2388 [33:54<00:59,  4.77it/s, avg_loss=0.6414373786460759]"
          ]
        },
        {
          "output_type": "stream",
          "name": "stdout",
          "text": [
            "Val Accuracy: 0.6663564448580735\n"
          ]
        },
        {
          "output_type": "stream",
          "name": "stderr",
          "text": [
            " 92%|█████████▏| 2204/2388 [35:31<00:38,  4.77it/s, avg_loss=0.6407033284775524]"
          ]
        },
        {
          "output_type": "stream",
          "name": "stdout",
          "text": [
            "Val Accuracy: 0.6628199162401117\n"
          ]
        },
        {
          "output_type": "stream",
          "name": "stderr",
          "text": [
            " 96%|█████████▋| 2304/2388 [37:09<00:17,  4.78it/s, avg_loss=0.6396881529540147]"
          ]
        },
        {
          "output_type": "stream",
          "name": "stdout",
          "text": [
            "Val Accuracy: 0.6348068869241508\n"
          ]
        },
        {
          "output_type": "stream",
          "name": "stderr",
          "text": [
            "100%|██████████| 2388/2388 [38:42<00:00,  1.03it/s, avg_loss=0.6399035218422936]\n",
            "  1%|          | 16/2388 [00:03<08:14,  4.80it/s, avg_loss=0.6661509415682625]"
          ]
        },
        {
          "output_type": "stream",
          "name": "stdout",
          "text": [
            "Val Accuracy: 0.6259655653792462\n"
          ]
        },
        {
          "output_type": "stream",
          "name": "stderr",
          "text": [
            "  5%|▍         | 116/2388 [01:40<07:56,  4.76it/s, avg_loss=0.6419988883356763]"
          ]
        },
        {
          "output_type": "stream",
          "name": "stdout",
          "text": [
            "Val Accuracy: 0.6585388552815263\n"
          ]
        },
        {
          "output_type": "stream",
          "name": "stderr",
          "text": [
            "  9%|▉         | 216/2388 [03:17<07:30,  4.82it/s, avg_loss=0.6397429490419028]"
          ]
        },
        {
          "output_type": "stream",
          "name": "stdout",
          "text": [
            "Val Accuracy: 0.6566775244299674\n"
          ]
        },
        {
          "output_type": "stream",
          "name": "stderr",
          "text": [
            " 13%|█▎        | 316/2388 [04:53<07:15,  4.75it/s, avg_loss=0.635462876656078] "
          ]
        },
        {
          "output_type": "stream",
          "name": "stdout",
          "text": [
            "Val Accuracy: 0.6469986040018614\n"
          ]
        },
        {
          "output_type": "stream",
          "name": "stderr",
          "text": [
            " 17%|█▋        | 416/2388 [06:30<06:54,  4.75it/s, avg_loss=0.6305141453262714]"
          ]
        },
        {
          "output_type": "stream",
          "name": "stdout",
          "text": [
            "Val Accuracy: 0.6666356444858074\n"
          ]
        },
        {
          "output_type": "stream",
          "name": "stderr",
          "text": [
            " 22%|██▏       | 516/2388 [08:07<06:26,  4.84it/s, avg_loss=0.6296034566553695]"
          ]
        },
        {
          "output_type": "stream",
          "name": "stdout",
          "text": [
            "Val Accuracy: 0.6842252210330386\n"
          ]
        },
        {
          "output_type": "stream",
          "name": "stderr",
          "text": [
            " 26%|██▌       | 616/2388 [09:43<06:07,  4.83it/s, avg_loss=0.6256932948551456]"
          ]
        },
        {
          "output_type": "stream",
          "name": "stdout",
          "text": [
            "Val Accuracy: 0.632945556072592\n"
          ]
        },
        {
          "output_type": "stream",
          "name": "stderr",
          "text": [
            " 30%|██▉       | 716/2388 [11:20<05:50,  4.77it/s, avg_loss=0.6239157537702403]"
          ]
        },
        {
          "output_type": "stream",
          "name": "stdout",
          "text": [
            "Val Accuracy: 0.6758492322010238\n"
          ]
        },
        {
          "output_type": "stream",
          "name": "stderr",
          "text": [
            " 34%|███▍      | 816/2388 [12:57<05:32,  4.73it/s, avg_loss=0.6234014899158711]"
          ]
        },
        {
          "output_type": "stream",
          "name": "stdout",
          "text": [
            "Val Accuracy: 0.6521172638436482\n"
          ]
        },
        {
          "output_type": "stream",
          "name": "stderr",
          "text": [
            " 38%|███▊      | 916/2388 [14:34<05:04,  4.84it/s, avg_loss=0.6240797127671174]"
          ]
        },
        {
          "output_type": "stream",
          "name": "stdout",
          "text": [
            "Val Accuracy: 0.6738017682643089\n"
          ]
        },
        {
          "output_type": "stream",
          "name": "stderr",
          "text": [
            " 43%|████▎     | 1016/2388 [16:10<04:49,  4.74it/s, avg_loss=0.6244114577301366]"
          ]
        },
        {
          "output_type": "stream",
          "name": "stdout",
          "text": [
            "Val Accuracy: 0.6686831084225221\n"
          ]
        },
        {
          "output_type": "stream",
          "name": "stderr",
          "text": [
            " 47%|████▋     | 1116/2388 [17:47<04:25,  4.79it/s, avg_loss=0.6243812243588396]"
          ]
        },
        {
          "output_type": "stream",
          "name": "stdout",
          "text": [
            "Val Accuracy: 0.6499767333643555\n"
          ]
        },
        {
          "output_type": "stream",
          "name": "stderr",
          "text": [
            " 51%|█████     | 1216/2388 [19:24<04:08,  4.71it/s, avg_loss=0.624510374951774] "
          ]
        },
        {
          "output_type": "stream",
          "name": "stdout",
          "text": [
            "Val Accuracy: 0.6679385760818985\n"
          ]
        },
        {
          "output_type": "stream",
          "name": "stderr",
          "text": [
            " 55%|█████▌    | 1316/2388 [21:01<03:44,  4.78it/s, avg_loss=0.6247054381902777]"
          ]
        },
        {
          "output_type": "stream",
          "name": "stdout",
          "text": [
            "Val Accuracy: 0.677059097254537\n"
          ]
        },
        {
          "output_type": "stream",
          "name": "stderr",
          "text": [
            " 59%|█████▉    | 1416/2388 [22:38<03:21,  4.81it/s, avg_loss=0.6241772339305326]"
          ]
        },
        {
          "output_type": "stream",
          "name": "stdout",
          "text": [
            "Val Accuracy: 0.6778966961377385\n"
          ]
        },
        {
          "output_type": "stream",
          "name": "stderr",
          "text": [
            " 63%|██████▎   | 1516/2388 [24:15<03:03,  4.75it/s, avg_loss=0.6227010681626037]"
          ]
        },
        {
          "output_type": "stream",
          "name": "stdout",
          "text": [
            "Val Accuracy: 0.6807817589576547\n"
          ]
        },
        {
          "output_type": "stream",
          "name": "stderr",
          "text": [
            " 68%|██████▊   | 1616/2388 [25:51<02:39,  4.83it/s, avg_loss=0.6218803387478538]"
          ]
        },
        {
          "output_type": "stream",
          "name": "stdout",
          "text": [
            "Val Accuracy: 0.659004187994416\n"
          ]
        },
        {
          "output_type": "stream",
          "name": "stderr",
          "text": [
            " 72%|███████▏  | 1716/2388 [27:28<02:19,  4.82it/s, avg_loss=0.6213218443047952]"
          ]
        },
        {
          "output_type": "stream",
          "name": "stdout",
          "text": [
            "Val Accuracy: 0.6795718939041414\n"
          ]
        },
        {
          "output_type": "stream",
          "name": "stderr",
          "text": [
            " 76%|███████▌  | 1816/2388 [29:05<02:01,  4.71it/s, avg_loss=0.6200783130685642]"
          ]
        },
        {
          "output_type": "stream",
          "name": "stdout",
          "text": [
            "Val Accuracy: 0.6912982782689623\n"
          ]
        },
        {
          "output_type": "stream",
          "name": "stderr",
          "text": [
            " 80%|████████  | 1916/2388 [30:42<01:40,  4.70it/s, avg_loss=0.6194294359637973]"
          ]
        },
        {
          "output_type": "stream",
          "name": "stdout",
          "text": [
            "Val Accuracy: 0.6738017682643089\n"
          ]
        },
        {
          "output_type": "stream",
          "name": "stderr",
          "text": [
            " 84%|████████▍ | 2016/2388 [32:19<01:18,  4.73it/s, avg_loss=0.6190049773581736]"
          ]
        },
        {
          "output_type": "stream",
          "name": "stdout",
          "text": [
            "Val Accuracy: 0.6842252210330386\n"
          ]
        },
        {
          "output_type": "stream",
          "name": "stderr",
          "text": [
            " 89%|████████▊ | 2116/2388 [33:56<00:57,  4.77it/s, avg_loss=0.6192212020472417]"
          ]
        },
        {
          "output_type": "stream",
          "name": "stdout",
          "text": [
            "Val Accuracy: 0.6738948348068869\n"
          ]
        },
        {
          "output_type": "stream",
          "name": "stderr",
          "text": [
            " 93%|█████████▎| 2216/2388 [35:33<00:36,  4.68it/s, avg_loss=0.6189545220521102]"
          ]
        },
        {
          "output_type": "stream",
          "name": "stdout",
          "text": [
            "Val Accuracy: 0.6800372266170311\n"
          ]
        },
        {
          "output_type": "stream",
          "name": "stderr",
          "text": [
            " 97%|█████████▋| 2316/2388 [37:10<00:14,  4.83it/s, avg_loss=0.618378832634019] "
          ]
        },
        {
          "output_type": "stream",
          "name": "stdout",
          "text": [
            "Val Accuracy: 0.6843182875756165\n"
          ]
        },
        {
          "output_type": "stream",
          "name": "stderr",
          "text": [
            "100%|██████████| 2388/2388 [38:41<00:00,  1.03it/s, avg_loss=0.6181847023429783]\n",
            "  1%|          | 28/2388 [00:06<08:28,  4.64it/s, avg_loss=0.5714644245032606]"
          ]
        },
        {
          "output_type": "stream",
          "name": "stdout",
          "text": [
            "Val Accuracy: 0.6884132154490461\n"
          ]
        },
        {
          "output_type": "stream",
          "name": "stderr",
          "text": [
            "  5%|▌         | 128/2388 [01:43<07:51,  4.80it/s, avg_loss=0.5945028722748276]"
          ]
        },
        {
          "output_type": "stream",
          "name": "stdout",
          "text": [
            "Val Accuracy: 0.6713820381572825\n"
          ]
        },
        {
          "output_type": "stream",
          "name": "stderr",
          "text": [
            " 10%|▉         | 228/2388 [03:19<07:35,  4.74it/s, avg_loss=0.593107383063787] "
          ]
        },
        {
          "output_type": "stream",
          "name": "stdout",
          "text": [
            "Val Accuracy: 0.7056305258259655\n"
          ]
        },
        {
          "output_type": "stream",
          "name": "stderr",
          "text": [
            " 14%|█▎        | 328/2388 [04:56<07:14,  4.74it/s, avg_loss=0.5936772454654554]"
          ]
        },
        {
          "output_type": "stream",
          "name": "stdout",
          "text": [
            "Val Accuracy: 0.7092601209865054\n"
          ]
        },
        {
          "output_type": "stream",
          "name": "stderr",
          "text": [
            " 18%|█▊        | 428/2388 [06:32<06:45,  4.84it/s, avg_loss=0.5912803633090777]"
          ]
        },
        {
          "output_type": "stream",
          "name": "stdout",
          "text": [
            "Val Accuracy: 0.7041414611447184\n"
          ]
        },
        {
          "output_type": "stream",
          "name": "stderr",
          "text": [
            " 22%|██▏       | 528/2388 [08:09<06:28,  4.79it/s, avg_loss=0.5827984083126984]"
          ]
        },
        {
          "output_type": "stream",
          "name": "stdout",
          "text": [
            "Val Accuracy: 0.7024662633783155\n"
          ]
        },
        {
          "output_type": "stream",
          "name": "stderr",
          "text": [
            " 26%|██▋       | 628/2388 [09:46<06:10,  4.75it/s, avg_loss=0.5829255061612031]"
          ]
        },
        {
          "output_type": "stream",
          "name": "stdout",
          "text": [
            "Val Accuracy: 0.701628664495114\n"
          ]
        },
        {
          "output_type": "stream",
          "name": "stderr",
          "text": [
            " 30%|███       | 728/2388 [11:23<05:43,  4.83it/s, avg_loss=0.5845628659584559]"
          ]
        },
        {
          "output_type": "stream",
          "name": "stdout",
          "text": [
            "Val Accuracy: 0.7306654257794323\n"
          ]
        },
        {
          "output_type": "stream",
          "name": "stderr",
          "text": [
            " 35%|███▍      | 828/2388 [12:59<05:27,  4.77it/s, avg_loss=0.5854705067753648]"
          ]
        },
        {
          "output_type": "stream",
          "name": "stdout",
          "text": [
            "Val Accuracy: 0.6859004187994416\n"
          ]
        },
        {
          "output_type": "stream",
          "name": "stderr",
          "text": [
            " 39%|███▉      | 928/2388 [14:36<05:02,  4.83it/s, avg_loss=0.5863094164301171]"
          ]
        },
        {
          "output_type": "stream",
          "name": "stdout",
          "text": [
            "Val Accuracy: 0.7122382503489996\n"
          ]
        },
        {
          "output_type": "stream",
          "name": "stderr",
          "text": [
            " 43%|████▎     | 1028/2388 [16:13<04:43,  4.79it/s, avg_loss=0.5825503100690851]"
          ]
        },
        {
          "output_type": "stream",
          "name": "stdout",
          "text": [
            "Val Accuracy: 0.701628664495114\n"
          ]
        },
        {
          "output_type": "stream",
          "name": "stderr",
          "text": [
            " 47%|████▋     | 1128/2388 [17:50<04:24,  4.77it/s, avg_loss=0.5832669652331921]"
          ]
        },
        {
          "output_type": "stream",
          "name": "stdout",
          "text": [
            "Val Accuracy: 0.7074918566775245\n"
          ]
        },
        {
          "output_type": "stream",
          "name": "stderr",
          "text": [
            " 51%|█████▏    | 1228/2388 [19:27<04:04,  4.75it/s, avg_loss=0.5827208586928319]"
          ]
        },
        {
          "output_type": "stream",
          "name": "stdout",
          "text": [
            "Val Accuracy: 0.7270358306188925\n"
          ]
        },
        {
          "output_type": "stream",
          "name": "stderr",
          "text": [
            " 56%|█████▌    | 1328/2388 [21:04<03:43,  4.75it/s, avg_loss=0.5846994946871241]"
          ]
        },
        {
          "output_type": "stream",
          "name": "stdout",
          "text": [
            "Val Accuracy: 0.7189390414146114\n"
          ]
        },
        {
          "output_type": "stream",
          "name": "stderr",
          "text": [
            " 60%|█████▉    | 1428/2388 [22:41<03:21,  4.77it/s, avg_loss=0.584218044561302] "
          ]
        },
        {
          "output_type": "stream",
          "name": "stdout",
          "text": [
            "Val Accuracy: 0.7266635644485807\n"
          ]
        },
        {
          "output_type": "stream",
          "name": "stderr",
          "text": [
            " 64%|██████▍   | 1528/2388 [24:17<03:03,  4.69it/s, avg_loss=0.5841501009589009]"
          ]
        },
        {
          "output_type": "stream",
          "name": "stdout",
          "text": [
            "Val Accuracy: 0.7050721265704979\n"
          ]
        },
        {
          "output_type": "stream",
          "name": "stderr",
          "text": [
            " 68%|██████▊   | 1628/2388 [25:54<02:38,  4.78it/s, avg_loss=0.5827605747294763]"
          ]
        },
        {
          "output_type": "stream",
          "name": "stdout",
          "text": [
            "Val Accuracy: 0.7069334574220568\n"
          ]
        },
        {
          "output_type": "stream",
          "name": "stderr",
          "text": [
            " 72%|███████▏  | 1728/2388 [27:31<02:17,  4.80it/s, avg_loss=0.5832272608666974]"
          ]
        },
        {
          "output_type": "stream",
          "name": "stdout",
          "text": [
            "Val Accuracy: 0.7183806421591438\n"
          ]
        },
        {
          "output_type": "stream",
          "name": "stderr",
          "text": [
            " 77%|███████▋  | 1828/2388 [29:08<01:58,  4.71it/s, avg_loss=0.5805665939524892]"
          ]
        },
        {
          "output_type": "stream",
          "name": "stdout",
          "text": [
            "Val Accuracy: 0.7320614239181015\n"
          ]
        },
        {
          "output_type": "stream",
          "name": "stderr",
          "text": [
            " 81%|████████  | 1928/2388 [30:45<01:36,  4.74it/s, avg_loss=0.5794250419978467]"
          ]
        },
        {
          "output_type": "stream",
          "name": "stdout",
          "text": [
            "Val Accuracy: 0.7184737087017218\n"
          ]
        },
        {
          "output_type": "stream",
          "name": "stderr",
          "text": [
            " 85%|████████▍ | 2028/2388 [32:21<01:15,  4.76it/s, avg_loss=0.5783270164670588]"
          ]
        },
        {
          "output_type": "stream",
          "name": "stdout",
          "text": [
            "Val Accuracy: 0.7096323871568171\n"
          ]
        },
        {
          "output_type": "stream",
          "name": "stderr",
          "text": [
            " 89%|████████▉ | 2128/2388 [33:58<00:54,  4.76it/s, avg_loss=0.5778002622976948]"
          ]
        },
        {
          "output_type": "stream",
          "name": "stdout",
          "text": [
            "Val Accuracy: 0.7337366216845044\n"
          ]
        },
        {
          "output_type": "stream",
          "name": "stderr",
          "text": [
            " 93%|█████████▎| 2228/2388 [35:34<00:33,  4.79it/s, avg_loss=0.5762982301885314]"
          ]
        },
        {
          "output_type": "stream",
          "name": "stdout",
          "text": [
            "Val Accuracy: 0.7237785016286645\n"
          ]
        },
        {
          "output_type": "stream",
          "name": "stderr",
          "text": [
            " 97%|█████████▋| 2328/2388 [37:11<00:12,  4.83it/s, avg_loss=0.5766382051824551]"
          ]
        },
        {
          "output_type": "stream",
          "name": "stdout",
          "text": [
            "Val Accuracy: 0.7355979525360633\n"
          ]
        },
        {
          "output_type": "stream",
          "name": "stderr",
          "text": [
            "100%|██████████| 2388/2388 [38:39<00:00,  1.03it/s, avg_loss=0.5768121247689928]\n",
            "  2%|▏         | 40/2388 [00:08<08:13,  4.76it/s, avg_loss=0.5382159781165239]"
          ]
        },
        {
          "output_type": "stream",
          "name": "stdout",
          "text": [
            "Val Accuracy: 0.7465798045602606\n"
          ]
        },
        {
          "output_type": "stream",
          "name": "stderr",
          "text": [
            "  6%|▌         | 140/2388 [01:45<07:46,  4.82it/s, avg_loss=0.5148934727230816]"
          ]
        },
        {
          "output_type": "stream",
          "name": "stdout",
          "text": [
            "Val Accuracy: 0.7600744532340623\n"
          ]
        },
        {
          "output_type": "stream",
          "name": "stderr",
          "text": [
            " 10%|█         | 240/2388 [03:22<07:36,  4.70it/s, avg_loss=0.524651040922062] "
          ]
        },
        {
          "output_type": "stream",
          "name": "stdout",
          "text": [
            "Val Accuracy: 0.7139134481154025\n"
          ]
        },
        {
          "output_type": "stream",
          "name": "stderr",
          "text": [
            " 14%|█▍        | 340/2388 [04:59<07:11,  4.75it/s, avg_loss=0.5395235722540411]"
          ]
        },
        {
          "output_type": "stream",
          "name": "stdout",
          "text": [
            "Val Accuracy: 0.7194043741275011\n"
          ]
        },
        {
          "output_type": "stream",
          "name": "stderr",
          "text": [
            " 18%|█▊        | 440/2388 [06:36<06:53,  4.71it/s, avg_loss=0.5424306293328603]"
          ]
        },
        {
          "output_type": "stream",
          "name": "stdout",
          "text": [
            "Val Accuracy: 0.7334574220567706\n"
          ]
        },
        {
          "output_type": "stream",
          "name": "stderr",
          "text": [
            " 23%|██▎       | 540/2388 [08:13<06:29,  4.74it/s, avg_loss=0.5394576261312376]"
          ]
        },
        {
          "output_type": "stream",
          "name": "stdout",
          "text": [
            "Val Accuracy: 0.7545835272219638\n"
          ]
        },
        {
          "output_type": "stream",
          "name": "stderr",
          "text": [
            " 27%|██▋       | 640/2388 [09:50<06:10,  4.71it/s, avg_loss=0.5383608724555805]"
          ]
        },
        {
          "output_type": "stream",
          "name": "stdout",
          "text": [
            "Val Accuracy: 0.7501163331782225\n"
          ]
        },
        {
          "output_type": "stream",
          "name": "stderr",
          "text": [
            " 31%|███       | 740/2388 [11:27<05:45,  4.77it/s, avg_loss=0.5403212447438324]"
          ]
        },
        {
          "output_type": "stream",
          "name": "stdout",
          "text": [
            "Val Accuracy: 0.7556072591903211\n"
          ]
        },
        {
          "output_type": "stream",
          "name": "stderr",
          "text": [
            " 35%|███▌      | 840/2388 [13:04<05:28,  4.71it/s, avg_loss=0.537534785061614] "
          ]
        },
        {
          "output_type": "stream",
          "name": "stdout",
          "text": [
            "Val Accuracy: 0.7457422056770591\n"
          ]
        },
        {
          "output_type": "stream",
          "name": "stderr",
          "text": [
            " 39%|███▉      | 940/2388 [14:41<05:00,  4.82it/s, avg_loss=0.5366283258646884]"
          ]
        },
        {
          "output_type": "stream",
          "name": "stdout",
          "text": [
            "Val Accuracy: 0.7461144718473709\n"
          ]
        },
        {
          "output_type": "stream",
          "name": "stderr",
          "text": [
            " 44%|████▎     | 1040/2388 [16:18<04:41,  4.79it/s, avg_loss=0.5327391021819669]"
          ]
        },
        {
          "output_type": "stream",
          "name": "stdout",
          "text": [
            "Val Accuracy: 0.7618427175430432\n"
          ]
        },
        {
          "output_type": "stream",
          "name": "stderr",
          "text": [
            " 48%|████▊     | 1140/2388 [17:55<04:22,  4.75it/s, avg_loss=0.5311120721878032]"
          ]
        },
        {
          "output_type": "stream",
          "name": "stdout",
          "text": [
            "Val Accuracy: 0.7513261982317357\n"
          ]
        },
        {
          "output_type": "stream",
          "name": "stderr",
          "text": [
            " 52%|█████▏    | 1240/2388 [19:32<04:02,  4.73it/s, avg_loss=0.5312042816764976]"
          ]
        },
        {
          "output_type": "stream",
          "name": "stdout",
          "text": [
            "Val Accuracy: 0.7743136342484876\n"
          ]
        },
        {
          "output_type": "stream",
          "name": "stderr",
          "text": [
            " 56%|█████▌    | 1340/2388 [21:09<03:38,  4.80it/s, avg_loss=0.5297662366312178]"
          ]
        },
        {
          "output_type": "stream",
          "name": "stdout",
          "text": [
            "Val Accuracy: 0.7436947417403443\n"
          ]
        },
        {
          "output_type": "stream",
          "name": "stderr",
          "text": [
            " 60%|██████    | 1440/2388 [22:46<03:18,  4.78it/s, avg_loss=0.5298760979333575]"
          ]
        },
        {
          "output_type": "stream",
          "name": "stdout",
          "text": [
            "Val Accuracy: 0.7636109818520243\n"
          ]
        },
        {
          "output_type": "stream",
          "name": "stderr",
          "text": [
            " 64%|██████▍   | 1540/2388 [24:23<02:56,  4.79it/s, avg_loss=0.5277795608770066]"
          ]
        },
        {
          "output_type": "stream",
          "name": "stdout",
          "text": [
            "Val Accuracy: 0.7679851093531875\n"
          ]
        },
        {
          "output_type": "stream",
          "name": "stderr",
          "text": [
            " 69%|██████▊   | 1640/2388 [25:59<02:37,  4.76it/s, avg_loss=0.5266334630508092]"
          ]
        },
        {
          "output_type": "stream",
          "name": "stdout",
          "text": [
            "Val Accuracy: 0.7620288506281991\n"
          ]
        },
        {
          "output_type": "stream",
          "name": "stderr",
          "text": [
            " 73%|███████▎  | 1740/2388 [27:36<02:17,  4.70it/s, avg_loss=0.5247675511496016]"
          ]
        },
        {
          "output_type": "stream",
          "name": "stdout",
          "text": [
            "Val Accuracy: 0.7662168450442066\n"
          ]
        },
        {
          "output_type": "stream",
          "name": "stderr",
          "text": [
            " 77%|███████▋  | 1840/2388 [29:13<01:55,  4.76it/s, avg_loss=0.5235729732635163]"
          ]
        },
        {
          "output_type": "stream",
          "name": "stdout",
          "text": [
            "Val Accuracy: 0.7630525825965565\n"
          ]
        },
        {
          "output_type": "stream",
          "name": "stderr",
          "text": [
            " 81%|████████  | 1940/2388 [30:50<01:34,  4.75it/s, avg_loss=0.521082521298692] "
          ]
        },
        {
          "output_type": "stream",
          "name": "stdout",
          "text": [
            "Val Accuracy: 0.7718939041414612\n"
          ]
        },
        {
          "output_type": "stream",
          "name": "stderr",
          "text": [
            " 85%|████████▌ | 2040/2388 [32:27<01:11,  4.84it/s, avg_loss=0.520024939320182] "
          ]
        },
        {
          "output_type": "stream",
          "name": "stdout",
          "text": [
            "Val Accuracy: 0.7909725453699396\n"
          ]
        },
        {
          "output_type": "stream",
          "name": "stderr",
          "text": [
            " 90%|████████▉ | 2140/2388 [34:04<00:51,  4.82it/s, avg_loss=0.519129838333376]"
          ]
        },
        {
          "output_type": "stream",
          "name": "stdout",
          "text": [
            "Val Accuracy: 0.7827826896230805\n"
          ]
        },
        {
          "output_type": "stream",
          "name": "stderr",
          "text": [
            " 94%|█████████▍| 2240/2388 [35:41<00:31,  4.75it/s, avg_loss=0.5169156284330414]"
          ]
        },
        {
          "output_type": "stream",
          "name": "stdout",
          "text": [
            "Val Accuracy: 0.7529083294555607\n"
          ]
        },
        {
          "output_type": "stream",
          "name": "stderr",
          "text": [
            " 98%|█████████▊| 2340/2388 [37:17<00:10,  4.75it/s, avg_loss=0.5168367570909819]"
          ]
        },
        {
          "output_type": "stream",
          "name": "stdout",
          "text": [
            "Val Accuracy: 0.7676128431828757\n"
          ]
        },
        {
          "output_type": "stream",
          "name": "stderr",
          "text": [
            "100%|██████████| 2388/2388 [38:43<00:00,  1.03it/s, avg_loss=0.5158695493492499]\n",
            "  2%|▏         | 52/2388 [00:11<08:07,  4.79it/s, avg_loss=0.5250518580652633]"
          ]
        },
        {
          "output_type": "stream",
          "name": "stdout",
          "text": [
            "Val Accuracy: 0.7796184271754304\n"
          ]
        },
        {
          "output_type": "stream",
          "name": "stderr",
          "text": [
            "  6%|▋         | 152/2388 [01:47<07:51,  4.74it/s, avg_loss=0.4936808991471147] "
          ]
        },
        {
          "output_type": "stream",
          "name": "stdout",
          "text": [
            "Val Accuracy: 0.8120055839925546\n"
          ]
        },
        {
          "output_type": "stream",
          "name": "stderr",
          "text": [
            " 11%|█         | 252/2388 [03:24<07:23,  4.81it/s, avg_loss=0.47825966021524585]"
          ]
        },
        {
          "output_type": "stream",
          "name": "stdout",
          "text": [
            "Val Accuracy: 0.7731968357375524\n"
          ]
        },
        {
          "output_type": "stream",
          "name": "stderr",
          "text": [
            " 15%|█▍        | 352/2388 [05:01<07:13,  4.70it/s, avg_loss=0.4675723814508395]"
          ]
        },
        {
          "output_type": "stream",
          "name": "stdout",
          "text": [
            "Val Accuracy: 0.7446254071661238\n"
          ]
        },
        {
          "output_type": "stream",
          "name": "stderr",
          "text": [
            " 19%|█▉        | 452/2388 [06:38<06:42,  4.81it/s, avg_loss=0.4715765259715895]"
          ]
        },
        {
          "output_type": "stream",
          "name": "stdout",
          "text": [
            "Val Accuracy: 0.8149837133550488\n"
          ]
        },
        {
          "output_type": "stream",
          "name": "stderr",
          "text": [
            " 23%|██▎       | 552/2388 [08:15<06:30,  4.70it/s, avg_loss=0.4669858106086957]"
          ]
        },
        {
          "output_type": "stream",
          "name": "stdout",
          "text": [
            "Val Accuracy: 0.8018613308515589\n"
          ]
        },
        {
          "output_type": "stream",
          "name": "stderr",
          "text": [
            " 27%|██▋       | 652/2388 [09:51<06:06,  4.74it/s, avg_loss=0.4653381855779001]"
          ]
        },
        {
          "output_type": "stream",
          "name": "stdout",
          "text": [
            "Val Accuracy: 0.8035365286179619\n"
          ]
        },
        {
          "output_type": "stream",
          "name": "stderr",
          "text": [
            " 31%|███▏      | 752/2388 [11:28<05:43,  4.77it/s, avg_loss=0.46366790757275833]"
          ]
        },
        {
          "output_type": "stream",
          "name": "stdout",
          "text": [
            "Val Accuracy: 0.7953466728711028\n"
          ]
        },
        {
          "output_type": "stream",
          "name": "stderr",
          "text": [
            " 36%|███▌      | 852/2388 [13:05<05:19,  4.80it/s, avg_loss=0.4598918236521316]"
          ]
        },
        {
          "output_type": "stream",
          "name": "stdout",
          "text": [
            "Val Accuracy: 0.7503955328059563\n"
          ]
        },
        {
          "output_type": "stream",
          "name": "stderr",
          "text": [
            " 40%|███▉      | 952/2388 [14:41<04:55,  4.85it/s, avg_loss=0.4602156957027044]"
          ]
        },
        {
          "output_type": "stream",
          "name": "stdout",
          "text": [
            "Val Accuracy: 0.8086551884597487\n"
          ]
        },
        {
          "output_type": "stream",
          "name": "stderr",
          "text": [
            " 44%|████▍     | 1052/2388 [16:17<04:40,  4.76it/s, avg_loss=0.4605365488448261] "
          ]
        },
        {
          "output_type": "stream",
          "name": "stdout",
          "text": [
            "Val Accuracy: 0.8111679851093532\n"
          ]
        },
        {
          "output_type": "stream",
          "name": "stderr",
          "text": [
            " 48%|████▊     | 1152/2388 [17:53<04:18,  4.78it/s, avg_loss=0.462044478490212] "
          ]
        },
        {
          "output_type": "stream",
          "name": "stdout",
          "text": [
            "Val Accuracy: 0.8121917170777105\n"
          ]
        },
        {
          "output_type": "stream",
          "name": "stderr",
          "text": [
            " 52%|█████▏    | 1252/2388 [19:29<03:55,  4.83it/s, avg_loss=0.4584103343385463]"
          ]
        },
        {
          "output_type": "stream",
          "name": "stdout",
          "text": [
            "Val Accuracy: 0.8042810609585854\n"
          ]
        },
        {
          "output_type": "stream",
          "name": "stderr",
          "text": [
            " 57%|█████▋    | 1352/2388 [21:05<03:34,  4.83it/s, avg_loss=0.45891015979971433]"
          ]
        },
        {
          "output_type": "stream",
          "name": "stdout",
          "text": [
            "Val Accuracy: 0.7871568171242438\n"
          ]
        },
        {
          "output_type": "stream",
          "name": "stderr",
          "text": [
            " 61%|██████    | 1452/2388 [22:42<03:15,  4.79it/s, avg_loss=0.45766745934856407]"
          ]
        },
        {
          "output_type": "stream",
          "name": "stdout",
          "text": [
            "Val Accuracy: 0.7706840390879479\n"
          ]
        },
        {
          "output_type": "stream",
          "name": "stderr",
          "text": [
            " 65%|██████▍   | 1552/2388 [24:18<02:54,  4.78it/s, avg_loss=0.45430397621313373]"
          ]
        },
        {
          "output_type": "stream",
          "name": "stdout",
          "text": [
            "Val Accuracy: 0.7895765472312704\n"
          ]
        },
        {
          "output_type": "stream",
          "name": "stderr",
          "text": [
            " 69%|██████▉   | 1652/2388 [25:54<02:32,  4.82it/s, avg_loss=0.4525811756362139]"
          ]
        },
        {
          "output_type": "stream",
          "name": "stdout",
          "text": [
            "Val Accuracy: 0.7943229409027455\n"
          ]
        },
        {
          "output_type": "stream",
          "name": "stderr",
          "text": [
            " 73%|███████▎  | 1752/2388 [27:30<02:12,  4.81it/s, avg_loss=0.4512140569146946]"
          ]
        },
        {
          "output_type": "stream",
          "name": "stdout",
          "text": [
            "Val Accuracy: 0.790134946486738\n"
          ]
        },
        {
          "output_type": "stream",
          "name": "stderr",
          "text": [
            " 78%|███████▊  | 1852/2388 [29:06<01:52,  4.76it/s, avg_loss=0.4479122282570269]"
          ]
        },
        {
          "output_type": "stream",
          "name": "stdout",
          "text": [
            "Val Accuracy: 0.808282922289437\n"
          ]
        },
        {
          "output_type": "stream",
          "name": "stderr",
          "text": [
            " 82%|████████▏ | 1952/2388 [30:41<01:30,  4.81it/s, avg_loss=0.44574012439287874]"
          ]
        },
        {
          "output_type": "stream",
          "name": "stdout",
          "text": [
            "Val Accuracy: 0.821219171707771\n"
          ]
        },
        {
          "output_type": "stream",
          "name": "stderr",
          "text": [
            " 86%|████████▌ | 2052/2388 [32:18<01:09,  4.83it/s, avg_loss=0.44480014659366374]"
          ]
        },
        {
          "output_type": "stream",
          "name": "stdout",
          "text": [
            "Val Accuracy: 0.805025593299209\n"
          ]
        },
        {
          "output_type": "stream",
          "name": "stderr",
          "text": [
            " 90%|█████████ | 2152/2388 [33:53<00:49,  4.80it/s, avg_loss=0.445917126794873]  "
          ]
        },
        {
          "output_type": "stream",
          "name": "stdout",
          "text": [
            "Val Accuracy: 0.8256863657515123\n"
          ]
        },
        {
          "output_type": "stream",
          "name": "stderr",
          "text": [
            " 94%|█████████▍| 2252/2388 [35:29<00:28,  4.86it/s, avg_loss=0.44446481647415526]"
          ]
        },
        {
          "output_type": "stream",
          "name": "stdout",
          "text": [
            "Val Accuracy: 0.8281991624011168\n"
          ]
        },
        {
          "output_type": "stream",
          "name": "stderr",
          "text": [
            " 98%|█████████▊| 2352/2388 [37:05<00:07,  4.77it/s, avg_loss=0.4438087346781911] "
          ]
        },
        {
          "output_type": "stream",
          "name": "stdout",
          "text": [
            "Val Accuracy: 0.7422056770590972\n"
          ]
        },
        {
          "output_type": "stream",
          "name": "stderr",
          "text": [
            "100%|██████████| 2388/2388 [38:27<00:00,  1.03it/s, avg_loss=0.4433693764762488]\n",
            "  3%|▎         | 64/2388 [00:13<08:02,  4.81it/s, avg_loss=0.3445091607478949]"
          ]
        },
        {
          "output_type": "stream",
          "name": "stdout",
          "text": [
            "Val Accuracy: 0.8231735691019079\n"
          ]
        },
        {
          "output_type": "stream",
          "name": "stderr",
          "text": [
            "  7%|▋         | 164/2388 [01:49<07:41,  4.82it/s, avg_loss=0.4015182760628787]"
          ]
        },
        {
          "output_type": "stream",
          "name": "stdout",
          "text": [
            "Val Accuracy: 0.8528617961842717\n"
          ]
        },
        {
          "output_type": "stream",
          "name": "stderr",
          "text": [
            " 11%|█         | 264/2388 [03:25<07:18,  4.84it/s, avg_loss=0.39099489018883343]"
          ]
        },
        {
          "output_type": "stream",
          "name": "stdout",
          "text": [
            "Val Accuracy: 0.8444858073522569\n"
          ]
        },
        {
          "output_type": "stream",
          "name": "stderr",
          "text": [
            " 15%|█▌        | 364/2388 [05:02<07:02,  4.79it/s, avg_loss=0.39294100566065476]"
          ]
        },
        {
          "output_type": "stream",
          "name": "stdout",
          "text": [
            "Val Accuracy: 0.836016751977664\n"
          ]
        },
        {
          "output_type": "stream",
          "name": "stderr",
          "text": [
            " 19%|█▉        | 464/2388 [06:38<06:39,  4.81it/s, avg_loss=0.3904611340693889] "
          ]
        },
        {
          "output_type": "stream",
          "name": "stdout",
          "text": [
            "Val Accuracy: 0.8481154025127966\n"
          ]
        },
        {
          "output_type": "stream",
          "name": "stderr",
          "text": [
            " 24%|██▎       | 564/2388 [08:14<06:19,  4.81it/s, avg_loss=0.3883268220960039]"
          ]
        },
        {
          "output_type": "stream",
          "name": "stdout",
          "text": [
            "Val Accuracy: 0.8187063750581666\n"
          ]
        },
        {
          "output_type": "stream",
          "name": "stderr",
          "text": [
            " 28%|██▊       | 664/2388 [09:50<06:01,  4.77it/s, avg_loss=0.3868011565640905]"
          ]
        },
        {
          "output_type": "stream",
          "name": "stdout",
          "text": [
            "Val Accuracy: 0.8398324802233597\n"
          ]
        },
        {
          "output_type": "stream",
          "name": "stderr",
          "text": [
            " 32%|███▏      | 764/2388 [11:26<05:33,  4.87it/s, avg_loss=0.3861547629574156] "
          ]
        },
        {
          "output_type": "stream",
          "name": "stdout",
          "text": [
            "Val Accuracy: 0.8629129827826896\n"
          ]
        },
        {
          "output_type": "stream",
          "name": "stderr",
          "text": [
            " 36%|███▌      | 864/2388 [13:02<05:14,  4.84it/s, avg_loss=0.3849066940906075]"
          ]
        },
        {
          "output_type": "stream",
          "name": "stdout",
          "text": [
            "Val Accuracy: 0.8423452768729641\n"
          ]
        },
        {
          "output_type": "stream",
          "name": "stderr",
          "text": [
            " 40%|████      | 964/2388 [14:39<04:57,  4.78it/s, avg_loss=0.38349088629601535]"
          ]
        },
        {
          "output_type": "stream",
          "name": "stdout",
          "text": [
            "Val Accuracy: 0.8126570497906003\n"
          ]
        },
        {
          "output_type": "stream",
          "name": "stderr",
          "text": [
            " 45%|████▍     | 1064/2388 [16:15<04:32,  4.86it/s, avg_loss=0.3813971005205257]"
          ]
        },
        {
          "output_type": "stream",
          "name": "stdout",
          "text": [
            "Val Accuracy: 0.8336900884132155\n"
          ]
        },
        {
          "output_type": "stream",
          "name": "stderr",
          "text": [
            " 49%|████▊     | 1164/2388 [17:51<04:12,  4.86it/s, avg_loss=0.38160198215762947]"
          ]
        },
        {
          "output_type": "stream",
          "name": "stdout",
          "text": [
            "Val Accuracy: 0.8472778036295951\n"
          ]
        },
        {
          "output_type": "stream",
          "name": "stderr",
          "text": [
            " 53%|█████▎    | 1264/2388 [19:27<03:58,  4.71it/s, avg_loss=0.38099292125332024]"
          ]
        },
        {
          "output_type": "stream",
          "name": "stdout",
          "text": [
            "Val Accuracy: 0.7709632387156817\n"
          ]
        },
        {
          "output_type": "stream",
          "name": "stderr",
          "text": [
            " 57%|█████▋    | 1364/2388 [21:03<03:33,  4.79it/s, avg_loss=0.37920808553859425]"
          ]
        },
        {
          "output_type": "stream",
          "name": "stdout",
          "text": [
            "Val Accuracy: 0.8764076314564914\n"
          ]
        },
        {
          "output_type": "stream",
          "name": "stderr",
          "text": [
            " 61%|██████▏   | 1464/2388 [22:39<03:14,  4.76it/s, avg_loss=0.37824122537016464]"
          ]
        },
        {
          "output_type": "stream",
          "name": "stdout",
          "text": [
            "Val Accuracy: 0.8682177757096324\n"
          ]
        },
        {
          "output_type": "stream",
          "name": "stderr",
          "text": [
            " 65%|██████▌   | 1564/2388 [24:15<02:50,  4.84it/s, avg_loss=0.3793406151306515]"
          ]
        },
        {
          "output_type": "stream",
          "name": "stdout",
          "text": [
            "Val Accuracy: 0.8283852954862727\n"
          ]
        },
        {
          "output_type": "stream",
          "name": "stderr",
          "text": [
            " 70%|██████▉   | 1664/2388 [25:51<02:31,  4.77it/s, avg_loss=0.3790737988041328] "
          ]
        },
        {
          "output_type": "stream",
          "name": "stdout",
          "text": [
            "Val Accuracy: 0.8483015355979525\n"
          ]
        },
        {
          "output_type": "stream",
          "name": "stderr",
          "text": [
            " 74%|███████▍  | 1764/2388 [27:27<02:10,  4.77it/s, avg_loss=0.3743736700700971]"
          ]
        },
        {
          "output_type": "stream",
          "name": "stdout",
          "text": [
            "Val Accuracy: 0.8678455095393206\n"
          ]
        },
        {
          "output_type": "stream",
          "name": "stderr",
          "text": [
            " 78%|███████▊  | 1864/2388 [29:03<01:49,  4.80it/s, avg_loss=0.37533159338676897]"
          ]
        },
        {
          "output_type": "stream",
          "name": "stdout",
          "text": [
            "Val Accuracy: 0.8506281991624011\n"
          ]
        },
        {
          "output_type": "stream",
          "name": "stderr",
          "text": [
            " 82%|████████▏ | 1964/2388 [30:40<01:29,  4.75it/s, avg_loss=0.37267965574111345]"
          ]
        },
        {
          "output_type": "stream",
          "name": "stdout",
          "text": [
            "Val Accuracy: 0.8763145649139135\n"
          ]
        },
        {
          "output_type": "stream",
          "name": "stderr",
          "text": [
            " 86%|████████▋ | 2064/2388 [32:16<01:06,  4.87it/s, avg_loss=0.36934613039396863]"
          ]
        },
        {
          "output_type": "stream",
          "name": "stdout",
          "text": [
            "Val Accuracy: 0.8493252675663099\n"
          ]
        },
        {
          "output_type": "stream",
          "name": "stderr",
          "text": [
            " 91%|█████████ | 2164/2388 [33:52<00:47,  4.75it/s, avg_loss=0.367683851539951]  "
          ]
        },
        {
          "output_type": "stream",
          "name": "stdout",
          "text": [
            "Val Accuracy: 0.8791996277338296\n"
          ]
        },
        {
          "output_type": "stream",
          "name": "stderr",
          "text": [
            " 95%|█████████▍| 2264/2388 [35:28<00:25,  4.83it/s, avg_loss=0.36709534604982297]"
          ]
        },
        {
          "output_type": "stream",
          "name": "stdout",
          "text": [
            "Val Accuracy: 0.8468124709167054\n"
          ]
        },
        {
          "output_type": "stream",
          "name": "stderr",
          "text": [
            " 99%|█████████▉| 2364/2388 [37:04<00:04,  4.86it/s, avg_loss=0.3659800118957715]"
          ]
        },
        {
          "output_type": "stream",
          "name": "stdout",
          "text": [
            "Val Accuracy: 0.8439274080967892\n"
          ]
        },
        {
          "output_type": "stream",
          "name": "stderr",
          "text": [
            "100%|██████████| 2388/2388 [38:24<00:00,  1.04it/s, avg_loss=0.3656798569728126]\n",
            "  3%|▎         | 76/2388 [00:16<08:01,  4.80it/s, avg_loss=0.30428895276862306]"
          ]
        },
        {
          "output_type": "stream",
          "name": "stdout",
          "text": [
            "Val Accuracy: 0.873801768264309\n"
          ]
        },
        {
          "output_type": "stream",
          "name": "stderr",
          "text": [
            "  7%|▋         | 176/2388 [01:52<07:43,  4.77it/s, avg_loss=0.3170660108664615]"
          ]
        },
        {
          "output_type": "stream",
          "name": "stdout",
          "text": [
            "Val Accuracy: 0.8048394602140531\n"
          ]
        },
        {
          "output_type": "stream",
          "name": "stderr",
          "text": [
            " 12%|█▏        | 276/2388 [03:28<07:24,  4.75it/s, avg_loss=0.297682193951809]  "
          ]
        },
        {
          "output_type": "stream",
          "name": "stdout",
          "text": [
            "Val Accuracy: 0.8847836202885063\n"
          ]
        },
        {
          "output_type": "stream",
          "name": "stderr",
          "text": [
            " 16%|█▌        | 376/2388 [05:04<06:54,  4.85it/s, avg_loss=0.30012490131968844]"
          ]
        },
        {
          "output_type": "stream",
          "name": "stdout",
          "text": [
            "Val Accuracy: 0.872219637040484\n"
          ]
        },
        {
          "output_type": "stream",
          "name": "stderr",
          "text": [
            " 20%|█▉        | 476/2388 [06:40<06:33,  4.86it/s, avg_loss=0.29308102033110783]"
          ]
        },
        {
          "output_type": "stream",
          "name": "stdout",
          "text": [
            "Val Accuracy: 0.8817124243834341\n"
          ]
        },
        {
          "output_type": "stream",
          "name": "stderr",
          "text": [
            " 24%|██▍       | 576/2388 [08:16<06:20,  4.76it/s, avg_loss=0.2964100939071571]"
          ]
        },
        {
          "output_type": "stream",
          "name": "stdout",
          "text": [
            "Val Accuracy: 0.86561191251745\n"
          ]
        },
        {
          "output_type": "stream",
          "name": "stderr",
          "text": [
            " 28%|██▊       | 676/2388 [09:52<05:53,  4.84it/s, avg_loss=0.30176079229202724]"
          ]
        },
        {
          "output_type": "stream",
          "name": "stdout",
          "text": [
            "Val Accuracy: 0.885155886458818\n"
          ]
        },
        {
          "output_type": "stream",
          "name": "stderr",
          "text": [
            " 32%|███▏      | 776/2388 [11:28<05:37,  4.78it/s, avg_loss=0.29774905518752115]"
          ]
        },
        {
          "output_type": "stream",
          "name": "stdout",
          "text": [
            "Val Accuracy: 0.8659841786877618\n"
          ]
        },
        {
          "output_type": "stream",
          "name": "stderr",
          "text": [
            " 37%|███▋      | 876/2388 [13:05<05:17,  4.76it/s, avg_loss=0.30159446777204557]"
          ]
        },
        {
          "output_type": "stream",
          "name": "stdout",
          "text": [
            "Val Accuracy: 0.893438808748255\n"
          ]
        },
        {
          "output_type": "stream",
          "name": "stderr",
          "text": [
            " 41%|████      | 976/2388 [14:41<04:54,  4.80it/s, avg_loss=0.3009153052958581] "
          ]
        },
        {
          "output_type": "stream",
          "name": "stdout",
          "text": [
            "Val Accuracy: 0.8268962308050256\n"
          ]
        },
        {
          "output_type": "stream",
          "name": "stderr",
          "text": [
            " 45%|████▌     | 1076/2388 [16:17<04:39,  4.69it/s, avg_loss=0.3008975215332311] "
          ]
        },
        {
          "output_type": "stream",
          "name": "stdout",
          "text": [
            "Val Accuracy: 0.908050255932992\n"
          ]
        },
        {
          "output_type": "stream",
          "name": "stderr",
          "text": [
            " 49%|████▉     | 1176/2388 [17:53<04:13,  4.78it/s, avg_loss=0.3019538729142211] "
          ]
        },
        {
          "output_type": "stream",
          "name": "stdout",
          "text": [
            "Val Accuracy: 0.8628199162401117\n"
          ]
        },
        {
          "output_type": "stream",
          "name": "stderr",
          "text": [
            " 53%|█████▎    | 1276/2388 [19:29<03:52,  4.79it/s, avg_loss=0.3022063411918112]"
          ]
        },
        {
          "output_type": "stream",
          "name": "stdout",
          "text": [
            "Val Accuracy: 0.9133550488599349\n"
          ]
        },
        {
          "output_type": "stream",
          "name": "stderr",
          "text": [
            " 58%|█████▊    | 1376/2388 [21:05<03:29,  4.82it/s, avg_loss=0.30147548981373434]"
          ]
        },
        {
          "output_type": "stream",
          "name": "stdout",
          "text": [
            "Val Accuracy: 0.8824569567240577\n"
          ]
        },
        {
          "output_type": "stream",
          "name": "stderr",
          "text": [
            " 62%|██████▏   | 1476/2388 [22:41<03:10,  4.79it/s, avg_loss=0.29871925214758255]"
          ]
        },
        {
          "output_type": "stream",
          "name": "stdout",
          "text": [
            "Val Accuracy: 0.8866449511400651\n"
          ]
        },
        {
          "output_type": "stream",
          "name": "stderr",
          "text": [
            " 66%|██████▌   | 1576/2388 [24:17<02:50,  4.77it/s, avg_loss=0.2968030066554805]"
          ]
        },
        {
          "output_type": "stream",
          "name": "stdout",
          "text": [
            "Val Accuracy: 0.911493718008376\n"
          ]
        },
        {
          "output_type": "stream",
          "name": "stderr",
          "text": [
            " 70%|███████   | 1676/2388 [25:53<02:29,  4.77it/s, avg_loss=0.2965869936352339] "
          ]
        },
        {
          "output_type": "stream",
          "name": "stdout",
          "text": [
            "Val Accuracy: 0.9056305258259656\n"
          ]
        },
        {
          "output_type": "stream",
          "name": "stderr",
          "text": [
            " 74%|███████▍  | 1776/2388 [27:30<02:09,  4.72it/s, avg_loss=0.29611954631752424]"
          ]
        },
        {
          "output_type": "stream",
          "name": "stdout",
          "text": [
            "Val Accuracy: 0.9081433224755701\n"
          ]
        },
        {
          "output_type": "stream",
          "name": "stderr",
          "text": [
            " 79%|███████▊  | 1876/2388 [29:06<01:48,  4.72it/s, avg_loss=0.295137068601082] "
          ]
        },
        {
          "output_type": "stream",
          "name": "stdout",
          "text": [
            "Val Accuracy: 0.9086086551884598\n"
          ]
        },
        {
          "output_type": "stream",
          "name": "stderr",
          "text": [
            " 83%|████████▎ | 1976/2388 [30:42<01:25,  4.84it/s, avg_loss=0.2953868554749601]"
          ]
        },
        {
          "output_type": "stream",
          "name": "stdout",
          "text": [
            "Val Accuracy: 0.8805956258724988\n"
          ]
        },
        {
          "output_type": "stream",
          "name": "stderr",
          "text": [
            " 87%|████████▋ | 2076/2388 [32:18<01:04,  4.83it/s, avg_loss=0.295877051428068] "
          ]
        },
        {
          "output_type": "stream",
          "name": "stdout",
          "text": [
            "Val Accuracy: 0.8945556072591904\n"
          ]
        },
        {
          "output_type": "stream",
          "name": "stderr",
          "text": [
            " 91%|█████████ | 2176/2388 [33:54<00:43,  4.83it/s, avg_loss=0.29583584778541316]"
          ]
        },
        {
          "output_type": "stream",
          "name": "stdout",
          "text": [
            "Val Accuracy: 0.9136342484876687\n"
          ]
        },
        {
          "output_type": "stream",
          "name": "stderr",
          "text": [
            " 95%|█████████▌| 2276/2388 [35:30<00:23,  4.79it/s, avg_loss=0.2940043198941934] "
          ]
        },
        {
          "output_type": "stream",
          "name": "stdout",
          "text": [
            "Val Accuracy: 0.9125174499767333\n"
          ]
        },
        {
          "output_type": "stream",
          "name": "stderr",
          "text": [
            " 99%|█████████▉| 2376/2388 [37:07<00:02,  4.77it/s, avg_loss=0.2924710986873258] "
          ]
        },
        {
          "output_type": "stream",
          "name": "stdout",
          "text": [
            "Val Accuracy: 0.8429036761284319\n"
          ]
        },
        {
          "output_type": "stream",
          "name": "stderr",
          "text": [
            "100%|██████████| 2388/2388 [38:24<00:00,  1.04it/s, avg_loss=0.2921880619066894]\n",
            "  4%|▎         | 88/2388 [00:18<08:02,  4.76it/s, avg_loss=0.24708050359668357]"
          ]
        },
        {
          "output_type": "stream",
          "name": "stdout",
          "text": [
            "Val Accuracy: 0.9037691949744067\n"
          ]
        },
        {
          "output_type": "stream",
          "name": "stderr",
          "text": [
            "  8%|▊         | 188/2388 [01:54<07:39,  4.78it/s, avg_loss=0.2129351806792396]"
          ]
        },
        {
          "output_type": "stream",
          "name": "stdout",
          "text": [
            "Val Accuracy: 0.9143787808282923\n"
          ]
        },
        {
          "output_type": "stream",
          "name": "stderr",
          "text": [
            " 12%|█▏        | 288/2388 [03:31<07:17,  4.80it/s, avg_loss=0.22837584794766452]"
          ]
        },
        {
          "output_type": "stream",
          "name": "stdout",
          "text": [
            "Val Accuracy: 0.8588180549092601\n"
          ]
        },
        {
          "output_type": "stream",
          "name": "stderr",
          "text": [
            " 16%|█▌        | 388/2388 [05:07<06:54,  4.82it/s, avg_loss=0.23748781312506043]"
          ]
        },
        {
          "output_type": "stream",
          "name": "stdout",
          "text": [
            "Val Accuracy: 0.8678455095393206\n"
          ]
        },
        {
          "output_type": "stream",
          "name": "stderr",
          "text": [
            " 20%|██        | 488/2388 [06:43<06:35,  4.80it/s, avg_loss=0.2372947350765268] "
          ]
        },
        {
          "output_type": "stream",
          "name": "stdout",
          "text": [
            "Val Accuracy: 0.8772452303396929\n"
          ]
        },
        {
          "output_type": "stream",
          "name": "stderr",
          "text": [
            " 25%|██▍       | 588/2388 [08:19<06:16,  4.79it/s, avg_loss=0.24099541372810893]"
          ]
        },
        {
          "output_type": "stream",
          "name": "stdout",
          "text": [
            "Val Accuracy: 0.8989297347603536\n"
          ]
        },
        {
          "output_type": "stream",
          "name": "stderr",
          "text": [
            " 29%|██▉       | 688/2388 [09:55<05:54,  4.79it/s, avg_loss=0.2350914782935048] "
          ]
        },
        {
          "output_type": "stream",
          "name": "stdout",
          "text": [
            "Val Accuracy: 0.9000465332712889\n"
          ]
        },
        {
          "output_type": "stream",
          "name": "stderr",
          "text": [
            " 33%|███▎      | 788/2388 [11:31<05:35,  4.77it/s, avg_loss=0.23401827182436624]"
          ]
        },
        {
          "output_type": "stream",
          "name": "stdout",
          "text": [
            "Val Accuracy: 0.9095393206142391\n"
          ]
        },
        {
          "output_type": "stream",
          "name": "stderr",
          "text": [
            " 37%|███▋      | 888/2388 [13:07<05:08,  4.86it/s, avg_loss=0.2383871240032202] "
          ]
        },
        {
          "output_type": "stream",
          "name": "stdout",
          "text": [
            "Val Accuracy: 0.8090274546300605\n"
          ]
        },
        {
          "output_type": "stream",
          "name": "stderr",
          "text": [
            " 41%|████▏     | 988/2388 [14:43<04:47,  4.87it/s, avg_loss=0.23784083095581635]"
          ]
        },
        {
          "output_type": "stream",
          "name": "stdout",
          "text": [
            "Val Accuracy: 0.9076779897626803\n"
          ]
        },
        {
          "output_type": "stream",
          "name": "stderr",
          "text": [
            " 46%|████▌     | 1088/2388 [16:19<04:32,  4.76it/s, avg_loss=0.235701215863091]  "
          ]
        },
        {
          "output_type": "stream",
          "name": "stdout",
          "text": [
            "Val Accuracy: 0.9273150302466263\n"
          ]
        },
        {
          "output_type": "stream",
          "name": "stderr",
          "text": [
            " 50%|████▉     | 1188/2388 [17:55<04:14,  4.72it/s, avg_loss=0.23956609393420641]"
          ]
        },
        {
          "output_type": "stream",
          "name": "stdout",
          "text": [
            "Val Accuracy: 0.8948348068869242\n"
          ]
        },
        {
          "output_type": "stream",
          "name": "stderr",
          "text": [
            " 54%|█████▍    | 1288/2388 [19:31<03:49,  4.80it/s, avg_loss=0.24242849471994016]"
          ]
        },
        {
          "output_type": "stream",
          "name": "stdout",
          "text": [
            "Val Accuracy: 0.9246161005118659\n"
          ]
        },
        {
          "output_type": "stream",
          "name": "stderr",
          "text": [
            " 58%|█████▊    | 1388/2388 [21:08<03:27,  4.81it/s, avg_loss=0.24304805678845826]"
          ]
        },
        {
          "output_type": "stream",
          "name": "stdout",
          "text": [
            "Val Accuracy: 0.885342019543974\n"
          ]
        },
        {
          "output_type": "stream",
          "name": "stderr",
          "text": [
            " 62%|██████▏   | 1488/2388 [22:44<03:10,  4.73it/s, avg_loss=0.24186793822905236]"
          ]
        },
        {
          "output_type": "stream",
          "name": "stdout",
          "text": [
            "Val Accuracy: 0.9206142391810144\n"
          ]
        },
        {
          "output_type": "stream",
          "name": "stderr",
          "text": [
            " 66%|██████▋   | 1588/2388 [24:20<02:47,  4.79it/s, avg_loss=0.2425757891558875] "
          ]
        },
        {
          "output_type": "stream",
          "name": "stdout",
          "text": [
            "Val Accuracy: 0.9090739879013494\n"
          ]
        },
        {
          "output_type": "stream",
          "name": "stderr",
          "text": [
            " 71%|███████   | 1688/2388 [25:56<02:29,  4.70it/s, avg_loss=0.24076791942260758]"
          ]
        },
        {
          "output_type": "stream",
          "name": "stdout",
          "text": [
            "Val Accuracy: 0.9172638436482085\n"
          ]
        },
        {
          "output_type": "stream",
          "name": "stderr",
          "text": [
            " 75%|███████▍  | 1788/2388 [27:32<02:04,  4.83it/s, avg_loss=0.24196332096824472]"
          ]
        },
        {
          "output_type": "stream",
          "name": "stdout",
          "text": [
            "Val Accuracy: 0.9117729176361098\n"
          ]
        },
        {
          "output_type": "stream",
          "name": "stderr",
          "text": [
            " 79%|███████▉  | 1888/2388 [29:08<01:44,  4.80it/s, avg_loss=0.24101555020666235]"
          ]
        },
        {
          "output_type": "stream",
          "name": "stdout",
          "text": [
            "Val Accuracy: 0.9157747789669614\n"
          ]
        },
        {
          "output_type": "stream",
          "name": "stderr",
          "text": [
            " 83%|████████▎ | 1988/2388 [30:44<01:23,  4.77it/s, avg_loss=0.24200846663127898]"
          ]
        },
        {
          "output_type": "stream",
          "name": "stdout",
          "text": [
            "Val Accuracy: 0.9097254536993951\n"
          ]
        },
        {
          "output_type": "stream",
          "name": "stderr",
          "text": [
            " 87%|████████▋ | 2088/2388 [32:20<01:03,  4.71it/s, avg_loss=0.24129544154019975]"
          ]
        },
        {
          "output_type": "stream",
          "name": "stdout",
          "text": [
            "Val Accuracy: 0.923127035830619\n"
          ]
        },
        {
          "output_type": "stream",
          "name": "stderr",
          "text": [
            " 92%|█████████▏| 2188/2388 [33:56<00:42,  4.75it/s, avg_loss=0.24103352703348094]"
          ]
        },
        {
          "output_type": "stream",
          "name": "stdout",
          "text": [
            "Val Accuracy: 0.9287110283852955\n"
          ]
        },
        {
          "output_type": "stream",
          "name": "stderr",
          "text": [
            " 96%|█████████▌| 2288/2388 [35:33<00:20,  4.79it/s, avg_loss=0.23800273402685576]"
          ]
        },
        {
          "output_type": "stream",
          "name": "stdout",
          "text": [
            "Val Accuracy: 0.8926012098650535\n"
          ]
        },
        {
          "output_type": "stream",
          "name": "stderr",
          "text": [
            "100%|██████████| 2388/2388 [37:09<00:00,  1.07it/s, avg_loss=0.23766247091395235]\n",
            "  0%|          | 0/2388 [00:00<?, ?it/s, avg_loss=0.2688927948474884]"
          ]
        },
        {
          "output_type": "stream",
          "name": "stdout",
          "text": [
            "Val Accuracy: 0.9334574220567706\n"
          ]
        },
        {
          "output_type": "stream",
          "name": "stderr",
          "text": [
            "  4%|▍         | 100/2388 [01:37<08:01,  4.75it/s, avg_loss=0.20988885385196399]"
          ]
        },
        {
          "output_type": "stream",
          "name": "stdout",
          "text": [
            "Val Accuracy: 0.9221033038622615\n"
          ]
        },
        {
          "output_type": "stream",
          "name": "stderr",
          "text": [
            "  8%|▊         | 200/2388 [03:14<07:43,  4.72it/s, avg_loss=0.19052181952164984]"
          ]
        },
        {
          "output_type": "stream",
          "name": "stdout",
          "text": [
            "Val Accuracy: 0.9273150302466263\n"
          ]
        },
        {
          "output_type": "stream",
          "name": "stderr",
          "text": [
            " 13%|█▎        | 300/2388 [04:50<07:16,  4.79it/s, avg_loss=0.17506914302409685]"
          ]
        },
        {
          "output_type": "stream",
          "name": "stdout",
          "text": [
            "Val Accuracy: 0.9113075849232201\n"
          ]
        },
        {
          "output_type": "stream",
          "name": "stderr",
          "text": [
            " 17%|█▋        | 400/2388 [06:27<06:57,  4.77it/s, avg_loss=0.17451053222483418]"
          ]
        },
        {
          "output_type": "stream",
          "name": "stdout",
          "text": [
            "Val Accuracy: 0.929362494183341\n"
          ]
        },
        {
          "output_type": "stream",
          "name": "stderr",
          "text": [
            " 21%|██        | 500/2388 [08:03<06:30,  4.83it/s, avg_loss=0.17812296592569102]"
          ]
        },
        {
          "output_type": "stream",
          "name": "stdout",
          "text": [
            "Val Accuracy: 0.9364355514192648\n"
          ]
        },
        {
          "output_type": "stream",
          "name": "stderr",
          "text": [
            " 25%|██▌       | 600/2388 [09:40<06:11,  4.82it/s, avg_loss=0.18632056329634888]"
          ]
        },
        {
          "output_type": "stream",
          "name": "stdout",
          "text": [
            "Val Accuracy: 0.8864588180549092\n"
          ]
        },
        {
          "output_type": "stream",
          "name": "stderr",
          "text": [
            " 29%|██▉       | 700/2388 [11:17<05:54,  4.76it/s, avg_loss=0.19097525642629443]"
          ]
        },
        {
          "output_type": "stream",
          "name": "stdout",
          "text": [
            "Val Accuracy: 0.9168915774778967\n"
          ]
        },
        {
          "output_type": "stream",
          "name": "stderr",
          "text": [
            " 34%|███▎      | 800/2388 [12:53<05:33,  4.76it/s, avg_loss=0.18806817903696152]"
          ]
        },
        {
          "output_type": "stream",
          "name": "stdout",
          "text": [
            "Val Accuracy: 0.9281526291298279\n"
          ]
        },
        {
          "output_type": "stream",
          "name": "stderr",
          "text": [
            " 38%|███▊      | 900/2388 [14:30<05:09,  4.81it/s, avg_loss=0.183284551394663]  "
          ]
        },
        {
          "output_type": "stream",
          "name": "stdout",
          "text": [
            "Val Accuracy: 0.9316891577477897\n"
          ]
        },
        {
          "output_type": "stream",
          "name": "stderr",
          "text": [
            " 42%|████▏     | 1000/2388 [16:07<04:52,  4.74it/s, avg_loss=0.18630036223562552]"
          ]
        },
        {
          "output_type": "stream",
          "name": "stdout",
          "text": [
            "Val Accuracy: 0.9349464867380177\n"
          ]
        },
        {
          "output_type": "stream",
          "name": "stderr",
          "text": [
            " 46%|████▌     | 1100/2388 [17:43<04:32,  4.72it/s, avg_loss=0.18655428242447578]"
          ]
        },
        {
          "output_type": "stream",
          "name": "stdout",
          "text": [
            "Val Accuracy: 0.9059097254536994\n"
          ]
        },
        {
          "output_type": "stream",
          "name": "stderr",
          "text": [
            " 50%|█████     | 1200/2388 [19:20<04:10,  4.75it/s, avg_loss=0.1878063552702725] "
          ]
        },
        {
          "output_type": "stream",
          "name": "stdout",
          "text": [
            "Val Accuracy: 0.9294555607259191\n"
          ]
        },
        {
          "output_type": "stream",
          "name": "stderr",
          "text": [
            " 54%|█████▍    | 1300/2388 [20:57<03:53,  4.67it/s, avg_loss=0.18729404312773942]"
          ]
        },
        {
          "output_type": "stream",
          "name": "stdout",
          "text": [
            "Val Accuracy: 0.9471382038157282\n"
          ]
        },
        {
          "output_type": "stream",
          "name": "stderr",
          "text": [
            " 59%|█████▊    | 1400/2388 [22:33<03:27,  4.75it/s, avg_loss=0.18828163031145642]"
          ]
        },
        {
          "output_type": "stream",
          "name": "stdout",
          "text": [
            "Val Accuracy: 0.8826430898092136\n"
          ]
        },
        {
          "output_type": "stream",
          "name": "stderr",
          "text": [
            " 63%|██████▎   | 1500/2388 [24:10<03:09,  4.67it/s, avg_loss=0.19098649348822894]"
          ]
        },
        {
          "output_type": "stream",
          "name": "stdout",
          "text": [
            "Val Accuracy: 0.9280595625872499\n"
          ]
        },
        {
          "output_type": "stream",
          "name": "stderr",
          "text": [
            " 67%|██████▋   | 1600/2388 [25:47<02:45,  4.76it/s, avg_loss=0.19539126283026706]"
          ]
        },
        {
          "output_type": "stream",
          "name": "stdout",
          "text": [
            "Val Accuracy: 0.922847836202885\n"
          ]
        },
        {
          "output_type": "stream",
          "name": "stderr",
          "text": [
            " 71%|███████   | 1700/2388 [27:23<02:24,  4.75it/s, avg_loss=0.19163597599608162]"
          ]
        },
        {
          "output_type": "stream",
          "name": "stdout",
          "text": [
            "Val Accuracy: 0.9466728711028385\n"
          ]
        },
        {
          "output_type": "stream",
          "name": "stderr",
          "text": [
            " 75%|███████▌  | 1800/2388 [29:00<02:03,  4.77it/s, avg_loss=0.19025277385337155]"
          ]
        },
        {
          "output_type": "stream",
          "name": "stdout",
          "text": [
            "Val Accuracy: 0.9060027919962773\n"
          ]
        },
        {
          "output_type": "stream",
          "name": "stderr",
          "text": [
            " 80%|███████▉  | 1900/2388 [30:36<01:42,  4.76it/s, avg_loss=0.18913536438834058]"
          ]
        },
        {
          "output_type": "stream",
          "name": "stdout",
          "text": [
            "Val Accuracy: 0.9146579804560261\n"
          ]
        },
        {
          "output_type": "stream",
          "name": "stderr",
          "text": [
            " 84%|████████▍ | 2000/2388 [32:13<01:21,  4.74it/s, avg_loss=0.1897284438806134] "
          ]
        },
        {
          "output_type": "stream",
          "name": "stdout",
          "text": [
            "Val Accuracy: 0.9382038157282457\n"
          ]
        },
        {
          "output_type": "stream",
          "name": "stderr",
          "text": [
            " 88%|████████▊ | 2100/2388 [33:50<01:00,  4.77it/s, avg_loss=0.18901167733165683]"
          ]
        },
        {
          "output_type": "stream",
          "name": "stdout",
          "text": [
            "Val Accuracy: 0.9336435551419264\n"
          ]
        },
        {
          "output_type": "stream",
          "name": "stderr",
          "text": [
            " 92%|█████████▏| 2200/2388 [35:26<00:39,  4.79it/s, avg_loss=0.18932740815150562]"
          ]
        },
        {
          "output_type": "stream",
          "name": "stdout",
          "text": [
            "Val Accuracy: 0.9209865053513262\n"
          ]
        },
        {
          "output_type": "stream",
          "name": "stderr",
          "text": [
            " 96%|█████████▋| 2300/2388 [37:03<00:18,  4.76it/s, avg_loss=0.18935925410639515]"
          ]
        },
        {
          "output_type": "stream",
          "name": "stdout",
          "text": [
            "Val Accuracy: 0.9013494648673802\n"
          ]
        },
        {
          "output_type": "stream",
          "name": "stderr",
          "text": [
            "100%|██████████| 2388/2388 [38:36<00:00,  1.03it/s, avg_loss=0.1901241433262666]\n",
            "  1%|          | 12/2388 [00:02<08:28,  4.67it/s, avg_loss=0.17760287067637995]"
          ]
        },
        {
          "output_type": "stream",
          "name": "stdout",
          "text": [
            "Val Accuracy: 0.9221963704048395\n"
          ]
        },
        {
          "output_type": "stream",
          "name": "stderr",
          "text": [
            "  5%|▍         | 112/2388 [01:39<07:55,  4.78it/s, avg_loss=0.1810822360942849]"
          ]
        },
        {
          "output_type": "stream",
          "name": "stdout",
          "text": [
            "Val Accuracy: 0.9320614239181014\n"
          ]
        },
        {
          "output_type": "stream",
          "name": "stderr",
          "text": [
            "  9%|▉         | 212/2388 [03:15<07:33,  4.80it/s, avg_loss=0.1685305248919717]"
          ]
        },
        {
          "output_type": "stream",
          "name": "stdout",
          "text": [
            "Val Accuracy: 0.9330851558864588\n"
          ]
        },
        {
          "output_type": "stream",
          "name": "stderr",
          "text": [
            " 13%|█▎        | 312/2388 [04:52<07:17,  4.74it/s, avg_loss=0.16175176550934728]"
          ]
        },
        {
          "output_type": "stream",
          "name": "stdout",
          "text": [
            "Val Accuracy: 0.9399720800372267\n"
          ]
        },
        {
          "output_type": "stream",
          "name": "stderr",
          "text": [
            " 17%|█▋        | 412/2388 [06:29<06:55,  4.75it/s, avg_loss=0.16152209505386939]"
          ]
        },
        {
          "output_type": "stream",
          "name": "stdout",
          "text": [
            "Val Accuracy: 0.9302931596091205\n"
          ]
        },
        {
          "output_type": "stream",
          "name": "stderr",
          "text": [
            " 21%|██▏       | 512/2388 [08:06<06:38,  4.70it/s, avg_loss=0.1651993808395558]"
          ]
        },
        {
          "output_type": "stream",
          "name": "stdout",
          "text": [
            "Val Accuracy: 0.9221963704048395\n"
          ]
        },
        {
          "output_type": "stream",
          "name": "stderr",
          "text": [
            " 26%|██▌       | 612/2388 [09:42<06:06,  4.85it/s, avg_loss=0.17627072062603158]"
          ]
        },
        {
          "output_type": "stream",
          "name": "stdout",
          "text": [
            "Val Accuracy: 0.92126570497906\n"
          ]
        },
        {
          "output_type": "stream",
          "name": "stderr",
          "text": [
            " 30%|██▉       | 712/2388 [11:19<05:56,  4.70it/s, avg_loss=0.17140905195187522]"
          ]
        },
        {
          "output_type": "stream",
          "name": "stdout",
          "text": [
            "Val Accuracy: 0.9276872964169381\n"
          ]
        },
        {
          "output_type": "stream",
          "name": "stderr",
          "text": [
            " 34%|███▍      | 812/2388 [12:56<05:29,  4.78it/s, avg_loss=0.1692914746110047] "
          ]
        },
        {
          "output_type": "stream",
          "name": "stdout",
          "text": [
            "Val Accuracy: 0.9383899488134015\n"
          ]
        },
        {
          "output_type": "stream",
          "name": "stderr",
          "text": [
            " 38%|███▊      | 912/2388 [14:32<05:12,  4.73it/s, avg_loss=0.16386479119717184]"
          ]
        },
        {
          "output_type": "stream",
          "name": "stdout",
          "text": [
            "Val Accuracy: 0.9500232666356445\n"
          ]
        },
        {
          "output_type": "stream",
          "name": "stderr",
          "text": [
            " 42%|████▏     | 1012/2388 [16:09<04:46,  4.80it/s, avg_loss=0.16187617237181362]"
          ]
        },
        {
          "output_type": "stream",
          "name": "stdout",
          "text": [
            "Val Accuracy: 0.9449976733364356\n"
          ]
        },
        {
          "output_type": "stream",
          "name": "stderr",
          "text": [
            " 47%|████▋     | 1112/2388 [17:46<04:27,  4.77it/s, avg_loss=0.16324222494801213]"
          ]
        },
        {
          "output_type": "stream",
          "name": "stdout",
          "text": [
            "Val Accuracy: 0.9165193113075849\n"
          ]
        },
        {
          "output_type": "stream",
          "name": "stderr",
          "text": [
            " 51%|█████     | 1212/2388 [19:22<04:04,  4.82it/s, avg_loss=0.16317928380752098]"
          ]
        },
        {
          "output_type": "stream",
          "name": "stdout",
          "text": [
            "Val Accuracy: 0.8974406700791066\n"
          ]
        },
        {
          "output_type": "stream",
          "name": "stderr",
          "text": [
            " 55%|█████▍    | 1312/2388 [20:59<03:48,  4.70it/s, avg_loss=0.16469375102253034]"
          ]
        },
        {
          "output_type": "stream",
          "name": "stdout",
          "text": [
            "Val Accuracy: 0.9466728711028385\n"
          ]
        },
        {
          "output_type": "stream",
          "name": "stderr",
          "text": [
            " 59%|█████▉    | 1412/2388 [22:36<03:24,  4.78it/s, avg_loss=0.16428534305344356]"
          ]
        },
        {
          "output_type": "stream",
          "name": "stdout",
          "text": [
            "Val Accuracy: 0.92126570497906\n"
          ]
        },
        {
          "output_type": "stream",
          "name": "stderr",
          "text": [
            " 63%|██████▎   | 1512/2388 [24:13<03:04,  4.76it/s, avg_loss=0.1643939879117349]"
          ]
        },
        {
          "output_type": "stream",
          "name": "stdout",
          "text": [
            "Val Accuracy: 0.947603536528618\n"
          ]
        },
        {
          "output_type": "stream",
          "name": "stderr",
          "text": [
            " 68%|██████▊   | 1612/2388 [25:50<02:42,  4.78it/s, avg_loss=0.16331488560021712]"
          ]
        },
        {
          "output_type": "stream",
          "name": "stdout",
          "text": [
            "Val Accuracy: 0.9499302000930665\n"
          ]
        },
        {
          "output_type": "stream",
          "name": "stderr",
          "text": [
            " 72%|███████▏  | 1712/2388 [27:27<02:23,  4.70it/s, avg_loss=0.16122145575200197]"
          ]
        },
        {
          "output_type": "stream",
          "name": "stdout",
          "text": [
            "Val Accuracy: 0.9579339227547696\n"
          ]
        },
        {
          "output_type": "stream",
          "name": "stderr",
          "text": [
            " 76%|███████▌  | 1812/2388 [29:03<02:01,  4.73it/s, avg_loss=0.1591841749661621]"
          ]
        },
        {
          "output_type": "stream",
          "name": "stdout",
          "text": [
            "Val Accuracy: 0.9465798045602606\n"
          ]
        },
        {
          "output_type": "stream",
          "name": "stderr",
          "text": [
            " 80%|████████  | 1912/2388 [30:40<01:41,  4.69it/s, avg_loss=0.15983481444906486]"
          ]
        },
        {
          "output_type": "stream",
          "name": "stdout",
          "text": [
            "Val Accuracy: 0.9219171707771057\n"
          ]
        },
        {
          "output_type": "stream",
          "name": "stderr",
          "text": [
            " 84%|████████▍ | 2012/2388 [32:17<01:19,  4.72it/s, avg_loss=0.1593148341886232]"
          ]
        },
        {
          "output_type": "stream",
          "name": "stdout",
          "text": [
            "Val Accuracy: 0.9481619357840856\n"
          ]
        },
        {
          "output_type": "stream",
          "name": "stderr",
          "text": [
            " 88%|████████▊ | 2112/2388 [33:54<00:57,  4.79it/s, avg_loss=0.1574483976383829]"
          ]
        },
        {
          "output_type": "stream",
          "name": "stdout",
          "text": [
            "Val Accuracy: 0.9402512796649605\n"
          ]
        },
        {
          "output_type": "stream",
          "name": "stderr",
          "text": [
            " 93%|█████████▎| 2212/2388 [35:30<00:36,  4.77it/s, avg_loss=0.1580436962132308] "
          ]
        },
        {
          "output_type": "stream",
          "name": "stdout",
          "text": [
            "Val Accuracy: 0.9217310376919498\n"
          ]
        },
        {
          "output_type": "stream",
          "name": "stderr",
          "text": [
            " 97%|█████████▋| 2312/2388 [37:07<00:16,  4.74it/s, avg_loss=0.15951488891087384]"
          ]
        },
        {
          "output_type": "stream",
          "name": "stdout",
          "text": [
            "Val Accuracy: 0.9325267566309912\n"
          ]
        },
        {
          "output_type": "stream",
          "name": "stderr",
          "text": [
            "100%|██████████| 2388/2388 [38:38<00:00,  1.03it/s, avg_loss=0.16009675114340705]\n",
            "  1%|          | 24/2388 [00:05<08:18,  4.74it/s, avg_loss=0.14351350122131407]"
          ]
        },
        {
          "output_type": "stream",
          "name": "stdout",
          "text": [
            "Val Accuracy: 0.913168915774779\n"
          ]
        },
        {
          "output_type": "stream",
          "name": "stderr",
          "text": [
            "  5%|▌         | 124/2388 [01:41<08:01,  4.70it/s, avg_loss=0.1541902249082923] "
          ]
        },
        {
          "output_type": "stream",
          "name": "stdout",
          "text": [
            "Val Accuracy: 0.9497440670079107\n"
          ]
        },
        {
          "output_type": "stream",
          "name": "stderr",
          "text": [
            "  9%|▉         | 224/2388 [03:17<07:34,  4.76it/s, avg_loss=0.1543728107172582]"
          ]
        },
        {
          "output_type": "stream",
          "name": "stdout",
          "text": [
            "Val Accuracy: 0.9591437878082829\n"
          ]
        },
        {
          "output_type": "stream",
          "name": "stderr",
          "text": [
            " 14%|█▎        | 324/2388 [04:53<07:13,  4.76it/s, avg_loss=0.1381953238796156] "
          ]
        },
        {
          "output_type": "stream",
          "name": "stdout",
          "text": [
            "Val Accuracy: 0.9499302000930665\n"
          ]
        },
        {
          "output_type": "stream",
          "name": "stderr",
          "text": [
            " 18%|█▊        | 424/2388 [06:29<06:51,  4.77it/s, avg_loss=0.1464204174225383] "
          ]
        },
        {
          "output_type": "stream",
          "name": "stdout",
          "text": [
            "Val Accuracy: 0.926105165193113\n"
          ]
        },
        {
          "output_type": "stream",
          "name": "stderr",
          "text": [
            " 22%|██▏       | 524/2388 [08:06<06:30,  4.77it/s, avg_loss=0.15127188807708167]"
          ]
        },
        {
          "output_type": "stream",
          "name": "stdout",
          "text": [
            "Val Accuracy: 0.9401582131223825\n"
          ]
        },
        {
          "output_type": "stream",
          "name": "stderr",
          "text": [
            " 26%|██▌       | 624/2388 [09:42<06:12,  4.74it/s, avg_loss=0.14648860444128514]"
          ]
        },
        {
          "output_type": "stream",
          "name": "stdout",
          "text": [
            "Val Accuracy: 0.9565379246161005\n"
          ]
        },
        {
          "output_type": "stream",
          "name": "stderr",
          "text": [
            " 30%|███       | 724/2388 [11:18<05:46,  4.80it/s, avg_loss=0.14601631294486336]"
          ]
        },
        {
          "output_type": "stream",
          "name": "stdout",
          "text": [
            "Val Accuracy: 0.9467659376454165\n"
          ]
        },
        {
          "output_type": "stream",
          "name": "stderr",
          "text": [
            " 35%|███▍      | 824/2388 [12:55<05:29,  4.74it/s, avg_loss=0.14347350282933224]"
          ]
        },
        {
          "output_type": "stream",
          "name": "stdout",
          "text": [
            "Val Accuracy: 0.9258259655653792\n"
          ]
        },
        {
          "output_type": "stream",
          "name": "stderr",
          "text": [
            " 39%|███▊      | 924/2388 [14:31<05:05,  4.79it/s, avg_loss=0.1415231420374098] "
          ]
        },
        {
          "output_type": "stream",
          "name": "stdout",
          "text": [
            "Val Accuracy: 0.9367147510469986\n"
          ]
        },
        {
          "output_type": "stream",
          "name": "stderr",
          "text": [
            " 43%|████▎     | 1024/2388 [16:08<04:46,  4.76it/s, avg_loss=0.14007123033993127]"
          ]
        },
        {
          "output_type": "stream",
          "name": "stdout",
          "text": [
            "Val Accuracy: 0.9462075383899489\n"
          ]
        },
        {
          "output_type": "stream",
          "name": "stderr",
          "text": [
            " 47%|████▋     | 1124/2388 [17:44<04:23,  4.79it/s, avg_loss=0.13808423875044618]"
          ]
        },
        {
          "output_type": "stream",
          "name": "stdout",
          "text": [
            "Val Accuracy: 0.955700325732899\n"
          ]
        },
        {
          "output_type": "stream",
          "name": "stderr",
          "text": [
            " 51%|█████▏    | 1224/2388 [19:20<04:06,  4.71it/s, avg_loss=0.13982510859963998]"
          ]
        },
        {
          "output_type": "stream",
          "name": "stdout",
          "text": [
            "Val Accuracy: 0.9639832480223359\n"
          ]
        },
        {
          "output_type": "stream",
          "name": "stderr",
          "text": [
            " 55%|█████▌    | 1324/2388 [20:56<03:48,  4.67it/s, avg_loss=0.13657853165940154]"
          ]
        },
        {
          "output_type": "stream",
          "name": "stdout",
          "text": [
            "Val Accuracy: 0.9592368543508608\n"
          ]
        },
        {
          "output_type": "stream",
          "name": "stderr",
          "text": [
            " 60%|█████▉    | 1424/2388 [22:33<03:20,  4.81it/s, avg_loss=0.1355460065949643]"
          ]
        },
        {
          "output_type": "stream",
          "name": "stdout",
          "text": [
            "Val Accuracy: 0.9290832945556072\n"
          ]
        },
        {
          "output_type": "stream",
          "name": "stderr",
          "text": [
            " 64%|██████▍   | 1524/2388 [24:10<03:03,  4.71it/s, avg_loss=0.1383577584026412] "
          ]
        },
        {
          "output_type": "stream",
          "name": "stdout",
          "text": [
            "Val Accuracy: 0.8993950674732434\n"
          ]
        },
        {
          "output_type": "stream",
          "name": "stderr",
          "text": [
            " 68%|██████▊   | 1624/2388 [25:46<02:38,  4.82it/s, avg_loss=0.14021949645962853]"
          ]
        },
        {
          "output_type": "stream",
          "name": "stdout",
          "text": [
            "Val Accuracy: 0.9296416938110749\n"
          ]
        },
        {
          "output_type": "stream",
          "name": "stderr",
          "text": [
            " 72%|███████▏  | 1724/2388 [27:22<02:20,  4.74it/s, avg_loss=0.13998791495365076]"
          ]
        },
        {
          "output_type": "stream",
          "name": "stdout",
          "text": [
            "Val Accuracy: 0.9532805956258725\n"
          ]
        },
        {
          "output_type": "stream",
          "name": "stderr",
          "text": [
            " 76%|███████▋  | 1824/2388 [28:58<01:57,  4.80it/s, avg_loss=0.137691169864345]  "
          ]
        },
        {
          "output_type": "stream",
          "name": "stdout",
          "text": [
            "Val Accuracy: 0.9520707305723592\n"
          ]
        },
        {
          "output_type": "stream",
          "name": "stderr",
          "text": [
            " 81%|████████  | 1924/2388 [30:35<01:37,  4.76it/s, avg_loss=0.13545971144087515]"
          ]
        },
        {
          "output_type": "stream",
          "name": "stdout",
          "text": [
            "Val Accuracy: 0.9405304792926943\n"
          ]
        },
        {
          "output_type": "stream",
          "name": "stderr",
          "text": [
            " 85%|████████▍ | 2024/2388 [32:11<01:14,  4.87it/s, avg_loss=0.135534005325049]  "
          ]
        },
        {
          "output_type": "stream",
          "name": "stdout",
          "text": [
            "Val Accuracy: 0.9527221963704049\n"
          ]
        },
        {
          "output_type": "stream",
          "name": "stderr",
          "text": [
            " 89%|████████▉ | 2124/2388 [33:47<00:54,  4.81it/s, avg_loss=0.13927254243514173]"
          ]
        },
        {
          "output_type": "stream",
          "name": "stdout",
          "text": [
            "Val Accuracy: 0.9487203350395533\n"
          ]
        },
        {
          "output_type": "stream",
          "name": "stderr",
          "text": [
            " 93%|█████████▎| 2224/2388 [35:24<00:34,  4.70it/s, avg_loss=0.13732938060009842]"
          ]
        },
        {
          "output_type": "stream",
          "name": "stdout",
          "text": [
            "Val Accuracy: 0.9584923220102374\n"
          ]
        },
        {
          "output_type": "stream",
          "name": "stderr",
          "text": [
            " 97%|█████████▋| 2324/2388 [37:00<00:13,  4.77it/s, avg_loss=0.13625257537586324]"
          ]
        },
        {
          "output_type": "stream",
          "name": "stdout",
          "text": [
            "Val Accuracy: 0.9468590041879944\n"
          ]
        },
        {
          "output_type": "stream",
          "name": "stderr",
          "text": [
            "100%|██████████| 2388/2388 [38:28<00:00,  1.03it/s, avg_loss=0.13551192713920754]\n",
            "  2%|▏         | 36/2388 [00:07<08:09,  4.80it/s, avg_loss=0.0856340667232871] "
          ]
        },
        {
          "output_type": "stream",
          "name": "stdout",
          "text": [
            "Val Accuracy: 0.9604467194043741\n"
          ]
        },
        {
          "output_type": "stream",
          "name": "stderr",
          "text": [
            "  6%|▌         | 136/2388 [01:44<07:58,  4.71it/s, avg_loss=0.07393883932959697]"
          ]
        },
        {
          "output_type": "stream",
          "name": "stdout",
          "text": [
            "Val Accuracy: 0.9615635179153095\n"
          ]
        },
        {
          "output_type": "stream",
          "name": "stderr",
          "text": [
            " 10%|▉         | 236/2388 [03:20<07:31,  4.77it/s, avg_loss=0.11122677517187377]"
          ]
        },
        {
          "output_type": "stream",
          "name": "stdout",
          "text": [
            "Val Accuracy: 0.909818520241973\n"
          ]
        },
        {
          "output_type": "stream",
          "name": "stderr",
          "text": [
            " 14%|█▍        | 336/2388 [04:56<07:07,  4.80it/s, avg_loss=0.11904527936134217]"
          ]
        },
        {
          "output_type": "stream",
          "name": "stdout",
          "text": [
            "Val Accuracy: 0.9450907398790135\n"
          ]
        },
        {
          "output_type": "stream",
          "name": "stderr",
          "text": [
            " 18%|█▊        | 436/2388 [06:33<06:48,  4.77it/s, avg_loss=0.11799483602449354]"
          ]
        },
        {
          "output_type": "stream",
          "name": "stdout",
          "text": [
            "Val Accuracy: 0.9553280595625873\n"
          ]
        },
        {
          "output_type": "stream",
          "name": "stderr",
          "text": [
            " 22%|██▏       | 536/2388 [08:09<06:26,  4.80it/s, avg_loss=0.11376897868402458]"
          ]
        },
        {
          "output_type": "stream",
          "name": "stdout",
          "text": [
            "Val Accuracy: 0.9659376454164728\n"
          ]
        },
        {
          "output_type": "stream",
          "name": "stderr",
          "text": [
            " 27%|██▋       | 636/2388 [09:45<06:08,  4.75it/s, avg_loss=0.11148327027911356]"
          ]
        },
        {
          "output_type": "stream",
          "name": "stdout",
          "text": [
            "Val Accuracy: 0.9327128897161471\n"
          ]
        },
        {
          "output_type": "stream",
          "name": "stderr",
          "text": [
            " 31%|███       | 736/2388 [11:21<05:47,  4.76it/s, avg_loss=0.11203665021540637]"
          ]
        },
        {
          "output_type": "stream",
          "name": "stdout",
          "text": [
            "Val Accuracy: 0.9452768729641694\n"
          ]
        },
        {
          "output_type": "stream",
          "name": "stderr",
          "text": [
            " 35%|███▌      | 836/2388 [12:57<05:19,  4.85it/s, avg_loss=0.11622547403484496]"
          ]
        },
        {
          "output_type": "stream",
          "name": "stdout",
          "text": [
            "Val Accuracy: 0.8931596091205212\n"
          ]
        },
        {
          "output_type": "stream",
          "name": "stderr",
          "text": [
            " 39%|███▉      | 936/2388 [14:33<05:07,  4.73it/s, avg_loss=0.1145256947012983]"
          ]
        },
        {
          "output_type": "stream",
          "name": "stdout",
          "text": [
            "Val Accuracy: 0.9576547231270358\n"
          ]
        },
        {
          "output_type": "stream",
          "name": "stderr",
          "text": [
            " 43%|████▎     | 1036/2388 [16:10<04:44,  4.75it/s, avg_loss=0.11228787638497356]"
          ]
        },
        {
          "output_type": "stream",
          "name": "stdout",
          "text": [
            "Val Accuracy: 0.9540251279664961\n"
          ]
        },
        {
          "output_type": "stream",
          "name": "stderr",
          "text": [
            " 48%|████▊     | 1136/2388 [17:46<04:24,  4.72it/s, avg_loss=0.11258432171080203]"
          ]
        },
        {
          "output_type": "stream",
          "name": "stdout",
          "text": [
            "Val Accuracy: 0.9463006049325268\n"
          ]
        },
        {
          "output_type": "stream",
          "name": "stderr",
          "text": [
            " 52%|█████▏    | 1236/2388 [19:22<04:05,  4.70it/s, avg_loss=0.11820244337531845]"
          ]
        },
        {
          "output_type": "stream",
          "name": "stdout",
          "text": [
            "Val Accuracy: 0.9395998138669148\n"
          ]
        },
        {
          "output_type": "stream",
          "name": "stderr",
          "text": [
            " 56%|█████▌    | 1336/2388 [20:59<03:41,  4.75it/s, avg_loss=0.11704459237695791]"
          ]
        },
        {
          "output_type": "stream",
          "name": "stdout",
          "text": [
            "Val Accuracy: 0.9582131223825034\n"
          ]
        },
        {
          "output_type": "stream",
          "name": "stderr",
          "text": [
            " 60%|██████    | 1436/2388 [22:35<03:21,  4.73it/s, avg_loss=0.11376561600076217]"
          ]
        },
        {
          "output_type": "stream",
          "name": "stdout",
          "text": [
            "Val Accuracy: 0.9459283387622149\n"
          ]
        },
        {
          "output_type": "stream",
          "name": "stderr",
          "text": [
            " 64%|██████▍   | 1536/2388 [24:11<02:59,  4.76it/s, avg_loss=0.11206967744847672]"
          ]
        },
        {
          "output_type": "stream",
          "name": "stdout",
          "text": [
            "Val Accuracy: 0.957375523499302\n"
          ]
        },
        {
          "output_type": "stream",
          "name": "stderr",
          "text": [
            " 69%|██████▊   | 1636/2388 [25:48<02:37,  4.79it/s, avg_loss=0.11017243608602445]"
          ]
        },
        {
          "output_type": "stream",
          "name": "stdout",
          "text": [
            "Val Accuracy: 0.9536528617961842\n"
          ]
        },
        {
          "output_type": "stream",
          "name": "stderr",
          "text": [
            " 73%|███████▎  | 1736/2388 [27:24<02:17,  4.74it/s, avg_loss=0.11152492353545405]"
          ]
        },
        {
          "output_type": "stream",
          "name": "stdout",
          "text": [
            "Val Accuracy: 0.9482550023266636\n"
          ]
        },
        {
          "output_type": "stream",
          "name": "stderr",
          "text": [
            " 77%|███████▋  | 1836/2388 [29:00<01:57,  4.71it/s, avg_loss=0.11254300004342242]"
          ]
        },
        {
          "output_type": "stream",
          "name": "stdout",
          "text": [
            "Val Accuracy: 0.93438808748255\n"
          ]
        },
        {
          "output_type": "stream",
          "name": "stderr",
          "text": [
            " 81%|████████  | 1936/2388 [30:36<01:34,  4.80it/s, avg_loss=0.11269790894646334]"
          ]
        },
        {
          "output_type": "stream",
          "name": "stdout",
          "text": [
            "Val Accuracy: 0.9565379246161005\n"
          ]
        },
        {
          "output_type": "stream",
          "name": "stderr",
          "text": [
            " 85%|████████▌ | 2036/2388 [32:13<01:13,  4.77it/s, avg_loss=0.11190101335225039]"
          ]
        },
        {
          "output_type": "stream",
          "name": "stdout",
          "text": [
            "Val Accuracy: 0.9463006049325268\n"
          ]
        },
        {
          "output_type": "stream",
          "name": "stderr",
          "text": [
            " 89%|████████▉ | 2136/2388 [33:49<00:53,  4.75it/s, avg_loss=0.11041800778166166]"
          ]
        },
        {
          "output_type": "stream",
          "name": "stdout",
          "text": [
            "Val Accuracy: 0.9675197766402979\n"
          ]
        },
        {
          "output_type": "stream",
          "name": "stderr",
          "text": [
            " 94%|█████████▎| 2236/2388 [35:25<00:31,  4.80it/s, avg_loss=0.10981497381756111]"
          ]
        },
        {
          "output_type": "stream",
          "name": "stdout",
          "text": [
            "Val Accuracy: 0.9433224755700326\n"
          ]
        },
        {
          "output_type": "stream",
          "name": "stderr",
          "text": [
            " 98%|█████████▊| 2336/2388 [37:01<00:10,  4.83it/s, avg_loss=0.11038805598841757]"
          ]
        },
        {
          "output_type": "stream",
          "name": "stdout",
          "text": [
            "Val Accuracy: 0.9310376919497441\n"
          ]
        },
        {
          "output_type": "stream",
          "name": "stderr",
          "text": [
            "100%|██████████| 2388/2388 [38:27<00:00,  1.03it/s, avg_loss=0.11010379298552452]\n",
            "  2%|▏         | 48/2388 [00:10<08:11,  4.76it/s, avg_loss=0.0914402902839059] "
          ]
        },
        {
          "output_type": "stream",
          "name": "stdout",
          "text": [
            "Val Accuracy: 0.9498371335504886\n"
          ]
        },
        {
          "output_type": "stream",
          "name": "stderr",
          "text": [
            "  6%|▌         | 148/2388 [01:46<07:49,  4.77it/s, avg_loss=0.0899828995844418] "
          ]
        },
        {
          "output_type": "stream",
          "name": "stdout",
          "text": [
            "Val Accuracy: 0.8820846905537459\n"
          ]
        },
        {
          "output_type": "stream",
          "name": "stderr",
          "text": [
            " 10%|█         | 248/2388 [03:22<07:27,  4.79it/s, avg_loss=0.11492653522499272]"
          ]
        },
        {
          "output_type": "stream",
          "name": "stdout",
          "text": [
            "Val Accuracy: 0.9536528617961842\n"
          ]
        },
        {
          "output_type": "stream",
          "name": "stderr",
          "text": [
            " 15%|█▍        | 348/2388 [04:59<07:06,  4.79it/s, avg_loss=0.10870736910772101]"
          ]
        },
        {
          "output_type": "stream",
          "name": "stdout",
          "text": [
            "Val Accuracy: 0.9566309911586784\n"
          ]
        },
        {
          "output_type": "stream",
          "name": "stderr",
          "text": [
            " 19%|█▉        | 448/2388 [06:35<06:50,  4.73it/s, avg_loss=0.10200844290028462]"
          ]
        },
        {
          "output_type": "stream",
          "name": "stdout",
          "text": [
            "Val Accuracy: 0.9387622149837134\n"
          ]
        },
        {
          "output_type": "stream",
          "name": "stderr",
          "text": [
            " 23%|██▎       | 548/2388 [08:11<06:25,  4.78it/s, avg_loss=0.10490844803942853]"
          ]
        },
        {
          "output_type": "stream",
          "name": "stdout",
          "text": [
            "Val Accuracy: 0.9322475570032573\n"
          ]
        },
        {
          "output_type": "stream",
          "name": "stderr",
          "text": [
            " 27%|██▋       | 648/2388 [09:47<06:08,  4.73it/s, avg_loss=0.10906060582413575]"
          ]
        },
        {
          "output_type": "stream",
          "name": "stdout",
          "text": [
            "Val Accuracy: 0.937738483015356\n"
          ]
        },
        {
          "output_type": "stream",
          "name": "stderr",
          "text": [
            " 31%|███▏      | 748/2388 [11:23<05:38,  4.85it/s, avg_loss=0.10524483195003072]"
          ]
        },
        {
          "output_type": "stream",
          "name": "stdout",
          "text": [
            "Val Accuracy: 0.9648208469055375\n"
          ]
        },
        {
          "output_type": "stream",
          "name": "stderr",
          "text": [
            " 36%|███▌      | 848/2388 [13:00<05:20,  4.80it/s, avg_loss=0.10332042854624823]"
          ]
        },
        {
          "output_type": "stream",
          "name": "stdout",
          "text": [
            "Val Accuracy: 0.9567240577012563\n"
          ]
        },
        {
          "output_type": "stream",
          "name": "stderr",
          "text": [
            " 40%|███▉      | 948/2388 [14:36<04:59,  4.81it/s, avg_loss=0.10184708340778001]"
          ]
        },
        {
          "output_type": "stream",
          "name": "stdout",
          "text": [
            "Val Accuracy: 0.9559795253606328\n"
          ]
        },
        {
          "output_type": "stream",
          "name": "stderr",
          "text": [
            " 44%|████▍     | 1048/2388 [16:12<04:38,  4.80it/s, avg_loss=0.10054480447833408]"
          ]
        },
        {
          "output_type": "stream",
          "name": "stdout",
          "text": [
            "Val Accuracy: 0.952442996742671\n"
          ]
        },
        {
          "output_type": "stream",
          "name": "stderr",
          "text": [
            " 48%|████▊     | 1148/2388 [17:48<04:19,  4.78it/s, avg_loss=0.10154177228381349]"
          ]
        },
        {
          "output_type": "stream",
          "name": "stdout",
          "text": [
            "Val Accuracy: 0.9560725919032108\n"
          ]
        },
        {
          "output_type": "stream",
          "name": "stderr",
          "text": [
            " 52%|█████▏    | 1248/2388 [19:25<04:01,  4.72it/s, avg_loss=0.10424358769132792]"
          ]
        },
        {
          "output_type": "stream",
          "name": "stdout",
          "text": [
            "Val Accuracy: 0.9419264774313634\n"
          ]
        },
        {
          "output_type": "stream",
          "name": "stderr",
          "text": [
            " 56%|█████▋    | 1348/2388 [21:01<03:38,  4.75it/s, avg_loss=0.1072107930022193]"
          ]
        },
        {
          "output_type": "stream",
          "name": "stdout",
          "text": [
            "Val Accuracy: 0.9432294090274547\n"
          ]
        },
        {
          "output_type": "stream",
          "name": "stderr",
          "text": [
            " 61%|██████    | 1448/2388 [22:37<03:15,  4.81it/s, avg_loss=0.10722990461423983]"
          ]
        },
        {
          "output_type": "stream",
          "name": "stdout",
          "text": [
            "Val Accuracy: 0.9625872498836668\n"
          ]
        },
        {
          "output_type": "stream",
          "name": "stderr",
          "text": [
            " 65%|██████▍   | 1548/2388 [24:13<02:55,  4.78it/s, avg_loss=0.10463528828865643]"
          ]
        },
        {
          "output_type": "stream",
          "name": "stdout",
          "text": [
            "Val Accuracy: 0.9597952536063286\n"
          ]
        },
        {
          "output_type": "stream",
          "name": "stderr",
          "text": [
            " 69%|██████▉   | 1648/2388 [25:49<02:35,  4.77it/s, avg_loss=0.1033698240499397] "
          ]
        },
        {
          "output_type": "stream",
          "name": "stdout",
          "text": [
            "Val Accuracy: 0.9526291298278269\n"
          ]
        },
        {
          "output_type": "stream",
          "name": "stderr",
          "text": [
            " 73%|███████▎  | 1748/2388 [27:25<02:13,  4.80it/s, avg_loss=0.10119971869097852]"
          ]
        },
        {
          "output_type": "stream",
          "name": "stdout",
          "text": [
            "Val Accuracy: 0.947417403443462\n"
          ]
        },
        {
          "output_type": "stream",
          "name": "stderr",
          "text": [
            " 77%|███████▋  | 1848/2388 [29:02<01:51,  4.85it/s, avg_loss=0.10077064565214225]"
          ]
        },
        {
          "output_type": "stream",
          "name": "stdout",
          "text": [
            "Val Accuracy: 0.9530944625407166\n"
          ]
        },
        {
          "output_type": "stream",
          "name": "stderr",
          "text": [
            " 82%|████████▏ | 1948/2388 [30:38<01:32,  4.74it/s, avg_loss=0.10110523287962662]"
          ]
        },
        {
          "output_type": "stream",
          "name": "stdout",
          "text": [
            "Val Accuracy: 0.9553280595625873\n"
          ]
        },
        {
          "output_type": "stream",
          "name": "stderr",
          "text": [
            " 86%|████████▌ | 2048/2388 [32:14<01:11,  4.72it/s, avg_loss=0.1003585496015901] "
          ]
        },
        {
          "output_type": "stream",
          "name": "stdout",
          "text": [
            "Val Accuracy: 0.9394136807817589\n"
          ]
        },
        {
          "output_type": "stream",
          "name": "stderr",
          "text": [
            " 90%|████████▉ | 2148/2388 [33:51<00:49,  4.83it/s, avg_loss=0.1011522032178217] "
          ]
        },
        {
          "output_type": "stream",
          "name": "stdout",
          "text": [
            "Val Accuracy: 0.9509539320614239\n"
          ]
        },
        {
          "output_type": "stream",
          "name": "stderr",
          "text": [
            " 94%|█████████▍| 2248/2388 [35:27<00:29,  4.75it/s, avg_loss=0.10060955384925449]"
          ]
        },
        {
          "output_type": "stream",
          "name": "stdout",
          "text": [
            "Val Accuracy: 0.9597021870637505\n"
          ]
        },
        {
          "output_type": "stream",
          "name": "stderr",
          "text": [
            " 98%|█████████▊| 2348/2388 [37:03<00:08,  4.72it/s, avg_loss=0.09936237308941008]"
          ]
        },
        {
          "output_type": "stream",
          "name": "stdout",
          "text": [
            "Val Accuracy: 0.940902745463006\n"
          ]
        },
        {
          "output_type": "stream",
          "name": "stderr",
          "text": [
            "100%|██████████| 2388/2388 [38:27<00:00,  1.04it/s, avg_loss=0.09916557525015975]\n",
            "  3%|▎         | 60/2388 [00:12<08:08,  4.77it/s, avg_loss=0.04764181633716541] "
          ]
        },
        {
          "output_type": "stream",
          "name": "stdout",
          "text": [
            "Val Accuracy: 0.9449976733364356\n"
          ]
        },
        {
          "output_type": "stream",
          "name": "stderr",
          "text": [
            "  7%|▋         | 160/2388 [01:49<07:51,  4.73it/s, avg_loss=0.06775935105122596]"
          ]
        },
        {
          "output_type": "stream",
          "name": "stdout",
          "text": [
            "Val Accuracy: 0.9424848766868311\n"
          ]
        },
        {
          "output_type": "stream",
          "name": "stderr",
          "text": [
            " 11%|█         | 260/2388 [03:25<07:24,  4.78it/s, avg_loss=0.07857710810704246]"
          ]
        },
        {
          "output_type": "stream",
          "name": "stdout",
          "text": [
            "Val Accuracy: 0.9267566309911587\n"
          ]
        },
        {
          "output_type": "stream",
          "name": "stderr",
          "text": [
            " 15%|█▌        | 360/2388 [05:01<06:59,  4.83it/s, avg_loss=0.07877342283093355]"
          ]
        },
        {
          "output_type": "stream",
          "name": "stdout",
          "text": [
            "Val Accuracy: 0.9616565844578874\n"
          ]
        },
        {
          "output_type": "stream",
          "name": "stderr",
          "text": [
            " 19%|█▉        | 460/2388 [06:38<06:56,  4.63it/s, avg_loss=0.07881184406632834]"
          ]
        },
        {
          "output_type": "stream",
          "name": "stdout",
          "text": [
            "Val Accuracy: 0.9662168450442066\n"
          ]
        },
        {
          "output_type": "stream",
          "name": "stderr",
          "text": [
            " 23%|██▎       | 560/2388 [08:15<06:24,  4.75it/s, avg_loss=0.086155837731643]  "
          ]
        },
        {
          "output_type": "stream",
          "name": "stdout",
          "text": [
            "Val Accuracy: 0.9154025127966496\n"
          ]
        },
        {
          "output_type": "stream",
          "name": "stderr",
          "text": [
            " 28%|██▊       | 660/2388 [09:51<06:02,  4.77it/s, avg_loss=0.09027996242715436]"
          ]
        },
        {
          "output_type": "stream",
          "name": "stdout",
          "text": [
            "Val Accuracy: 0.9314099581200559\n"
          ]
        },
        {
          "output_type": "stream",
          "name": "stderr",
          "text": [
            " 32%|███▏      | 760/2388 [11:27<05:43,  4.75it/s, avg_loss=0.08936206134695972]"
          ]
        },
        {
          "output_type": "stream",
          "name": "stdout",
          "text": [
            "Val Accuracy: 0.955793392275477\n"
          ]
        },
        {
          "output_type": "stream",
          "name": "stderr",
          "text": [
            " 36%|███▌      | 860/2388 [13:03<05:22,  4.73it/s, avg_loss=0.08990274980913986]"
          ]
        },
        {
          "output_type": "stream",
          "name": "stdout",
          "text": [
            "Val Accuracy: 0.9338296882270823\n"
          ]
        },
        {
          "output_type": "stream",
          "name": "stderr",
          "text": [
            " 40%|████      | 960/2388 [14:39<04:54,  4.85it/s, avg_loss=0.08913593280741981]"
          ]
        },
        {
          "output_type": "stream",
          "name": "stdout",
          "text": [
            "Val Accuracy: 0.962308050255933\n"
          ]
        },
        {
          "output_type": "stream",
          "name": "stderr",
          "text": [
            " 44%|████▍     | 1060/2388 [16:16<04:38,  4.77it/s, avg_loss=0.08939266102471341]"
          ]
        },
        {
          "output_type": "stream",
          "name": "stdout",
          "text": [
            "Val Accuracy: 0.9610981852024197\n"
          ]
        },
        {
          "output_type": "stream",
          "name": "stderr",
          "text": [
            " 49%|████▊     | 1160/2388 [17:52<04:18,  4.75it/s, avg_loss=0.08672021364485448]"
          ]
        },
        {
          "output_type": "stream",
          "name": "stdout",
          "text": [
            "Val Accuracy: 0.962308050255933\n"
          ]
        },
        {
          "output_type": "stream",
          "name": "stderr",
          "text": [
            " 53%|█████▎    | 1260/2388 [19:28<03:56,  4.77it/s, avg_loss=0.0859814390312693] "
          ]
        },
        {
          "output_type": "stream",
          "name": "stdout",
          "text": [
            "Val Accuracy: 0.9570963238715682\n"
          ]
        },
        {
          "output_type": "stream",
          "name": "stderr",
          "text": [
            " 57%|█████▋    | 1360/2388 [21:04<03:34,  4.79it/s, avg_loss=0.08678774965094647]"
          ]
        },
        {
          "output_type": "stream",
          "name": "stdout",
          "text": [
            "Val Accuracy: 0.9165193113075849\n"
          ]
        },
        {
          "output_type": "stream",
          "name": "stderr",
          "text": [
            " 61%|██████    | 1460/2388 [22:40<03:14,  4.78it/s, avg_loss=0.09027843308377444]"
          ]
        },
        {
          "output_type": "stream",
          "name": "stdout",
          "text": [
            "Val Accuracy: 0.9652861796184272\n"
          ]
        },
        {
          "output_type": "stream",
          "name": "stderr",
          "text": [
            " 65%|██████▌   | 1560/2388 [24:17<02:52,  4.79it/s, avg_loss=0.08913895899452588]"
          ]
        },
        {
          "output_type": "stream",
          "name": "stdout",
          "text": [
            "Val Accuracy: 0.9535597952536063\n"
          ]
        },
        {
          "output_type": "stream",
          "name": "stderr",
          "text": [
            " 70%|██████▉   | 1660/2388 [25:52<02:34,  4.72it/s, avg_loss=0.08641385154258673]"
          ]
        },
        {
          "output_type": "stream",
          "name": "stdout",
          "text": [
            "Val Accuracy: 0.9640763145649139\n"
          ]
        },
        {
          "output_type": "stream",
          "name": "stderr",
          "text": [
            " 74%|███████▎  | 1760/2388 [27:29<02:10,  4.82it/s, avg_loss=0.09067230371664865]"
          ]
        },
        {
          "output_type": "stream",
          "name": "stdout",
          "text": [
            "Val Accuracy: 0.9362494183341089\n"
          ]
        },
        {
          "output_type": "stream",
          "name": "stderr",
          "text": [
            " 78%|███████▊  | 1860/2388 [29:06<01:50,  4.78it/s, avg_loss=0.09234550710125565]"
          ]
        },
        {
          "output_type": "stream",
          "name": "stdout",
          "text": [
            "Val Accuracy: 0.9404374127501164\n"
          ]
        },
        {
          "output_type": "stream",
          "name": "stderr",
          "text": [
            " 82%|████████▏ | 1960/2388 [30:42<01:30,  4.72it/s, avg_loss=0.09247397146668462]"
          ]
        },
        {
          "output_type": "stream",
          "name": "stdout",
          "text": [
            "Val Accuracy: 0.9662168450442066\n"
          ]
        },
        {
          "output_type": "stream",
          "name": "stderr",
          "text": [
            " 86%|████████▋ | 2060/2388 [32:18<01:09,  4.72it/s, avg_loss=0.09226115887322292]"
          ]
        },
        {
          "output_type": "stream",
          "name": "stdout",
          "text": [
            "Val Accuracy: 0.9639832480223359\n"
          ]
        },
        {
          "output_type": "stream",
          "name": "stderr",
          "text": [
            " 90%|█████████ | 2160/2388 [33:55<00:48,  4.73it/s, avg_loss=0.09106554416177341]"
          ]
        },
        {
          "output_type": "stream",
          "name": "stdout",
          "text": [
            "Val Accuracy: 0.9744067007910656\n"
          ]
        },
        {
          "output_type": "stream",
          "name": "stderr",
          "text": [
            " 95%|█████████▍| 2260/2388 [35:32<00:26,  4.78it/s, avg_loss=0.09009739388804945]"
          ]
        },
        {
          "output_type": "stream",
          "name": "stdout",
          "text": [
            "Val Accuracy: 0.9417403443462076\n"
          ]
        },
        {
          "output_type": "stream",
          "name": "stderr",
          "text": [
            " 99%|█████████▉| 2360/2388 [37:09<00:05,  4.74it/s, avg_loss=0.08961593807449214]"
          ]
        },
        {
          "output_type": "stream",
          "name": "stdout",
          "text": [
            "Val Accuracy: 0.9517915309446254\n"
          ]
        },
        {
          "output_type": "stream",
          "name": "stderr",
          "text": [
            "100%|██████████| 2388/2388 [38:31<00:00,  1.03it/s, avg_loss=0.09008926764921613]\n",
            "  3%|▎         | 72/2388 [00:15<08:08,  4.74it/s, avg_loss=0.12542657744400967]"
          ]
        },
        {
          "output_type": "stream",
          "name": "stdout",
          "text": [
            "Val Accuracy: 0.9215449046067938\n"
          ]
        },
        {
          "output_type": "stream",
          "name": "stderr",
          "text": [
            "  7%|▋         | 172/2388 [01:52<07:45,  4.76it/s, avg_loss=0.08327269624862174]"
          ]
        },
        {
          "output_type": "stream",
          "name": "stdout",
          "text": [
            "Val Accuracy: 0.9645416472778037\n"
          ]
        },
        {
          "output_type": "stream",
          "name": "stderr",
          "text": [
            " 11%|█▏        | 272/2388 [03:29<07:26,  4.74it/s, avg_loss=0.06665162389331256]"
          ]
        },
        {
          "output_type": "stream",
          "name": "stdout",
          "text": [
            "Val Accuracy: 0.9270358306188925\n"
          ]
        },
        {
          "output_type": "stream",
          "name": "stderr",
          "text": [
            " 16%|█▌        | 372/2388 [05:06<07:04,  4.75it/s, avg_loss=0.07180346925518208]"
          ]
        },
        {
          "output_type": "stream",
          "name": "stdout",
          "text": [
            "Val Accuracy: 0.9580269892973476\n"
          ]
        },
        {
          "output_type": "stream",
          "name": "stderr",
          "text": [
            " 20%|█▉        | 472/2388 [06:43<06:44,  4.73it/s, avg_loss=0.07421527881666046]"
          ]
        },
        {
          "output_type": "stream",
          "name": "stdout",
          "text": [
            "Val Accuracy: 0.9520707305723592\n"
          ]
        },
        {
          "output_type": "stream",
          "name": "stderr",
          "text": [
            " 24%|██▍       | 572/2388 [08:20<06:28,  4.67it/s, avg_loss=0.07511255328462624]"
          ]
        },
        {
          "output_type": "stream",
          "name": "stdout",
          "text": [
            "Val Accuracy: 0.9546765937645416\n"
          ]
        },
        {
          "output_type": "stream",
          "name": "stderr",
          "text": [
            " 28%|██▊       | 672/2388 [09:57<06:06,  4.68it/s, avg_loss=0.07423559607253624]"
          ]
        },
        {
          "output_type": "stream",
          "name": "stdout",
          "text": [
            "Val Accuracy: 0.9741275011633318\n"
          ]
        },
        {
          "output_type": "stream",
          "name": "stderr",
          "text": [
            " 32%|███▏      | 772/2388 [11:33<05:41,  4.73it/s, avg_loss=0.07309122306200161]"
          ]
        },
        {
          "output_type": "stream",
          "name": "stdout",
          "text": [
            "Val Accuracy: 0.9467659376454165\n"
          ]
        },
        {
          "output_type": "stream",
          "name": "stderr",
          "text": [
            " 37%|███▋      | 872/2388 [13:10<05:22,  4.69it/s, avg_loss=0.07387488446605657]"
          ]
        },
        {
          "output_type": "stream",
          "name": "stdout",
          "text": [
            "Val Accuracy: 0.9507677989762681\n"
          ]
        },
        {
          "output_type": "stream",
          "name": "stderr",
          "text": [
            " 41%|████      | 972/2388 [14:47<04:57,  4.76it/s, avg_loss=0.0836110421678818] "
          ]
        },
        {
          "output_type": "stream",
          "name": "stdout",
          "text": [
            "Val Accuracy: 0.9575616565844579\n"
          ]
        },
        {
          "output_type": "stream",
          "name": "stderr",
          "text": [
            " 45%|████▍     | 1072/2388 [16:24<04:33,  4.82it/s, avg_loss=0.08841462840466306]"
          ]
        },
        {
          "output_type": "stream",
          "name": "stdout",
          "text": [
            "Val Accuracy: 0.9354118194509073\n"
          ]
        },
        {
          "output_type": "stream",
          "name": "stderr",
          "text": [
            " 49%|████▉     | 1172/2388 [18:01<04:18,  4.70it/s, avg_loss=0.08727559073905969]"
          ]
        },
        {
          "output_type": "stream",
          "name": "stdout",
          "text": [
            "Val Accuracy: 0.9565379246161005\n"
          ]
        },
        {
          "output_type": "stream",
          "name": "stderr",
          "text": [
            " 53%|█████▎    | 1272/2388 [19:37<03:56,  4.71it/s, avg_loss=0.08608390369181114]"
          ]
        },
        {
          "output_type": "stream",
          "name": "stdout",
          "text": [
            "Val Accuracy: 0.9613773848301536\n"
          ]
        },
        {
          "output_type": "stream",
          "name": "stderr",
          "text": [
            " 57%|█████▋    | 1372/2388 [21:15<03:35,  4.71it/s, avg_loss=0.08645002561553876]"
          ]
        },
        {
          "output_type": "stream",
          "name": "stdout",
          "text": [
            "Val Accuracy: 0.9616565844578874\n"
          ]
        },
        {
          "output_type": "stream",
          "name": "stderr",
          "text": [
            " 62%|██████▏   | 1472/2388 [22:51<03:14,  4.72it/s, avg_loss=0.08867104407155682]"
          ]
        },
        {
          "output_type": "stream",
          "name": "stdout",
          "text": [
            "Val Accuracy: 0.9604467194043741\n"
          ]
        },
        {
          "output_type": "stream",
          "name": "stderr",
          "text": [
            " 66%|██████▌   | 1572/2388 [24:28<02:54,  4.68it/s, avg_loss=0.08671460459613461]"
          ]
        },
        {
          "output_type": "stream",
          "name": "stdout",
          "text": [
            "Val Accuracy: 0.9599813866914844\n"
          ]
        },
        {
          "output_type": "stream",
          "name": "stderr",
          "text": [
            " 70%|███████   | 1672/2388 [26:05<02:29,  4.78it/s, avg_loss=0.08518144190908469]"
          ]
        },
        {
          "output_type": "stream",
          "name": "stdout",
          "text": [
            "Val Accuracy: 0.9788738948348069\n"
          ]
        },
        {
          "output_type": "stream",
          "name": "stderr",
          "text": [
            " 74%|███████▍  | 1772/2388 [27:42<02:10,  4.71it/s, avg_loss=0.08324536313007673]"
          ]
        },
        {
          "output_type": "stream",
          "name": "stdout",
          "text": [
            "Val Accuracy: 0.9658445788738949\n"
          ]
        },
        {
          "output_type": "stream",
          "name": "stderr",
          "text": [
            " 78%|███████▊  | 1872/2388 [29:19<01:49,  4.71it/s, avg_loss=0.08160826852653369]"
          ]
        },
        {
          "output_type": "stream",
          "name": "stdout",
          "text": [
            "Val Accuracy: 0.9502093997208003\n"
          ]
        },
        {
          "output_type": "stream",
          "name": "stderr",
          "text": [
            " 83%|████████▎ | 1972/2388 [30:56<01:28,  4.71it/s, avg_loss=0.08460575260456396]"
          ]
        },
        {
          "output_type": "stream",
          "name": "stdout",
          "text": [
            "Val Accuracy: 0.9438808748255002\n"
          ]
        },
        {
          "output_type": "stream",
          "name": "stderr",
          "text": [
            " 87%|████████▋ | 2072/2388 [32:32<01:07,  4.71it/s, avg_loss=0.08714714199989777]"
          ]
        },
        {
          "output_type": "stream",
          "name": "stdout",
          "text": [
            "Val Accuracy: 0.9576547231270358\n"
          ]
        },
        {
          "output_type": "stream",
          "name": "stderr",
          "text": [
            " 91%|█████████ | 2172/2388 [34:09<00:45,  4.75it/s, avg_loss=0.0859657373800289] "
          ]
        },
        {
          "output_type": "stream",
          "name": "stdout",
          "text": [
            "Val Accuracy: 0.9503024662633783\n"
          ]
        },
        {
          "output_type": "stream",
          "name": "stderr",
          "text": [
            " 95%|█████████▌| 2272/2388 [35:46<00:24,  4.70it/s, avg_loss=0.08560800138147866]"
          ]
        },
        {
          "output_type": "stream",
          "name": "stdout",
          "text": [
            "Val Accuracy: 0.9759888320148906\n"
          ]
        },
        {
          "output_type": "stream",
          "name": "stderr",
          "text": [
            " 99%|█████████▉| 2372/2388 [37:23<00:03,  4.82it/s, avg_loss=0.0849169437184906]"
          ]
        },
        {
          "output_type": "stream",
          "name": "stdout",
          "text": [
            "Val Accuracy: 0.9713355048859935\n"
          ]
        },
        {
          "output_type": "stream",
          "name": "stderr",
          "text": [
            "100%|██████████| 2388/2388 [38:41<00:00,  1.03it/s, avg_loss=0.08478589690618005]\n",
            "  4%|▎         | 84/2388 [00:18<08:05,  4.75it/s, avg_loss=0.04109759474453954]"
          ]
        },
        {
          "output_type": "stream",
          "name": "stdout",
          "text": [
            "Val Accuracy: 0.9531875290832945\n"
          ]
        },
        {
          "output_type": "stream",
          "name": "stderr",
          "text": [
            "  8%|▊         | 184/2388 [01:54<07:44,  4.74it/s, avg_loss=0.0460653477672069]"
          ]
        },
        {
          "output_type": "stream",
          "name": "stdout",
          "text": [
            "Val Accuracy: 0.9608189855746859\n"
          ]
        },
        {
          "output_type": "stream",
          "name": "stderr",
          "text": [
            " 12%|█▏        | 284/2388 [03:31<07:23,  4.75it/s, avg_loss=0.05189754679294103] "
          ]
        },
        {
          "output_type": "stream",
          "name": "stdout",
          "text": [
            "Val Accuracy: 0.9614704513727315\n"
          ]
        },
        {
          "output_type": "stream",
          "name": "stderr",
          "text": [
            " 16%|█▌        | 384/2388 [05:08<07:05,  4.70it/s, avg_loss=0.06286395775460768]"
          ]
        },
        {
          "output_type": "stream",
          "name": "stdout",
          "text": [
            "Val Accuracy: 0.949185667752443\n"
          ]
        },
        {
          "output_type": "stream",
          "name": "stderr",
          "text": [
            " 20%|██        | 484/2388 [06:45<06:41,  4.74it/s, avg_loss=0.06485817398968664]"
          ]
        },
        {
          "output_type": "stream",
          "name": "stdout",
          "text": [
            "Val Accuracy: 0.9316891577477897\n"
          ]
        },
        {
          "output_type": "stream",
          "name": "stderr",
          "text": [
            " 24%|██▍       | 584/2388 [08:22<06:22,  4.72it/s, avg_loss=0.06660540799432957]"
          ]
        },
        {
          "output_type": "stream",
          "name": "stdout",
          "text": [
            "Val Accuracy: 0.958957654723127\n"
          ]
        },
        {
          "output_type": "stream",
          "name": "stderr",
          "text": [
            " 29%|██▊       | 684/2388 [09:59<06:04,  4.68it/s, avg_loss=0.06951433572680035]"
          ]
        },
        {
          "output_type": "stream",
          "name": "stdout",
          "text": [
            "Val Accuracy: 0.9477896696137739\n"
          ]
        },
        {
          "output_type": "stream",
          "name": "stderr",
          "text": [
            " 33%|███▎      | 784/2388 [11:35<05:40,  4.71it/s, avg_loss=0.06652279214452096]"
          ]
        },
        {
          "output_type": "stream",
          "name": "stdout",
          "text": [
            "Val Accuracy: 0.968822708236389\n"
          ]
        },
        {
          "output_type": "stream",
          "name": "stderr",
          "text": [
            " 37%|███▋      | 884/2388 [13:13<05:18,  4.72it/s, avg_loss=0.06692947015587383]"
          ]
        },
        {
          "output_type": "stream",
          "name": "stdout",
          "text": [
            "Val Accuracy: 0.9503024662633783\n"
          ]
        },
        {
          "output_type": "stream",
          "name": "stderr",
          "text": [
            " 41%|████      | 984/2388 [14:49<04:59,  4.69it/s, avg_loss=0.07050044421396286]"
          ]
        },
        {
          "output_type": "stream",
          "name": "stdout",
          "text": [
            "Val Accuracy: 0.947603536528618\n"
          ]
        },
        {
          "output_type": "stream",
          "name": "stderr",
          "text": [
            " 45%|████▌     | 1084/2388 [16:26<04:32,  4.78it/s, avg_loss=0.0719420501892361] "
          ]
        },
        {
          "output_type": "stream",
          "name": "stdout",
          "text": [
            "Val Accuracy: 0.9593299208934388\n"
          ]
        },
        {
          "output_type": "stream",
          "name": "stderr",
          "text": [
            " 50%|████▉     | 1184/2388 [18:03<04:13,  4.76it/s, avg_loss=0.07453744120349767]"
          ]
        },
        {
          "output_type": "stream",
          "name": "stdout",
          "text": [
            "Val Accuracy: 0.9431363424848767\n"
          ]
        },
        {
          "output_type": "stream",
          "name": "stderr",
          "text": [
            " 54%|█████▍    | 1284/2388 [19:40<03:53,  4.72it/s, avg_loss=0.07478386432017722]"
          ]
        },
        {
          "output_type": "stream",
          "name": "stdout",
          "text": [
            "Val Accuracy: 0.9605397859469521\n"
          ]
        },
        {
          "output_type": "stream",
          "name": "stderr",
          "text": [
            " 58%|█████▊    | 1384/2388 [21:17<03:32,  4.73it/s, avg_loss=0.07470597041981897]"
          ]
        },
        {
          "output_type": "stream",
          "name": "stdout",
          "text": [
            "Val Accuracy: 0.9401582131223825\n"
          ]
        },
        {
          "output_type": "stream",
          "name": "stderr",
          "text": [
            " 62%|██████▏   | 1484/2388 [22:53<03:10,  4.74it/s, avg_loss=0.07484836244038154]"
          ]
        },
        {
          "output_type": "stream",
          "name": "stdout",
          "text": [
            "Val Accuracy: 0.9668683108422522\n"
          ]
        },
        {
          "output_type": "stream",
          "name": "stderr",
          "text": [
            " 66%|██████▋   | 1584/2388 [24:30<02:48,  4.76it/s, avg_loss=0.07343866166740685]"
          ]
        },
        {
          "output_type": "stream",
          "name": "stdout",
          "text": [
            "Val Accuracy: 0.968729641693811\n"
          ]
        },
        {
          "output_type": "stream",
          "name": "stderr",
          "text": [
            " 71%|███████   | 1684/2388 [26:07<02:29,  4.72it/s, avg_loss=0.07412033445980881]"
          ]
        },
        {
          "output_type": "stream",
          "name": "stdout",
          "text": [
            "Val Accuracy: 0.9603536528617962\n"
          ]
        },
        {
          "output_type": "stream",
          "name": "stderr",
          "text": [
            " 75%|███████▍  | 1784/2388 [27:43<02:04,  4.83it/s, avg_loss=0.0741451504521624] "
          ]
        },
        {
          "output_type": "stream",
          "name": "stdout",
          "text": [
            "Val Accuracy: 0.9686365751512331\n"
          ]
        },
        {
          "output_type": "stream",
          "name": "stderr",
          "text": [
            " 79%|███████▉  | 1884/2388 [29:20<01:46,  4.73it/s, avg_loss=0.07566594740917269]"
          ]
        },
        {
          "output_type": "stream",
          "name": "stdout",
          "text": [
            "Val Accuracy: 0.9450907398790135\n"
          ]
        },
        {
          "output_type": "stream",
          "name": "stderr",
          "text": [
            " 83%|████████▎ | 1984/2388 [30:57<01:24,  4.76it/s, avg_loss=0.07651036408951906]"
          ]
        },
        {
          "output_type": "stream",
          "name": "stdout",
          "text": [
            "Val Accuracy: 0.9682643089809213\n"
          ]
        },
        {
          "output_type": "stream",
          "name": "stderr",
          "text": [
            " 87%|████████▋ | 2084/2388 [32:33<01:03,  4.81it/s, avg_loss=0.07543077451172824]"
          ]
        },
        {
          "output_type": "stream",
          "name": "stdout",
          "text": [
            "Val Accuracy: 0.9571893904141461\n"
          ]
        },
        {
          "output_type": "stream",
          "name": "stderr",
          "text": [
            " 91%|█████████▏| 2184/2388 [34:10<00:42,  4.80it/s, avg_loss=0.07327215559661052]"
          ]
        },
        {
          "output_type": "stream",
          "name": "stdout",
          "text": [
            "Val Accuracy: 0.9617496510004653\n"
          ]
        },
        {
          "output_type": "stream",
          "name": "stderr",
          "text": [
            " 96%|█████████▌| 2284/2388 [35:47<00:22,  4.70it/s, avg_loss=0.07166385564008201]"
          ]
        }
      ]
    },
    {
      "cell_type": "markdown",
      "source": [
        "# Model Evaluation"
      ],
      "metadata": {
        "id": "4iX8I-z59nR-"
      }
    },
    {
      "cell_type": "code",
      "source": [
        "device = torch.device(\"cuda:0\" if torch.cuda.is_available() else \"cpu\")\n",
        "model = CheastCancer_ConvNet()\n",
        "state_dict = torch.load('/content/drive/MyDrive/Project/checkpoint/Inception/checkpoint.ckpt')\n",
        "model.load_state_dict(state_dict)\n",
        "# model = CheastCancer_ConvNet.load_from_checkpoint(\"/content/drive/MyDrive/Project/checkpoint/Inception/checkpoint.ckpt\")\n",
        "# model.eval()\n",
        "\n",
        "preds = []\n",
        "labels = []\n",
        "\n",
        "with torch.no_grad():\n",
        "  correct = 0\n",
        "  for data, label in tqdm(val_dataset):\n",
        "    data = data.float().unsqueeze(0)\n",
        "    pred = torch.sigmoid(model(data)[0])\n",
        "    preds.append(pred)\n",
        "    labels.append(label)\n",
        "\n",
        "preds = torch.tensor(preds)\n",
        "labels = torch.tensor(labels).int()\n",
        "\n",
        "acc = torchmetrics.Accuracy()(preds,labels)\n",
        "precision = torchmetrics.Precision()(preds,labels)\n",
        "recall = torchmetrics.Recall()(preds,labels)\n",
        "cm = torchmetrics.ConfusionMatrix(num_classes = 2)(preds,labels)\n",
        "\n",
        "print(f\"Val Accuracy:{acc}\")\n",
        "print(f\"Val Precision:{precision}\")\n",
        "print(f\"Val Recall:{recall}\")\n",
        "print(f\"Confusion Matrix:{cm}\")"
      ],
      "metadata": {
        "id": "t9R0VXo1DyTZ",
        "colab": {
          "base_uri": "https://localhost:8080/",
          "height": 197,
          "referenced_widgets": [
            "f391863361d64ad69e305b871e521047",
            "48cea599521a47bf9d25438f3b1ded7d",
            "46a1d0f446404f6bb2997266a81d1435",
            "5b7a695983c44b91b5354a1726bf36be",
            "de7f2e7c942b4be1806bd9e904bc6d6c",
            "d79ad88a24c34081ab93d6b826ab61cc",
            "02388160c68c4f498a1f91251568268e",
            "de2db135e775404ca6ed2611aacdadac",
            "08bdfbc733ca493e9bb1e80b5f338737",
            "4e72f36f271b4d38a4aeb39bbc12fa80",
            "c5f8ba6e7e7f45dfaedbb356583c54a5"
          ]
        },
        "outputId": "fd3957a0-d318-4c8a-e0f2-906b79353ebd"
      },
      "execution_count": 21,
      "outputs": [
        {
          "output_type": "stream",
          "name": "stderr",
          "text": [
            "/usr/local/lib/python3.7/dist-packages/torchvision/models/inception.py:48: FutureWarning: The default weight initialization of inception_v3 will be changed in future releases of torchvision. If you wish to keep the old behavior (which leads to long initialization times due to scipy/scipy#11299), please set init_weights=True.\n",
            "  FutureWarning,\n"
          ]
        },
        {
          "output_type": "display_data",
          "data": {
            "text/plain": [
              "  0%|          | 0/10745 [00:00<?, ?it/s]"
            ],
            "application/vnd.jupyter.widget-view+json": {
              "version_major": 2,
              "version_minor": 0,
              "model_id": "f391863361d64ad69e305b871e521047"
            }
          },
          "metadata": {}
        },
        {
          "output_type": "stream",
          "name": "stdout",
          "text": [
            "Val Accuracy:0.8458818197250366\n",
            "Val Precision:0.882174551486969\n",
            "Val Recall:0.7855352163314819\n",
            "Confusion Matrix:tensor([[5016,  544],\n",
            "        [1112, 4073]])\n"
          ]
        }
      ]
    }
  ]
}