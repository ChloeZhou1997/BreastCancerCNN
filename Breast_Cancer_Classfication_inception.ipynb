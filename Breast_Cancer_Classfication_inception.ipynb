{
  "nbformat": 4,
  "nbformat_minor": 0,
  "metadata": {
    "colab": {
      "name": "Breast_Cancer_Classfication_inception.ipynb",
      "provenance": [],
      "authorship_tag": "ABX9TyNgQ6SQ5OBjyaBn+fHmL8hS",
      "include_colab_link": true
    },
    "kernelspec": {
      "name": "python3",
      "display_name": "Python 3"
    },
    "language_info": {
      "name": "python"
    },
    "accelerator": "GPU"
  },
  "cells": [
    {
      "cell_type": "markdown",
      "metadata": {
        "id": "view-in-github",
        "colab_type": "text"
      },
      "source": [
        "<a href=\"https://colab.research.google.com/github/ChloeZhou1997/BreastCancerCNN/blob/main/Breast_Cancer_Classfication_inception.ipynb\" target=\"_parent\"><img src=\"https://colab.research.google.com/assets/colab-badge.svg\" alt=\"Open In Colab\"/></a>"
      ]
    },
    {
      "cell_type": "code",
      "execution_count": 1,
      "metadata": {
        "colab": {
          "base_uri": "https://localhost:8080/"
        },
        "id": "2N3ez1CACXuR",
        "outputId": "7ba3a583-8069-4710-d4bd-37247f3da0b1"
      },
      "outputs": [
        {
          "output_type": "stream",
          "name": "stdout",
          "text": [
            "Mounted at /content/drive\n",
            "Collecting pylibjpeg==1.1.1\n",
            "  Downloading pylibjpeg-1.1.1-py3-none-any.whl (29 kB)\n",
            "Collecting pylibjpeg-openjpeg\n",
            "  Downloading pylibjpeg_openjpeg-1.2.1-cp37-cp37m-manylinux_2_17_x86_64.manylinux2014_x86_64.whl (1.3 MB)\n",
            "\u001b[K     |████████████████████████████████| 1.3 MB 21.7 MB/s \n",
            "\u001b[?25hRequirement already satisfied: numpy in /usr/local/lib/python3.7/dist-packages (from pylibjpeg==1.1.1) (1.21.6)\n",
            "Installing collected packages: pylibjpeg-openjpeg, pylibjpeg\n",
            "Successfully installed pylibjpeg-1.1.1 pylibjpeg-openjpeg-1.2.1\n",
            "Collecting pydicom==2.1.1\n",
            "  Downloading pydicom-2.1.1-py3-none-any.whl (1.9 MB)\n",
            "\u001b[K     |████████████████████████████████| 1.9 MB 14.0 MB/s \n",
            "\u001b[?25hInstalling collected packages: pydicom\n",
            "Successfully installed pydicom-2.1.1\n",
            "Collecting torchmetrics\n",
            "  Downloading torchmetrics-0.8.1-py3-none-any.whl (408 kB)\n",
            "\u001b[K     |████████████████████████████████| 408 kB 12.5 MB/s \n",
            "\u001b[?25hRequirement already satisfied: torch>=1.3.1 in /usr/local/lib/python3.7/dist-packages (from torchmetrics) (1.11.0+cu113)\n",
            "Collecting pyDeprecate==0.3.*\n",
            "  Downloading pyDeprecate-0.3.2-py3-none-any.whl (10 kB)\n",
            "Requirement already satisfied: numpy>=1.17.2 in /usr/local/lib/python3.7/dist-packages (from torchmetrics) (1.21.6)\n",
            "Requirement already satisfied: packaging in /usr/local/lib/python3.7/dist-packages (from torchmetrics) (21.3)\n",
            "Requirement already satisfied: typing-extensions in /usr/local/lib/python3.7/dist-packages (from torch>=1.3.1->torchmetrics) (4.2.0)\n",
            "Requirement already satisfied: pyparsing!=3.0.5,>=2.0.2 in /usr/local/lib/python3.7/dist-packages (from packaging->torchmetrics) (3.0.8)\n",
            "Installing collected packages: pyDeprecate, torchmetrics\n",
            "Successfully installed pyDeprecate-0.3.2 torchmetrics-0.8.1\n",
            "Collecting pytorch_lightning\n",
            "  Downloading pytorch_lightning-1.6.2-py3-none-any.whl (582 kB)\n",
            "\u001b[K     |████████████████████████████████| 582 kB 13.7 MB/s \n",
            "\u001b[?25hCollecting fsspec[http]!=2021.06.0,>=2021.05.0\n",
            "  Downloading fsspec-2022.3.0-py3-none-any.whl (136 kB)\n",
            "\u001b[K     |████████████████████████████████| 136 kB 76.4 MB/s \n",
            "\u001b[?25hCollecting PyYAML>=5.4\n",
            "  Downloading PyYAML-6.0-cp37-cp37m-manylinux_2_5_x86_64.manylinux1_x86_64.manylinux_2_12_x86_64.manylinux2010_x86_64.whl (596 kB)\n",
            "\u001b[K     |████████████████████████████████| 596 kB 60.5 MB/s \n",
            "\u001b[?25hRequirement already satisfied: typing-extensions>=4.0.0 in /usr/local/lib/python3.7/dist-packages (from pytorch_lightning) (4.2.0)\n",
            "Requirement already satisfied: torch>=1.8.* in /usr/local/lib/python3.7/dist-packages (from pytorch_lightning) (1.11.0+cu113)\n",
            "Requirement already satisfied: pyDeprecate<0.4.0,>=0.3.1 in /usr/local/lib/python3.7/dist-packages (from pytorch_lightning) (0.3.2)\n",
            "Requirement already satisfied: tqdm>=4.41.0 in /usr/local/lib/python3.7/dist-packages (from pytorch_lightning) (4.64.0)\n",
            "Requirement already satisfied: torchmetrics>=0.4.1 in /usr/local/lib/python3.7/dist-packages (from pytorch_lightning) (0.8.1)\n",
            "Requirement already satisfied: numpy>=1.17.2 in /usr/local/lib/python3.7/dist-packages (from pytorch_lightning) (1.21.6)\n",
            "Requirement already satisfied: packaging>=17.0 in /usr/local/lib/python3.7/dist-packages (from pytorch_lightning) (21.3)\n",
            "Requirement already satisfied: tensorboard>=2.2.0 in /usr/local/lib/python3.7/dist-packages (from pytorch_lightning) (2.8.0)\n",
            "Requirement already satisfied: requests in /usr/local/lib/python3.7/dist-packages (from fsspec[http]!=2021.06.0,>=2021.05.0->pytorch_lightning) (2.23.0)\n",
            "Collecting aiohttp\n",
            "  Downloading aiohttp-3.8.1-cp37-cp37m-manylinux_2_5_x86_64.manylinux1_x86_64.manylinux_2_12_x86_64.manylinux2010_x86_64.whl (1.1 MB)\n",
            "\u001b[K     |████████████████████████████████| 1.1 MB 53.4 MB/s \n",
            "\u001b[?25hRequirement already satisfied: pyparsing!=3.0.5,>=2.0.2 in /usr/local/lib/python3.7/dist-packages (from packaging>=17.0->pytorch_lightning) (3.0.8)\n",
            "Requirement already satisfied: google-auth-oauthlib<0.5,>=0.4.1 in /usr/local/lib/python3.7/dist-packages (from tensorboard>=2.2.0->pytorch_lightning) (0.4.6)\n",
            "Requirement already satisfied: google-auth<3,>=1.6.3 in /usr/local/lib/python3.7/dist-packages (from tensorboard>=2.2.0->pytorch_lightning) (1.35.0)\n",
            "Requirement already satisfied: absl-py>=0.4 in /usr/local/lib/python3.7/dist-packages (from tensorboard>=2.2.0->pytorch_lightning) (1.0.0)\n",
            "Requirement already satisfied: setuptools>=41.0.0 in /usr/local/lib/python3.7/dist-packages (from tensorboard>=2.2.0->pytorch_lightning) (57.4.0)\n",
            "Requirement already satisfied: markdown>=2.6.8 in /usr/local/lib/python3.7/dist-packages (from tensorboard>=2.2.0->pytorch_lightning) (3.3.6)\n",
            "Requirement already satisfied: grpcio>=1.24.3 in /usr/local/lib/python3.7/dist-packages (from tensorboard>=2.2.0->pytorch_lightning) (1.44.0)\n",
            "Requirement already satisfied: protobuf>=3.6.0 in /usr/local/lib/python3.7/dist-packages (from tensorboard>=2.2.0->pytorch_lightning) (3.17.3)\n",
            "Requirement already satisfied: tensorboard-data-server<0.7.0,>=0.6.0 in /usr/local/lib/python3.7/dist-packages (from tensorboard>=2.2.0->pytorch_lightning) (0.6.1)\n",
            "Requirement already satisfied: werkzeug>=0.11.15 in /usr/local/lib/python3.7/dist-packages (from tensorboard>=2.2.0->pytorch_lightning) (1.0.1)\n",
            "Requirement already satisfied: wheel>=0.26 in /usr/local/lib/python3.7/dist-packages (from tensorboard>=2.2.0->pytorch_lightning) (0.37.1)\n",
            "Requirement already satisfied: tensorboard-plugin-wit>=1.6.0 in /usr/local/lib/python3.7/dist-packages (from tensorboard>=2.2.0->pytorch_lightning) (1.8.1)\n",
            "Requirement already satisfied: six in /usr/local/lib/python3.7/dist-packages (from absl-py>=0.4->tensorboard>=2.2.0->pytorch_lightning) (1.15.0)\n",
            "Requirement already satisfied: rsa<5,>=3.1.4 in /usr/local/lib/python3.7/dist-packages (from google-auth<3,>=1.6.3->tensorboard>=2.2.0->pytorch_lightning) (4.8)\n",
            "Requirement already satisfied: pyasn1-modules>=0.2.1 in /usr/local/lib/python3.7/dist-packages (from google-auth<3,>=1.6.3->tensorboard>=2.2.0->pytorch_lightning) (0.2.8)\n",
            "Requirement already satisfied: cachetools<5.0,>=2.0.0 in /usr/local/lib/python3.7/dist-packages (from google-auth<3,>=1.6.3->tensorboard>=2.2.0->pytorch_lightning) (4.2.4)\n",
            "Requirement already satisfied: requests-oauthlib>=0.7.0 in /usr/local/lib/python3.7/dist-packages (from google-auth-oauthlib<0.5,>=0.4.1->tensorboard>=2.2.0->pytorch_lightning) (1.3.1)\n",
            "Requirement already satisfied: importlib-metadata>=4.4 in /usr/local/lib/python3.7/dist-packages (from markdown>=2.6.8->tensorboard>=2.2.0->pytorch_lightning) (4.11.3)\n",
            "Requirement already satisfied: zipp>=0.5 in /usr/local/lib/python3.7/dist-packages (from importlib-metadata>=4.4->markdown>=2.6.8->tensorboard>=2.2.0->pytorch_lightning) (3.8.0)\n",
            "Requirement already satisfied: pyasn1<0.5.0,>=0.4.6 in /usr/local/lib/python3.7/dist-packages (from pyasn1-modules>=0.2.1->google-auth<3,>=1.6.3->tensorboard>=2.2.0->pytorch_lightning) (0.4.8)\n",
            "Requirement already satisfied: chardet<4,>=3.0.2 in /usr/local/lib/python3.7/dist-packages (from requests->fsspec[http]!=2021.06.0,>=2021.05.0->pytorch_lightning) (3.0.4)\n",
            "Requirement already satisfied: urllib3!=1.25.0,!=1.25.1,<1.26,>=1.21.1 in /usr/local/lib/python3.7/dist-packages (from requests->fsspec[http]!=2021.06.0,>=2021.05.0->pytorch_lightning) (1.24.3)\n",
            "Requirement already satisfied: idna<3,>=2.5 in /usr/local/lib/python3.7/dist-packages (from requests->fsspec[http]!=2021.06.0,>=2021.05.0->pytorch_lightning) (2.10)\n",
            "Requirement already satisfied: certifi>=2017.4.17 in /usr/local/lib/python3.7/dist-packages (from requests->fsspec[http]!=2021.06.0,>=2021.05.0->pytorch_lightning) (2021.10.8)\n",
            "Requirement already satisfied: oauthlib>=3.0.0 in /usr/local/lib/python3.7/dist-packages (from requests-oauthlib>=0.7.0->google-auth-oauthlib<0.5,>=0.4.1->tensorboard>=2.2.0->pytorch_lightning) (3.2.0)\n",
            "Collecting asynctest==0.13.0\n",
            "  Downloading asynctest-0.13.0-py3-none-any.whl (26 kB)\n",
            "Requirement already satisfied: charset-normalizer<3.0,>=2.0 in /usr/local/lib/python3.7/dist-packages (from aiohttp->fsspec[http]!=2021.06.0,>=2021.05.0->pytorch_lightning) (2.0.12)\n",
            "Collecting yarl<2.0,>=1.0\n",
            "  Downloading yarl-1.7.2-cp37-cp37m-manylinux_2_5_x86_64.manylinux1_x86_64.manylinux_2_12_x86_64.manylinux2010_x86_64.whl (271 kB)\n",
            "\u001b[K     |████████████████████████████████| 271 kB 77.4 MB/s \n",
            "\u001b[?25hCollecting frozenlist>=1.1.1\n",
            "  Downloading frozenlist-1.3.0-cp37-cp37m-manylinux_2_5_x86_64.manylinux1_x86_64.manylinux_2_17_x86_64.manylinux2014_x86_64.whl (144 kB)\n",
            "\u001b[K     |████████████████████████████████| 144 kB 76.5 MB/s \n",
            "\u001b[?25hCollecting multidict<7.0,>=4.5\n",
            "  Downloading multidict-6.0.2-cp37-cp37m-manylinux_2_17_x86_64.manylinux2014_x86_64.whl (94 kB)\n",
            "\u001b[K     |████████████████████████████████| 94 kB 4.3 MB/s \n",
            "\u001b[?25hRequirement already satisfied: attrs>=17.3.0 in /usr/local/lib/python3.7/dist-packages (from aiohttp->fsspec[http]!=2021.06.0,>=2021.05.0->pytorch_lightning) (21.4.0)\n",
            "Collecting aiosignal>=1.1.2\n",
            "  Downloading aiosignal-1.2.0-py3-none-any.whl (8.2 kB)\n",
            "Collecting async-timeout<5.0,>=4.0.0a3\n",
            "  Downloading async_timeout-4.0.2-py3-none-any.whl (5.8 kB)\n",
            "Installing collected packages: multidict, frozenlist, yarl, asynctest, async-timeout, aiosignal, fsspec, aiohttp, PyYAML, pytorch-lightning\n",
            "  Attempting uninstall: PyYAML\n",
            "    Found existing installation: PyYAML 3.13\n",
            "    Uninstalling PyYAML-3.13:\n",
            "      Successfully uninstalled PyYAML-3.13\n",
            "Successfully installed PyYAML-6.0 aiohttp-3.8.1 aiosignal-1.2.0 async-timeout-4.0.2 asynctest-0.13.0 frozenlist-1.3.0 fsspec-2022.3.0 multidict-6.0.2 pytorch-lightning-1.6.2 yarl-1.7.2\n"
          ]
        }
      ],
      "source": [
        "from google.colab import drive\n",
        "drive.mount('/content/drive')\n",
        "!pip install pylibjpeg==1.1.1\n",
        "!pip install pydicom==2.1.1\n",
        "!pip install torchmetrics\n",
        "!pip install pytorch_lightning\n",
        "# !pip install cloud-tpu-client==0.10 https://storage.googleapis.com/tpu-pytorch/wheels/torch_xla-1.8-cp37-cp37m-linux_x86_64.whl"
      ]
    },
    {
      "cell_type": "code",
      "source": [
        "import os\n",
        "%matplotlib inline\n",
        "import matplotlib.pyplot as plt\n",
        "import pandas as pd\n",
        "import numpy as np\n",
        "from numpy import random"
      ],
      "metadata": {
        "id": "MDmerCi6C-aS"
      },
      "execution_count": 2,
      "outputs": []
    },
    {
      "cell_type": "code",
      "source": [
        "normalizer = np.load('/content/drive/MyDrive/Project/normalizer.npy')\n",
        "mean = normalizer[0]\n",
        "std = normalizer[1]"
      ],
      "metadata": {
        "id": "aM-2ZlDWDD2r"
      },
      "execution_count": 3,
      "outputs": []
    },
    {
      "cell_type": "markdown",
      "source": [
        "# Data Loading"
      ],
      "metadata": {
        "id": "k8RnlFcaDIJO"
      }
    },
    {
      "cell_type": "code",
      "source": [
        "import torch\n",
        "import torchvision\n",
        "from torchvision import transforms\n",
        "import pytorch_lightning as pl\n",
        "# from pytorch_lightning import LightningDataModule, LightningModule, Trainer\n",
        "from pytorch_lightning.callbacks import ModelCheckpoint\n",
        "from pytorch_lightning.loggers import TensorBoardLogger\n",
        "from tqdm.notebook import tqdm\n",
        "import numpy as np"
      ],
      "metadata": {
        "id": "IyRvfMRZDGgB"
      },
      "execution_count": 4,
      "outputs": []
    },
    {
      "cell_type": "code",
      "source": [
        "def load_file(path):\n",
        "  return np.load(path).astype(np.float32)"
      ],
      "metadata": {
        "id": "vljQ8e9lDKn5"
      },
      "execution_count": 6,
      "outputs": []
    },
    {
      "cell_type": "code",
      "source": [
        "train_transforms = transforms.Compose([\n",
        "                                       transforms.ToTensor(),\n",
        "                                       transforms.Normalize(mean,std),\n",
        "                                       ]\n",
        ")\n",
        "\n",
        "val_transforms = transforms.Compose([\n",
        "                                       transforms.ToTensor(),\n",
        "                                       transforms.Normalize(mean,std),                                     \n",
        "])"
      ],
      "metadata": {
        "id": "0sWZNr_0DNA7"
      },
      "execution_count": 7,
      "outputs": []
    },
    {
      "cell_type": "code",
      "source": [
        "train_dataset = torchvision.datasets.DatasetFolder(\"/content/drive/MyDrive/Data/processed/training\",\n",
        "                                                   loader = load_file,\n",
        "                                                   extensions = \"npy\",\n",
        "                                                   transform = train_transforms)\n",
        "\n",
        "val_dataset = torchvision.datasets.DatasetFolder(\"/content/drive/MyDrive/Data/processed/validation\",\n",
        "                                                   loader = load_file,\n",
        "                                                   extensions = \"npy\",\n",
        "                                                   transform = train_transforms)"
      ],
      "metadata": {
        "id": "YqcWtn23DP88"
      },
      "execution_count": 8,
      "outputs": []
    },
    {
      "cell_type": "code",
      "source": [
        "batch_size = 8\n",
        "\n",
        "train_loader = torch.utils.data.DataLoader(train_dataset, batch_size = batch_size, shuffle = True)\n",
        "val_loader = torch.utils.data.DataLoader(val_dataset, batch_size = batch_size, shuffle = False)"
      ],
      "metadata": {
        "id": "4-9RcDUtDR8N"
      },
      "execution_count": 9,
      "outputs": []
    },
    {
      "cell_type": "markdown",
      "source": [
        "#Model Creation"
      ],
      "metadata": {
        "id": "iH1RdWF9DeO2"
      }
    },
    {
      "cell_type": "code",
      "source": [
        "from torchvision.models.googlenet import BasicConv2d\n",
        "model = torchvision.models.inception_v3()\n",
        "model.AuxLogits.fc"
      ],
      "metadata": {
        "colab": {
          "base_uri": "https://localhost:8080/"
        },
        "id": "EaGW8RVkDf3P",
        "outputId": "4a43382b-b732-4462-a3bd-8275f29d8650"
      },
      "execution_count": 10,
      "outputs": [
        {
          "output_type": "stream",
          "name": "stderr",
          "text": [
            "/usr/local/lib/python3.7/dist-packages/torchvision/models/inception.py:48: FutureWarning: The default weight initialization of inception_v3 will be changed in future releases of torchvision. If you wish to keep the old behavior (which leads to long initialization times due to scipy/scipy#11299), please set init_weights=True.\n",
            "  FutureWarning,\n"
          ]
        },
        {
          "output_type": "execute_result",
          "data": {
            "text/plain": [
              "Linear(in_features=768, out_features=1000, bias=True)"
            ]
          },
          "metadata": {},
          "execution_count": 10
        }
      ]
    },
    {
      "cell_type": "code",
      "source": [
        "import torchmetrics\n",
        "\n",
        "class CheastCancer_ConvNet(pl.LightningModule):\n",
        "\n",
        "  def __init__(self,init_weights=True):\n",
        "    super().__init__()\n",
        "\n",
        "    self.model = torchvision.models.inception_v3()\n",
        "    self.model.Conv2d_1a_3x3 = BasicConv2d(1, 32, kernel_size=3, stride=1)\n",
        "    # self.model.Mixed_5b.branch5x5_2 = BasicConv2d(48, 64, kernel_size=3, padding=1)\n",
        "    self.model.fc = torch.nn.Linear(in_features=2048, out_features=1, bias=True)\n",
        "    # self.model.AuxLogits.fc = torch.nn.Linear(in_features=768, out_features=1, bias=True)\n",
        "    \n",
        "    self.optimizer = torch.optim.Adam(self.model.parameters(), lr = 1e-3)\n",
        "\n",
        "    #loss function\n",
        "    self.criterion = torch.nn.BCEWithLogitsLoss()\n",
        "\n",
        "    #eval matrix\n",
        "    self.train_acc = torchmetrics.Accuracy()\n",
        "    self.val_acc = torchmetrics.Accuracy()\n",
        "\n",
        "\n",
        "  def forward(self, data):\n",
        "    pred = self.model(data)\n",
        "    return pred\n",
        "\n",
        "  def training_step(self, batch, batch_idx):\n",
        "    img, label = batch\n",
        "    pred = self(img)\n",
        "    # label = label.float()\n",
        "    loss = self.criterion(pred.logits,label.float().unsqueeze(1))\n",
        "\n",
        "    self.log(\"Train Loss\", loss)\n",
        "    self.log(\"Step Train ACC\", self.train_acc(torch.sigmoid(pred.logits), label.int().unsqueeze(1)))\n",
        "\n",
        "    return loss\n",
        "  \n",
        "  def training_epoch_end(self, outs):\n",
        "    self.log(\"Train ACC\", self.train_acc.compute())\n",
        "\n",
        "  def validation_step(self, batch, batch_idx):\n",
        "    img, label = batch\n",
        "    # label = label.float()\n",
        "    pred = self(img)\n",
        "    # loss = self.loss_fn(pred,label)\n",
        "    if isinstance(pred, tuple):\n",
        "      loss = self.criterion(pred.logits,label.float().unsqueeze(1))\n",
        "    else:\n",
        "      loss = self.criterion(pred,label.float().unsqueeze(1))\n",
        "\n",
        "    self.log(\"Train Loss\", loss)\n",
        "    self.log(\"Step Train ACC\", self.val_acc(torch.sigmoid(pred), label.int().unsqueeze(1)))\n",
        "\n",
        "  \n",
        "  def validation_epoch_end(self, outs):\n",
        "    self.log(\"Val ACC\", self.val_acc.compute())\n",
        "\n",
        "  def configure_optimizers(self):\n",
        "      return [self.optimizer]"
      ],
      "metadata": {
        "id": "YkasVAIODikY"
      },
      "execution_count": 11,
      "outputs": []
    },
    {
      "cell_type": "markdown",
      "source": [
        "#Model Training"
      ],
      "metadata": {
        "id": "gwwOQ_1wDoQP"
      }
    },
    {
      "cell_type": "code",
      "source": [
        "def evaluation(model, dataloader):\n",
        "  predictions, labels = [], []\n",
        "  with torch.no_grad():\n",
        "    for batch in dataloader:\n",
        "      batch = [term.cuda() for term in batch]\n",
        "      pred = model(batch[0]).squeeze(1)\n",
        "      pred = torch.sigmoid(pred)\n",
        "      pred = [1 if p >= 0.5 else 0 for p in pred]\n",
        "      predictions += pred\n",
        "      labels += batch[1]\n",
        "  \n",
        "  result = 0\n",
        "  for p, l in zip(predictions, labels):\n",
        "\n",
        "    if p == l:\n",
        "      result += 1\n",
        "    else:\n",
        "      continue\n",
        "  accuracy = result / len(labels)\n",
        "  return accuracy"
      ],
      "metadata": {
        "id": "01OO-heFDqgR"
      },
      "execution_count": 12,
      "outputs": []
    },
    {
      "cell_type": "code",
      "source": [
        "import tqdm\n",
        "best_accuracy = float('-inf')\n",
        "# state_dict = torch.load('file_path')\n",
        "# model.load_state_dict(state_dict)\n",
        "step = 0\n",
        "patinet = 0\n",
        "stop_train = False\n",
        "model = CheastCancer_ConvNet()\n",
        "model = model.cuda()\n",
        "for epoch in range(50):\n",
        "  bar = tqdm.trange(len(train_loader))\n",
        "  total_loss = 0\n",
        "  for epoch_step, batch in zip(bar, train_loader):\n",
        "    model.optimizer.zero_grad()\n",
        "    model.train()\n",
        "    batch = [term.cuda() for term in batch]\n",
        "\n",
        "    pred = model(batch[0])\n",
        "    loss = model.criterion(pred.logits,batch[1].float().unsqueeze(1))\n",
        "    # loss = model.criterion(pred.squeeze(1), batch[1].float())\n",
        "\n",
        "    loss.backward()\n",
        "    total_loss += loss.item()\n",
        "    model.optimizer.step()\n",
        "    bar.set_postfix(avg_loss='{}'.format(total_loss / (epoch_step+1)))\n",
        "\n",
        "    if step % 100 == 0 and step != 0:\n",
        "      model.eval()\n",
        "      val_accu = evaluation(model, val_loader)\n",
        "      print('Val Accuracy: {}'.format(val_accu))\n",
        "\n",
        "      if val_accu >= best_accuracy:\n",
        "        torch.save(model.state_dict(), '/content/drive/MyDrive/Project/checkpoint/Inception/checkpoint.ckpt')\n",
        "        patient = 0\n",
        "      else:\n",
        "        patient += 1\n",
        "      \n",
        "      if patient == 5:\n",
        "        stop_train = True\n",
        "        break\n",
        "    step += 1\n",
        "  if stop_train:\n",
        "    print('Stop Training !')\n",
        "    break"
      ],
      "metadata": {
        "colab": {
          "base_uri": "https://localhost:8080/"
        },
        "id": "C7r-7ThuDtr1",
        "outputId": "2a0e66fb-10fa-4fb9-d320-307e0e470fb6"
      },
      "execution_count": null,
      "outputs": [
        {
          "output_type": "stream",
          "name": "stderr",
          "text": [
            "/usr/local/lib/python3.7/dist-packages/torchvision/models/inception.py:48: FutureWarning: The default weight initialization of inception_v3 will be changed in future releases of torchvision. If you wish to keep the old behavior (which leads to long initialization times due to scipy/scipy#11299), please set init_weights=True.\n",
            "  FutureWarning,\n",
            "  4%|▍         | 100/2388 [04:43<1:52:50,  2.96s/it, avg_loss=0.7439614298320053]"
          ]
        },
        {
          "output_type": "stream",
          "name": "stdout",
          "text": [
            "Val Accuracy: 0.5521637971149371\n"
          ]
        },
        {
          "output_type": "stream",
          "name": "stderr",
          "text": [
            "  8%|▊         | 200/2388 [10:49<1:46:16,  2.91s/it, avg_loss=0.7248245711943403]"
          ]
        },
        {
          "output_type": "stream",
          "name": "stdout",
          "text": [
            "Val Accuracy: 0.5174499767333643\n"
          ]
        },
        {
          "output_type": "stream",
          "name": "stderr",
          "text": [
            " 13%|█▎        | 300/2388 [16:55<1:44:19,  3.00s/it, avg_loss=0.72036320485942]  "
          ]
        },
        {
          "output_type": "stream",
          "name": "stdout",
          "text": [
            "Val Accuracy: 0.5027454630060493\n"
          ]
        },
        {
          "output_type": "stream",
          "name": "stderr",
          "text": [
            " 17%|█▋        | 400/2388 [23:07<1:43:04,  3.11s/it, avg_loss=0.7150024859387976]"
          ]
        },
        {
          "output_type": "stream",
          "name": "stdout",
          "text": [
            "Val Accuracy: 0.5190321079571893\n"
          ]
        },
        {
          "output_type": "stream",
          "name": "stderr",
          "text": [
            " 21%|██        | 500/2388 [29:27<1:37:05,  3.09s/it, avg_loss=0.7133755523287607]"
          ]
        },
        {
          "output_type": "stream",
          "name": "stdout",
          "text": [
            "Val Accuracy: 0.48878548161935786\n"
          ]
        },
        {
          "output_type": "stream",
          "name": "stderr",
          "text": [
            " 25%|██▌       | 600/2388 [35:56<1:36:22,  3.23s/it, avg_loss=0.7102208385451662]"
          ]
        },
        {
          "output_type": "stream",
          "name": "stdout",
          "text": [
            "Val Accuracy: 0.5041414611447185\n"
          ]
        },
        {
          "output_type": "stream",
          "name": "stderr",
          "text": [
            " 29%|██▉       | 700/2388 [42:31<1:27:40,  3.12s/it, avg_loss=0.7104678371663441]"
          ]
        },
        {
          "output_type": "stream",
          "name": "stdout",
          "text": [
            "Val Accuracy: 0.48255002326663565\n"
          ]
        },
        {
          "output_type": "stream",
          "name": "stderr",
          "text": [
            " 34%|███▎      | 800/2388 [49:06<1:26:27,  3.27s/it, avg_loss=0.7094722550906493]"
          ]
        },
        {
          "output_type": "stream",
          "name": "stdout",
          "text": [
            "Val Accuracy: 0.5208934388087483\n"
          ]
        },
        {
          "output_type": "stream",
          "name": "stderr",
          "text": [
            " 38%|███▊      | 900/2388 [55:36<1:16:29,  3.08s/it, avg_loss=0.7079633910304036]"
          ]
        },
        {
          "output_type": "stream",
          "name": "stdout",
          "text": [
            "Val Accuracy: 0.5174499767333643\n"
          ]
        },
        {
          "output_type": "stream",
          "name": "stderr",
          "text": [
            " 42%|████▏     | 1000/2388 [1:01:59<1:14:21,  3.21s/it, avg_loss=0.7086930407748951]"
          ]
        },
        {
          "output_type": "stream",
          "name": "stdout",
          "text": [
            "Val Accuracy: 0.5218241042345277\n"
          ]
        },
        {
          "output_type": "stream",
          "name": "stderr",
          "text": [
            " 46%|████▌     | 1100/2388 [1:08:24<1:05:03,  3.03s/it, avg_loss=0.7071931764930081]"
          ]
        },
        {
          "output_type": "stream",
          "name": "stdout",
          "text": [
            "Val Accuracy: 0.4565844578873895\n"
          ]
        },
        {
          "output_type": "stream",
          "name": "stderr",
          "text": [
            " 50%|█████     | 1200/2388 [1:14:49<1:01:18,  3.10s/it, avg_loss=0.7077928323432071]"
          ]
        },
        {
          "output_type": "stream",
          "name": "stdout",
          "text": [
            "Val Accuracy: 0.5012563983248023\n"
          ]
        },
        {
          "output_type": "stream",
          "name": "stderr",
          "text": [
            " 54%|█████▍    | 1300/2388 [1:21:05<54:49,  3.02s/it, avg_loss=0.7086394146531476]"
          ]
        },
        {
          "output_type": "stream",
          "name": "stdout",
          "text": [
            "Val Accuracy: 0.49483480688692416\n"
          ]
        },
        {
          "output_type": "stream",
          "name": "stderr",
          "text": [
            " 59%|█████▊    | 1400/2388 [1:27:30<50:24,  3.06s/it, avg_loss=0.7082852321297335]"
          ]
        },
        {
          "output_type": "stream",
          "name": "stdout",
          "text": [
            "Val Accuracy: 0.5204281060958585\n"
          ]
        },
        {
          "output_type": "stream",
          "name": "stderr",
          "text": [
            " 63%|██████▎   | 1500/2388 [1:33:56<46:14,  3.12s/it, avg_loss=0.7077627032697399]"
          ]
        },
        {
          "output_type": "stream",
          "name": "stdout",
          "text": [
            "Val Accuracy: 0.5299208934388088\n"
          ]
        },
        {
          "output_type": "stream",
          "name": "stderr",
          "text": [
            " 67%|██████▋   | 1600/2388 [1:40:15<40:13,  3.06s/it, avg_loss=0.7076080311171193]"
          ]
        },
        {
          "output_type": "stream",
          "name": "stdout",
          "text": [
            "Val Accuracy: 0.4881340158213122\n"
          ]
        },
        {
          "output_type": "stream",
          "name": "stderr",
          "text": [
            " 71%|███████   | 1700/2388 [1:46:42<36:17,  3.17s/it, avg_loss=0.7076562085900147]"
          ]
        },
        {
          "output_type": "stream",
          "name": "stdout",
          "text": [
            "Val Accuracy: 0.5249883666821777\n"
          ]
        },
        {
          "output_type": "stream",
          "name": "stderr",
          "text": [
            " 75%|███████▌  | 1800/2388 [1:53:01<29:27,  3.01s/it, avg_loss=0.7066968297839231]"
          ]
        },
        {
          "output_type": "stream",
          "name": "stdout",
          "text": [
            "Val Accuracy: 0.5436016751977664\n"
          ]
        },
        {
          "output_type": "stream",
          "name": "stderr",
          "text": [
            " 80%|███████▉  | 1900/2388 [1:59:20<24:50,  3.05s/it, avg_loss=0.7063536677531103]"
          ]
        },
        {
          "output_type": "stream",
          "name": "stdout",
          "text": [
            "Val Accuracy: 0.5313168915774779\n"
          ]
        },
        {
          "output_type": "stream",
          "name": "stderr",
          "text": [
            " 84%|████████▍ | 2000/2388 [2:05:39<20:00,  3.09s/it, avg_loss=0.7059839242163567]"
          ]
        },
        {
          "output_type": "stream",
          "name": "stdout",
          "text": [
            "Val Accuracy: 0.5480688692415077\n"
          ]
        },
        {
          "output_type": "stream",
          "name": "stderr",
          "text": [
            " 88%|████████▊ | 2100/2388 [2:11:52<13:59,  2.91s/it, avg_loss=0.7058116363264844]"
          ]
        },
        {
          "output_type": "stream",
          "name": "stdout",
          "text": [
            "Val Accuracy: 0.5358771521637972\n"
          ]
        },
        {
          "output_type": "stream",
          "name": "stderr",
          "text": [
            " 92%|█████████▏| 2200/2388 [2:18:22<09:11,  2.93s/it, avg_loss=0.7050431027351753]"
          ]
        },
        {
          "output_type": "stream",
          "name": "stdout",
          "text": [
            "Val Accuracy: 0.5496510004653327\n"
          ]
        },
        {
          "output_type": "stream",
          "name": "stderr",
          "text": [
            " 96%|█████████▋| 2300/2388 [2:24:40<04:29,  3.06s/it, avg_loss=0.7046848195938896]"
          ]
        },
        {
          "output_type": "stream",
          "name": "stdout",
          "text": [
            "Val Accuracy: 0.4824569567240577\n"
          ]
        },
        {
          "output_type": "stream",
          "name": "stderr",
          "text": [
            "100%|██████████| 2388/2388 [2:30:19<00:00,  3.78s/it, avg_loss=0.7042310337475197]\n",
            "  1%|          | 12/2388 [00:02<08:07,  4.87it/s, avg_loss=0.6969222243015583]"
          ]
        },
        {
          "output_type": "stream",
          "name": "stdout",
          "text": [
            "Val Accuracy: 0.47743136342484876\n"
          ]
        },
        {
          "output_type": "stream",
          "name": "stderr",
          "text": [
            "  5%|▍         | 112/2388 [01:38<07:49,  4.85it/s, avg_loss=0.7044732660318898]"
          ]
        },
        {
          "output_type": "stream",
          "name": "stdout",
          "text": [
            "Val Accuracy: 0.5385760818985574\n"
          ]
        },
        {
          "output_type": "stream",
          "name": "stderr",
          "text": [
            "  9%|▉         | 212/2388 [03:15<07:27,  4.86it/s, avg_loss=0.7026996271151332]"
          ]
        },
        {
          "output_type": "stream",
          "name": "stdout",
          "text": [
            "Val Accuracy: 0.5140995812005584\n"
          ]
        },
        {
          "output_type": "stream",
          "name": "stderr",
          "text": [
            " 13%|█▎        | 312/2388 [04:51<07:06,  4.87it/s, avg_loss=0.7016763641430547]"
          ]
        },
        {
          "output_type": "stream",
          "name": "stdout",
          "text": [
            "Val Accuracy: 0.5103769194974407\n"
          ]
        },
        {
          "output_type": "stream",
          "name": "stderr",
          "text": [
            " 17%|█▋        | 412/2388 [06:27<06:45,  4.87it/s, avg_loss=0.7034858263145058]"
          ]
        },
        {
          "output_type": "stream",
          "name": "stdout",
          "text": [
            "Val Accuracy: 0.4884132154490461\n"
          ]
        },
        {
          "output_type": "stream",
          "name": "stderr",
          "text": [
            " 21%|██▏       | 512/2388 [08:04<06:28,  4.83it/s, avg_loss=0.7022142680997272]"
          ]
        },
        {
          "output_type": "stream",
          "name": "stdout",
          "text": [
            "Val Accuracy: 0.5182875756165658\n"
          ]
        },
        {
          "output_type": "stream",
          "name": "stderr",
          "text": [
            " 26%|██▌       | 612/2388 [09:40<06:02,  4.90it/s, avg_loss=0.7018502472275427]"
          ]
        },
        {
          "output_type": "stream",
          "name": "stdout",
          "text": [
            "Val Accuracy: 0.5234062354583527\n"
          ]
        },
        {
          "output_type": "stream",
          "name": "stderr",
          "text": [
            " 30%|██▉       | 712/2388 [11:16<05:48,  4.81it/s, avg_loss=0.7011392492733028]"
          ]
        },
        {
          "output_type": "stream",
          "name": "stdout",
          "text": [
            "Val Accuracy: 0.5174499767333643\n"
          ]
        },
        {
          "output_type": "stream",
          "name": "stderr",
          "text": [
            " 34%|███▍      | 812/2388 [12:53<05:21,  4.90it/s, avg_loss=0.7005595020849034]"
          ]
        },
        {
          "output_type": "stream",
          "name": "stdout",
          "text": [
            "Val Accuracy: 0.49036761284318287\n"
          ]
        },
        {
          "output_type": "stream",
          "name": "stderr",
          "text": [
            " 38%|███▊      | 912/2388 [14:29<05:05,  4.83it/s, avg_loss=0.7002946713537402]"
          ]
        },
        {
          "output_type": "stream",
          "name": "stdout",
          "text": [
            "Val Accuracy: 0.5160539785946953\n"
          ]
        },
        {
          "output_type": "stream",
          "name": "stderr",
          "text": [
            " 42%|████▏     | 1012/2388 [16:06<04:44,  4.83it/s, avg_loss=0.69967424728322] "
          ]
        },
        {
          "output_type": "stream",
          "name": "stdout",
          "text": [
            "Val Accuracy: 0.5350395532805956\n"
          ]
        },
        {
          "output_type": "stream",
          "name": "stderr",
          "text": [
            " 47%|████▋     | 1112/2388 [17:42<04:21,  4.88it/s, avg_loss=0.6992433637728696]"
          ]
        },
        {
          "output_type": "stream",
          "name": "stdout",
          "text": [
            "Val Accuracy: 0.5403443462075384\n"
          ]
        },
        {
          "output_type": "stream",
          "name": "stderr",
          "text": [
            " 51%|█████     | 1212/2388 [19:18<04:02,  4.85it/s, avg_loss=0.6985924446376414]"
          ]
        },
        {
          "output_type": "stream",
          "name": "stdout",
          "text": [
            "Val Accuracy: 0.5466728711028386\n"
          ]
        },
        {
          "output_type": "stream",
          "name": "stderr",
          "text": [
            " 55%|█████▍    | 1312/2388 [20:55<03:43,  4.81it/s, avg_loss=0.6976006732854967]"
          ]
        },
        {
          "output_type": "stream",
          "name": "stdout",
          "text": [
            "Val Accuracy: 0.5489064681247091\n"
          ]
        },
        {
          "output_type": "stream",
          "name": "stderr",
          "text": [
            " 59%|█████▉    | 1412/2388 [22:32<03:28,  4.68it/s, avg_loss=0.6970899461518765]"
          ]
        },
        {
          "output_type": "stream",
          "name": "stdout",
          "text": [
            "Val Accuracy: 0.5286179618427176\n"
          ]
        },
        {
          "output_type": "stream",
          "name": "stderr",
          "text": [
            " 63%|██████▎   | 1512/2388 [24:09<03:03,  4.77it/s, avg_loss=0.6966929576764104]"
          ]
        },
        {
          "output_type": "stream",
          "name": "stdout",
          "text": [
            "Val Accuracy: 0.5443462075383899\n"
          ]
        },
        {
          "output_type": "stream",
          "name": "stderr",
          "text": [
            " 68%|██████▊   | 1612/2388 [25:45<02:43,  4.75it/s, avg_loss=0.6967009622268772]"
          ]
        },
        {
          "output_type": "stream",
          "name": "stdout",
          "text": [
            "Val Accuracy: 0.5410888785481619\n"
          ]
        },
        {
          "output_type": "stream",
          "name": "stderr",
          "text": [
            " 72%|███████▏  | 1712/2388 [27:22<02:21,  4.78it/s, avg_loss=0.6964896874196753]"
          ]
        },
        {
          "output_type": "stream",
          "name": "stdout",
          "text": [
            "Val Accuracy: 0.5415542112610516\n"
          ]
        },
        {
          "output_type": "stream",
          "name": "stderr",
          "text": [
            " 76%|███████▌  | 1812/2388 [28:59<01:59,  4.80it/s, avg_loss=0.6963027471083669]"
          ]
        },
        {
          "output_type": "stream",
          "name": "stdout",
          "text": [
            "Val Accuracy: 0.5174499767333643\n"
          ]
        },
        {
          "output_type": "stream",
          "name": "stderr",
          "text": [
            " 80%|████████  | 1912/2388 [30:36<01:39,  4.77it/s, avg_loss=0.6967666709666095]"
          ]
        },
        {
          "output_type": "stream",
          "name": "stdout",
          "text": [
            "Val Accuracy: 0.5137273150302466\n"
          ]
        },
        {
          "output_type": "stream",
          "name": "stderr",
          "text": [
            " 84%|████████▍ | 2012/2388 [32:13<01:21,  4.64it/s, avg_loss=0.6966220693865405]"
          ]
        },
        {
          "output_type": "stream",
          "name": "stdout",
          "text": [
            "Val Accuracy: 0.5263843648208469\n"
          ]
        },
        {
          "output_type": "stream",
          "name": "stderr",
          "text": [
            " 88%|████████▊ | 2112/2388 [33:50<00:58,  4.73it/s, avg_loss=0.6967404879668398]"
          ]
        },
        {
          "output_type": "stream",
          "name": "stdout",
          "text": [
            "Val Accuracy: 0.5167985109353187\n"
          ]
        },
        {
          "output_type": "stream",
          "name": "stderr",
          "text": [
            " 93%|█████████▎| 2212/2388 [35:27<00:37,  4.73it/s, avg_loss=0.6971260009984113]"
          ]
        },
        {
          "output_type": "stream",
          "name": "stdout",
          "text": [
            "Val Accuracy: 0.5280595625872498\n"
          ]
        },
        {
          "output_type": "stream",
          "name": "stderr",
          "text": [
            " 97%|█████████▋| 2312/2388 [37:04<00:16,  4.74it/s, avg_loss=0.6971143439534522]"
          ]
        },
        {
          "output_type": "stream",
          "name": "stdout",
          "text": [
            "Val Accuracy: 0.5282456956724058\n"
          ]
        },
        {
          "output_type": "stream",
          "name": "stderr",
          "text": [
            "100%|██████████| 2388/2388 [38:35<00:00,  1.03it/s, avg_loss=0.6973883145218918]\n",
            "  1%|          | 24/2388 [00:05<08:13,  4.79it/s, avg_loss=0.694011595249176]"
          ]
        },
        {
          "output_type": "stream",
          "name": "stdout",
          "text": [
            "Val Accuracy: 0.504885993485342\n"
          ]
        },
        {
          "output_type": "stream",
          "name": "stderr",
          "text": [
            "  5%|▌         | 124/2388 [01:41<07:43,  4.88it/s, avg_loss=0.6993878202438355]"
          ]
        },
        {
          "output_type": "stream",
          "name": "stdout",
          "text": [
            "Val Accuracy: 0.539320614239181\n"
          ]
        },
        {
          "output_type": "stream",
          "name": "stderr",
          "text": [
            "  9%|▉         | 224/2388 [03:17<07:25,  4.86it/s, avg_loss=0.7005768386522929]"
          ]
        },
        {
          "output_type": "stream",
          "name": "stdout",
          "text": [
            "Val Accuracy: 0.5417403443462075\n"
          ]
        },
        {
          "output_type": "stream",
          "name": "stderr",
          "text": [
            " 14%|█▎        | 324/2388 [04:53<07:10,  4.80it/s, avg_loss=0.7014159778448251]"
          ]
        },
        {
          "output_type": "stream",
          "name": "stdout",
          "text": [
            "Val Accuracy: 0.539413680781759\n"
          ]
        },
        {
          "output_type": "stream",
          "name": "stderr",
          "text": [
            " 18%|█▊        | 424/2388 [06:29<06:43,  4.87it/s, avg_loss=0.7015018052213332]"
          ]
        },
        {
          "output_type": "stream",
          "name": "stdout",
          "text": [
            "Val Accuracy: 0.5243369008841322\n"
          ]
        },
        {
          "output_type": "stream",
          "name": "stderr",
          "text": [
            " 22%|██▏       | 524/2388 [08:06<06:25,  4.83it/s, avg_loss=0.7004734927132016]"
          ]
        },
        {
          "output_type": "stream",
          "name": "stdout",
          "text": [
            "Val Accuracy: 0.5155886458818055\n"
          ]
        },
        {
          "output_type": "stream",
          "name": "stderr",
          "text": [
            " 26%|██▌       | 624/2388 [09:42<06:04,  4.84it/s, avg_loss=0.6996908061027527]"
          ]
        },
        {
          "output_type": "stream",
          "name": "stdout",
          "text": [
            "Val Accuracy: 0.5436016751977664\n"
          ]
        },
        {
          "output_type": "stream",
          "name": "stderr",
          "text": [
            " 30%|███       | 724/2388 [11:19<05:42,  4.86it/s, avg_loss=0.6996808657975032]"
          ]
        },
        {
          "output_type": "stream",
          "name": "stdout",
          "text": [
            "Val Accuracy: 0.48255002326663565\n"
          ]
        },
        {
          "output_type": "stream",
          "name": "stderr",
          "text": [
            " 35%|███▍      | 824/2388 [12:55<05:20,  4.88it/s, avg_loss=0.6994373298413826]"
          ]
        },
        {
          "output_type": "stream",
          "name": "stdout",
          "text": [
            "Val Accuracy: 0.5463006049325267\n"
          ]
        },
        {
          "output_type": "stream",
          "name": "stderr",
          "text": [
            " 39%|███▊      | 924/2388 [14:31<05:06,  4.77it/s, avg_loss=0.6998448032301825]"
          ]
        },
        {
          "output_type": "stream",
          "name": "stdout",
          "text": [
            "Val Accuracy: 0.5141926477431363\n"
          ]
        },
        {
          "output_type": "stream",
          "name": "stderr",
          "text": [
            " 43%|████▎     | 1024/2388 [16:07<04:42,  4.83it/s, avg_loss=0.6998082666280793]"
          ]
        },
        {
          "output_type": "stream",
          "name": "stdout",
          "text": [
            "Val Accuracy: 0.5544904606793858\n"
          ]
        },
        {
          "output_type": "stream",
          "name": "stderr",
          "text": [
            " 47%|████▋     | 1124/2388 [17:42<04:21,  4.83it/s, avg_loss=0.6999744883643256]"
          ]
        },
        {
          "output_type": "stream",
          "name": "stdout",
          "text": [
            "Val Accuracy: 0.5178222429036762\n"
          ]
        },
        {
          "output_type": "stream",
          "name": "stderr",
          "text": [
            " 51%|█████▏    | 1224/2388 [19:18<04:00,  4.84it/s, avg_loss=0.6998512942936955]"
          ]
        },
        {
          "output_type": "stream",
          "name": "stdout",
          "text": [
            "Val Accuracy: 0.5067473243369008\n"
          ]
        },
        {
          "output_type": "stream",
          "name": "stderr",
          "text": [
            " 55%|█████▌    | 1324/2388 [20:54<03:40,  4.83it/s, avg_loss=0.6999020055105102]"
          ]
        },
        {
          "output_type": "stream",
          "name": "stdout",
          "text": [
            "Val Accuracy: 0.5275011633317822\n"
          ]
        },
        {
          "output_type": "stream",
          "name": "stderr",
          "text": [
            " 60%|█████▉    | 1424/2388 [22:30<03:18,  4.86it/s, avg_loss=0.6998670795507599]"
          ]
        },
        {
          "output_type": "stream",
          "name": "stdout",
          "text": [
            "Val Accuracy: 0.5308515588645882\n"
          ]
        },
        {
          "output_type": "stream",
          "name": "stderr",
          "text": [
            " 64%|██████▍   | 1524/2388 [24:06<02:58,  4.85it/s, avg_loss=0.6996626931331197]"
          ]
        },
        {
          "output_type": "stream",
          "name": "stdout",
          "text": [
            "Val Accuracy: 0.5341088878548161\n"
          ]
        },
        {
          "output_type": "stream",
          "name": "stderr",
          "text": [
            " 68%|██████▊   | 1624/2388 [25:41<02:36,  4.88it/s, avg_loss=0.6989415971682622]"
          ]
        },
        {
          "output_type": "stream",
          "name": "stdout",
          "text": [
            "Val Accuracy: 0.5435086086551885\n"
          ]
        },
        {
          "output_type": "stream",
          "name": "stderr",
          "text": [
            " 72%|███████▏  | 1724/2388 [27:17<02:15,  4.92it/s, avg_loss=0.6986175710913064]"
          ]
        },
        {
          "output_type": "stream",
          "name": "stdout",
          "text": [
            "Val Accuracy: 0.5447184737087017\n"
          ]
        },
        {
          "output_type": "stream",
          "name": "stderr",
          "text": [
            " 76%|███████▋  | 1824/2388 [28:53<01:55,  4.90it/s, avg_loss=0.6985442787000578]"
          ]
        },
        {
          "output_type": "stream",
          "name": "stdout",
          "text": [
            "Val Accuracy: 0.5380176826430898\n"
          ]
        },
        {
          "output_type": "stream",
          "name": "stderr",
          "text": [
            " 81%|████████  | 1924/2388 [30:29<01:34,  4.89it/s, avg_loss=0.698728911226446]"
          ]
        },
        {
          "output_type": "stream",
          "name": "stdout",
          "text": [
            "Val Accuracy: 0.5385760818985574\n"
          ]
        },
        {
          "output_type": "stream",
          "name": "stderr",
          "text": [
            " 85%|████████▍ | 2024/2388 [32:05<01:15,  4.85it/s, avg_loss=0.6988496389506775]"
          ]
        },
        {
          "output_type": "stream",
          "name": "stdout",
          "text": [
            "Val Accuracy: 0.5173569101907864\n"
          ]
        },
        {
          "output_type": "stream",
          "name": "stderr",
          "text": [
            " 89%|████████▉ | 2124/2388 [33:41<00:55,  4.74it/s, avg_loss=0.6988814055498909]"
          ]
        },
        {
          "output_type": "stream",
          "name": "stdout",
          "text": [
            "Val Accuracy: 0.5535597952536063\n"
          ]
        },
        {
          "output_type": "stream",
          "name": "stderr",
          "text": [
            " 93%|█████████▎| 2224/2388 [35:17<00:33,  4.90it/s, avg_loss=0.6989174920253539]"
          ]
        },
        {
          "output_type": "stream",
          "name": "stdout",
          "text": [
            "Val Accuracy: 0.5484411354118195\n"
          ]
        },
        {
          "output_type": "stream",
          "name": "stderr",
          "text": [
            " 97%|█████████▋| 2324/2388 [36:52<00:13,  4.77it/s, avg_loss=0.6987870497088279]"
          ]
        },
        {
          "output_type": "stream",
          "name": "stdout",
          "text": [
            "Val Accuracy: 0.5169846440204746\n"
          ]
        },
        {
          "output_type": "stream",
          "name": "stderr",
          "text": [
            "100%|██████████| 2388/2388 [38:21<00:00,  1.04it/s, avg_loss=0.6987658526180577]\n",
            "  2%|▏         | 36/2388 [00:07<07:57,  4.93it/s, avg_loss=0.6799888191996394]"
          ]
        },
        {
          "output_type": "stream",
          "name": "stdout",
          "text": [
            "Val Accuracy: 0.5369008841321545\n"
          ]
        },
        {
          "output_type": "stream",
          "name": "stderr",
          "text": [
            "  6%|▌         | 136/2388 [01:43<07:46,  4.83it/s, avg_loss=0.6937751983204027]"
          ]
        },
        {
          "output_type": "stream",
          "name": "stdout",
          "text": [
            "Val Accuracy: 0.5248953001395998\n"
          ]
        },
        {
          "output_type": "stream",
          "name": "stderr",
          "text": [
            " 10%|▉         | 236/2388 [03:19<07:32,  4.76it/s, avg_loss=0.6965059660658052]"
          ]
        },
        {
          "output_type": "stream",
          "name": "stdout",
          "text": [
            "Val Accuracy: 0.5414611447184737\n"
          ]
        },
        {
          "output_type": "stream",
          "name": "stderr",
          "text": [
            " 14%|█▍        | 336/2388 [04:56<07:00,  4.88it/s, avg_loss=0.6953774945318522]"
          ]
        },
        {
          "output_type": "stream",
          "name": "stdout",
          "text": [
            "Val Accuracy: 0.5376454164727781\n"
          ]
        },
        {
          "output_type": "stream",
          "name": "stderr",
          "text": [
            " 18%|█▊        | 436/2388 [06:32<06:43,  4.83it/s, avg_loss=0.694550643523716] "
          ]
        },
        {
          "output_type": "stream",
          "name": "stdout",
          "text": [
            "Val Accuracy: 0.5384830153559795\n"
          ]
        },
        {
          "output_type": "stream",
          "name": "stderr",
          "text": [
            " 22%|██▏       | 536/2388 [08:08<06:24,  4.81it/s, avg_loss=0.6931709331951106]"
          ]
        },
        {
          "output_type": "stream",
          "name": "stdout",
          "text": [
            "Val Accuracy: 0.5270358306188925\n"
          ]
        },
        {
          "output_type": "stream",
          "name": "stderr",
          "text": [
            " 27%|██▋       | 636/2388 [09:44<06:01,  4.85it/s, avg_loss=0.693706418131734] "
          ]
        },
        {
          "output_type": "stream",
          "name": "stdout",
          "text": [
            "Val Accuracy: 0.5429502093997208\n"
          ]
        },
        {
          "output_type": "stream",
          "name": "stderr",
          "text": [
            " 31%|███       | 736/2388 [11:20<05:44,  4.80it/s, avg_loss=0.6925329494832168]"
          ]
        },
        {
          "output_type": "stream",
          "name": "stdout",
          "text": [
            "Val Accuracy: 0.5395067473243369\n"
          ]
        },
        {
          "output_type": "stream",
          "name": "stderr",
          "text": [
            " 35%|███▌      | 836/2388 [12:56<05:21,  4.82it/s, avg_loss=0.6932367730169171]"
          ]
        },
        {
          "output_type": "stream",
          "name": "stdout",
          "text": [
            "Val Accuracy: 0.5463006049325267\n"
          ]
        },
        {
          "output_type": "stream",
          "name": "stderr",
          "text": [
            " 39%|███▉      | 936/2388 [14:33<05:00,  4.84it/s, avg_loss=0.6931271017424706]"
          ]
        },
        {
          "output_type": "stream",
          "name": "stdout",
          "text": [
            "Val Accuracy: 0.5500232666356445\n"
          ]
        },
        {
          "output_type": "stream",
          "name": "stderr",
          "text": [
            " 43%|████▎     | 1036/2388 [16:09<04:36,  4.89it/s, avg_loss=0.6931114728448476]"
          ]
        },
        {
          "output_type": "stream",
          "name": "stdout",
          "text": [
            "Val Accuracy: 0.5020009306654257\n"
          ]
        },
        {
          "output_type": "stream",
          "name": "stderr",
          "text": [
            " 48%|████▊     | 1136/2388 [17:44<04:14,  4.92it/s, avg_loss=0.6937744625849795]"
          ]
        },
        {
          "output_type": "stream",
          "name": "stdout",
          "text": [
            "Val Accuracy: 0.5179153094462541\n"
          ]
        },
        {
          "output_type": "stream",
          "name": "stderr",
          "text": [
            " 52%|█████▏    | 1236/2388 [19:20<03:55,  4.89it/s, avg_loss=0.6940083264244499]"
          ]
        },
        {
          "output_type": "stream",
          "name": "stdout",
          "text": [
            "Val Accuracy: 0.5090739879013495\n"
          ]
        },
        {
          "output_type": "stream",
          "name": "stderr",
          "text": [
            " 56%|█████▌    | 1336/2388 [20:57<03:41,  4.75it/s, avg_loss=0.6942539869981108]"
          ]
        },
        {
          "output_type": "stream",
          "name": "stdout",
          "text": [
            "Val Accuracy: 0.5255467659376454\n"
          ]
        },
        {
          "output_type": "stream",
          "name": "stderr",
          "text": [
            " 60%|██████    | 1436/2388 [22:33<03:15,  4.87it/s, avg_loss=0.6943421779030632]"
          ]
        },
        {
          "output_type": "stream",
          "name": "stdout",
          "text": [
            "Val Accuracy: 0.5341088878548161\n"
          ]
        },
        {
          "output_type": "stream",
          "name": "stderr",
          "text": [
            " 64%|██████▍   | 1536/2388 [24:09<02:58,  4.77it/s, avg_loss=0.6942691412465326]"
          ]
        },
        {
          "output_type": "stream",
          "name": "stdout",
          "text": [
            "Val Accuracy: 0.5399720800372266\n"
          ]
        },
        {
          "output_type": "stream",
          "name": "stderr",
          "text": [
            " 69%|██████▊   | 1636/2388 [25:46<02:35,  4.85it/s, avg_loss=0.6942493977092283]"
          ]
        },
        {
          "output_type": "stream",
          "name": "stdout",
          "text": [
            "Val Accuracy: 0.5503024662633783\n"
          ]
        },
        {
          "output_type": "stream",
          "name": "stderr",
          "text": [
            " 73%|███████▎  | 1736/2388 [27:22<02:14,  4.84it/s, avg_loss=0.6942806237719837]"
          ]
        },
        {
          "output_type": "stream",
          "name": "stdout",
          "text": [
            "Val Accuracy: 0.5403443462075384\n"
          ]
        },
        {
          "output_type": "stream",
          "name": "stderr",
          "text": [
            " 77%|███████▋  | 1836/2388 [28:58<01:54,  4.83it/s, avg_loss=0.694170006767329] "
          ]
        },
        {
          "output_type": "stream",
          "name": "stdout",
          "text": [
            "Val Accuracy: 0.5543043275942299\n"
          ]
        },
        {
          "output_type": "stream",
          "name": "stderr",
          "text": [
            " 81%|████████  | 1936/2388 [30:34<01:32,  4.88it/s, avg_loss=0.6943378956833635]"
          ]
        },
        {
          "output_type": "stream",
          "name": "stdout",
          "text": [
            "Val Accuracy: 0.5402512796649604\n"
          ]
        },
        {
          "output_type": "stream",
          "name": "stderr",
          "text": [
            " 85%|████████▌ | 2036/2388 [32:10<01:12,  4.88it/s, avg_loss=0.6939401723733414]"
          ]
        },
        {
          "output_type": "stream",
          "name": "stdout",
          "text": [
            "Val Accuracy: 0.5379246161005119\n"
          ]
        },
        {
          "output_type": "stream",
          "name": "stderr",
          "text": [
            " 89%|████████▉ | 2136/2388 [33:46<00:51,  4.88it/s, avg_loss=0.6940347311035963]"
          ]
        },
        {
          "output_type": "stream",
          "name": "stdout",
          "text": [
            "Val Accuracy: 0.5528152629129828\n"
          ]
        },
        {
          "output_type": "stream",
          "name": "stderr",
          "text": [
            " 94%|█████████▎| 2236/2388 [35:23<00:32,  4.71it/s, avg_loss=0.6942842732756916]"
          ]
        },
        {
          "output_type": "stream",
          "name": "stdout",
          "text": [
            "Val Accuracy: 0.5466728711028386\n"
          ]
        },
        {
          "output_type": "stream",
          "name": "stderr",
          "text": [
            " 98%|█████████▊| 2336/2388 [36:59<00:10,  4.83it/s, avg_loss=0.6943626082703555]"
          ]
        },
        {
          "output_type": "stream",
          "name": "stdout",
          "text": [
            "Val Accuracy: 0.552442996742671\n"
          ]
        },
        {
          "output_type": "stream",
          "name": "stderr",
          "text": [
            "100%|██████████| 2388/2388 [38:25<00:00,  1.04it/s, avg_loss=0.6944210191617659]\n",
            "  2%|▏         | 48/2388 [00:10<08:07,  4.80it/s, avg_loss=0.6957860820147456]"
          ]
        },
        {
          "output_type": "stream",
          "name": "stdout",
          "text": [
            "Val Accuracy: 0.5309446254071661\n"
          ]
        },
        {
          "output_type": "stream",
          "name": "stderr",
          "text": [
            "  6%|▌         | 148/2388 [01:46<07:41,  4.86it/s, avg_loss=0.6995543429515506]"
          ]
        },
        {
          "output_type": "stream",
          "name": "stdout",
          "text": [
            "Val Accuracy: 0.5583061889250814\n"
          ]
        },
        {
          "output_type": "stream",
          "name": "stderr",
          "text": [
            " 10%|█         | 248/2388 [03:22<07:21,  4.84it/s, avg_loss=0.6980608565261565]"
          ]
        },
        {
          "output_type": "stream",
          "name": "stdout",
          "text": [
            "Val Accuracy: 0.5583992554676593\n"
          ]
        },
        {
          "output_type": "stream",
          "name": "stderr",
          "text": [
            " 15%|█▍        | 348/2388 [04:59<06:58,  4.87it/s, avg_loss=0.6962864323810042]"
          ]
        },
        {
          "output_type": "stream",
          "name": "stdout",
          "text": [
            "Val Accuracy: 0.5551419264774313\n"
          ]
        },
        {
          "output_type": "stream",
          "name": "stderr",
          "text": [
            " 19%|█▉        | 448/2388 [06:35<06:42,  4.82it/s, avg_loss=0.6949767706654385]"
          ]
        },
        {
          "output_type": "stream",
          "name": "stdout",
          "text": [
            "Val Accuracy: 0.5530944625407166\n"
          ]
        },
        {
          "output_type": "stream",
          "name": "stderr",
          "text": [
            " 23%|██▎       | 548/2388 [08:11<06:17,  4.87it/s, avg_loss=0.6961519188351102]"
          ]
        },
        {
          "output_type": "stream",
          "name": "stdout",
          "text": [
            "Val Accuracy: 0.5379246161005119\n"
          ]
        },
        {
          "output_type": "stream",
          "name": "stderr",
          "text": [
            " 27%|██▋       | 648/2388 [09:47<05:57,  4.87it/s, avg_loss=0.695772664205319] "
          ]
        },
        {
          "output_type": "stream",
          "name": "stdout",
          "text": [
            "Val Accuracy: 0.5414611447184737\n"
          ]
        },
        {
          "output_type": "stream",
          "name": "stderr",
          "text": [
            " 31%|███▏      | 748/2388 [11:23<05:33,  4.92it/s, avg_loss=0.6949363540266161]"
          ]
        },
        {
          "output_type": "stream",
          "name": "stdout",
          "text": [
            "Val Accuracy: 0.5462075383899488\n"
          ]
        },
        {
          "output_type": "stream",
          "name": "stderr",
          "text": [
            " 36%|███▌      | 848/2388 [12:59<05:18,  4.84it/s, avg_loss=0.6943755038214235]"
          ]
        },
        {
          "output_type": "stream",
          "name": "stdout",
          "text": [
            "Val Accuracy: 0.5443462075383899\n"
          ]
        },
        {
          "output_type": "stream",
          "name": "stderr",
          "text": [
            " 40%|███▉      | 948/2388 [14:34<04:51,  4.95it/s, avg_loss=0.6945867796592391]"
          ]
        },
        {
          "output_type": "stream",
          "name": "stdout",
          "text": [
            "Val Accuracy: 0.5401582131223825\n"
          ]
        },
        {
          "output_type": "stream",
          "name": "stderr",
          "text": [
            " 44%|████▍     | 1048/2388 [16:11<04:37,  4.84it/s, avg_loss=0.6942626483333577]"
          ]
        },
        {
          "output_type": "stream",
          "name": "stdout",
          "text": [
            "Val Accuracy: 0.5526291298278269\n"
          ]
        },
        {
          "output_type": "stream",
          "name": "stderr",
          "text": [
            " 48%|████▊     | 1148/2388 [17:47<04:14,  4.86it/s, avg_loss=0.694324329430586]"
          ]
        },
        {
          "output_type": "stream",
          "name": "stdout",
          "text": [
            "Val Accuracy: 0.5563517915309446\n"
          ]
        },
        {
          "output_type": "stream",
          "name": "stderr",
          "text": [
            " 52%|█████▏    | 1248/2388 [19:23<03:57,  4.79it/s, avg_loss=0.6936456319615781]"
          ]
        },
        {
          "output_type": "stream",
          "name": "stdout",
          "text": [
            "Val Accuracy: 0.5221963704048395\n"
          ]
        },
        {
          "output_type": "stream",
          "name": "stderr",
          "text": [
            " 56%|█████▋    | 1348/2388 [20:59<03:37,  4.78it/s, avg_loss=0.6934906473594564]"
          ]
        },
        {
          "output_type": "stream",
          "name": "stdout",
          "text": [
            "Val Accuracy: 0.5582131223825035\n"
          ]
        },
        {
          "output_type": "stream",
          "name": "stderr",
          "text": [
            " 61%|██████    | 1448/2388 [22:36<03:12,  4.88it/s, avg_loss=0.6932315664344034]"
          ]
        },
        {
          "output_type": "stream",
          "name": "stdout",
          "text": [
            "Val Accuracy: 0.5404374127501164\n"
          ]
        },
        {
          "output_type": "stream",
          "name": "stderr",
          "text": [
            " 65%|██████▍   | 1548/2388 [24:12<02:53,  4.84it/s, avg_loss=0.693748043497737]"
          ]
        },
        {
          "output_type": "stream",
          "name": "stdout",
          "text": [
            "Val Accuracy: 0.5539320614239182\n"
          ]
        },
        {
          "output_type": "stream",
          "name": "stderr",
          "text": [
            " 69%|██████▉   | 1648/2388 [25:48<02:32,  4.85it/s, avg_loss=0.6941147311085134]"
          ]
        },
        {
          "output_type": "stream",
          "name": "stdout",
          "text": [
            "Val Accuracy: 0.5495579339227548\n"
          ]
        },
        {
          "output_type": "stream",
          "name": "stderr",
          "text": [
            " 73%|███████▎  | 1748/2388 [27:25<02:11,  4.88it/s, avg_loss=0.6940898386119365]"
          ]
        },
        {
          "output_type": "stream",
          "name": "stdout",
          "text": [
            "Val Accuracy: 0.5449046067938577\n"
          ]
        },
        {
          "output_type": "stream",
          "name": "stderr",
          "text": [
            " 77%|███████▋  | 1848/2388 [29:01<01:51,  4.85it/s, avg_loss=0.69426183019734]  "
          ]
        },
        {
          "output_type": "stream",
          "name": "stdout",
          "text": [
            "Val Accuracy: 0.539320614239181\n"
          ]
        },
        {
          "output_type": "stream",
          "name": "stderr",
          "text": [
            " 82%|████████▏ | 1948/2388 [30:37<01:30,  4.85it/s, avg_loss=0.6940289881365186]"
          ]
        },
        {
          "output_type": "stream",
          "name": "stdout",
          "text": [
            "Val Accuracy: 0.544253140995812\n"
          ]
        },
        {
          "output_type": "stream",
          "name": "stderr",
          "text": [
            " 86%|████████▌ | 2048/2388 [32:13<01:10,  4.85it/s, avg_loss=0.694085907098315] "
          ]
        },
        {
          "output_type": "stream",
          "name": "stdout",
          "text": [
            "Val Accuracy: 0.5554211261051651\n"
          ]
        },
        {
          "output_type": "stream",
          "name": "stderr",
          "text": [
            " 90%|████████▉ | 2148/2388 [33:49<00:49,  4.86it/s, avg_loss=0.6936357274006666]"
          ]
        },
        {
          "output_type": "stream",
          "name": "stdout",
          "text": [
            "Val Accuracy: 0.5472312703583062\n"
          ]
        },
        {
          "output_type": "stream",
          "name": "stderr",
          "text": [
            " 94%|█████████▍| 2248/2388 [35:25<00:28,  4.88it/s, avg_loss=0.6933947034070841]"
          ]
        },
        {
          "output_type": "stream",
          "name": "stdout",
          "text": [
            "Val Accuracy: 0.5228478362028851\n"
          ]
        },
        {
          "output_type": "stream",
          "name": "stderr",
          "text": [
            " 98%|█████████▊| 2348/2388 [37:01<00:08,  4.84it/s, avg_loss=0.6932862454041261]"
          ]
        },
        {
          "output_type": "stream",
          "name": "stdout",
          "text": [
            "Val Accuracy: 0.5532805956258725\n"
          ]
        },
        {
          "output_type": "stream",
          "name": "stderr",
          "text": [
            "100%|██████████| 2388/2388 [38:25<00:00,  1.04it/s, avg_loss=0.6934952011060476]\n",
            "  3%|▎         | 60/2388 [00:12<08:03,  4.82it/s, avg_loss=0.6871671510524437]"
          ]
        },
        {
          "output_type": "stream",
          "name": "stdout",
          "text": [
            "Val Accuracy: 0.5465798045602606\n"
          ]
        },
        {
          "output_type": "stream",
          "name": "stderr",
          "text": [
            "  7%|▋         | 160/2388 [01:48<07:37,  4.87it/s, avg_loss=0.6913835832050869]"
          ]
        },
        {
          "output_type": "stream",
          "name": "stdout",
          "text": [
            "Val Accuracy: 0.5438808748255002\n"
          ]
        },
        {
          "output_type": "stream",
          "name": "stderr",
          "text": [
            " 11%|█         | 260/2388 [03:24<07:18,  4.85it/s, avg_loss=0.6907448617891333]"
          ]
        },
        {
          "output_type": "stream",
          "name": "stdout",
          "text": [
            "Val Accuracy: 0.5173569101907864\n"
          ]
        },
        {
          "output_type": "stream",
          "name": "stderr",
          "text": [
            " 15%|█▌        | 360/2388 [05:00<07:03,  4.79it/s, avg_loss=0.6930971617843966]"
          ]
        },
        {
          "output_type": "stream",
          "name": "stdout",
          "text": [
            "Val Accuracy: 0.4947417403443462\n"
          ]
        },
        {
          "output_type": "stream",
          "name": "stderr",
          "text": [
            " 19%|█▉        | 460/2388 [06:36<06:38,  4.84it/s, avg_loss=0.6935182707687262]"
          ]
        },
        {
          "output_type": "stream",
          "name": "stdout",
          "text": [
            "Val Accuracy: 0.531037691949744\n"
          ]
        },
        {
          "output_type": "stream",
          "name": "stderr",
          "text": [
            " 23%|██▎       | 560/2388 [08:13<06:21,  4.79it/s, avg_loss=0.6939658006244802]"
          ]
        },
        {
          "output_type": "stream",
          "name": "stdout",
          "text": [
            "Val Accuracy: 0.5348534201954397\n"
          ]
        },
        {
          "output_type": "stream",
          "name": "stderr",
          "text": [
            " 28%|██▊       | 660/2388 [09:49<05:57,  4.84it/s, avg_loss=0.6941684805499263]"
          ]
        },
        {
          "output_type": "stream",
          "name": "stdout",
          "text": [
            "Val Accuracy: 0.552349930200093\n"
          ]
        },
        {
          "output_type": "stream",
          "name": "stderr",
          "text": [
            " 32%|███▏      | 760/2388 [11:25<05:37,  4.82it/s, avg_loss=0.6945992359663904]"
          ]
        },
        {
          "output_type": "stream",
          "name": "stdout",
          "text": [
            "Val Accuracy: 0.5479758026989298\n"
          ]
        },
        {
          "output_type": "stream",
          "name": "stderr",
          "text": [
            " 36%|███▌      | 860/2388 [13:01<05:16,  4.83it/s, avg_loss=0.6950662531365362]"
          ]
        },
        {
          "output_type": "stream",
          "name": "stdout",
          "text": [
            "Val Accuracy: 0.5499302000930666\n"
          ]
        },
        {
          "output_type": "stream",
          "name": "stderr",
          "text": [
            " 40%|████      | 960/2388 [14:37<04:58,  4.79it/s, avg_loss=0.694481518278509] "
          ]
        },
        {
          "output_type": "stream",
          "name": "stdout",
          "text": [
            "Val Accuracy: 0.5483480688692415\n"
          ]
        },
        {
          "output_type": "stream",
          "name": "stderr",
          "text": [
            " 44%|████▍     | 1060/2388 [16:13<04:35,  4.82it/s, avg_loss=0.6946722411188059]"
          ]
        },
        {
          "output_type": "stream",
          "name": "stdout",
          "text": [
            "Val Accuracy: 0.5530944625407166\n"
          ]
        },
        {
          "output_type": "stream",
          "name": "stderr",
          "text": [
            " 49%|████▊     | 1160/2388 [17:50<04:16,  4.79it/s, avg_loss=0.6949686512261193]"
          ]
        },
        {
          "output_type": "stream",
          "name": "stdout",
          "text": [
            "Val Accuracy: 0.545835272219637\n"
          ]
        },
        {
          "output_type": "stream",
          "name": "stderr",
          "text": [
            " 53%|█████▎    | 1260/2388 [19:26<03:49,  4.91it/s, avg_loss=0.694525611532954] "
          ]
        },
        {
          "output_type": "stream",
          "name": "stdout",
          "text": [
            "Val Accuracy: 0.5545835272219637\n"
          ]
        },
        {
          "output_type": "stream",
          "name": "stderr",
          "text": [
            " 57%|█████▋    | 1360/2388 [21:02<03:31,  4.87it/s, avg_loss=0.6939532769505895]"
          ]
        },
        {
          "output_type": "stream",
          "name": "stdout",
          "text": [
            "Val Accuracy: 0.5493718008375988\n"
          ]
        },
        {
          "output_type": "stream",
          "name": "stderr",
          "text": [
            " 61%|██████    | 1460/2388 [22:38<03:15,  4.75it/s, avg_loss=0.6939729511289054]"
          ]
        },
        {
          "output_type": "stream",
          "name": "stdout",
          "text": [
            "Val Accuracy: 0.5424848766868311\n"
          ]
        },
        {
          "output_type": "stream",
          "name": "stderr",
          "text": [
            " 65%|██████▌   | 1560/2388 [24:14<02:49,  4.88it/s, avg_loss=0.6941145236945778]"
          ]
        },
        {
          "output_type": "stream",
          "name": "stdout",
          "text": [
            "Val Accuracy: 0.5469520707305724\n"
          ]
        },
        {
          "output_type": "stream",
          "name": "stderr",
          "text": [
            " 70%|██████▉   | 1660/2388 [25:51<02:29,  4.88it/s, avg_loss=0.6940614226207469]"
          ]
        },
        {
          "output_type": "stream",
          "name": "stdout",
          "text": [
            "Val Accuracy: 0.5187529083294555\n"
          ]
        },
        {
          "output_type": "stream",
          "name": "stderr",
          "text": [
            " 74%|███████▎  | 1760/2388 [27:27<02:09,  4.83it/s, avg_loss=0.6939749982396288]"
          ]
        },
        {
          "output_type": "stream",
          "name": "stdout",
          "text": [
            "Val Accuracy: 0.5501163331782224\n"
          ]
        },
        {
          "output_type": "stream",
          "name": "stderr",
          "text": [
            " 78%|███████▊  | 1860/2388 [29:03<01:50,  4.79it/s, avg_loss=0.6938685048721863]"
          ]
        },
        {
          "output_type": "stream",
          "name": "stdout",
          "text": [
            "Val Accuracy: 0.5396928804094928\n"
          ]
        },
        {
          "output_type": "stream",
          "name": "stderr",
          "text": [
            " 82%|████████▏ | 1960/2388 [30:39<01:28,  4.85it/s, avg_loss=0.6937474332738446]"
          ]
        },
        {
          "output_type": "stream",
          "name": "stdout",
          "text": [
            "Val Accuracy: 0.5518845974872033\n"
          ]
        },
        {
          "output_type": "stream",
          "name": "stderr",
          "text": [
            " 86%|████████▋ | 2060/2388 [32:15<01:08,  4.82it/s, avg_loss=0.6936464218015176]"
          ]
        },
        {
          "output_type": "stream",
          "name": "stdout",
          "text": [
            "Val Accuracy: 0.555793392275477\n"
          ]
        },
        {
          "output_type": "stream",
          "name": "stderr",
          "text": [
            " 90%|█████████ | 2160/2388 [33:51<00:47,  4.83it/s, avg_loss=0.693875558450232] "
          ]
        },
        {
          "output_type": "stream",
          "name": "stdout",
          "text": [
            "Val Accuracy: 0.5515123313168916\n"
          ]
        },
        {
          "output_type": "stream",
          "name": "stderr",
          "text": [
            " 95%|█████████▍| 2260/2388 [35:27<00:26,  4.83it/s, avg_loss=0.6935208600108363]"
          ]
        },
        {
          "output_type": "stream",
          "name": "stdout",
          "text": [
            "Val Accuracy: 0.5530013959981387\n"
          ]
        },
        {
          "output_type": "stream",
          "name": "stderr",
          "text": [
            " 99%|█████████▉| 2360/2388 [37:03<00:05,  4.84it/s, avg_loss=0.6931951590030692]"
          ]
        },
        {
          "output_type": "stream",
          "name": "stdout",
          "text": [
            "Val Accuracy: 0.5452768729641694\n"
          ]
        },
        {
          "output_type": "stream",
          "name": "stderr",
          "text": [
            "100%|██████████| 2388/2388 [38:24<00:00,  1.04it/s, avg_loss=0.6932599873998058]\n",
            "  3%|▎         | 72/2388 [00:15<08:02,  4.80it/s, avg_loss=0.6771930839917432]"
          ]
        },
        {
          "output_type": "stream",
          "name": "stdout",
          "text": [
            "Val Accuracy: 0.4824569567240577\n"
          ]
        },
        {
          "output_type": "stream",
          "name": "stderr",
          "text": [
            "  7%|▋         | 172/2388 [01:51<07:39,  4.82it/s, avg_loss=0.6919527150302953]"
          ]
        },
        {
          "output_type": "stream",
          "name": "stdout",
          "text": [
            "Val Accuracy: 0.5472312703583062\n"
          ]
        },
        {
          "output_type": "stream",
          "name": "stderr",
          "text": [
            " 11%|█▏        | 272/2388 [03:27<07:20,  4.80it/s, avg_loss=0.6920020464575771]"
          ]
        },
        {
          "output_type": "stream",
          "name": "stdout",
          "text": [
            "Val Accuracy: 0.4829222894369474\n"
          ]
        },
        {
          "output_type": "stream",
          "name": "stderr",
          "text": [
            " 16%|█▌        | 372/2388 [05:04<06:55,  4.85it/s, avg_loss=0.6927538832135239]"
          ]
        },
        {
          "output_type": "stream",
          "name": "stdout",
          "text": [
            "Val Accuracy: 0.4986505351326198\n"
          ]
        },
        {
          "output_type": "stream",
          "name": "stderr",
          "text": [
            " 20%|█▉        | 472/2388 [06:40<06:34,  4.86it/s, avg_loss=0.6935088664734338]"
          ]
        },
        {
          "output_type": "stream",
          "name": "stdout",
          "text": [
            "Val Accuracy: 0.555793392275477\n"
          ]
        },
        {
          "output_type": "stream",
          "name": "stderr",
          "text": [
            " 24%|██▍       | 572/2388 [08:17<06:15,  4.84it/s, avg_loss=0.6919382505807993]"
          ]
        },
        {
          "output_type": "stream",
          "name": "stdout",
          "text": [
            "Val Accuracy: 0.5521637971149371\n"
          ]
        },
        {
          "output_type": "stream",
          "name": "stderr",
          "text": [
            " 28%|██▊       | 672/2388 [09:53<05:50,  4.90it/s, avg_loss=0.6922562707763548]"
          ]
        },
        {
          "output_type": "stream",
          "name": "stdout",
          "text": [
            "Val Accuracy: 0.5256398324802234\n"
          ]
        },
        {
          "output_type": "stream",
          "name": "stderr",
          "text": [
            " 32%|███▏      | 772/2388 [11:29<05:35,  4.82it/s, avg_loss=0.6909742410093508]"
          ]
        },
        {
          "output_type": "stream",
          "name": "stdout",
          "text": [
            "Val Accuracy: 0.48338762214983716\n"
          ]
        },
        {
          "output_type": "stream",
          "name": "stderr",
          "text": [
            " 37%|███▋      | 872/2388 [13:06<05:12,  4.85it/s, avg_loss=0.691049185610309] "
          ]
        },
        {
          "output_type": "stream",
          "name": "stdout",
          "text": [
            "Val Accuracy: 0.4831084225221033\n"
          ]
        },
        {
          "output_type": "stream",
          "name": "stderr",
          "text": [
            " 41%|████      | 972/2388 [14:42<04:59,  4.72it/s, avg_loss=0.6920912715415916]"
          ]
        },
        {
          "output_type": "stream",
          "name": "stdout",
          "text": [
            "Val Accuracy: 0.4829222894369474\n"
          ]
        },
        {
          "output_type": "stream",
          "name": "stderr",
          "text": [
            " 45%|████▍     | 1072/2388 [16:18<04:32,  4.84it/s, avg_loss=0.6924217102800923]"
          ]
        },
        {
          "output_type": "stream",
          "name": "stdout",
          "text": [
            "Val Accuracy: 0.5053513261982318\n"
          ]
        },
        {
          "output_type": "stream",
          "name": "stderr",
          "text": [
            " 49%|████▉     | 1172/2388 [17:55<04:11,  4.83it/s, avg_loss=0.6931939490920748]"
          ]
        },
        {
          "output_type": "stream",
          "name": "stdout",
          "text": [
            "Val Accuracy: 0.5480688692415077\n"
          ]
        },
        {
          "output_type": "stream",
          "name": "stderr",
          "text": [
            " 53%|█████▎    | 1272/2388 [19:31<03:51,  4.83it/s, avg_loss=0.6932475290144885]"
          ]
        },
        {
          "output_type": "stream",
          "name": "stdout",
          "text": [
            "Val Accuracy: 0.5449976733364356\n"
          ]
        },
        {
          "output_type": "stream",
          "name": "stderr",
          "text": [
            " 57%|█████▋    | 1372/2388 [21:07<03:30,  4.83it/s, avg_loss=0.6932160725406027]"
          ]
        },
        {
          "output_type": "stream",
          "name": "stdout",
          "text": [
            "Val Accuracy: 0.5430432759422987\n"
          ]
        },
        {
          "output_type": "stream",
          "name": "stderr",
          "text": [
            " 62%|██████▏   | 1472/2388 [22:44<03:07,  4.88it/s, avg_loss=0.6931627878751062]"
          ]
        },
        {
          "output_type": "stream",
          "name": "stdout",
          "text": [
            "Val Accuracy: 0.5435086086551885\n"
          ]
        },
        {
          "output_type": "stream",
          "name": "stderr",
          "text": [
            " 66%|██████▌   | 1572/2388 [24:21<02:49,  4.82it/s, avg_loss=0.6929663585691943]"
          ]
        },
        {
          "output_type": "stream",
          "name": "stdout",
          "text": [
            "Val Accuracy: 0.5467659376454165\n"
          ]
        },
        {
          "output_type": "stream",
          "name": "stderr",
          "text": [
            " 70%|███████   | 1672/2388 [25:57<02:28,  4.83it/s, avg_loss=0.6929046460346625]"
          ]
        },
        {
          "output_type": "stream",
          "name": "stdout",
          "text": [
            "Val Accuracy: 0.5417403443462075\n"
          ]
        },
        {
          "output_type": "stream",
          "name": "stderr",
          "text": [
            " 74%|███████▍  | 1772/2388 [27:33<02:07,  4.82it/s, avg_loss=0.6928586095184911]"
          ]
        },
        {
          "output_type": "stream",
          "name": "stdout",
          "text": [
            "Val Accuracy: 0.5416472778036296\n"
          ]
        },
        {
          "output_type": "stream",
          "name": "stderr",
          "text": [
            " 78%|███████▊  | 1872/2388 [29:10<01:47,  4.80it/s, avg_loss=0.6921566960268076]"
          ]
        },
        {
          "output_type": "stream",
          "name": "stdout",
          "text": [
            "Val Accuracy: 0.5462075383899488\n"
          ]
        },
        {
          "output_type": "stream",
          "name": "stderr",
          "text": [
            " 83%|████████▎ | 1972/2388 [30:46<01:26,  4.82it/s, avg_loss=0.6922926618191293]"
          ]
        },
        {
          "output_type": "stream",
          "name": "stdout",
          "text": [
            "Val Accuracy: 0.5530944625407166\n"
          ]
        },
        {
          "output_type": "stream",
          "name": "stderr",
          "text": [
            " 87%|████████▋ | 2072/2388 [32:22<01:05,  4.83it/s, avg_loss=0.692187632389593] "
          ]
        },
        {
          "output_type": "stream",
          "name": "stdout",
          "text": [
            "Val Accuracy: 0.5436016751977664\n"
          ]
        },
        {
          "output_type": "stream",
          "name": "stderr",
          "text": [
            " 91%|█████████ | 2172/2388 [33:59<00:45,  4.78it/s, avg_loss=0.69225733254398]  "
          ]
        },
        {
          "output_type": "stream",
          "name": "stdout",
          "text": [
            "Val Accuracy: 0.549185667752443\n"
          ]
        },
        {
          "output_type": "stream",
          "name": "stderr",
          "text": [
            " 95%|█████████▌| 2272/2388 [35:35<00:24,  4.82it/s, avg_loss=0.6923443882726542]"
          ]
        },
        {
          "output_type": "stream",
          "name": "stdout",
          "text": [
            "Val Accuracy: 0.5472312703583062\n"
          ]
        },
        {
          "output_type": "stream",
          "name": "stderr",
          "text": [
            " 99%|█████████▉| 2372/2388 [37:11<00:03,  4.84it/s, avg_loss=0.6926232057937931]"
          ]
        },
        {
          "output_type": "stream",
          "name": "stdout",
          "text": [
            "Val Accuracy: 0.54751046998604\n"
          ]
        },
        {
          "output_type": "stream",
          "name": "stderr",
          "text": [
            "100%|██████████| 2388/2388 [38:30<00:00,  1.03it/s, avg_loss=0.6926037782250937]\n",
            "  4%|▎         | 84/2388 [00:17<08:04,  4.76it/s, avg_loss=0.6987997840432559]"
          ]
        },
        {
          "output_type": "stream",
          "name": "stdout",
          "text": [
            "Val Accuracy: 0.5479758026989298\n"
          ]
        },
        {
          "output_type": "stream",
          "name": "stderr",
          "text": [
            "  8%|▊         | 184/2388 [01:54<07:37,  4.82it/s, avg_loss=0.6955512336782507]"
          ]
        },
        {
          "output_type": "stream",
          "name": "stdout",
          "text": [
            "Val Accuracy: 0.5275011633317822\n"
          ]
        },
        {
          "output_type": "stream",
          "name": "stderr",
          "text": [
            " 12%|█▏        | 284/2388 [03:30<07:12,  4.87it/s, avg_loss=0.6942618566646911]"
          ]
        },
        {
          "output_type": "stream",
          "name": "stdout",
          "text": [
            "Val Accuracy: 0.5281526291298279\n"
          ]
        },
        {
          "output_type": "stream",
          "name": "stderr",
          "text": [
            " 16%|█▌        | 384/2388 [05:06<06:59,  4.77it/s, avg_loss=0.6957682673033182]"
          ]
        },
        {
          "output_type": "stream",
          "name": "stdout",
          "text": [
            "Val Accuracy: 0.5474174034434621\n"
          ]
        },
        {
          "output_type": "stream",
          "name": "stderr",
          "text": [
            " 20%|██        | 484/2388 [06:42<06:34,  4.83it/s, avg_loss=0.6948569879089435]"
          ]
        },
        {
          "output_type": "stream",
          "name": "stdout",
          "text": [
            "Val Accuracy: 0.5232201023731968\n"
          ]
        },
        {
          "output_type": "stream",
          "name": "stderr",
          "text": [
            " 24%|██▍       | 584/2388 [08:19<06:14,  4.82it/s, avg_loss=0.6948035538706006]"
          ]
        },
        {
          "output_type": "stream",
          "name": "stdout",
          "text": [
            "Val Accuracy: 0.5464867380176827\n"
          ]
        },
        {
          "output_type": "stream",
          "name": "stderr",
          "text": [
            " 29%|██▊       | 684/2388 [09:55<05:57,  4.77it/s, avg_loss=0.6944868208718126]"
          ]
        },
        {
          "output_type": "stream",
          "name": "stdout",
          "text": [
            "Val Accuracy: 0.542671009771987\n"
          ]
        },
        {
          "output_type": "stream",
          "name": "stderr",
          "text": [
            " 33%|███▎      | 784/2388 [11:31<05:34,  4.80it/s, avg_loss=0.694697079992598] "
          ]
        },
        {
          "output_type": "stream",
          "name": "stdout",
          "text": [
            "Val Accuracy: 0.5454630060493253\n"
          ]
        },
        {
          "output_type": "stream",
          "name": "stderr",
          "text": [
            " 37%|███▋      | 884/2388 [13:08<05:10,  4.84it/s, avg_loss=0.6948495258045735]"
          ]
        },
        {
          "output_type": "stream",
          "name": "stdout",
          "text": [
            "Val Accuracy: 0.5533736621684504\n"
          ]
        },
        {
          "output_type": "stream",
          "name": "stderr",
          "text": [
            " 41%|████      | 984/2388 [14:44<04:50,  4.83it/s, avg_loss=0.6942702728479647]"
          ]
        },
        {
          "output_type": "stream",
          "name": "stdout",
          "text": [
            "Val Accuracy: 0.5397859469520707\n"
          ]
        },
        {
          "output_type": "stream",
          "name": "stderr",
          "text": [
            " 45%|████▌     | 1084/2388 [16:20<04:32,  4.79it/s, avg_loss=0.6939823106137288]"
          ]
        },
        {
          "output_type": "stream",
          "name": "stdout",
          "text": [
            "Val Accuracy: 0.5465798045602606\n"
          ]
        },
        {
          "output_type": "stream",
          "name": "stderr",
          "text": [
            " 50%|████▉     | 1184/2388 [17:57<04:09,  4.83it/s, avg_loss=0.6936016655672451]"
          ]
        },
        {
          "output_type": "stream",
          "name": "stdout",
          "text": [
            "Val Accuracy: 0.5466728711028386\n"
          ]
        },
        {
          "output_type": "stream",
          "name": "stderr",
          "text": [
            " 54%|█████▍    | 1284/2388 [19:33<03:48,  4.84it/s, avg_loss=0.6937013467462146]"
          ]
        },
        {
          "output_type": "stream",
          "name": "stdout",
          "text": [
            "Val Accuracy: 0.5483480688692415\n"
          ]
        },
        {
          "output_type": "stream",
          "name": "stderr",
          "text": [
            " 58%|█████▊    | 1384/2388 [21:10<03:27,  4.83it/s, avg_loss=0.693273324570501] "
          ]
        },
        {
          "output_type": "stream",
          "name": "stdout",
          "text": [
            "Val Accuracy: 0.5554211261051651\n"
          ]
        },
        {
          "output_type": "stream",
          "name": "stderr",
          "text": [
            " 62%|██████▏   | 1484/2388 [22:46<03:07,  4.83it/s, avg_loss=0.6928155346350237]"
          ]
        },
        {
          "output_type": "stream",
          "name": "stdout",
          "text": [
            "Val Accuracy: 0.516426244765007\n"
          ]
        },
        {
          "output_type": "stream",
          "name": "stderr",
          "text": [
            " 66%|██████▋   | 1584/2388 [24:22<02:48,  4.77it/s, avg_loss=0.6930469655840179]"
          ]
        },
        {
          "output_type": "stream",
          "name": "stdout",
          "text": [
            "Val Accuracy: 0.5335504885993485\n"
          ]
        },
        {
          "output_type": "stream",
          "name": "stderr",
          "text": [
            " 71%|███████   | 1684/2388 [25:59<02:25,  4.84it/s, avg_loss=0.6928680862092831]"
          ]
        },
        {
          "output_type": "stream",
          "name": "stdout",
          "text": [
            "Val Accuracy: 0.5334574220567706\n"
          ]
        },
        {
          "output_type": "stream",
          "name": "stderr",
          "text": [
            " 75%|███████▍  | 1784/2388 [27:35<02:05,  4.80it/s, avg_loss=0.6927153495179504]"
          ]
        },
        {
          "output_type": "stream",
          "name": "stdout",
          "text": [
            "Val Accuracy: 0.5191251744997674\n"
          ]
        },
        {
          "output_type": "stream",
          "name": "stderr",
          "text": [
            " 79%|███████▉  | 1884/2388 [29:11<01:44,  4.84it/s, avg_loss=0.6930184038627685]"
          ]
        },
        {
          "output_type": "stream",
          "name": "stdout",
          "text": [
            "Val Accuracy: 0.5422987436016752\n"
          ]
        },
        {
          "output_type": "stream",
          "name": "stderr",
          "text": [
            " 83%|████████▎ | 1984/2388 [30:48<01:22,  4.88it/s, avg_loss=0.6931811051644967]"
          ]
        },
        {
          "output_type": "stream",
          "name": "stdout",
          "text": [
            "Val Accuracy: 0.5452768729641694\n"
          ]
        },
        {
          "output_type": "stream",
          "name": "stderr",
          "text": [
            " 87%|████████▋ | 2084/2388 [32:24<01:02,  4.88it/s, avg_loss=0.6930139464440106]"
          ]
        },
        {
          "output_type": "stream",
          "name": "stdout",
          "text": [
            "Val Accuracy: 0.5570032573289903\n"
          ]
        },
        {
          "output_type": "stream",
          "name": "stderr",
          "text": [
            " 91%|█████████▏| 2184/2388 [34:00<00:41,  4.86it/s, avg_loss=0.6927726550287732]"
          ]
        },
        {
          "output_type": "stream",
          "name": "stdout",
          "text": [
            "Val Accuracy: 0.5482550023266636\n"
          ]
        },
        {
          "output_type": "stream",
          "name": "stderr",
          "text": [
            " 96%|█████████▌| 2284/2388 [35:37<00:21,  4.80it/s, avg_loss=0.6926771794941023]"
          ]
        },
        {
          "output_type": "stream",
          "name": "stdout",
          "text": [
            "Val Accuracy: 0.552349930200093\n"
          ]
        },
        {
          "output_type": "stream",
          "name": "stderr",
          "text": [
            "100%|█████████▉| 2384/2388 [37:13<00:00,  4.85it/s, avg_loss=0.6926849531177705]"
          ]
        },
        {
          "output_type": "stream",
          "name": "stdout",
          "text": [
            "Val Accuracy: 0.5583061889250814\n"
          ]
        },
        {
          "output_type": "stream",
          "name": "stderr",
          "text": [
            "100%|██████████| 2388/2388 [38:29<00:00,  1.03it/s, avg_loss=0.6927032681615708]\n",
            "  4%|▍         | 96/2388 [00:20<07:56,  4.81it/s, avg_loss=0.6933493823120275]"
          ]
        },
        {
          "output_type": "stream",
          "name": "stdout",
          "text": [
            "Val Accuracy: 0.5203350395532806\n"
          ]
        },
        {
          "output_type": "stream",
          "name": "stderr",
          "text": [
            "  8%|▊         | 196/2388 [01:56<07:32,  4.84it/s, avg_loss=0.6910559659076826]"
          ]
        },
        {
          "output_type": "stream",
          "name": "stdout",
          "text": [
            "Val Accuracy: 0.5488134015821312\n"
          ]
        },
        {
          "output_type": "stream",
          "name": "stderr",
          "text": [
            " 12%|█▏        | 296/2388 [03:33<07:16,  4.79it/s, avg_loss=0.692692554558969] "
          ]
        },
        {
          "output_type": "stream",
          "name": "stdout",
          "text": [
            "Val Accuracy: 0.5515123313168916\n"
          ]
        },
        {
          "output_type": "stream",
          "name": "stderr",
          "text": [
            " 17%|█▋        | 396/2388 [05:09<06:53,  4.82it/s, avg_loss=0.6925010086607273]"
          ]
        },
        {
          "output_type": "stream",
          "name": "stdout",
          "text": [
            "Val Accuracy: 0.5488134015821312\n"
          ]
        },
        {
          "output_type": "stream",
          "name": "stderr",
          "text": [
            " 21%|██        | 496/2388 [06:45<06:28,  4.87it/s, avg_loss=0.6921806720420868]"
          ]
        },
        {
          "output_type": "stream",
          "name": "stdout",
          "text": [
            "Val Accuracy: 0.5463006049325267\n"
          ]
        },
        {
          "output_type": "stream",
          "name": "stderr",
          "text": [
            " 25%|██▍       | 596/2388 [08:21<06:10,  4.84it/s, avg_loss=0.6930704116821289]"
          ]
        },
        {
          "output_type": "stream",
          "name": "stdout",
          "text": [
            "Val Accuracy: 0.5422056770590973\n"
          ]
        },
        {
          "output_type": "stream",
          "name": "stderr",
          "text": [
            " 29%|██▉       | 696/2388 [09:57<05:47,  4.87it/s, avg_loss=0.6924256194954794]"
          ]
        },
        {
          "output_type": "stream",
          "name": "stdout",
          "text": [
            "Val Accuracy: 0.5438808748255002\n"
          ]
        },
        {
          "output_type": "stream",
          "name": "stderr",
          "text": [
            " 33%|███▎      | 796/2388 [11:33<05:29,  4.83it/s, avg_loss=0.6925082784823821]"
          ]
        },
        {
          "output_type": "stream",
          "name": "stdout",
          "text": [
            "Val Accuracy: 0.5271288971614705\n"
          ]
        },
        {
          "output_type": "stream",
          "name": "stderr",
          "text": [
            " 38%|███▊      | 896/2388 [13:09<05:07,  4.86it/s, avg_loss=0.6927304275857167]"
          ]
        },
        {
          "output_type": "stream",
          "name": "stdout",
          "text": [
            "Val Accuracy: 0.5253606328524896\n"
          ]
        },
        {
          "output_type": "stream",
          "name": "stderr",
          "text": [
            " 42%|████▏     | 996/2388 [14:45<04:45,  4.88it/s, avg_loss=0.693653848429501] "
          ]
        },
        {
          "output_type": "stream",
          "name": "stdout",
          "text": [
            "Val Accuracy: 0.5336435551419265\n"
          ]
        },
        {
          "output_type": "stream",
          "name": "stderr",
          "text": [
            " 46%|████▌     | 1096/2388 [16:21<04:24,  4.88it/s, avg_loss=0.6933502051758571]"
          ]
        },
        {
          "output_type": "stream",
          "name": "stdout",
          "text": [
            "Val Accuracy: 0.5341088878548161\n"
          ]
        },
        {
          "output_type": "stream",
          "name": "stderr",
          "text": [
            " 50%|█████     | 1196/2388 [17:57<04:06,  4.84it/s, avg_loss=0.6935400047099083]"
          ]
        },
        {
          "output_type": "stream",
          "name": "stdout",
          "text": [
            "Val Accuracy: 0.5262912982782689\n"
          ]
        },
        {
          "output_type": "stream",
          "name": "stderr",
          "text": [
            " 54%|█████▍    | 1296/2388 [19:33<03:49,  4.76it/s, avg_loss=0.6937818668765477]"
          ]
        },
        {
          "output_type": "stream",
          "name": "stdout",
          "text": [
            "Val Accuracy: 0.5390414146114472\n"
          ]
        },
        {
          "output_type": "stream",
          "name": "stderr",
          "text": [
            " 58%|█████▊    | 1396/2388 [21:10<03:24,  4.84it/s, avg_loss=0.6937697342914945]"
          ]
        },
        {
          "output_type": "stream",
          "name": "stdout",
          "text": [
            "Val Accuracy: 0.5380176826430898\n"
          ]
        },
        {
          "output_type": "stream",
          "name": "stderr",
          "text": [
            " 63%|██████▎   | 1496/2388 [22:46<03:07,  4.75it/s, avg_loss=0.693284117665861] "
          ]
        },
        {
          "output_type": "stream",
          "name": "stdout",
          "text": [
            "Val Accuracy: 0.5586784550953932\n"
          ]
        },
        {
          "output_type": "stream",
          "name": "stderr",
          "text": [
            " 67%|██████▋   | 1596/2388 [24:22<02:43,  4.86it/s, avg_loss=0.6929594939323837]"
          ]
        },
        {
          "output_type": "stream",
          "name": "stdout",
          "text": [
            "Val Accuracy: 0.5434155421126106\n"
          ]
        },
        {
          "output_type": "stream",
          "name": "stderr",
          "text": [
            " 71%|███████   | 1696/2388 [25:59<02:23,  4.84it/s, avg_loss=0.6929932235266506]"
          ]
        },
        {
          "output_type": "stream",
          "name": "stdout",
          "text": [
            "Val Accuracy: 0.5302000930665426\n"
          ]
        },
        {
          "output_type": "stream",
          "name": "stderr",
          "text": [
            " 75%|███████▌  | 1796/2388 [27:35<02:02,  4.83it/s, avg_loss=0.6927737624829653]"
          ]
        },
        {
          "output_type": "stream",
          "name": "stdout",
          "text": [
            "Val Accuracy: 0.539413680781759\n"
          ]
        },
        {
          "output_type": "stream",
          "name": "stderr",
          "text": [
            " 79%|███████▉  | 1896/2388 [29:12<01:41,  4.84it/s, avg_loss=0.6927355898639436]"
          ]
        },
        {
          "output_type": "stream",
          "name": "stdout",
          "text": [
            "Val Accuracy: 0.5375523499302001\n"
          ]
        },
        {
          "output_type": "stream",
          "name": "stderr",
          "text": [
            " 84%|████████▎ | 1996/2388 [30:48<01:21,  4.81it/s, avg_loss=0.6928856963507223]"
          ]
        },
        {
          "output_type": "stream",
          "name": "stdout",
          "text": [
            "Val Accuracy: 0.5553280595625872\n"
          ]
        },
        {
          "output_type": "stream",
          "name": "stderr",
          "text": [
            " 88%|████████▊ | 2096/2388 [32:23<01:00,  4.83it/s, avg_loss=0.6930606547115983]"
          ]
        },
        {
          "output_type": "stream",
          "name": "stdout",
          "text": [
            "Val Accuracy: 0.5489995346672871\n"
          ]
        },
        {
          "output_type": "stream",
          "name": "stderr",
          "text": [
            " 92%|█████████▏| 2196/2388 [33:59<00:39,  4.84it/s, avg_loss=0.6928180882102748]"
          ]
        },
        {
          "output_type": "stream",
          "name": "stdout",
          "text": [
            "Val Accuracy: 0.5441600744532341\n"
          ]
        },
        {
          "output_type": "stream",
          "name": "stderr",
          "text": [
            " 96%|█████████▌| 2296/2388 [35:35<00:18,  4.87it/s, avg_loss=0.6928217686618677]"
          ]
        },
        {
          "output_type": "stream",
          "name": "stdout",
          "text": [
            "Val Accuracy: 0.5445323406235458\n"
          ]
        },
        {
          "output_type": "stream",
          "name": "stderr",
          "text": [
            "100%|██████████| 2388/2388 [37:09<00:00,  1.07it/s, avg_loss=0.6931901404156757]\n",
            "  0%|          | 8/2388 [00:01<08:14,  4.82it/s, avg_loss=0.6804860962761773]"
          ]
        },
        {
          "output_type": "stream",
          "name": "stdout",
          "text": [
            "Val Accuracy: 0.5493718008375988\n"
          ]
        },
        {
          "output_type": "stream",
          "name": "stderr",
          "text": [
            "  5%|▍         | 108/2388 [01:37<07:48,  4.87it/s, avg_loss=0.693276422833084] "
          ]
        },
        {
          "output_type": "stream",
          "name": "stdout",
          "text": [
            "Val Accuracy: 0.5505816658911121\n"
          ]
        },
        {
          "output_type": "stream",
          "name": "stderr",
          "text": [
            "  9%|▊         | 208/2388 [03:14<07:30,  4.84it/s, avg_loss=0.6909133968741129]"
          ]
        },
        {
          "output_type": "stream",
          "name": "stdout",
          "text": [
            "Val Accuracy: 0.5604467194043742\n"
          ]
        },
        {
          "output_type": "stream",
          "name": "stderr",
          "text": [
            " 13%|█▎        | 308/2388 [04:50<07:14,  4.79it/s, avg_loss=0.6882577162344479]"
          ]
        },
        {
          "output_type": "stream",
          "name": "stdout",
          "text": [
            "Val Accuracy: 0.5454630060493253\n"
          ]
        },
        {
          "output_type": "stream",
          "name": "stderr",
          "text": [
            " 17%|█▋        | 408/2388 [06:26<06:49,  4.84it/s, avg_loss=0.689128211191639] "
          ]
        },
        {
          "output_type": "stream",
          "name": "stdout",
          "text": [
            "Val Accuracy: 0.5560725919032108\n"
          ]
        },
        {
          "output_type": "stream",
          "name": "stderr",
          "text": [
            " 21%|██▏       | 508/2388 [08:03<06:36,  4.75it/s, avg_loss=0.6900383491647267]"
          ]
        },
        {
          "output_type": "stream",
          "name": "stdout",
          "text": [
            "Val Accuracy: 0.5549557933922755\n"
          ]
        },
        {
          "output_type": "stream",
          "name": "stderr",
          "text": [
            " 25%|██▌       | 608/2388 [09:39<06:08,  4.84it/s, avg_loss=0.6904460415855809]"
          ]
        },
        {
          "output_type": "stream",
          "name": "stdout",
          "text": [
            "Val Accuracy: 0.549092601209865\n"
          ]
        },
        {
          "output_type": "stream",
          "name": "stderr",
          "text": [
            " 30%|██▉       | 708/2388 [11:15<05:49,  4.81it/s, avg_loss=0.6919949649923779]"
          ]
        },
        {
          "output_type": "stream",
          "name": "stdout",
          "text": [
            "Val Accuracy: 0.5563517915309446\n"
          ]
        },
        {
          "output_type": "stream",
          "name": "stderr",
          "text": [
            " 34%|███▍      | 808/2388 [12:52<05:30,  4.77it/s, avg_loss=0.6922221482905233]"
          ]
        },
        {
          "output_type": "stream",
          "name": "stdout",
          "text": [
            "Val Accuracy: 0.554211261051652\n"
          ]
        },
        {
          "output_type": "stream",
          "name": "stderr",
          "text": [
            " 38%|███▊      | 908/2388 [14:28<05:10,  4.77it/s, avg_loss=0.6920188808336247]"
          ]
        },
        {
          "output_type": "stream",
          "name": "stdout",
          "text": [
            "Val Accuracy: 0.5515123313168916\n"
          ]
        },
        {
          "output_type": "stream",
          "name": "stderr",
          "text": [
            " 42%|████▏     | 1008/2388 [16:05<04:48,  4.78it/s, avg_loss=0.6920697219426143]"
          ]
        },
        {
          "output_type": "stream",
          "name": "stdout",
          "text": [
            "Val Accuracy: 0.5571893904141462\n"
          ]
        },
        {
          "output_type": "stream",
          "name": "stderr",
          "text": [
            " 46%|████▋     | 1108/2388 [17:41<04:24,  4.83it/s, avg_loss=0.6919007695290933]"
          ]
        },
        {
          "output_type": "stream",
          "name": "stdout",
          "text": [
            "Val Accuracy: 0.5545835272219637\n"
          ]
        },
        {
          "output_type": "stream",
          "name": "stderr",
          "text": [
            " 51%|█████     | 1208/2388 [19:18<04:13,  4.65it/s, avg_loss=0.6916099992835689]"
          ]
        },
        {
          "output_type": "stream",
          "name": "stdout",
          "text": [
            "Val Accuracy: 0.5504885993485342\n"
          ]
        },
        {
          "output_type": "stream",
          "name": "stderr",
          "text": [
            " 55%|█████▍    | 1308/2388 [20:53<03:41,  4.89it/s, avg_loss=0.6918215834976063]"
          ]
        },
        {
          "output_type": "stream",
          "name": "stdout",
          "text": [
            "Val Accuracy: 0.5534667287110284\n"
          ]
        },
        {
          "output_type": "stream",
          "name": "stderr",
          "text": [
            " 59%|█████▉    | 1408/2388 [22:29<03:23,  4.83it/s, avg_loss=0.6916423754712383]"
          ]
        },
        {
          "output_type": "stream",
          "name": "stdout",
          "text": [
            "Val Accuracy: 0.5489995346672871\n"
          ]
        },
        {
          "output_type": "stream",
          "name": "stderr",
          "text": [
            " 63%|██████▎   | 1508/2388 [24:05<03:00,  4.87it/s, avg_loss=0.6915273894293565]"
          ]
        },
        {
          "output_type": "stream",
          "name": "stdout",
          "text": [
            "Val Accuracy: 0.5550488599348534\n"
          ]
        },
        {
          "output_type": "stream",
          "name": "stderr",
          "text": [
            " 67%|██████▋   | 1608/2388 [25:41<02:42,  4.80it/s, avg_loss=0.6915412337013918]"
          ]
        },
        {
          "output_type": "stream",
          "name": "stdout",
          "text": [
            "Val Accuracy: 0.5508608655188459\n"
          ]
        },
        {
          "output_type": "stream",
          "name": "stderr",
          "text": [
            " 72%|███████▏  | 1708/2388 [27:17<02:21,  4.81it/s, avg_loss=0.6915240924284429]"
          ]
        },
        {
          "output_type": "stream",
          "name": "stdout",
          "text": [
            "Val Accuracy: 0.5637040483946021\n"
          ]
        },
        {
          "output_type": "stream",
          "name": "stderr",
          "text": [
            " 76%|███████▌  | 1808/2388 [28:53<02:00,  4.83it/s, avg_loss=0.6912725167817474]"
          ]
        },
        {
          "output_type": "stream",
          "name": "stdout",
          "text": [
            "Val Accuracy: 0.5280595625872498\n"
          ]
        },
        {
          "output_type": "stream",
          "name": "stderr",
          "text": [
            " 80%|███████▉  | 1908/2388 [30:29<01:39,  4.84it/s, avg_loss=0.691678693558047] "
          ]
        },
        {
          "output_type": "stream",
          "name": "stdout",
          "text": [
            "Val Accuracy: 0.5499302000930666\n"
          ]
        },
        {
          "output_type": "stream",
          "name": "stderr",
          "text": [
            " 84%|████████▍ | 2008/2388 [32:05<01:19,  4.79it/s, avg_loss=0.6917998087886793]"
          ]
        },
        {
          "output_type": "stream",
          "name": "stdout",
          "text": [
            "Val Accuracy: 0.5637040483946021\n"
          ]
        },
        {
          "output_type": "stream",
          "name": "stderr",
          "text": [
            " 88%|████████▊ | 2108/2388 [33:40<00:57,  4.89it/s, avg_loss=0.6917078456306638]"
          ]
        },
        {
          "output_type": "stream",
          "name": "stdout",
          "text": [
            "Val Accuracy: 0.5497440670079107\n"
          ]
        },
        {
          "output_type": "stream",
          "name": "stderr",
          "text": [
            " 92%|█████████▏| 2208/2388 [35:16<00:37,  4.86it/s, avg_loss=0.6918454162132259]"
          ]
        },
        {
          "output_type": "stream",
          "name": "stdout",
          "text": [
            "Val Accuracy: 0.5570032573289903\n"
          ]
        },
        {
          "output_type": "stream",
          "name": "stderr",
          "text": [
            " 97%|█████████▋| 2308/2388 [36:52<00:16,  4.81it/s, avg_loss=0.6916781825748756]"
          ]
        },
        {
          "output_type": "stream",
          "name": "stdout",
          "text": [
            "Val Accuracy: 0.5568171242438343\n"
          ]
        },
        {
          "output_type": "stream",
          "name": "stderr",
          "text": [
            "100%|██████████| 2388/2388 [38:24<00:00,  1.04it/s, avg_loss=0.6913832876850013]\n",
            "  1%|          | 20/2388 [00:04<08:06,  4.86it/s, avg_loss=0.6746274261247545]"
          ]
        },
        {
          "output_type": "stream",
          "name": "stdout",
          "text": [
            "Val Accuracy: 0.5359702187063751\n"
          ]
        },
        {
          "output_type": "stream",
          "name": "stderr",
          "text": [
            "  5%|▌         | 120/2388 [01:40<07:45,  4.87it/s, avg_loss=0.6864068547556222]"
          ]
        },
        {
          "output_type": "stream",
          "name": "stdout",
          "text": [
            "Val Accuracy: 0.5576547231270358\n"
          ]
        },
        {
          "output_type": "stream",
          "name": "stderr",
          "text": [
            "  9%|▉         | 220/2388 [03:16<07:28,  4.84it/s, avg_loss=0.6889590181376599]"
          ]
        },
        {
          "output_type": "stream",
          "name": "stdout",
          "text": [
            "Val Accuracy: 0.5515123313168916\n"
          ]
        },
        {
          "output_type": "stream",
          "name": "stderr",
          "text": [
            " 13%|█▎        | 320/2388 [04:51<07:02,  4.90it/s, avg_loss=0.6895558249170535]"
          ]
        },
        {
          "output_type": "stream",
          "name": "stdout",
          "text": [
            "Val Accuracy: 0.5557003257328991\n"
          ]
        },
        {
          "output_type": "stream",
          "name": "stderr",
          "text": [
            " 18%|█▊        | 420/2388 [06:27<06:45,  4.86it/s, avg_loss=0.690294694872197]"
          ]
        },
        {
          "output_type": "stream",
          "name": "stdout",
          "text": [
            "Val Accuracy: 0.5619357840856212\n"
          ]
        },
        {
          "output_type": "stream",
          "name": "stderr",
          "text": [
            " 22%|██▏       | 520/2388 [08:04<06:29,  4.80it/s, avg_loss=0.6913124119251566]"
          ]
        },
        {
          "output_type": "stream",
          "name": "stdout",
          "text": [
            "Val Accuracy: 0.5631456491391345\n"
          ]
        },
        {
          "output_type": "stream",
          "name": "stderr",
          "text": [
            " 26%|██▌       | 620/2388 [09:40<06:07,  4.81it/s, avg_loss=0.6921189022332958]"
          ]
        },
        {
          "output_type": "stream",
          "name": "stdout",
          "text": [
            "Val Accuracy: 0.545928338762215\n"
          ]
        },
        {
          "output_type": "stream",
          "name": "stderr",
          "text": [
            " 30%|███       | 720/2388 [11:17<05:50,  4.76it/s, avg_loss=0.6922786350719806]"
          ]
        },
        {
          "output_type": "stream",
          "name": "stdout",
          "text": [
            "Val Accuracy: 0.5552349930200093\n"
          ]
        },
        {
          "output_type": "stream",
          "name": "stderr",
          "text": [
            " 34%|███▍      | 820/2388 [12:53<05:25,  4.82it/s, avg_loss=0.692292154343497] "
          ]
        },
        {
          "output_type": "stream",
          "name": "stdout",
          "text": [
            "Val Accuracy: 0.5576547231270358\n"
          ]
        },
        {
          "output_type": "stream",
          "name": "stderr",
          "text": [
            " 39%|███▊      | 920/2388 [14:30<05:05,  4.80it/s, avg_loss=0.692236368676868] "
          ]
        },
        {
          "output_type": "stream",
          "name": "stdout",
          "text": [
            "Val Accuracy: 0.5559795253606329\n"
          ]
        },
        {
          "output_type": "stream",
          "name": "stderr",
          "text": [
            " 43%|████▎     | 1020/2388 [16:06<04:44,  4.80it/s, avg_loss=0.6926234094800024]"
          ]
        },
        {
          "output_type": "stream",
          "name": "stdout",
          "text": [
            "Val Accuracy: 0.5070265239646348\n"
          ]
        },
        {
          "output_type": "stream",
          "name": "stderr",
          "text": [
            " 47%|████▋     | 1120/2388 [17:43<04:24,  4.80it/s, avg_loss=0.6933624853415749]"
          ]
        },
        {
          "output_type": "stream",
          "name": "stdout",
          "text": [
            "Val Accuracy: 0.5632387156817125\n"
          ]
        },
        {
          "output_type": "stream",
          "name": "stderr",
          "text": [
            " 51%|█████     | 1220/2388 [19:19<04:03,  4.79it/s, avg_loss=0.6931356757903665]"
          ]
        },
        {
          "output_type": "stream",
          "name": "stdout",
          "text": [
            "Val Accuracy: 0.5550488599348534\n"
          ]
        },
        {
          "output_type": "stream",
          "name": "stderr",
          "text": [
            " 55%|█████▌    | 1320/2388 [20:56<03:41,  4.81it/s, avg_loss=0.6925666987399636]"
          ]
        },
        {
          "output_type": "stream",
          "name": "stdout",
          "text": [
            "Val Accuracy: 0.5569101907864122\n"
          ]
        },
        {
          "output_type": "stream",
          "name": "stderr",
          "text": [
            " 59%|█████▉    | 1420/2388 [22:31<03:23,  4.75it/s, avg_loss=0.6927598424984652]"
          ]
        },
        {
          "output_type": "stream",
          "name": "stdout",
          "text": [
            "Val Accuracy: 0.5580269892973476\n"
          ]
        },
        {
          "output_type": "stream",
          "name": "stderr",
          "text": [
            " 64%|██████▎   | 1520/2388 [24:07<02:59,  4.83it/s, avg_loss=0.6926783808432936]"
          ]
        },
        {
          "output_type": "stream",
          "name": "stdout",
          "text": [
            "Val Accuracy: 0.5631456491391345\n"
          ]
        },
        {
          "output_type": "stream",
          "name": "stderr",
          "text": [
            " 68%|██████▊   | 1620/2388 [25:44<02:39,  4.81it/s, avg_loss=0.6919263245734368]"
          ]
        },
        {
          "output_type": "stream",
          "name": "stdout",
          "text": [
            "Val Accuracy: 0.5517915309446254\n"
          ]
        },
        {
          "output_type": "stream",
          "name": "stderr",
          "text": [
            " 72%|███████▏  | 1720/2388 [27:19<02:19,  4.80it/s, avg_loss=0.6909792386190202]"
          ]
        },
        {
          "output_type": "stream",
          "name": "stdout",
          "text": [
            "Val Accuracy: 0.5462075383899488\n"
          ]
        },
        {
          "output_type": "stream",
          "name": "stderr",
          "text": [
            " 76%|███████▌  | 1820/2388 [28:55<01:58,  4.81it/s, avg_loss=0.6908550786160297]"
          ]
        },
        {
          "output_type": "stream",
          "name": "stdout",
          "text": [
            "Val Accuracy: 0.5563517915309446\n"
          ]
        },
        {
          "output_type": "stream",
          "name": "stderr",
          "text": [
            " 80%|████████  | 1920/2388 [30:32<01:36,  4.86it/s, avg_loss=0.6910834206633739]"
          ]
        },
        {
          "output_type": "stream",
          "name": "stdout",
          "text": [
            "Val Accuracy: 0.5600744532340624\n"
          ]
        },
        {
          "output_type": "stream",
          "name": "stderr",
          "text": [
            " 85%|████████▍ | 2020/2388 [32:07<01:15,  4.86it/s, avg_loss=0.6907333318754212]"
          ]
        },
        {
          "output_type": "stream",
          "name": "stdout",
          "text": [
            "Val Accuracy: 0.5284318287575617\n"
          ]
        },
        {
          "output_type": "stream",
          "name": "stderr",
          "text": [
            " 89%|████████▉ | 2120/2388 [33:43<00:55,  4.85it/s, avg_loss=0.6909240383913021]"
          ]
        },
        {
          "output_type": "stream",
          "name": "stdout",
          "text": [
            "Val Accuracy: 0.5527221963704049\n"
          ]
        },
        {
          "output_type": "stream",
          "name": "stderr",
          "text": [
            " 93%|█████████▎| 2220/2388 [35:19<00:34,  4.87it/s, avg_loss=0.6908463898514478]"
          ]
        },
        {
          "output_type": "stream",
          "name": "stdout",
          "text": [
            "Val Accuracy: 0.5560725919032108\n"
          ]
        },
        {
          "output_type": "stream",
          "name": "stderr",
          "text": [
            " 97%|█████████▋| 2320/2388 [36:55<00:13,  4.87it/s, avg_loss=0.6908341840853315]"
          ]
        },
        {
          "output_type": "stream",
          "name": "stdout",
          "text": [
            "Val Accuracy: 0.5508608655188459\n"
          ]
        },
        {
          "output_type": "stream",
          "name": "stderr",
          "text": [
            "100%|██████████| 2388/2388 [38:24<00:00,  1.04it/s, avg_loss=0.690832185310934]\n",
            "  1%|▏         | 32/2388 [00:06<08:04,  4.86it/s, avg_loss=0.678939680258433] "
          ]
        },
        {
          "output_type": "stream",
          "name": "stdout",
          "text": [
            "Val Accuracy: 0.5654723127035831\n"
          ]
        },
        {
          "output_type": "stream",
          "name": "stderr",
          "text": [
            "  6%|▌         | 132/2388 [01:42<07:46,  4.83it/s, avg_loss=0.6825000858844671]"
          ]
        },
        {
          "output_type": "stream",
          "name": "stdout",
          "text": [
            "Val Accuracy: 0.5644485807352256\n"
          ]
        },
        {
          "output_type": "stream",
          "name": "stderr",
          "text": [
            " 10%|▉         | 232/2388 [03:18<07:32,  4.76it/s, avg_loss=0.6852415971489935]"
          ]
        },
        {
          "output_type": "stream",
          "name": "stdout",
          "text": [
            "Val Accuracy: 0.5601675197766403\n"
          ]
        },
        {
          "output_type": "stream",
          "name": "stderr",
          "text": [
            " 14%|█▍        | 332/2388 [04:54<07:07,  4.81it/s, avg_loss=0.6855739637896106]"
          ]
        },
        {
          "output_type": "stream",
          "name": "stdout",
          "text": [
            "Val Accuracy: 0.5634248487668683\n"
          ]
        },
        {
          "output_type": "stream",
          "name": "stderr",
          "text": [
            " 18%|█▊        | 432/2388 [06:30<06:44,  4.83it/s, avg_loss=0.6881371106066274]"
          ]
        },
        {
          "output_type": "stream",
          "name": "stdout",
          "text": [
            "Val Accuracy: 0.5476035365286179\n"
          ]
        },
        {
          "output_type": "stream",
          "name": "stderr",
          "text": [
            " 22%|██▏       | 532/2388 [08:05<06:18,  4.91it/s, avg_loss=0.6886326776883839]"
          ]
        },
        {
          "output_type": "stream",
          "name": "stdout",
          "text": [
            "Val Accuracy: 0.5534667287110284\n"
          ]
        },
        {
          "output_type": "stream",
          "name": "stderr",
          "text": [
            " 26%|██▋       | 632/2388 [09:41<06:02,  4.84it/s, avg_loss=0.6882269795848671]"
          ]
        },
        {
          "output_type": "stream",
          "name": "stdout",
          "text": [
            "Val Accuracy: 0.5530013959981387\n"
          ]
        },
        {
          "output_type": "stream",
          "name": "stderr",
          "text": [
            " 31%|███       | 732/2388 [11:17<05:41,  4.85it/s, avg_loss=0.6878078862882409]"
          ]
        },
        {
          "output_type": "stream",
          "name": "stdout",
          "text": [
            "Val Accuracy: 0.5710563052582597\n"
          ]
        },
        {
          "output_type": "stream",
          "name": "stderr",
          "text": [
            " 35%|███▍      | 832/2388 [12:53<05:26,  4.77it/s, avg_loss=0.6868027943093665]"
          ]
        },
        {
          "output_type": "stream",
          "name": "stdout",
          "text": [
            "Val Accuracy: 0.5674267100977198\n"
          ]
        },
        {
          "output_type": "stream",
          "name": "stderr",
          "text": [
            " 39%|███▉      | 932/2388 [14:30<05:01,  4.84it/s, avg_loss=0.6878152570157189]"
          ]
        },
        {
          "output_type": "stream",
          "name": "stdout",
          "text": [
            "Val Accuracy: 0.5634248487668683\n"
          ]
        },
        {
          "output_type": "stream",
          "name": "stderr",
          "text": [
            " 43%|████▎     | 1032/2388 [16:06<04:40,  4.84it/s, avg_loss=0.6884378771237228]"
          ]
        },
        {
          "output_type": "stream",
          "name": "stdout",
          "text": [
            "Val Accuracy: 0.5538389948813401\n"
          ]
        },
        {
          "output_type": "stream",
          "name": "stderr",
          "text": [
            " 47%|████▋     | 1132/2388 [17:43<04:23,  4.77it/s, avg_loss=0.6890725527626166]"
          ]
        },
        {
          "output_type": "stream",
          "name": "stdout",
          "text": [
            "Val Accuracy: 0.5596091205211726\n"
          ]
        },
        {
          "output_type": "stream",
          "name": "stderr",
          "text": [
            " 52%|█████▏    | 1232/2388 [19:19<04:03,  4.75it/s, avg_loss=0.6882875160965993]"
          ]
        },
        {
          "output_type": "stream",
          "name": "stdout",
          "text": [
            "Val Accuracy: 0.5783154955793393\n"
          ]
        },
        {
          "output_type": "stream",
          "name": "stderr",
          "text": [
            " 56%|█████▌    | 1332/2388 [20:55<03:39,  4.80it/s, avg_loss=0.6886296115329368]"
          ]
        },
        {
          "output_type": "stream",
          "name": "stdout",
          "text": [
            "Val Accuracy: 0.5586784550953932\n"
          ]
        },
        {
          "output_type": "stream",
          "name": "stderr",
          "text": [
            " 60%|█████▉    | 1432/2388 [22:32<03:19,  4.80it/s, avg_loss=0.688363716474215] "
          ]
        },
        {
          "output_type": "stream",
          "name": "stdout",
          "text": [
            "Val Accuracy: 0.568822708236389\n"
          ]
        },
        {
          "output_type": "stream",
          "name": "stderr",
          "text": [
            " 64%|██████▍   | 1532/2388 [24:09<02:57,  4.83it/s, avg_loss=0.688527448886528] "
          ]
        },
        {
          "output_type": "stream",
          "name": "stdout",
          "text": [
            "Val Accuracy: 0.5648208469055375\n"
          ]
        },
        {
          "output_type": "stream",
          "name": "stderr",
          "text": [
            " 68%|██████▊   | 1632/2388 [25:45<02:39,  4.74it/s, avg_loss=0.6875535972411838]"
          ]
        },
        {
          "output_type": "stream",
          "name": "stdout",
          "text": [
            "Val Accuracy: 0.5674267100977198\n"
          ]
        },
        {
          "output_type": "stream",
          "name": "stderr",
          "text": [
            " 73%|███████▎  | 1732/2388 [27:21<02:17,  4.78it/s, avg_loss=0.6874237659000897]"
          ]
        },
        {
          "output_type": "stream",
          "name": "stdout",
          "text": [
            "Val Accuracy: 0.5712424383434156\n"
          ]
        },
        {
          "output_type": "stream",
          "name": "stderr",
          "text": [
            " 77%|███████▋  | 1832/2388 [28:58<01:57,  4.75it/s, avg_loss=0.6878306423778815]"
          ]
        },
        {
          "output_type": "stream",
          "name": "stdout",
          "text": [
            "Val Accuracy: 0.5366216845044207\n"
          ]
        },
        {
          "output_type": "stream",
          "name": "stderr",
          "text": [
            " 81%|████████  | 1932/2388 [30:35<01:35,  4.77it/s, avg_loss=0.6876416139138898]"
          ]
        },
        {
          "output_type": "stream",
          "name": "stdout",
          "text": [
            "Val Accuracy: 0.5538389948813401\n"
          ]
        },
        {
          "output_type": "stream",
          "name": "stderr",
          "text": [
            " 85%|████████▌ | 2032/2388 [32:11<01:13,  4.82it/s, avg_loss=0.6877465902205119]"
          ]
        },
        {
          "output_type": "stream",
          "name": "stdout",
          "text": [
            "Val Accuracy: 0.5472312703583062\n"
          ]
        },
        {
          "output_type": "stream",
          "name": "stderr",
          "text": [
            " 89%|████████▉ | 2132/2388 [33:48<00:52,  4.84it/s, avg_loss=0.6875163919759143]"
          ]
        },
        {
          "output_type": "stream",
          "name": "stdout",
          "text": [
            "Val Accuracy: 0.539320614239181\n"
          ]
        },
        {
          "output_type": "stream",
          "name": "stderr",
          "text": [
            " 93%|█████████▎| 2232/2388 [35:24<00:32,  4.80it/s, avg_loss=0.6873419553882276]"
          ]
        },
        {
          "output_type": "stream",
          "name": "stdout",
          "text": [
            "Val Accuracy: 0.5716147045137273\n"
          ]
        },
        {
          "output_type": "stream",
          "name": "stderr",
          "text": [
            " 98%|█████████▊| 2332/2388 [37:01<00:11,  4.74it/s, avg_loss=0.6872711825718248]"
          ]
        },
        {
          "output_type": "stream",
          "name": "stdout",
          "text": [
            "Val Accuracy: 0.5706840390879478\n"
          ]
        },
        {
          "output_type": "stream",
          "name": "stderr",
          "text": [
            "100%|██████████| 2388/2388 [38:28<00:00,  1.03it/s, avg_loss=0.6864648995237734]\n",
            "  2%|▏         | 44/2388 [00:09<08:12,  4.76it/s, avg_loss=0.6902889794773526]"
          ]
        },
        {
          "output_type": "stream",
          "name": "stdout",
          "text": [
            "Val Accuracy: 0.5663099115867846\n"
          ]
        },
        {
          "output_type": "stream",
          "name": "stderr",
          "text": [
            "  6%|▌         | 144/2388 [01:45<07:43,  4.84it/s, avg_loss=0.6904308865810262]"
          ]
        },
        {
          "output_type": "stream",
          "name": "stdout",
          "text": [
            "Val Accuracy: 0.5781293624941833\n"
          ]
        },
        {
          "output_type": "stream",
          "name": "stderr",
          "text": [
            "  7%|▋         | 173/2388 [03:06<07:37,  4.84it/s, avg_loss=0.6952168710659005]"
          ]
        }
      ]
    },
    {
      "cell_type": "code",
      "source": [
        ""
      ],
      "metadata": {
        "id": "t9R0VXo1DyTZ"
      },
      "execution_count": null,
      "outputs": []
    }
  ]
}